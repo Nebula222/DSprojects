{
 "cells": [
  {
   "cell_type": "markdown",
   "metadata": {},
   "source": [
    "# Diabetes Predictive analysis\n",
    "\n",
    "This dataset contains a distinct collection of attributes that can help develop predictive models for recognizing patients at risk of diabetes. Using this dataset an Analytic professional can uncover insights related to diabetes risk assessment with the help of available health measurements and develop strategies for the prevention of \n",
    "diabetes.\n",
    "\n",
    "My Motivation for choosing this dataset, the first reason was my passion to use knowledge of data science to help people and make a world better place. The next reason was to help my country INDIA, as it is suffering from people with high rates of diabetes recorded in the year 2021 surveyed by National Center of Biotechnology Information (NCBI), where around 75 million citizens of INDIA are suffering from diabetes and stands in 2nd position worldwide.\n",
    "\n",
    "Link: https://www.ncbi.nlm.nih.gov/books/NBK581940/table/ch3.t4/?report=objectonly\n"
   ]
  },
  {
   "cell_type": "markdown",
   "metadata": {},
   "source": [
    "## Data Understanding"
   ]
  },
  {
   "cell_type": "code",
   "execution_count": 1,
   "metadata": {},
   "outputs": [],
   "source": [
    "# Imports libraries\n",
    "\n",
    "import pandas as pd\n",
    "import numpy as np\n",
    "import seaborn as sns\n",
    "import matplotlib.pyplot as plt"
   ]
  },
  {
   "cell_type": "code",
   "execution_count": 102,
   "metadata": {},
   "outputs": [
    {
     "data": {
      "text/html": [
       "<div>\n",
       "<style scoped>\n",
       "    .dataframe tbody tr th:only-of-type {\n",
       "        vertical-align: middle;\n",
       "    }\n",
       "\n",
       "    .dataframe tbody tr th {\n",
       "        vertical-align: top;\n",
       "    }\n",
       "\n",
       "    .dataframe thead th {\n",
       "        text-align: right;\n",
       "    }\n",
       "</style>\n",
       "<table border=\"1\" class=\"dataframe\">\n",
       "  <thead>\n",
       "    <tr style=\"text-align: right;\">\n",
       "      <th></th>\n",
       "      <th>Id</th>\n",
       "      <th>Pregnancies</th>\n",
       "      <th>Glucose</th>\n",
       "      <th>BloodPressure</th>\n",
       "      <th>SkinThickness</th>\n",
       "      <th>Insulin</th>\n",
       "      <th>BMI</th>\n",
       "      <th>DiabetesPedigreeFunction</th>\n",
       "      <th>Age</th>\n",
       "      <th>Outcome</th>\n",
       "    </tr>\n",
       "  </thead>\n",
       "  <tbody>\n",
       "    <tr>\n",
       "      <th>2763</th>\n",
       "      <td>2764</td>\n",
       "      <td>2</td>\n",
       "      <td>75</td>\n",
       "      <td>64</td>\n",
       "      <td>24</td>\n",
       "      <td>55</td>\n",
       "      <td>29.7</td>\n",
       "      <td>0.370</td>\n",
       "      <td>33</td>\n",
       "      <td>0</td>\n",
       "    </tr>\n",
       "    <tr>\n",
       "      <th>2764</th>\n",
       "      <td>2765</td>\n",
       "      <td>8</td>\n",
       "      <td>179</td>\n",
       "      <td>72</td>\n",
       "      <td>42</td>\n",
       "      <td>130</td>\n",
       "      <td>32.7</td>\n",
       "      <td>0.719</td>\n",
       "      <td>36</td>\n",
       "      <td>1</td>\n",
       "    </tr>\n",
       "    <tr>\n",
       "      <th>2765</th>\n",
       "      <td>2766</td>\n",
       "      <td>6</td>\n",
       "      <td>85</td>\n",
       "      <td>78</td>\n",
       "      <td>0</td>\n",
       "      <td>0</td>\n",
       "      <td>31.2</td>\n",
       "      <td>0.382</td>\n",
       "      <td>42</td>\n",
       "      <td>0</td>\n",
       "    </tr>\n",
       "    <tr>\n",
       "      <th>2766</th>\n",
       "      <td>2767</td>\n",
       "      <td>0</td>\n",
       "      <td>129</td>\n",
       "      <td>110</td>\n",
       "      <td>46</td>\n",
       "      <td>130</td>\n",
       "      <td>67.1</td>\n",
       "      <td>0.319</td>\n",
       "      <td>26</td>\n",
       "      <td>1</td>\n",
       "    </tr>\n",
       "    <tr>\n",
       "      <th>2767</th>\n",
       "      <td>2768</td>\n",
       "      <td>2</td>\n",
       "      <td>81</td>\n",
       "      <td>72</td>\n",
       "      <td>15</td>\n",
       "      <td>76</td>\n",
       "      <td>30.1</td>\n",
       "      <td>0.547</td>\n",
       "      <td>25</td>\n",
       "      <td>0</td>\n",
       "    </tr>\n",
       "  </tbody>\n",
       "</table>\n",
       "</div>"
      ],
      "text/plain": [
       "        Id  Pregnancies  Glucose  BloodPressure  SkinThickness  Insulin   BMI  \\\n",
       "2763  2764            2       75             64             24       55  29.7   \n",
       "2764  2765            8      179             72             42      130  32.7   \n",
       "2765  2766            6       85             78              0        0  31.2   \n",
       "2766  2767            0      129            110             46      130  67.1   \n",
       "2767  2768            2       81             72             15       76  30.1   \n",
       "\n",
       "      DiabetesPedigreeFunction  Age  Outcome  \n",
       "2763                     0.370   33        0  \n",
       "2764                     0.719   36        1  \n",
       "2765                     0.382   42        0  \n",
       "2766                     0.319   26        1  \n",
       "2767                     0.547   25        0  "
      ]
     },
     "execution_count": 102,
     "metadata": {},
     "output_type": "execute_result"
    }
   ],
   "source": [
    "# Loads dataset\n",
    "\n",
    "dfd = pd.read_csv(r\"Healthcare-Diabetes.csv\")\n",
    "dfd.tail(5)"
   ]
  },
  {
   "cell_type": "code",
   "execution_count": 3,
   "metadata": {},
   "outputs": [
    {
     "data": {
      "text/plain": [
       "Id                            int64\n",
       "Pregnancies                   int64\n",
       "Glucose                       int64\n",
       "BloodPressure                 int64\n",
       "SkinThickness                 int64\n",
       "Insulin                       int64\n",
       "BMI                         float64\n",
       "DiabetesPedigreeFunction    float64\n",
       "Age                           int64\n",
       "Outcome                       int64\n",
       "dtype: object"
      ]
     },
     "execution_count": 3,
     "metadata": {},
     "output_type": "execute_result"
    }
   ],
   "source": [
    "# checks data types\n",
    "dfd.dtypes"
   ]
  },
  {
   "cell_type": "code",
   "execution_count": 4,
   "metadata": {},
   "outputs": [
    {
     "data": {
      "text/html": [
       "<div>\n",
       "<style scoped>\n",
       "    .dataframe tbody tr th:only-of-type {\n",
       "        vertical-align: middle;\n",
       "    }\n",
       "\n",
       "    .dataframe tbody tr th {\n",
       "        vertical-align: top;\n",
       "    }\n",
       "\n",
       "    .dataframe thead th {\n",
       "        text-align: right;\n",
       "    }\n",
       "</style>\n",
       "<table border=\"1\" class=\"dataframe\">\n",
       "  <thead>\n",
       "    <tr style=\"text-align: right;\">\n",
       "      <th></th>\n",
       "      <th>Id</th>\n",
       "      <th>Pregnancies</th>\n",
       "      <th>Glucose</th>\n",
       "      <th>BloodPressure</th>\n",
       "      <th>SkinThickness</th>\n",
       "      <th>Insulin</th>\n",
       "      <th>BMI</th>\n",
       "      <th>DiabetesPedigreeFunction</th>\n",
       "      <th>Age</th>\n",
       "      <th>Outcome</th>\n",
       "    </tr>\n",
       "  </thead>\n",
       "  <tbody>\n",
       "    <tr>\n",
       "      <th>count</th>\n",
       "      <td>2768.000000</td>\n",
       "      <td>2768.000000</td>\n",
       "      <td>2768.000000</td>\n",
       "      <td>2768.000000</td>\n",
       "      <td>2768.000000</td>\n",
       "      <td>2768.000000</td>\n",
       "      <td>2768.000000</td>\n",
       "      <td>2768.000000</td>\n",
       "      <td>2768.000000</td>\n",
       "      <td>2768.000000</td>\n",
       "    </tr>\n",
       "    <tr>\n",
       "      <th>mean</th>\n",
       "      <td>1384.500000</td>\n",
       "      <td>3.742775</td>\n",
       "      <td>121.102601</td>\n",
       "      <td>69.134393</td>\n",
       "      <td>20.824422</td>\n",
       "      <td>80.127890</td>\n",
       "      <td>32.137392</td>\n",
       "      <td>0.471193</td>\n",
       "      <td>33.132225</td>\n",
       "      <td>0.343931</td>\n",
       "    </tr>\n",
       "    <tr>\n",
       "      <th>std</th>\n",
       "      <td>799.197097</td>\n",
       "      <td>3.323801</td>\n",
       "      <td>32.036508</td>\n",
       "      <td>19.231438</td>\n",
       "      <td>16.059596</td>\n",
       "      <td>112.301933</td>\n",
       "      <td>8.076127</td>\n",
       "      <td>0.325669</td>\n",
       "      <td>11.777230</td>\n",
       "      <td>0.475104</td>\n",
       "    </tr>\n",
       "    <tr>\n",
       "      <th>min</th>\n",
       "      <td>1.000000</td>\n",
       "      <td>0.000000</td>\n",
       "      <td>0.000000</td>\n",
       "      <td>0.000000</td>\n",
       "      <td>0.000000</td>\n",
       "      <td>0.000000</td>\n",
       "      <td>0.000000</td>\n",
       "      <td>0.078000</td>\n",
       "      <td>21.000000</td>\n",
       "      <td>0.000000</td>\n",
       "    </tr>\n",
       "    <tr>\n",
       "      <th>25%</th>\n",
       "      <td>692.750000</td>\n",
       "      <td>1.000000</td>\n",
       "      <td>99.000000</td>\n",
       "      <td>62.000000</td>\n",
       "      <td>0.000000</td>\n",
       "      <td>0.000000</td>\n",
       "      <td>27.300000</td>\n",
       "      <td>0.244000</td>\n",
       "      <td>24.000000</td>\n",
       "      <td>0.000000</td>\n",
       "    </tr>\n",
       "    <tr>\n",
       "      <th>50%</th>\n",
       "      <td>1384.500000</td>\n",
       "      <td>3.000000</td>\n",
       "      <td>117.000000</td>\n",
       "      <td>72.000000</td>\n",
       "      <td>23.000000</td>\n",
       "      <td>37.000000</td>\n",
       "      <td>32.200000</td>\n",
       "      <td>0.375000</td>\n",
       "      <td>29.000000</td>\n",
       "      <td>0.000000</td>\n",
       "    </tr>\n",
       "    <tr>\n",
       "      <th>75%</th>\n",
       "      <td>2076.250000</td>\n",
       "      <td>6.000000</td>\n",
       "      <td>141.000000</td>\n",
       "      <td>80.000000</td>\n",
       "      <td>32.000000</td>\n",
       "      <td>130.000000</td>\n",
       "      <td>36.625000</td>\n",
       "      <td>0.624000</td>\n",
       "      <td>40.000000</td>\n",
       "      <td>1.000000</td>\n",
       "    </tr>\n",
       "    <tr>\n",
       "      <th>max</th>\n",
       "      <td>2768.000000</td>\n",
       "      <td>17.000000</td>\n",
       "      <td>199.000000</td>\n",
       "      <td>122.000000</td>\n",
       "      <td>110.000000</td>\n",
       "      <td>846.000000</td>\n",
       "      <td>80.600000</td>\n",
       "      <td>2.420000</td>\n",
       "      <td>81.000000</td>\n",
       "      <td>1.000000</td>\n",
       "    </tr>\n",
       "  </tbody>\n",
       "</table>\n",
       "</div>"
      ],
      "text/plain": [
       "                Id  Pregnancies      Glucose  BloodPressure  SkinThickness  \\\n",
       "count  2768.000000  2768.000000  2768.000000    2768.000000    2768.000000   \n",
       "mean   1384.500000     3.742775   121.102601      69.134393      20.824422   \n",
       "std     799.197097     3.323801    32.036508      19.231438      16.059596   \n",
       "min       1.000000     0.000000     0.000000       0.000000       0.000000   \n",
       "25%     692.750000     1.000000    99.000000      62.000000       0.000000   \n",
       "50%    1384.500000     3.000000   117.000000      72.000000      23.000000   \n",
       "75%    2076.250000     6.000000   141.000000      80.000000      32.000000   \n",
       "max    2768.000000    17.000000   199.000000     122.000000     110.000000   \n",
       "\n",
       "           Insulin          BMI  DiabetesPedigreeFunction          Age  \\\n",
       "count  2768.000000  2768.000000               2768.000000  2768.000000   \n",
       "mean     80.127890    32.137392                  0.471193    33.132225   \n",
       "std     112.301933     8.076127                  0.325669    11.777230   \n",
       "min       0.000000     0.000000                  0.078000    21.000000   \n",
       "25%       0.000000    27.300000                  0.244000    24.000000   \n",
       "50%      37.000000    32.200000                  0.375000    29.000000   \n",
       "75%     130.000000    36.625000                  0.624000    40.000000   \n",
       "max     846.000000    80.600000                  2.420000    81.000000   \n",
       "\n",
       "           Outcome  \n",
       "count  2768.000000  \n",
       "mean      0.343931  \n",
       "std       0.475104  \n",
       "min       0.000000  \n",
       "25%       0.000000  \n",
       "50%       0.000000  \n",
       "75%       1.000000  \n",
       "max       1.000000  "
      ]
     },
     "execution_count": 4,
     "metadata": {},
     "output_type": "execute_result"
    }
   ],
   "source": [
    "# Observe basic statistics of attributes\n",
    "\n",
    "dfd.describe()"
   ]
  },
  {
   "cell_type": "code",
   "execution_count": 5,
   "metadata": {},
   "outputs": [
    {
     "data": {
      "text/html": [
       "<div>\n",
       "<style scoped>\n",
       "    .dataframe tbody tr th:only-of-type {\n",
       "        vertical-align: middle;\n",
       "    }\n",
       "\n",
       "    .dataframe tbody tr th {\n",
       "        vertical-align: top;\n",
       "    }\n",
       "\n",
       "    .dataframe thead th {\n",
       "        text-align: right;\n",
       "    }\n",
       "</style>\n",
       "<table border=\"1\" class=\"dataframe\">\n",
       "  <thead>\n",
       "    <tr style=\"text-align: right;\">\n",
       "      <th></th>\n",
       "      <th>Id</th>\n",
       "      <th>Pregnancies</th>\n",
       "      <th>Glucose</th>\n",
       "      <th>BloodPressure</th>\n",
       "      <th>SkinThickness</th>\n",
       "      <th>Insulin</th>\n",
       "      <th>BMI</th>\n",
       "      <th>DiabetesPedigreeFunction</th>\n",
       "      <th>Age</th>\n",
       "      <th>Outcome</th>\n",
       "    </tr>\n",
       "  </thead>\n",
       "  <tbody>\n",
       "  </tbody>\n",
       "</table>\n",
       "</div>"
      ],
      "text/plain": [
       "Empty DataFrame\n",
       "Columns: [Id, Pregnancies, Glucose, BloodPressure, SkinThickness, Insulin, BMI, DiabetesPedigreeFunction, Age, Outcome]\n",
       "Index: []"
      ]
     },
     "execution_count": 5,
     "metadata": {},
     "output_type": "execute_result"
    }
   ],
   "source": [
    "# checks duplicates\n",
    "dupl = dfd[dfd['Id'].duplicated()]\n",
    "dupl"
   ]
  },
  {
   "cell_type": "code",
   "execution_count": 6,
   "metadata": {},
   "outputs": [
    {
     "name": "stdout",
     "output_type": "stream",
     "text": [
      "<class 'pandas.core.frame.DataFrame'>\n",
      "RangeIndex: 2768 entries, 0 to 2767\n",
      "Data columns (total 10 columns):\n",
      " #   Column                    Non-Null Count  Dtype  \n",
      "---  ------                    --------------  -----  \n",
      " 0   Id                        2768 non-null   int64  \n",
      " 1   Pregnancies               2768 non-null   int64  \n",
      " 2   Glucose                   2768 non-null   int64  \n",
      " 3   BloodPressure             2768 non-null   int64  \n",
      " 4   SkinThickness             2768 non-null   int64  \n",
      " 5   Insulin                   2768 non-null   int64  \n",
      " 6   BMI                       2768 non-null   float64\n",
      " 7   DiabetesPedigreeFunction  2768 non-null   float64\n",
      " 8   Age                       2768 non-null   int64  \n",
      " 9   Outcome                   2768 non-null   int64  \n",
      "dtypes: float64(2), int64(8)\n",
      "memory usage: 216.4 KB\n"
     ]
    }
   ],
   "source": [
    "# Summary of dataset\n",
    "dfd.info()"
   ]
  },
  {
   "cell_type": "code",
   "execution_count": 7,
   "metadata": {},
   "outputs": [],
   "source": [
    "# sets column ID as index to the dataframe\n",
    "dfd = dfd.set_index('Id')"
   ]
  },
  {
   "cell_type": "code",
   "execution_count": 8,
   "metadata": {},
   "outputs": [
    {
     "data": {
      "image/png": "[encoded data removed]",
      "text/plain": [
       "<Figure size 1400x1400 with 8 Axes>"
      ]
     },
     "metadata": {},
     "output_type": "display_data"
    }
   ],
   "source": [
    "fig, ax = plt.subplots(4,2, figsize =(14,14))\n",
    "\n",
    "ax[0,0].hist(dfd['Pregnancies'])\n",
    "ax[0,0].set_title('No of Pregnancies')\n",
    "ax[0,1].hist(dfd['Glucose'])\n",
    "ax[0,1].set_title('Glucose levels')\n",
    "ax[1,0].hist(dfd['BloodPressure'])\n",
    "ax[1,0].set_title('Blood Pressure')\n",
    "ax[1,1].hist(dfd['SkinThickness'])\n",
    "ax[1,1].set_title('Skin Thickness in mm')\n",
    "ax[2,0].hist(dfd['Insulin'])\n",
    "ax[2,0].set_title('Insulin Level')\n",
    "ax[2,1].hist(dfd['BMI'])\n",
    "ax[2,1].set_title('BMI index values')\n",
    "ax[3,0].hist(dfd['DiabetesPedigreeFunction'])\n",
    "ax[3,0].set_title('Genetic score of diabetes')\n",
    "ax[3,1].hist(dfd['Age'])\n",
    "ax[3,1].set_title('Age')\n",
    "plt.show()"
   ]
  },
  {
   "cell_type": "code",
   "execution_count": 9,
   "metadata": {},
   "outputs": [
    {
     "data": {
      "image/png": "[encoded data removed]",
      "text/plain": [
       "<Figure size 640x480 with 1 Axes>"
      ]
     },
     "metadata": {},
     "output_type": "display_data"
    }
   ],
   "source": [
    "# Target variable distribution\n",
    "plt.hist(dfd['Outcome'])\n",
    "plt.title('Diabetes(yes or no)')\n",
    "plt.show()"
   ]
  },
  {
   "cell_type": "markdown",
   "metadata": {},
   "source": [
    "## Correlation Analysis"
   ]
  },
  {
   "cell_type": "code",
   "execution_count": 10,
   "metadata": {
    "scrolled": true
   },
   "outputs": [
    {
     "data": {
      "text/html": [
       "<div>\n",
       "<style scoped>\n",
       "    .dataframe tbody tr th:only-of-type {\n",
       "        vertical-align: middle;\n",
       "    }\n",
       "\n",
       "    .dataframe tbody tr th {\n",
       "        vertical-align: top;\n",
       "    }\n",
       "\n",
       "    .dataframe thead th {\n",
       "        text-align: right;\n",
       "    }\n",
       "</style>\n",
       "<table border=\"1\" class=\"dataframe\">\n",
       "  <thead>\n",
       "    <tr style=\"text-align: right;\">\n",
       "      <th></th>\n",
       "      <th>Pregnancies</th>\n",
       "      <th>Glucose</th>\n",
       "      <th>BloodPressure</th>\n",
       "      <th>SkinThickness</th>\n",
       "      <th>Insulin</th>\n",
       "      <th>BMI</th>\n",
       "      <th>DiabetesPedigreeFunction</th>\n",
       "      <th>Age</th>\n",
       "      <th>Outcome</th>\n",
       "    </tr>\n",
       "  </thead>\n",
       "  <tbody>\n",
       "    <tr>\n",
       "      <th>Pregnancies</th>\n",
       "      <td>1.000000</td>\n",
       "      <td>0.122839</td>\n",
       "      <td>0.147253</td>\n",
       "      <td>-0.068673</td>\n",
       "      <td>-0.075734</td>\n",
       "      <td>0.018761</td>\n",
       "      <td>-0.027731</td>\n",
       "      <td>0.540805</td>\n",
       "      <td>0.223796</td>\n",
       "    </tr>\n",
       "    <tr>\n",
       "      <th>Glucose</th>\n",
       "      <td>0.122839</td>\n",
       "      <td>1.000000</td>\n",
       "      <td>0.142095</td>\n",
       "      <td>0.061023</td>\n",
       "      <td>0.323445</td>\n",
       "      <td>0.225308</td>\n",
       "      <td>0.127195</td>\n",
       "      <td>0.256958</td>\n",
       "      <td>0.460644</td>\n",
       "    </tr>\n",
       "    <tr>\n",
       "      <th>BloodPressure</th>\n",
       "      <td>0.147253</td>\n",
       "      <td>0.142095</td>\n",
       "      <td>1.000000</td>\n",
       "      <td>0.201167</td>\n",
       "      <td>0.087823</td>\n",
       "      <td>0.281560</td>\n",
       "      <td>0.048471</td>\n",
       "      <td>0.238684</td>\n",
       "      <td>0.072900</td>\n",
       "    </tr>\n",
       "    <tr>\n",
       "      <th>SkinThickness</th>\n",
       "      <td>-0.068673</td>\n",
       "      <td>0.061023</td>\n",
       "      <td>0.201167</td>\n",
       "      <td>1.000000</td>\n",
       "      <td>0.445345</td>\n",
       "      <td>0.393494</td>\n",
       "      <td>0.179830</td>\n",
       "      <td>-0.111895</td>\n",
       "      <td>0.075603</td>\n",
       "    </tr>\n",
       "    <tr>\n",
       "      <th>Insulin</th>\n",
       "      <td>-0.075734</td>\n",
       "      <td>0.323445</td>\n",
       "      <td>0.087823</td>\n",
       "      <td>0.445345</td>\n",
       "      <td>1.000000</td>\n",
       "      <td>0.215926</td>\n",
       "      <td>0.190500</td>\n",
       "      <td>-0.073458</td>\n",
       "      <td>0.123646</td>\n",
       "    </tr>\n",
       "    <tr>\n",
       "      <th>BMI</th>\n",
       "      <td>0.018761</td>\n",
       "      <td>0.225308</td>\n",
       "      <td>0.281560</td>\n",
       "      <td>0.393494</td>\n",
       "      <td>0.215926</td>\n",
       "      <td>1.000000</td>\n",
       "      <td>0.129766</td>\n",
       "      <td>0.038175</td>\n",
       "      <td>0.280928</td>\n",
       "    </tr>\n",
       "    <tr>\n",
       "      <th>DiabetesPedigreeFunction</th>\n",
       "      <td>-0.027731</td>\n",
       "      <td>0.127195</td>\n",
       "      <td>0.048471</td>\n",
       "      <td>0.179830</td>\n",
       "      <td>0.190500</td>\n",
       "      <td>0.129766</td>\n",
       "      <td>1.000000</td>\n",
       "      <td>0.028544</td>\n",
       "      <td>0.160664</td>\n",
       "    </tr>\n",
       "    <tr>\n",
       "      <th>Age</th>\n",
       "      <td>0.540805</td>\n",
       "      <td>0.256958</td>\n",
       "      <td>0.238684</td>\n",
       "      <td>-0.111895</td>\n",
       "      <td>-0.073458</td>\n",
       "      <td>0.038175</td>\n",
       "      <td>0.028544</td>\n",
       "      <td>1.000000</td>\n",
       "      <td>0.237050</td>\n",
       "    </tr>\n",
       "    <tr>\n",
       "      <th>Outcome</th>\n",
       "      <td>0.223796</td>\n",
       "      <td>0.460644</td>\n",
       "      <td>0.072900</td>\n",
       "      <td>0.075603</td>\n",
       "      <td>0.123646</td>\n",
       "      <td>0.280928</td>\n",
       "      <td>0.160664</td>\n",
       "      <td>0.237050</td>\n",
       "      <td>1.000000</td>\n",
       "    </tr>\n",
       "  </tbody>\n",
       "</table>\n",
       "</div>"
      ],
      "text/plain": [
       "                          Pregnancies   Glucose  BloodPressure  SkinThickness  \\\n",
       "Pregnancies                  1.000000  0.122839       0.147253      -0.068673   \n",
       "Glucose                      0.122839  1.000000       0.142095       0.061023   \n",
       "BloodPressure                0.147253  0.142095       1.000000       0.201167   \n",
       "SkinThickness               -0.068673  0.061023       0.201167       1.000000   \n",
       "Insulin                     -0.075734  0.323445       0.087823       0.445345   \n",
       "BMI                          0.018761  0.225308       0.281560       0.393494   \n",
       "DiabetesPedigreeFunction    -0.027731  0.127195       0.048471       0.179830   \n",
       "Age                          0.540805  0.256958       0.238684      -0.111895   \n",
       "Outcome                      0.223796  0.460644       0.072900       0.075603   \n",
       "\n",
       "                           Insulin       BMI  DiabetesPedigreeFunction  \\\n",
       "Pregnancies              -0.075734  0.018761                 -0.027731   \n",
       "Glucose                   0.323445  0.225308                  0.127195   \n",
       "BloodPressure             0.087823  0.281560                  0.048471   \n",
       "SkinThickness             0.445345  0.393494                  0.179830   \n",
       "Insulin                   1.000000  0.215926                  0.190500   \n",
       "BMI                       0.215926  1.000000                  0.129766   \n",
       "DiabetesPedigreeFunction  0.190500  0.129766                  1.000000   \n",
       "Age                      -0.073458  0.038175                  0.028544   \n",
       "Outcome                   0.123646  0.280928                  0.160664   \n",
       "\n",
       "                               Age   Outcome  \n",
       "Pregnancies               0.540805  0.223796  \n",
       "Glucose                   0.256958  0.460644  \n",
       "BloodPressure             0.238684  0.072900  \n",
       "SkinThickness            -0.111895  0.075603  \n",
       "Insulin                  -0.073458  0.123646  \n",
       "BMI                       0.038175  0.280928  \n",
       "DiabetesPedigreeFunction  0.028544  0.160664  \n",
       "Age                       1.000000  0.237050  \n",
       "Outcome                   0.237050  1.000000  "
      ]
     },
     "execution_count": 10,
     "metadata": {},
     "output_type": "execute_result"
    }
   ],
   "source": [
    "# correlation of attributes\n",
    "corrl = dfd.corr()\n",
    "corrl #table  for numerical representation"
   ]
  },
  {
   "cell_type": "code",
   "execution_count": 11,
   "metadata": {
    "scrolled": true
   },
   "outputs": [
    {
     "data": {
      "image/png": "[encoded data removed]",
      "text/plain": [
       "<Figure size 640x480 with 2 Axes>"
      ]
     },
     "metadata": {},
     "output_type": "display_data"
    }
   ],
   "source": [
    "# Graphical representation of correlation using heatmap\n",
    "sns.heatmap(corrl)\n",
    "plt.show()\n",
    "#Glucose , BMI are highly correlated to Target variable"
   ]
  },
  {
   "cell_type": "markdown",
   "metadata": {},
   "source": [
    "**Observation:**"
   ]
  },
  {
   "cell_type": "code",
   "execution_count": null,
   "metadata": {},
   "outputs": [],
   "source": []
  },
  {
   "cell_type": "markdown",
   "metadata": {},
   "source": [
    "## Statistical Analysis"
   ]
  },
  {
   "cell_type": "code",
   "execution_count": 71,
   "metadata": {
    "scrolled": true
   },
   "outputs": [
    {
     "name": "stdout",
     "output_type": "stream",
     "text": [
      "Normally distributed features\n",
      "Pregnancies      True\n",
      "Glucose          True\n",
      "SkinThickness    True\n",
      "BMI              True\n",
      "Outcome          True\n",
      "dtype: bool\n",
      "--------------------\n",
      "Not Normally distributed features\n",
      "BloodPressure               False\n",
      "Insulin                     False\n",
      "DiabetesPedigreeFunction    False\n",
      "Age                         False\n",
      "dtype: bool\n"
     ]
    }
   ],
   "source": [
    "# checks skewness which should be between -1 and 1\n",
    "skw_data = dfd.skew() \n",
    "dist =(skw_data >= -1)& (skw_data <= 1)\n",
    "\n",
    "nd99 = dist[dist == True]\n",
    "nnd99 = dist[dist == False]\n",
    "print('Normally distributed features')\n",
    "print(nd99)\n",
    "print('--'*10)\n",
    "print('Not Normally distributed features')\n",
    "print(nnd99)\n",
    "\n",
    "#It is common for health attributes to be skewed\n",
    "#observing skewness to decide which type of statistical test need to be used further "
   ]
  },
  {
   "cell_type": "code",
   "execution_count": 13,
   "metadata": {
    "scrolled": true
   },
   "outputs": [
    {
     "data": {
      "text/html": [
       "<div>\n",
       "<style scoped>\n",
       "    .dataframe tbody tr th:only-of-type {\n",
       "        vertical-align: middle;\n",
       "    }\n",
       "\n",
       "    .dataframe tbody tr th {\n",
       "        vertical-align: top;\n",
       "    }\n",
       "\n",
       "    .dataframe thead th {\n",
       "        text-align: right;\n",
       "    }\n",
       "</style>\n",
       "<table border=\"1\" class=\"dataframe\">\n",
       "  <thead>\n",
       "    <tr style=\"text-align: right;\">\n",
       "      <th></th>\n",
       "      <th>Pregnancies</th>\n",
       "      <th>Glucose</th>\n",
       "      <th>BloodPressure</th>\n",
       "      <th>SkinThickness</th>\n",
       "      <th>Insulin</th>\n",
       "      <th>BMI</th>\n",
       "      <th>DiabetesPedigreeFunction</th>\n",
       "      <th>Age</th>\n",
       "      <th>Outcome</th>\n",
       "    </tr>\n",
       "    <tr>\n",
       "      <th>Id</th>\n",
       "      <th></th>\n",
       "      <th></th>\n",
       "      <th></th>\n",
       "      <th></th>\n",
       "      <th></th>\n",
       "      <th></th>\n",
       "      <th></th>\n",
       "      <th></th>\n",
       "      <th></th>\n",
       "    </tr>\n",
       "  </thead>\n",
       "  <tbody>\n",
       "    <tr>\n",
       "      <th>1</th>\n",
       "      <td>6</td>\n",
       "      <td>148</td>\n",
       "      <td>72</td>\n",
       "      <td>35</td>\n",
       "      <td>0</td>\n",
       "      <td>33.6</td>\n",
       "      <td>0.627</td>\n",
       "      <td>50</td>\n",
       "      <td>1</td>\n",
       "    </tr>\n",
       "    <tr>\n",
       "      <th>2</th>\n",
       "      <td>1</td>\n",
       "      <td>85</td>\n",
       "      <td>66</td>\n",
       "      <td>29</td>\n",
       "      <td>0</td>\n",
       "      <td>26.6</td>\n",
       "      <td>0.351</td>\n",
       "      <td>31</td>\n",
       "      <td>0</td>\n",
       "    </tr>\n",
       "    <tr>\n",
       "      <th>3</th>\n",
       "      <td>8</td>\n",
       "      <td>183</td>\n",
       "      <td>64</td>\n",
       "      <td>0</td>\n",
       "      <td>0</td>\n",
       "      <td>23.3</td>\n",
       "      <td>0.672</td>\n",
       "      <td>32</td>\n",
       "      <td>1</td>\n",
       "    </tr>\n",
       "    <tr>\n",
       "      <th>4</th>\n",
       "      <td>1</td>\n",
       "      <td>89</td>\n",
       "      <td>66</td>\n",
       "      <td>23</td>\n",
       "      <td>94</td>\n",
       "      <td>28.1</td>\n",
       "      <td>0.167</td>\n",
       "      <td>21</td>\n",
       "      <td>0</td>\n",
       "    </tr>\n",
       "    <tr>\n",
       "      <th>5</th>\n",
       "      <td>0</td>\n",
       "      <td>137</td>\n",
       "      <td>40</td>\n",
       "      <td>35</td>\n",
       "      <td>168</td>\n",
       "      <td>43.1</td>\n",
       "      <td>2.288</td>\n",
       "      <td>33</td>\n",
       "      <td>1</td>\n",
       "    </tr>\n",
       "  </tbody>\n",
       "</table>\n",
       "</div>"
      ],
      "text/plain": [
       "    Pregnancies  Glucose  BloodPressure  SkinThickness  Insulin   BMI  \\\n",
       "Id                                                                      \n",
       "1             6      148             72             35        0  33.6   \n",
       "2             1       85             66             29        0  26.6   \n",
       "3             8      183             64              0        0  23.3   \n",
       "4             1       89             66             23       94  28.1   \n",
       "5             0      137             40             35      168  43.1   \n",
       "\n",
       "    DiabetesPedigreeFunction  Age  Outcome  \n",
       "Id                                          \n",
       "1                      0.627   50        1  \n",
       "2                      0.351   31        0  \n",
       "3                      0.672   32        1  \n",
       "4                      0.167   21        0  \n",
       "5                      2.288   33        1  "
      ]
     },
     "execution_count": 13,
     "metadata": {},
     "output_type": "execute_result"
    }
   ],
   "source": [
    "# temp cell\n",
    "dfd.head(5)\n",
    "# pregnancies - discrete data\n",
    "# glucose - continuous data\n",
    "# bloopressure - conitnuous data\n",
    "# Skin thickness - continuous data\n",
    "# Insulin - continuous data\n",
    "# BMI - continuous data\n",
    "# DiabetesPF - continuous data\n",
    "# age - continuous data"
   ]
  },
  {
   "cell_type": "code",
   "execution_count": 14,
   "metadata": {},
   "outputs": [
    {
     "data": {
      "text/plain": [
       "Pregnancies                  17\n",
       "Glucose                     136\n",
       "BloodPressure                47\n",
       "SkinThickness                53\n",
       "Insulin                     187\n",
       "BMI                         253\n",
       "DiabetesPedigreeFunction    523\n",
       "Age                          52\n",
       "Outcome                       2\n",
       "dtype: int64"
      ]
     },
     "execution_count": 14,
     "metadata": {},
     "output_type": "execute_result"
    }
   ],
   "source": [
    "dfd.nunique()"
   ]
  },
  {
   "cell_type": "code",
   "execution_count": 81,
   "metadata": {},
   "outputs": [],
   "source": [
    "# type of statistcal test to perform \n",
    "# considered pergnancies column as not normally distributed because it is colser to skew value 1\n",
    "non_param_tst = ['Pregnancies','Insulin','BloodPressure','DiabetesPedigreeFunction','Age']\n",
    "param_tst = ['Glucose','SkinThickness','BMI']\n",
    "# for non parametric test - whitney u test\n",
    "# for parametric independence test - t test "
   ]
  },
  {
   "cell_type": "code",
   "execution_count": 98,
   "metadata": {},
   "outputs": [
    {
     "name": "stdout",
     "output_type": "stream",
     "text": [
      "stat =-27.294939158978366,p value = 0.000\n",
      "Glucose feature has significant relationship with Target variable\n",
      "stat =-3.9876044747838795,p value = 0.000\n",
      "SkinThickness feature has significant relationship with Target variable\n",
      "stat =-15.394722924576849,p value = 0.000\n",
      "BMI feature has significant relationship with Target variable\n"
     ]
    }
   ],
   "source": [
    "# for parametric tests we import independence t test \n",
    "# for non parametric tests we import mannwhitney u test\n",
    "\n",
    "from scipy.stats import ttest_ind, mannwhitneyu\n",
    "\n",
    "# parametric test\n",
    "#H0 - mean value of group 1 same as group 2\n",
    "#Ha - mean value of group 1 and group 2 is not same\n",
    "\n",
    "# loops over a list of normally distributed features\n",
    "for y in param_tst:\n",
    "    grp0= dfd[dfd['Outcome']== 0][y]\n",
    "    grp1 = dfd[dfd['Outcome'] == 1][y]\n",
    "    \n",
    "    stat,p = ttest_ind(grp0,grp1)\n",
    "    print(f'stat ={stat},p value = {p:.3f}')\n",
    "    if p < 0.05:\n",
    "        print(f'{y} feature has significant relationship with Target variable')\n",
    "        \n",
    "    else:\n",
    "        \n",
    "        print(f'{y} has no significant relatioship with Target variable')"
   ]
  },
  {
   "cell_type": "code",
   "execution_count": 100,
   "metadata": {
    "scrolled": true
   },
   "outputs": [
    {
     "name": "stdout",
     "output_type": "stream",
     "text": [
      "stat =659717.0,p value = 0.000\n",
      "Pregnancies feature has significant relationship with Target variable\n",
      "stat =801099.5,p value = 0.001\n",
      "Insulin feature has significant relationship with Target variable\n",
      "stat =705999.5,p value = 0.000\n",
      "BloodPressure feature has significant relationship with Target variable\n",
      "stat =700437.0,p value = 0.000\n",
      "DiabetesPedigreeFunction feature has significant relationship with Target variable\n",
      "stat =539051.0,p value = 0.000\n",
      "Age feature has significant relationship with Target variable\n"
     ]
    }
   ],
   "source": [
    "for n in non_param_tst:\n",
    "    grp0= dfd[dfd['Outcome']== 0][n]\n",
    "    grp1 = dfd[dfd['Outcome'] == 1][n]\n",
    "    \n",
    "    stat,p = mannwhitneyu(grp0,grp1)\n",
    "    print(f'stat ={stat},p value = {p:.3f}')\n",
    "    if p < 0.05:\n",
    "        print(f'{n} feature has significant relationship with Target variable')\n",
    "        \n",
    "    else:\n",
    "        \n",
    "        print(f'{n} has no significant relatioship with Target variable')"
   ]
  },
  {
   "cell_type": "code",
   "execution_count": 101,
   "metadata": {},
   "outputs": [
    {
     "data": {
      "text/plain": [
       "0    1816\n",
       "1     952\n",
       "Name: Outcome, dtype: int64"
      ]
     },
     "execution_count": 101,
     "metadata": {},
     "output_type": "execute_result"
    }
   ],
   "source": [
    "# temp cell\n",
    "dfd['Outcome'].value_counts()"
   ]
  },
  {
   "cell_type": "markdown",
   "metadata": {},
   "source": [
    "### New Approach "
   ]
  },
  {
   "cell_type": "code",
   "execution_count": 121,
   "metadata": {},
   "outputs": [],
   "source": [
    "from scipy import stats as st\n",
    "def normality_verf(column):\n",
    "    stat_normal, p_val_norm = st.shapiro(column)\n",
    "    print(f'p value to check normality:{p_val_norm:.4f}')\n",
    "    if p_val_norm < 0.05:\n",
    "        print('Null hypothesis rejected, Data not normally distributed')\n",
    "    else:\n",
    "        print('Do not reject null hypothesis, Data is normally distributed')\n",
    "    print('**'* 30)"
   ]
  },
  {
   "cell_type": "code",
   "execution_count": 122,
   "metadata": {},
   "outputs": [
    {
     "data": {
      "text/plain": [
       "Index(['Id', 'Pregnancies', 'Glucose', 'BloodPressure', 'SkinThickness',\n",
       "       'Insulin', 'BMI', 'DiabetesPedigreeFunction', 'Age', 'Outcome'],\n",
       "      dtype='object')"
      ]
     },
     "execution_count": 122,
     "metadata": {},
     "output_type": "execute_result"
    }
   ],
   "source": [
    "features87 = dfd.columns\n",
    "features87"
   ]
  },
  {
   "cell_type": "code",
   "execution_count": 123,
   "metadata": {},
   "outputs": [
    {
     "name": "stdout",
     "output_type": "stream",
     "text": [
      "p value to check normality:0.0000\n",
      "Null hypothesis rejected, Data not normally distributed\n",
      "************************************************************\n",
      "p value to check normality:0.0000\n",
      "Null hypothesis rejected, Data not normally distributed\n",
      "************************************************************\n",
      "p value to check normality:0.0000\n",
      "Null hypothesis rejected, Data not normally distributed\n",
      "************************************************************\n",
      "p value to check normality:0.0000\n",
      "Null hypothesis rejected, Data not normally distributed\n",
      "************************************************************\n",
      "p value to check normality:0.0000\n",
      "Null hypothesis rejected, Data not normally distributed\n",
      "************************************************************\n",
      "p value to check normality:0.0000\n",
      "Null hypothesis rejected, Data not normally distributed\n",
      "************************************************************\n",
      "p value to check normality:0.0000\n",
      "Null hypothesis rejected, Data not normally distributed\n",
      "************************************************************\n",
      "p value to check normality:0.0000\n",
      "Null hypothesis rejected, Data not normally distributed\n",
      "************************************************************\n",
      "p value to check normality:0.0000\n",
      "Null hypothesis rejected, Data not normally distributed\n",
      "************************************************************\n",
      "p value to check normality:0.0000\n",
      "Null hypothesis rejected, Data not normally distributed\n",
      "************************************************************\n"
     ]
    }
   ],
   "source": [
    "for f in features87:\n",
    "    normality_verf(dfd[f])"
   ]
  },
  {
   "cell_type": "code",
   "execution_count": 125,
   "metadata": {},
   "outputs": [],
   "source": [
    "def variance_verf(feature1, feature2):\n",
    "    stat_var, p_val_var = st.levene(feature1, feature2)\n",
    "    print(f'P value to check variance {p_val_var:.4f}')\n",
    "    if p_val_var < 0.05:\n",
    "          print(\"variance is different\")\n",
    "    else:\n",
    "          print('Variance is same')"
   ]
  },
  {
   "cell_type": "code",
   "execution_count": 126,
   "metadata": {},
   "outputs": [
    {
     "name": "stdout",
     "output_type": "stream",
     "text": [
      "P value to check variance 0.0000\n",
      "variance is different\n"
     ]
    }
   ],
   "source": [
    "variance_verf(dfd['Glucose'], dfd['Age'])"
   ]
  },
  {
   "cell_type": "code",
   "execution_count": null,
   "metadata": {},
   "outputs": [],
   "source": []
  }
 ],
 "metadata": {
  "kernelspec": {
   "display_name": "Python 3",
   "language": "python",
   "name": "python3"
  },
  "language_info": {
   "codemirror_mode": {
    "name": "ipython",
    "version": 3
   },
   "file_extension": ".py",
   "mimetype": "text/x-python",
   "name": "python",
   "nbconvert_exporter": "python",
   "pygments_lexer": "ipython3",
   "version": "3.6.5"
  }
 },
 "nbformat": 4,
 "nbformat_minor": 5
}
