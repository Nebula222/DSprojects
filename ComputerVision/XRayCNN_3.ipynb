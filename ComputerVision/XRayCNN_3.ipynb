{
 "cells": [
  {
   "cell_type": "markdown",
   "metadata": {
    "id": "46SlacjePMlo"
   },
   "source": [
    "# Data Description\n",
    "The pneumonia training dataset contains 3,875 x-ray images classified as pneumonia and 1,341 x-ray images classified as normal. The pneumonia samples have been downsized to 1,341 to mitigate the class imbalance issue. All images have been resized and cropped to 300 x 224 on an Amazon Elastic Compute Cloud (EC2) P3 Xlarge instance with 64 CPUs.\n",
    "\n",
    "# Model\n",
    "I used a pre-trained resnet34 model with a batch size of 250, a maximized learning rate of 0.01, and trained the model for 2 epochs."
   ]
  },
  {
   "cell_type": "code",
   "execution_count": 1,
   "metadata": {
    "colab": {
     "base_uri": "https://localhost:8080/"
    },
    "id": "03EpvSMUy6_n",
    "outputId": "63841195-bccb-49ce-cf08-a205ab082eac"
   },
   "outputs": [
    {
     "name": "stdout",
     "output_type": "stream",
     "text": [
      "Using matplotlib backend: <object object at 0x7dc0151fb670>\n"
     ]
    }
   ],
   "source": [
    "%reload_ext autoreload\n",
    "%autoreload 2\n",
    "%matplotlib\n",
    "import pandas as pd\n",
    "import numpy as np\n",
    "import torch\n",
    "from pathlib import Path\n",
    "from torch.utils.data import Dataset, DataLoader\n",
    "import torch.optim as optim\n",
    "import torch.nn as nn\n",
    "import torch.nn.functional as F\n",
    "from torchvision import models\n",
    "import random"
   ]
  },
  {
   "cell_type": "code",
   "execution_count": 2,
   "metadata": {
    "id": "BwAic3nw0C15"
   },
   "outputs": [],
   "source": [
    "import cv2\n",
    "import matplotlib.pyplot as plt"
   ]
  },
  {
   "cell_type": "code",
   "execution_count": 3,
   "metadata": {
    "id": "pbjkJsgGv5sU"
   },
   "outputs": [],
   "source": [
    "%matplotlib inline"
   ]
  },
  {
   "cell_type": "code",
   "execution_count": null,
   "metadata": {
    "id": "la2-0M3OrNuS"
   },
   "outputs": [],
   "source": [
    "#from google.colab import files\n",
    "#files.upload()  # Choose the kaggle.json file that you downloaded\n"
   ]
  },
  {
   "cell_type": "code",
   "execution_count": null,
   "metadata": {
    "id": "CZXsDb2trgxU"
   },
   "outputs": [],
   "source": [
    "#!mkdir -p ~/.kaggle\n",
    "#!cp ./kaggle-2.json ~/.kaggle/kaggle.json\n",
    "#!chmod 600 ~/.kaggle/kaggle.json\n"
   ]
  },
  {
   "cell_type": "code",
   "execution_count": 4,
   "metadata": {
    "id": "zxLoINLZxyM0"
   },
   "outputs": [],
   "source": [
    "#!ls ~/.kaggle"
   ]
  },
  {
   "cell_type": "code",
   "execution_count": null,
   "metadata": {
    "colab": {
     "base_uri": "https://localhost:8080/"
    },
    "id": "icAvqYkIusUh",
    "outputId": "8f9aa3c5-48c3-42c0-c303-2de535c31f40"
   },
   "outputs": [
    {
     "name": "stdout",
     "output_type": "stream",
     "text": [
      "Downloading chest-xray-pneumonia.zip to /Users/angela/Downloads\n",
      "100%|█████████████████████████████████████▉| 2.29G/2.29G [00:52<00:00, 72.4MB/s]\n",
      "100%|██████████████████████████████████████| 2.29G/2.29G [00:52<00:00, 47.3MB/s]\n"
     ]
    }
   ],
   "source": [
    "#!kaggle datasets download -d paultimothymooney/chest-xray-pneumonia"
   ]
  },
  {
   "cell_type": "code",
   "execution_count": null,
   "metadata": {
    "id": "ATi5YVHJv5sW"
   },
   "outputs": [],
   "source": [
    "#import shutil\n",
    "#file_path = './chest_xray'\n",
    "#file_path = './chest_xray/PNEUMONIA_downsampled'\n",
    "#shutil.rmtree(file_path)"
   ]
  },
  {
   "cell_type": "code",
   "execution_count": null,
   "metadata": {
    "id": "BJ4FN1oQ0QXq",
    "outputId": "c29b5b52-9b88-4f4d-8619-fac309aa2b40"
   },
   "outputs": [
    {
     "name": "stdout",
     "output_type": "stream",
     "text": [
      "mkdir: ./data: File exists\n"
     ]
    }
   ],
   "source": [
    "#!mkdir ./data\n",
    "#!cp ./chest-xray-pneumonia.zip ./data/"
   ]
  },
  {
   "cell_type": "code",
   "execution_count": null,
   "metadata": {
    "id": "72aH0KCj02lF"
   },
   "outputs": [],
   "source": [
    "#! unzip -q ./chest-xray-pneumonia.zip"
   ]
  },
  {
   "cell_type": "code",
   "execution_count": 4,
   "metadata": {
    "colab": {
     "base_uri": "https://localhost:8080/"
    },
    "id": "bnQ0KPgFVaHc",
    "outputId": "bf39463a-916d-42ea-9107-7672c4be6f1f"
   },
   "outputs": [
    {
     "name": "stdout",
     "output_type": "stream",
     "text": [
      "/content\n"
     ]
    }
   ],
   "source": [
    "import os\n",
    "current = os.getcwd()\n",
    "print(current)"
   ]
  },
  {
   "cell_type": "code",
   "execution_count": 5,
   "metadata": {
    "colab": {
     "base_uri": "https://localhost:8080/"
    },
    "id": "y3L1X35r-6vE",
    "outputId": "080d0873-c7be-43e1-ddf1-49af8ff3ade9"
   },
   "outputs": [
    {
     "name": "stdout",
     "output_type": "stream",
     "text": [
      "Mounted at /content/drive/\n"
     ]
    }
   ],
   "source": [
    "from google.colab import drive\n",
    "drive.mount('/content/drive/')"
   ]
  },
  {
   "cell_type": "code",
   "execution_count": 6,
   "metadata": {
    "colab": {
     "base_uri": "https://localhost:8080/"
    },
    "id": "0Q2Oc-oiArU-",
    "outputId": "e17e5b78-59a9-4a14-cbac-4e203b1ce241"
   },
   "outputs": [
    {
     "name": "stdout",
     "output_type": "stream",
     "text": [
      "['.file-revisions-by-id', '.shortcut-targets-by-id', 'MyDrive', '.Trash-0']\n"
     ]
    }
   ],
   "source": [
    "directory_path = os.path.dirname('/content/drive/MyDrive')\n",
    "files = os.listdir(directory_path)\n",
    "print(files)"
   ]
  },
  {
   "cell_type": "code",
   "execution_count": 7,
   "metadata": {
    "id": "lGd71zpq_zgA"
   },
   "outputs": [],
   "source": [
    "def read_image(path):\n",
    "    im = cv2.imread(str(path))\n",
    "    if im is None:\n",
    "        raise IOError(f\"Unable to read image file: {path}\")\n",
    "    return cv2.cvtColor(im, cv2.COLOR_BGR2RGB)"
   ]
  },
  {
   "cell_type": "code",
   "execution_count": 8,
   "metadata": {
    "colab": {
     "base_uri": "https://localhost:8080/",
     "height": 451
    },
    "id": "byY1XkOW3n80",
    "outputId": "8fd5dc3a-611e-4c87-fea7-f92d6aa2f03c"
   },
   "outputs": [
    {
     "data": {
      "text/plain": [
       "<matplotlib.image.AxesImage at 0x7dbef4f566b0>"
      ]
     },
     "execution_count": 8,
     "metadata": {},
     "output_type": "execute_result"
    },
    {
     "data": {
      "image/png": "[encoded data removed]",
      "text/plain": [
       "<Figure size 640x480 with 1 Axes>"
      ]
     },
     "metadata": {},
     "output_type": "display_data"
    }
   ],
   "source": [
    "file_path = '/content/drive/MyDrive/train_300_224/IM-0115-0001.jpeg'\n",
    "image = read_image(file_path)\n",
    "plt.imshow(image)"
   ]
  },
  {
   "cell_type": "code",
   "execution_count": 9,
   "metadata": {
    "id": "0ow9XQYf-bVC"
   },
   "outputs": [],
   "source": [
    "from pathlib import Path\n",
    "PATH = Path('/content/drive/MyDrive/train_300_224')\n",
    "#list(PATH.iterdir())"
   ]
  },
  {
   "cell_type": "code",
   "execution_count": 10,
   "metadata": {
    "colab": {
     "base_uri": "https://localhost:8080/"
    },
    "id": "FVwOUGIj4GYz",
    "outputId": "99143ac7-4f1a-4446-e72c-fd115c0a9646"
   },
   "outputs": [
    {
     "data": {
      "text/plain": [
       "(224, 300, 3)"
      ]
     },
     "execution_count": 10,
     "metadata": {},
     "output_type": "execute_result"
    }
   ],
   "source": [
    "image = cv2.imread(str(file_path))\n",
    "image.shape"
   ]
  },
  {
   "cell_type": "code",
   "execution_count": 12,
   "metadata": {
    "id": "pakzGLMW4axF"
   },
   "outputs": [],
   "source": [
    "path = PATH/\"train/PNEUMONIA\"\n",
    "files = list(path.iterdir())"
   ]
  },
  {
   "cell_type": "code",
   "execution_count": null,
   "metadata": {
    "id": "jwgIngW-UWXf"
   },
   "outputs": [],
   "source": [
    "len(files)"
   ]
  },
  {
   "cell_type": "code",
   "execution_count": null,
   "metadata": {
    "id": "RmyHAgGxUplq"
   },
   "outputs": [],
   "source": [
    "path = PATH/\"train/NORMAL\"\n",
    "files = list(path.iterdir())\n",
    "len(files)"
   ]
  },
  {
   "cell_type": "code",
   "execution_count": null,
   "metadata": {
    "colab": {
     "base_uri": "https://localhost:8080/"
    },
    "id": "4S9ZOI_4VJLn",
    "outputId": "5befd7fa-7576-485f-9487-296cc4099aac"
   },
   "outputs": [
    {
     "data": {
      "text/plain": [
       "0.2570935582822086"
      ]
     },
     "execution_count": 12,
     "metadata": {},
     "output_type": "execute_result"
    }
   ],
   "source": [
    "1341 / (3875 + 1341)"
   ]
  },
  {
   "cell_type": "markdown",
   "metadata": {
    "id": "47NxKaHaVltM"
   },
   "source": [
    "Imbalanced Dataset. the total pneumonia images (class = 1) = 3875 and the total normal images (class = 0) = 1341. only 25% of the training data is normal images. we will need to downsample the pneumonia data size for a better training result."
   ]
  },
  {
   "cell_type": "code",
   "execution_count": null,
   "metadata": {
    "id": "EeSTV3hsWTtn"
   },
   "outputs": [],
   "source": [
    "pneumonia_list = [image for image in (PATH/'train/PNEUMONIA').iterdir() if 'PNEUMONIA' in str(image)]\n",
    "normal_list = [image for image in (PATH/'train/NORMAL').iterdir() if 'NORMAL' in str(image)]"
   ]
  },
  {
   "cell_type": "code",
   "execution_count": null,
   "metadata": {
    "colab": {
     "base_uri": "https://localhost:8080/"
    },
    "id": "02NydZtNYL0Y",
    "outputId": "0984e404-3366-4418-d73a-db836b9892cb"
   },
   "outputs": [
    {
     "data": {
      "text/plain": [
       "3875"
      ]
     },
     "execution_count": 17,
     "metadata": {},
     "output_type": "execute_result"
    }
   ],
   "source": [
    "len(pneumonia_list)"
   ]
  },
  {
   "cell_type": "code",
   "execution_count": null,
   "metadata": {
    "id": "TJtsRknpv5sd"
   },
   "outputs": [],
   "source": [
    "#!ls ./chest_xray/PNEUMONIA_downsampled"
   ]
  },
  {
   "cell_type": "code",
   "execution_count": null,
   "metadata": {
    "id": "xYL_zTVcYdps"
   },
   "outputs": [],
   "source": [
    "#from sklearn.utils import resample\n",
    "#pneumonia_downsampled = resample(pneumonia_list, replace = False, n_samples = 1341, random_state = 43)"
   ]
  },
  {
   "cell_type": "code",
   "execution_count": null,
   "metadata": {
    "colab": {
     "base_uri": "https://localhost:8080/"
    },
    "id": "QQvjEFpVZ-6S",
    "outputId": "670cc47d-d803-41ef-da6b-adf24c8070f0"
   },
   "outputs": [
    {
     "data": {
      "text/plain": [
       "1341"
      ]
     },
     "execution_count": 40,
     "metadata": {},
     "output_type": "execute_result"
    }
   ],
   "source": [
    "len(pneumonia_downsampled)"
   ]
  },
  {
   "cell_type": "code",
   "execution_count": null,
   "metadata": {
    "id": "gOKqzgYFmoUs"
   },
   "outputs": [],
   "source": [
    "#normal_downsampled = resample(normal_list, replace = False, n_samples = 1341, random_state = 43)"
   ]
  },
  {
   "cell_type": "code",
   "execution_count": null,
   "metadata": {
    "id": "XAPSjS3cv5se",
    "outputId": "65f25972-b52b-4894-e755-0ef8aca1f61e"
   },
   "outputs": [
    {
     "data": {
      "text/plain": [
       "1341"
      ]
     },
     "execution_count": 22,
     "metadata": {},
     "output_type": "execute_result"
    }
   ],
   "source": [
    "#len(normal_downsampled)"
   ]
  },
  {
   "cell_type": "code",
   "execution_count": null,
   "metadata": {
    "id": "CLm-wHNTa4Bz"
   },
   "outputs": [],
   "source": [
    "import shutil\n",
    "target_directory = PATH/\"PNEUMONIA_downsampled\"\n",
    "#target_directory.mkdir(parents = True, exist_ok = True)\n",
    "\n",
    "#for file_path in pneumonia_downsampled:\n",
    " #   shutil.copy(file_path, target_directory)"
   ]
  },
  {
   "cell_type": "code",
   "execution_count": null,
   "metadata": {
    "id": "ogMWdVbSnjth"
   },
   "outputs": [],
   "source": [
    "#target_directory = PATH/\"normal_downsampled\"\n",
    "#target_directory.mkdir(parents = True, exist_ok = True)\n",
    "\n",
    "#for file_path in normal_downsampled:\n",
    " # shutil.copy(file_path, target_directory)"
   ]
  },
  {
   "cell_type": "code",
   "execution_count": null,
   "metadata": {
    "colab": {
     "base_uri": "https://localhost:8080/"
    },
    "id": "pjffSTKSem6J",
    "outputId": "fc378f73-096a-4bdf-d066-56da715b44f0"
   },
   "outputs": [
    {
     "data": {
      "text/plain": [
       "[PosixPath('chest_xray/PNEUMONIA_downsampled/person63_bacteria_306.jpeg'),\n",
       " PosixPath('chest_xray/PNEUMONIA_downsampled/person276_bacteria_1296.jpeg'),\n",
       " PosixPath('chest_xray/PNEUMONIA_downsampled/person1353_virus_2333.jpeg')]"
      ]
     },
     "execution_count": 43,
     "metadata": {},
     "output_type": "execute_result"
    }
   ],
   "source": [
    "PATH = Path('./chest_xray/PNEUMONIA_downsampled')\n",
    "list(PATH.iterdir())[:3]"
   ]
  },
  {
   "cell_type": "code",
   "execution_count": null,
   "metadata": {
    "colab": {
     "base_uri": "https://localhost:8080/"
    },
    "id": "crerqYQV6Lw4",
    "outputId": "3393a36e-2128-45ea-b149-38a2723bc7bc"
   },
   "outputs": [
    {
     "data": {
      "text/plain": [
       "array([   3,  584,  736,  944, 1024, 1040, 1048, 1256, 1336, 1400, 1408])"
      ]
     },
     "execution_count": 44,
     "metadata": {},
     "output_type": "execute_result"
    }
   ],
   "source": [
    "files = list(PATH.iterdir())[:5]\n",
    "dims = [read_image(str(p)).shape for p in files]\n",
    "np.unique(dims)"
   ]
  },
  {
   "cell_type": "code",
   "execution_count": null,
   "metadata": {
    "colab": {
     "base_uri": "https://localhost:8080/"
    },
    "id": "UvoDok2tSFZL",
    "outputId": "b5296451-9404-4c5c-e79a-ef7afcf7071d"
   },
   "outputs": [
    {
     "data": {
      "text/plain": [
       "[PosixPath('chest_xray/NORMAL_downsampled/NORMAL2-IM-0927-0001.jpeg'),\n",
       " PosixPath('chest_xray/NORMAL_downsampled/NORMAL2-IM-1056-0001.jpeg'),\n",
       " PosixPath('chest_xray/NORMAL_downsampled/IM-0427-0001.jpeg')]"
      ]
     },
     "execution_count": 45,
     "metadata": {},
     "output_type": "execute_result"
    }
   ],
   "source": [
    "PATH = Path('./chest_xray')\n",
    "path = PATH/\"NORMAL_downsampled\"\n",
    "files = list(path.iterdir())[:3]\n",
    "files"
   ]
  },
  {
   "cell_type": "code",
   "execution_count": null,
   "metadata": {
    "colab": {
     "base_uri": "https://localhost:8080/"
    },
    "id": "ysSiWtwknMsy",
    "outputId": "cb4d1290-2524-4818-b318-87ec58959a73"
   },
   "outputs": [
    {
     "data": {
      "text/plain": [
       "PosixPath('chest_xray/NORMAL_downsampled/IM-0427-0001.jpeg')"
      ]
     },
     "execution_count": 46,
     "metadata": {},
     "output_type": "execute_result"
    }
   ],
   "source": [
    "files[:5][-1]"
   ]
  },
  {
   "cell_type": "code",
   "execution_count": null,
   "metadata": {
    "colab": {
     "base_uri": "https://localhost:8080/"
    },
    "id": "n7v96coCS1mb",
    "outputId": "d8965b37-cabb-4220-9950-74380319d1d9"
   },
   "outputs": [
    {
     "data": {
      "text/plain": [
       "234"
      ]
     },
     "execution_count": 29,
     "metadata": {},
     "output_type": "execute_result"
    }
   ],
   "source": [
    "path = PATH/\"test/NORMAL\"\n",
    "files = list(path.iterdir())\n",
    "len(files)"
   ]
  },
  {
   "cell_type": "code",
   "execution_count": null,
   "metadata": {
    "colab": {
     "base_uri": "https://localhost:8080/"
    },
    "id": "38Ly1ZNKUA1F",
    "outputId": "b863e8bf-bb07-4205-9265-340240c62596"
   },
   "outputs": [
    {
     "data": {
      "text/plain": [
       "624"
      ]
     },
     "execution_count": 30,
     "metadata": {},
     "output_type": "execute_result"
    }
   ],
   "source": [
    "390+234"
   ]
  },
  {
   "cell_type": "markdown",
   "metadata": {
    "id": "GM0cPkA87fGE"
   },
   "source": [
    "#Data Augmentation\n",
    "Data Augmentation is the most important way to avoid overfitting for image classification tasks."
   ]
  },
  {
   "cell_type": "code",
   "execution_count": null,
   "metadata": {
    "id": "ncU2EvFIv5si"
   },
   "outputs": [],
   "source": [
    "desired_width = 300\n",
    "desired_height = 224\n",
    "\n",
    "def resized_all_images(resize_path, pneumonia_path):\n",
    "  pneumonia_files = list(pneumonia_path.iterdir())\n",
    "  normal_files = list(normal_path.iterdir())\n",
    "#  (resize_path/'train_300_224_pneu').mkdir(parents= True, exist_ok= True)\n",
    "  # read and resize each image\n",
    "  resized_images = []\n",
    "  for file in pneumonia_files:\n",
    "    image = cv2.imread(str(file))\n",
    "    f_name = file.parts[-1]\n",
    "    new_path = resize_path/f_name\n",
    "    if image is not None:\n",
    "      resized_image = cv2.resize(image, (desired_width, desired_height))\n",
    "      resized_images.append(resized_image)\n",
    "      cv2.imwrite(str(resize_path/'train_300_224_pneu'/f_name), cv2.cvtColor(resized_image, cv2.COLOR_RGB2BGR))\n",
    "    else:\n",
    "      print(f\"Unable to read image: {file}\")\n"
   ]
  },
  {
   "cell_type": "code",
   "execution_count": null,
   "metadata": {
    "id": "zZJTkFWNv5si"
   },
   "outputs": [],
   "source": [
    "# Define the paths to the pneumonia and normal image directories\n",
    "pneumonia_path = PATH/\"PNEUMONIA_downsampled\"\n",
    "\n",
    "# Specify the resize path where the resized images will be saved\n",
    "resize_path = PATH/'train_300_224_p'"
   ]
  },
  {
   "cell_type": "code",
   "execution_count": null,
   "metadata": {
    "id": "NS3nuI-4v5si"
   },
   "outputs": [],
   "source": [
    "#resized_all_images(resize_path, pneumonia_path)"
   ]
  },
  {
   "cell_type": "code",
   "execution_count": null,
   "metadata": {
    "id": "sPLn3tydv5si"
   },
   "outputs": [],
   "source": [
    "desired_width = 300\n",
    "desired_height = 224\n",
    "\n",
    "def resized_all_images(resize_path, normal_path):\n",
    "  pneumonia_files = list(pneumonia_path.iterdir())\n",
    "  normal_files = list(normal_path.iterdir())\n",
    "#  (resize_path/'train_300_224_normal').mkdir(parents= True, exist_ok= True)\n",
    "  # read and resize each image\n",
    "  resized_images = []\n",
    "\n",
    "  for file in normal_files:\n",
    "    image = cv2.imread(str(file))\n",
    "    f_name = file.parts[-1]\n",
    "    new_path = resize_path/f_name\n",
    "    if image is not None:\n",
    "      resized_image = cv2.resize(image, (desired_width, desired_height))\n",
    "      resized_images.append(resized_image)\n",
    "      cv2.imwrite(str(resize_path/'train_300_224_normal'/f_name), cv2.cvtColor(resized_image, cv2.COLOR_RGB2BGR))\n",
    "    else:\n",
    "      print(f\"Unable to read image: {file}\")"
   ]
  },
  {
   "cell_type": "code",
   "execution_count": null,
   "metadata": {
    "id": "3lvs-YAtv5sj"
   },
   "outputs": [],
   "source": [
    "# Define the paths to the pneumonia and normal image directories\n",
    "normal_path = PATH/'NORMAL_downsampled'\n",
    "\n",
    "# Specify the resize path where the resized images will be saved\n",
    "resize_path = PATH/'train_300_224_n'"
   ]
  },
  {
   "cell_type": "code",
   "execution_count": null,
   "metadata": {
    "id": "zc4VGsNkv5sj"
   },
   "outputs": [],
   "source": [
    "#resized_all_images(resize_path, normal_path)"
   ]
  },
  {
   "cell_type": "code",
   "execution_count": null,
   "metadata": {
    "id": "Pz_wUUY_v5sj",
    "outputId": "40831fb7-f54e-453a-e28d-d2e24ab5d178"
   },
   "outputs": [
    {
     "data": {
      "text/plain": [
       "<matplotlib.image.AxesImage at 0x7fcdcfdf4dd8>"
      ]
     },
     "execution_count": 80,
     "metadata": {},
     "output_type": "execute_result"
    },
    {
     "data": {
      "image/png": "[encoded data removed]",
      "text/plain": [
       "<Figure size 432x288 with 1 Axes>"
      ]
     },
     "metadata": {},
     "output_type": "display_data"
    }
   ],
   "source": [
    "file_path = './chest_xray/train_300_224_p/train_300_224_pneu/person1848_bacteria_4719.jpeg'\n",
    "image = read_image(file_path)\n",
    "plt.imshow(image)"
   ]
  },
  {
   "cell_type": "code",
   "execution_count": null,
   "metadata": {
    "id": "bOe6tu_6lg7r"
   },
   "outputs": [],
   "source": [
    "desired_width = 300\n",
    "desired_height = 224\n",
    "\n",
    "def resized_all_test_images(resize_path, pneumonia_path, normal_path):\n",
    "  pneumonia_files = list(pneumonia_path.iterdir())\n",
    "  normal_files = list(normal_path.iterdir())\n",
    "  (resize_path/'valid_300_224').mkdir(parents= True, exist_ok= True)\n",
    "  # read and resize each image\n",
    "  resized_images = []\n",
    "  for file in pneumonia_files:\n",
    "    image = cv2.imread(str(file))\n",
    "    f_name = file.parts[-1]\n",
    "    new_path = resize_path/f_name\n",
    "    if image is not None:\n",
    "      resized_image = cv2.resize(image, (desired_width, desired_height))\n",
    "      resized_images.append(resized_image)\n",
    "      cv2.imwrite(str(resize_path/'valid_300_224'/f_name), cv2.cvtColor(resized_image, cv2.COLOR_RGB2BGR))\n",
    "    else:\n",
    "      print(f\"Unable to read image: {file}\")\n",
    "\n",
    "    for file in normal_files:\n",
    "      image = cv2.imread(str(file))\n",
    "      f_name = file.parts[-1]\n",
    "      new_path = resize_path/f_name\n",
    "      if image is not None:\n",
    "        resized_image = cv2.resize(image, (desired_width, desired_height))\n",
    "        resized_images.append(resized_image)\n",
    "        cv2.imwrite(str(resize_path/'valid_300_224'/f_name), cv2.cvtColor(resized_image, cv2.COLOR_RGB2BGR))\n",
    "      else:\n",
    "        print(f\"Unable to read image: {file}\")"
   ]
  },
  {
   "cell_type": "code",
   "execution_count": null,
   "metadata": {
    "id": "IkTeIDatTLuC",
    "outputId": "f488faf9-207f-4a82-ccc2-1448b31c2bfb"
   },
   "outputs": [
    {
     "name": "stdout",
     "output_type": "stream",
     "text": [
      "\u001b[34mPNEUMONIA_downsampled\u001b[m\u001b[m \u001b[34mnormal_downsampled\u001b[m\u001b[m    \u001b[34mtrain_300_224_n\u001b[m\u001b[m\n",
      "\u001b[34m__MACOSX\u001b[m\u001b[m              \u001b[34mtest\u001b[m\u001b[m                  \u001b[34mtrain_300_224_p\u001b[m\u001b[m\n",
      "\u001b[34mchest_xray\u001b[m\u001b[m            \u001b[34mtrain\u001b[m\u001b[m                 \u001b[34mval\u001b[m\u001b[m\n"
     ]
    }
   ],
   "source": [
    "!ls ./chest_xray/"
   ]
  },
  {
   "cell_type": "code",
   "execution_count": null,
   "metadata": {
    "id": "Q8ePzY5Sv5sk"
   },
   "outputs": [],
   "source": [
    "# Define the paths to the pneumonia and normal image directories\n",
    "pneumonia_path = PATH/'test/PNEUMONIA'\n",
    "normal_path = PATH/'test/NORMAL'\n",
    "\n",
    "# Specify the resize path where the resized images will be saved\n",
    "resize_path = PATH/'valid_300_224'\n",
    "\n",
    "#resized_all_test_images(resize_path, pneumonia_path, normal_path)"
   ]
  },
  {
   "cell_type": "code",
   "execution_count": 13,
   "metadata": {
    "id": "ZVKJ4FRWUGpC"
   },
   "outputs": [],
   "source": [
    "def rotate_cv(im, deg, mode = cv2.BORDER_REFLECT, interpolation= cv2.INTER_AREA):\n",
    "  '''Rotates an image by deg degrees'''\n",
    "  r, c, *_ = im.shape #row, column\n",
    "  M = cv2.getRotationMatrix2D((c/2, r/2), deg, 1)\n",
    "  return cv2.warpAffine(im, M, (c, r), borderMode= mode,\n",
    "                        flags = cv2.WARP_FILL_OUTLIERS+ interpolation)"
   ]
  },
  {
   "cell_type": "code",
   "execution_count": 15,
   "metadata": {
    "id": "pP4fyO70v5sk"
   },
   "outputs": [],
   "source": [
    "def adjust_brightness(image, alpha = 1.0, beta = 0.0):\n",
    "    adjusted_image = cv2.convertScaleAbs(image, alpha = alpha, beta = beta)\n",
    "    return adjusted_image"
   ]
  },
  {
   "cell_type": "markdown",
   "metadata": {
    "id": "1M6cQ5jUTAs2"
   },
   "source": [
    "# Dataset"
   ]
  },
  {
   "cell_type": "code",
   "execution_count": 14,
   "metadata": {
    "id": "7WEWfAQ4S9Dx"
   },
   "outputs": [],
   "source": [
    "def normalize(im):\n",
    "  '''Normalizes images with Imagenet Stats.'''\n",
    "  imagenet_stats = np.array([[0.485, 0.456, 0.406], [0.229, 0.224, 0.225]])\n",
    "  return (im - imagenet_stats[0] / imagenet_stats[1])"
   ]
  },
  {
   "cell_type": "code",
   "execution_count": 16,
   "metadata": {
    "id": "Z4wa0l8ZcJ2T"
   },
   "outputs": [],
   "source": [
    "directory_path = Path('/content/drive/MyDrive/valid_300_224')"
   ]
  },
  {
   "cell_type": "code",
   "execution_count": 17,
   "metadata": {
    "id": "LiUwm7GHc1Uw"
   },
   "outputs": [],
   "source": [
    "labels_1 = [1 for image in directory_path.iterdir() if 'person' in str(image)]\n",
    "labels_0 = [0 for image in directory_path.iterdir() if 'IM' in str(image)]\n",
    "labels = np.concatenate([labels_1, labels_0], axis =0)"
   ]
  },
  {
   "cell_type": "markdown",
   "metadata": {
    "id": "Mvi1G1AOb_KH"
   },
   "source": []
  },
  {
   "cell_type": "code",
   "execution_count": 18,
   "metadata": {
    "colab": {
     "base_uri": "https://localhost:8080/"
    },
    "id": "o2Puy4dPQxhS",
    "outputId": "62e78b39-b02f-431d-d0e3-b7cd1c731e1d"
   },
   "outputs": [
    {
     "data": {
      "text/plain": [
       "array([1, 1, 1, 1, 1, 1, 1, 1, 1, 1, 1, 1, 1, 1, 1, 1, 1, 1, 1, 1, 1, 1,\n",
       "       1, 1, 1, 1, 1, 1, 1, 1, 1, 1, 1, 1, 1, 1, 1, 1, 1, 1, 1, 1, 1, 1,\n",
       "       1, 1, 1, 1, 1, 1, 1, 1, 1, 1, 1, 1, 1, 1, 1, 1, 1, 1, 1, 1, 1, 1,\n",
       "       1, 1, 1, 1, 1, 1, 1, 1, 1, 1, 1, 1, 1, 1, 1, 1, 1, 1, 1, 1, 1, 1,\n",
       "       1, 1, 1, 1, 1, 1, 1, 1, 1, 1, 1, 1, 1, 1, 1, 1, 1, 1, 1, 1, 1, 1,\n",
       "       1, 1, 1, 1, 1, 1, 1, 1, 1, 1, 1, 1, 1, 1, 1, 1, 1, 1, 1, 1, 1, 1,\n",
       "       1, 1, 1, 1, 1, 1, 1, 1, 1, 1, 1, 1, 1, 1, 1, 1, 1, 1, 1, 1, 1, 1,\n",
       "       1, 1, 1, 1, 1, 1, 1, 1, 1, 1, 1, 1, 1, 1, 1, 1, 1, 1, 1, 1, 1, 1,\n",
       "       1, 1, 1, 1, 1, 1, 1, 1, 1, 1, 1, 1, 1, 1, 1, 1, 1, 1, 1, 1, 1, 1,\n",
       "       1, 1, 1, 1, 1, 1, 1, 1, 1, 1, 1, 1, 1, 1, 1, 1, 1, 1, 1, 1, 1, 1,\n",
       "       1, 1, 1, 1, 1, 1, 1, 1, 1, 1, 1, 1, 1, 1, 1, 1, 1, 1, 1, 1, 1, 1,\n",
       "       1, 1, 1, 1, 1, 1, 1, 1, 1, 1, 1, 1, 1, 1, 1, 1, 1, 1, 1, 1, 1, 1,\n",
       "       1, 1, 1, 1, 1, 1, 1, 1, 1, 1, 1, 1, 1, 1, 1, 1, 1, 1, 1, 1, 1, 1,\n",
       "       1, 1, 1, 1, 1, 1, 1, 1, 1, 1, 1, 1, 1, 1, 1, 1, 1, 1, 1, 1, 1, 1,\n",
       "       1, 1, 1, 1, 1, 1, 1, 1, 1, 1, 1, 1, 1, 1, 1, 1, 1, 1, 1, 1, 1, 1,\n",
       "       1, 1, 1, 1, 1, 1, 1, 1, 1, 1, 1, 1, 1, 1, 1, 1, 1, 1, 1, 1, 1, 1,\n",
       "       1, 1, 1, 1, 1, 1, 1, 1, 1, 1, 1, 1, 1, 1, 1, 1, 1, 1, 1, 1, 1, 1,\n",
       "       1, 1, 1, 1, 1, 1, 1, 1, 1, 1, 1, 1, 1, 1, 1, 1, 0, 0, 0, 0, 0, 0,\n",
       "       0, 0, 0, 0, 0, 0, 0, 0, 0, 0, 0, 0, 0, 0, 0, 0, 0, 0, 0, 0, 0, 0,\n",
       "       0, 0, 0, 0, 0, 0, 0, 0, 0, 0, 0, 0, 0, 0, 0, 0, 0, 0, 0, 0, 0, 0,\n",
       "       0, 0, 0, 0, 0, 0, 0, 0, 0, 0, 0, 0, 0, 0, 0, 0, 0, 0, 0, 0, 0, 0,\n",
       "       0, 0, 0, 0, 0, 0, 0, 0, 0, 0, 0, 0, 0, 0, 0, 0, 0, 0, 0, 0, 0, 0,\n",
       "       0, 0, 0, 0, 0, 0, 0, 0, 0, 0, 0, 0, 0, 0, 0, 0, 0, 0, 0, 0, 0, 0,\n",
       "       0, 0, 0, 0, 0, 0, 0, 0, 0, 0, 0, 0, 0, 0, 0, 0, 0, 0, 0, 0, 0, 0,\n",
       "       0, 0, 0, 0, 0, 0, 0, 0, 0, 0, 0, 0, 0, 0, 0, 0, 0, 0, 0, 0, 0, 0,\n",
       "       0, 0, 0, 0, 0, 0, 0, 0, 0, 0, 0, 0, 0, 0, 0, 0, 0, 0, 0, 0, 0, 0,\n",
       "       0, 0, 0, 0, 0, 0, 0, 0, 0, 0, 0, 0, 0, 0, 0, 0, 0, 0, 0, 0, 0, 0,\n",
       "       0, 0, 0, 0, 0, 0, 0, 0, 0, 0, 0, 0, 0, 0, 0, 0, 0, 0, 0, 0, 0, 0,\n",
       "       0, 0, 0, 0, 0, 0, 0, 0])"
      ]
     },
     "execution_count": 18,
     "metadata": {},
     "output_type": "execute_result"
    }
   ],
   "source": [
    "labels"
   ]
  },
  {
   "cell_type": "code",
   "execution_count": 19,
   "metadata": {
    "id": "Zxx078Oobh3i"
   },
   "outputs": [],
   "source": [
    "class PneumoniaDataset(Dataset):\n",
    "  def __init__(self, file_path, transform = False):\n",
    "    self.file_path = file_path\n",
    "    self.labels_1 = [1 for image in self.file_path.iterdir() if 'person' in str(image)]\n",
    "    self.labels_0 = [0 for image in self.file_path.iterdir() if 'IM' in str(image)]\n",
    "    self.labels = np.concatenate([self.labels_1, self.labels_0], axis = 0)\n",
    "    self.transform = transform\n",
    "\n",
    "  def __len__(self):\n",
    "    return len(self.labels)\n",
    "\n",
    "  def __getitem__(self, index):\n",
    "    y = self.labels[index]\n",
    "    #file_name = self.file_path.parts[-1]\n",
    "    file_name = list(self.file_path.iterdir())[index].name\n",
    "    path = self.file_path/file_name\n",
    "    x = read_image(path)\n",
    "    if self.transform:\n",
    "        rdeg = (np.random.random() -0.50)*20\n",
    "        x = rotate_cv(x, rdeg)\n",
    "        x = cv2.convertScaleAbs(x, alpha = 1.5, beta = 50)\n",
    "        if np.random.random() > 0.5:\n",
    "            x= np.fliplr(x).copy()\n",
    "    else:\n",
    "        x = x\n",
    "        x = normalize(x)\n",
    "    return np.rollaxis(x, 2, 0), y[None]"
   ]
  },
  {
   "cell_type": "code",
   "execution_count": 20,
   "metadata": {
    "id": "XrnRHu_2v5sl"
   },
   "outputs": [],
   "source": [
    "file_path = Path('/content/drive/MyDrive/')\n",
    "train_ds = PneumoniaDataset(file_path/'train_300_224', transform = True)\n",
    "valid_ds = PneumoniaDataset(file_path/'valid_300_224', transform = False)"
   ]
  },
  {
   "cell_type": "code",
   "execution_count": 21,
   "metadata": {
    "colab": {
     "base_uri": "https://localhost:8080/"
    },
    "id": "ya9KPD8Xv5sl",
    "outputId": "c401fc92-a9e5-4d13-9a83-4acb4733c87a"
   },
   "outputs": [
    {
     "data": {
      "text/plain": [
       "(2432, 624)"
      ]
     },
     "execution_count": 21,
     "metadata": {},
     "output_type": "execute_result"
    }
   ],
   "source": [
    "len(train_ds), len(valid_ds)"
   ]
  },
  {
   "cell_type": "code",
   "execution_count": 22,
   "metadata": {
    "colab": {
     "base_uri": "https://localhost:8080/"
    },
    "id": "G_sMhb-dv5sl",
    "outputId": "ceb10efa-5df8-4ac2-bf92-e361234c41d4"
   },
   "outputs": [
    {
     "data": {
      "text/plain": [
       "((3, 224, 300), array([1]))"
      ]
     },
     "execution_count": 22,
     "metadata": {},
     "output_type": "execute_result"
    }
   ],
   "source": [
    "x, y = train_ds[0]\n",
    "x.shape, y"
   ]
  },
  {
   "cell_type": "code",
   "execution_count": 23,
   "metadata": {
    "id": "wnleDmO5v5sl"
   },
   "outputs": [],
   "source": [
    "train_loader = DataLoader(train_ds, batch_size = 64, shuffle = True, num_workers = 2)\n",
    "valid_loader = DataLoader(valid_ds, batch_size = 64, num_workers = 2)"
   ]
  },
  {
   "cell_type": "code",
   "execution_count": 24,
   "metadata": {
    "colab": {
     "base_uri": "https://localhost:8080/"
    },
    "id": "WHg-Ttm1v5sl",
    "outputId": "08df3f1f-3911-42d8-d212-81a6e2f73d24"
   },
   "outputs": [
    {
     "data": {
      "text/plain": [
       "2432"
      ]
     },
     "execution_count": 24,
     "metadata": {},
     "output_type": "execute_result"
    }
   ],
   "source": [
    "len(train_ds)"
   ]
  },
  {
   "cell_type": "code",
   "execution_count": 25,
   "metadata": {
    "id": "nLuHzDuMv5sl"
   },
   "outputs": [],
   "source": [
    "batch_size = 250\n",
    "train_dl = DataLoader(train_ds, batch_size = batch_size, shuffle = True)\n",
    "valid_dl = DataLoader(valid_ds, batch_size = batch_size)"
   ]
  },
  {
   "cell_type": "code",
   "execution_count": 26,
   "metadata": {
    "colab": {
     "base_uri": "https://localhost:8080/"
    },
    "id": "HFrZfGipv5sl",
    "outputId": "f2cb316b-dc3e-4a63-ba84-2a453ff4e075"
   },
   "outputs": [
    {
     "data": {
      "text/plain": [
       "(3, 224, 300)"
      ]
     },
     "execution_count": 26,
     "metadata": {},
     "output_type": "execute_result"
    }
   ],
   "source": [
    "x, y = train_ds[0]\n",
    "x.shape"
   ]
  },
  {
   "cell_type": "code",
   "execution_count": 38,
   "metadata": {
    "colab": {
     "base_uri": "https://localhost:8080/"
    },
    "id": "3g5WL4G5v5sl",
    "outputId": "8cb70d94-6179-472d-ec80-e8a7043f24d1"
   },
   "outputs": [
    {
     "data": {
      "text/plain": [
       "(224, 300, 3)"
      ]
     },
     "execution_count": 38,
     "metadata": {},
     "output_type": "execute_result"
    }
   ],
   "source": [
    "np.rollaxis(x, 0, 3).shape"
   ]
  },
  {
   "cell_type": "code",
   "execution_count": 27,
   "metadata": {
    "id": "SsYQBG9Wv5sl"
   },
   "outputs": [],
   "source": [
    "#transforming back to the original image\n",
    "imagenet_stats = np.array([[0.485, 0.456, 0.406], [0.229, 0.224, 0.225]])\n",
    "im = np.rollaxis(x, 0, 3)\n",
    "im = im* imagenet_stats[1] + imagenet_stats[0]\n",
    "im = im.astype(int)"
   ]
  },
  {
   "cell_type": "raw",
   "metadata": {
    "id": "_6T7j4OPv5sm"
   },
   "source": [
    "x, y = train_ds[0]\n",
    "plt.imshow(im, cmap='gray')"
   ]
  },
  {
   "cell_type": "markdown",
   "metadata": {
    "id": "49GQFyw4En8d"
   },
   "source": [
    "#Model"
   ]
  },
  {
   "cell_type": "code",
   "execution_count": 28,
   "metadata": {
    "colab": {
     "base_uri": "https://localhost:8080/"
    },
    "id": "LZZXnPvGv5sm",
    "outputId": "27381e60-20da-4c98-e4fe-f6627ba0ea2b"
   },
   "outputs": [
    {
     "name": "stderr",
     "output_type": "stream",
     "text": [
      "Downloading: \"https://download.pytorch.org/models/resnet34-b627a593.pth\" to /root/.cache/torch/hub/checkpoints/resnet34-b627a593.pth\n",
      "100%|██████████| 83.3M/83.3M [00:00<00:00, 207MB/s]\n"
     ]
    }
   ],
   "source": [
    "resnet = models.resnet34(weights= 'DEFAULT').cuda()"
   ]
  },
  {
   "cell_type": "code",
   "execution_count": 29,
   "metadata": {
    "colab": {
     "base_uri": "https://localhost:8080/"
    },
    "id": "uyTILtETv5sm",
    "outputId": "63c2a582-483d-4e0b-9548-1b8c066ccc19"
   },
   "outputs": [
    {
     "name": "stdout",
     "output_type": "stream",
     "text": [
      "10\n"
     ]
    },
    {
     "data": {
      "text/plain": [
       "[AdaptiveAvgPool2d(output_size=(1, 1)),\n",
       " Linear(in_features=512, out_features=1000, bias=True)]"
      ]
     },
     "execution_count": 29,
     "metadata": {},
     "output_type": "execute_result"
    }
   ],
   "source": [
    "layers = list(resnet.children())\n",
    "print(len(layers))\n",
    "layers[-2:]"
   ]
  },
  {
   "cell_type": "code",
   "execution_count": 30,
   "metadata": {
    "id": "D1sKCyAMv5sn"
   },
   "outputs": [],
   "source": [
    "class Net(nn.Module):\n",
    "    def __init__(self):\n",
    "        super(Net, self).__init__()\n",
    "        resnet = models.resnet34(weights= 'IMAGENET1K_V1')\n",
    "        layers = list(resnet.children())[:8]\n",
    "        self.features1 = nn.Sequential(*layers[:6])\n",
    "        self.features2 = nn.Sequential(*layers[6:])\n",
    "        self.classifier = nn.Sequential(nn.BatchNorm1d(512), nn.Linear(512,1), nn.Dropout(0.5))\n",
    "\n",
    "    def forward(self, x):\n",
    "        x= self.features1(x)\n",
    "        x = self.features2(x)\n",
    "        x = F.relu(x)\n",
    "        x = nn.AdaptiveAvgPool2d((1, 1))(x)\n",
    "        x = x.view(x.shape[0], -1)\n",
    "        x = self.classifier(x)\n",
    "        return x"
   ]
  },
  {
   "cell_type": "code",
   "execution_count": 40,
   "metadata": {
    "id": "QoBwTBdAv5sn"
   },
   "outputs": [],
   "source": [
    "device = torch.device('cuda' if torch.cuda.is_available() else 'cpu')\n",
    "model = Net().cuda()"
   ]
  },
  {
   "cell_type": "code",
   "execution_count": 28,
   "metadata": {
    "id": "ll8zP8uXv5sn"
   },
   "outputs": [],
   "source": [
    "x, y = next(iter(train_dl))"
   ]
  },
  {
   "cell_type": "code",
   "execution_count": 30,
   "metadata": {
    "colab": {
     "base_uri": "https://localhost:8080/"
    },
    "id": "ZXmTnAkRv5sn",
    "outputId": "6aae745e-a304-4227-905f-1aca814d3f40"
   },
   "outputs": [
    {
     "data": {
      "text/plain": [
       "torch.Size([1000, 3, 224, 300])"
      ]
     },
     "execution_count": 30,
     "metadata": {},
     "output_type": "execute_result"
    }
   ],
   "source": [
    "x = x.cuda()\n",
    "y = y.cuda()\n",
    "x.shape"
   ]
  },
  {
   "cell_type": "code",
   "execution_count": 31,
   "metadata": {
    "id": "FHZNLttC82eu"
   },
   "outputs": [],
   "source": [
    "x = x.to(device).float()\n",
    "y = y.to(device).float()"
   ]
  },
  {
   "cell_type": "code",
   "execution_count": 32,
   "metadata": {
    "colab": {
     "base_uri": "https://localhost:8080/"
    },
    "id": "69ITw1Zev5sn",
    "outputId": "ec6548e0-4848-47cb-bff3-009f8d315dcb"
   },
   "outputs": [
    {
     "data": {
      "text/plain": [
       "torch.Size([1000, 128, 28, 38])"
      ]
     },
     "execution_count": 32,
     "metadata": {},
     "output_type": "execute_result"
    }
   ],
   "source": [
    "x_features = model.features1(x)\n",
    "x_features.shape"
   ]
  },
  {
   "cell_type": "code",
   "execution_count": 41,
   "metadata": {
    "id": "UJoJcgchv5sn"
   },
   "outputs": [],
   "source": [
    "x_features2 = model.features2(x_features)\n",
    "x_features2.shape"
   ]
  },
  {
   "cell_type": "code",
   "execution_count": null,
   "metadata": {
    "id": "8jA8qDCav5sn"
   },
   "outputs": [],
   "source": [
    "x_features2 = F.relu(x_features2)"
   ]
  },
  {
   "cell_type": "code",
   "execution_count": null,
   "metadata": {
    "id": "VDwGoeLWv5sn"
   },
   "outputs": [],
   "source": [
    "x_features_ave = nn.AdaptiveAvgPool2d((1, 1))(x_features2)\n",
    "x_features_ave.shape"
   ]
  },
  {
   "cell_type": "code",
   "execution_count": null,
   "metadata": {
    "id": "yuDYS5-qv5sn"
   },
   "outputs": [],
   "source": [
    "x_features_flatten = x_features_ave.view(x_features_ave.shape[0], -1)\n",
    "x_features_flatten.shape"
   ]
  },
  {
   "cell_type": "code",
   "execution_count": null,
   "metadata": {
    "id": "cLc60ht9v5so"
   },
   "outputs": [],
   "source": [
    "y_hat = model(x).cuda()\n",
    "y_hat.shape"
   ]
  },
  {
   "cell_type": "code",
   "execution_count": null,
   "metadata": {
    "id": "c_HopL_Nv5so"
   },
   "outputs": [],
   "source": [
    "F.binary_cross_entropy_with_logits(y_hat, y)"
   ]
  },
  {
   "cell_type": "code",
   "execution_count": null,
   "metadata": {
    "id": "kXfUghSnv5so"
   },
   "outputs": [],
   "source": [
    "y.shape"
   ]
  },
  {
   "cell_type": "code",
   "execution_count": 31,
   "metadata": {
    "id": "Z73o6G5sv5so"
   },
   "outputs": [],
   "source": [
    "def cosine_segment(start_lr, end_lr, iterations):\n",
    "    i = np.arange(iterations)\n",
    "    c_i = 1+ np.cos(i * np.pi/iterations)\n",
    "    return end_lr + (start_lr - end_lr)/2 * c_i\n",
    "\n",
    "def get_cosine_triangular_lr(max_lr, iterations):\n",
    "    min_start, min_end = max_lr / 25, max_lr / (25*1e4)\n",
    "    iter1 = int(0.3 * iterations)\n",
    "    iter2 = iterations - iter1\n",
    "    segs = [cosine_segment(min_start, max_lr,iter1), cosine_segment(max_lr, min_end, iter2)]\n",
    "    return np.concatenate(segs)"
   ]
  },
  {
   "cell_type": "code",
   "execution_count": 32,
   "metadata": {
    "colab": {
     "base_uri": "https://localhost:8080/",
     "height": 430
    },
    "id": "lmYUlLd3v5so",
    "outputId": "dc33252c-e373-4367-9f0f-7fb60c90cdb0"
   },
   "outputs": [
    {
     "data": {
      "image/png": "[encoded data removed]",
      "text/plain": [
       "<Figure size 640x480 with 1 Axes>"
      ]
     },
     "metadata": {},
     "output_type": "display_data"
    }
   ],
   "source": [
    "N = 2000\n",
    "lr = get_cosine_triangular_lr(0.001, N)\n",
    "plt.plot(list(range(N)), lr)\n",
    "plt.show()"
   ]
  },
  {
   "cell_type": "code",
   "execution_count": 33,
   "metadata": {
    "id": "NAygMbWwv5so"
   },
   "outputs": [],
   "source": [
    "def create_optimizer(model, lr0):\n",
    "    params = [{'params': model.features1.parameters(), 'lr': lr0/9},\n",
    "              {'params': model.features2.parameters(), 'lr': lr0/3},\n",
    "              {'params': model.classifier.parameters(), 'lr': lr0}]\n",
    "    return optim.Adam(params, weight_decay = 1e-5)\n",
    "\n",
    "def update_optimizer(optimizer, group_lrs):\n",
    "    for i, param_group in enumerate(optimizer.param_groups):\n",
    "            param_group['lr'] = group_lrs[i]\n"
   ]
  },
  {
   "cell_type": "code",
   "execution_count": 34,
   "metadata": {
    "id": "lhrKUgn6v5so"
   },
   "outputs": [],
   "source": [
    "def save_model(m, p): torch.save(m.state_dict(), p)"
   ]
  },
  {
   "cell_type": "code",
   "execution_count": 35,
   "metadata": {
    "id": "QxNkkOrgv5so"
   },
   "outputs": [],
   "source": [
    "def train_one_epoch(model, optimizer, train_dl, lrs, idx):\n",
    "    model.train()\n",
    "    total = 0\n",
    "    sum_loss = 0\n",
    "    for x, y in train_dl:\n",
    "        lr = lrs[idx]\n",
    "        update_optimizer(optimizer, [lr/9, lr/3, lr])\n",
    "        batch = y.shape[0]\n",
    "        x = x.cuda().float()\n",
    "        y = y.cuda().float()\n",
    "        out = model(x)\n",
    "        loss = F.binary_cross_entropy_with_logits(out, y)\n",
    "        optimizer.zero_grad()\n",
    "        loss.backward()\n",
    "        optimizer.step()\n",
    "        idx +=1\n",
    "        total += batch\n",
    "        sum_loss += batch *(loss.item())\n",
    "    return sum_loss/total, idx"
   ]
  },
  {
   "cell_type": "code",
   "execution_count": 36,
   "metadata": {
    "id": "paP5qmt2v5so"
   },
   "outputs": [],
   "source": [
    "def train_triangular_policy(model, train_dl, valid_dl, max_lr = 0.04, epochs= 5):\n",
    "    idx = 0\n",
    "    iterations = epochs * len(train_dl)\n",
    "    lrs = get_cosine_triangular_lr(max_lr, iterations)\n",
    "    optimizer = create_optimizer(model, lrs[0])\n",
    "    prev_val_loss = 10000.0\n",
    "    for i in range(epochs):\n",
    "        train_loss, idx = train_one_epoch(model, optimizer, train_dl, lrs, idx)\n",
    "        val_loss, val_acc = val_metrics(model, valid_dl, device)\n",
    "        print('train_loss %.3f val_loss %.3f val_acc %.3f' % (train_loss, val_loss, val_acc))\n",
    "        if val_loss < prev_val_loss:\n",
    "            prev_val_loss = val_loss\n",
    "            path = '{0}/models/model_resnet34_{1:.0f}.pth'.format(PATH, 100* val_acc)\n",
    "            save_model(model, path)\n",
    "            print(path)"
   ]
  },
  {
   "cell_type": "code",
   "execution_count": 68,
   "metadata": {
    "id": "-9p7lNOkv5sp"
   },
   "outputs": [],
   "source": [
    "def val_metrics(model, valid_dl, device):\n",
    "    model.eval()\n",
    "    total = 0\n",
    "    sum_loss = 0\n",
    "    correct = 0\n",
    "\n",
    "    with torch.no_grad():\n",
    "        for x, y in valid_dl:\n",
    "            batch = y.shape[0]\n",
    "            x = x.to(device).float()\n",
    "            y = y.to(device).float()\n",
    "            out = model(x)\n",
    "            pred = (out> 0.0).float()\n",
    "            correct += pred.eq(y.float()).sum().item()\n",
    "            y = y.float()\n",
    "            loss = F.binary_cross_entropy_with_logits(out, y)\n",
    "            sum_loss += batch *(loss.item())\n",
    "            total += batch\n",
    "\n",
    "        return sum_loss/total, correct/total"
   ]
  },
  {
   "cell_type": "code",
   "execution_count": 67,
   "metadata": {
    "id": "zcxGQGLdMBpm"
   },
   "outputs": [],
   "source": [
    "#free up memory\n",
    "torch.cuda.empty_cache()\n"
   ]
  },
  {
   "cell_type": "code",
   "execution_count": 75,
   "metadata": {
    "colab": {
     "base_uri": "https://localhost:8080/"
    },
    "id": "o1EzX6AEv5sp",
    "outputId": "44bea1dc-3820-4a08-c769-eeb7371f418f",
    "scrolled": true
   },
   "outputs": [
    {
     "data": {
      "text/plain": [
       "(1.1153090660675213, 0.5064102564102564)"
      ]
     },
     "execution_count": 75,
     "metadata": {},
     "output_type": "execute_result"
    }
   ],
   "source": [
    "val_metrics(model, valid_dl, device)"
   ]
  },
  {
   "cell_type": "code",
   "execution_count": 70,
   "metadata": {
    "id": "lCmSBwKV_ui9"
   },
   "outputs": [],
   "source": [
    "PATH = Path('/content/drive/MyDrive/')"
   ]
  },
  {
   "cell_type": "code",
   "execution_count": 72,
   "metadata": {
    "id": "WomPQ5Abv5sp"
   },
   "outputs": [],
   "source": [
    "(PATH/'models').mkdir(parents = True, exist_ok = True)"
   ]
  },
  {
   "cell_type": "code",
   "execution_count": 73,
   "metadata": {
    "colab": {
     "base_uri": "https://localhost:8080/"
    },
    "id": "NGrliyo2v5sp",
    "outputId": "7646d9b9-c60d-4c25-ed13-2715b5a171e8"
   },
   "outputs": [
    {
     "name": "stdout",
     "output_type": "stream",
     "text": [
      "train_loss 1.009 val_loss 1019.673 val_acc 0.375\n",
      "/content/drive/MyDrive/models/model_resnet34_38.pth\n",
      "train_loss 0.628 val_loss 9.236 val_acc 0.623\n",
      "/content/drive/MyDrive/models/model_resnet34_62.pth\n"
     ]
    }
   ],
   "source": [
    "model = Net().cuda()\n",
    "train_triangular_policy(model, train_dl, valid_dl, max_lr = 0.01, epochs = 2)"
   ]
  },
  {
   "cell_type": "markdown",
   "metadata": {
    "id": "1dC6mbVZW0Pw"
   },
   "source": [
    "# Model Evaluation\n",
    "\n",
    "High Recall (0.963): The model is very effective at identifying actual positives, which is crucial in classifying pneumonia where missing a positive instance (false negative) is costly.\n",
    "\n",
    "Model Weaknesses:\n",
    "\n",
    "Moderate Precision (0.629): The model has a moderate rate of false positives, meaning it sometimes incorrectly predicts negative instances as positive.\n",
    "Moderate Accuracy (0.623): Overall, the model correctly classifies a little over 62% of instances, indicating that there is significant room for improvement.\n",
    "High Loss: The high validation loss (0.97) suggests that the model's predictions are not very close to the actual values, indicating potential issues in model fitting or data representation."
   ]
  },
  {
   "cell_type": "code",
   "execution_count": 62,
   "metadata": {
    "id": "bhDSUdYYv5sq"
   },
   "outputs": [],
   "source": [
    "from sklearn.metrics import precision_score, recall_score"
   ]
  },
  {
   "cell_type": "code",
   "execution_count": 65,
   "metadata": {
    "id": "m9-E3UAPYR2P"
   },
   "outputs": [],
   "source": [
    "def val_metrics(model, valid_dl, device):\n",
    "    model.eval()\n",
    "    total = 0\n",
    "    sum_loss = 0\n",
    "    correct = 0\n",
    "    all_preds = []\n",
    "    all_targets = []\n",
    "    with torch.no_grad():\n",
    "        for x, y in valid_dl:\n",
    "            batch = y.shape[0]\n",
    "            x = x.to(device).float()\n",
    "            y = y.to(device).float()\n",
    "            out = model(x)\n",
    "            pred = (out> 0.0).float()\n",
    "            correct += pred.eq(y.float()).sum().item()\n",
    "            y = y.float()\n",
    "            loss = F.binary_cross_entropy_with_logits(out, y)\n",
    "            sum_loss += batch *(loss.item())\n",
    "            total += batch\n",
    "\n",
    "            all_preds.extend(pred.cpu().numpy())\n",
    "            all_targets.extend(y.cpu().numpy())\n",
    "    avg_loss = sum_loss/total\n",
    "    accuracy = correct / total\n",
    "\n",
    "    precision = precision_score(all_targets, all_preds)\n",
    "    recall = recall_score(all_targets, all_preds)\n",
    "\n",
    "    return avg_loss, accuracy, precision, recall"
   ]
  },
  {
   "cell_type": "code",
   "execution_count": 66,
   "metadata": {
    "colab": {
     "base_uri": "https://localhost:8080/"
    },
    "id": "A7n75wJcZZ2b",
    "outputId": "14d7297e-a6ac-4e32-84e3-735613adac23"
   },
   "outputs": [
    {
     "name": "stdout",
     "output_type": "stream",
     "text": [
      "Validation Loss: 0.9789527836136329\n",
      "Validation Accuracy: 0.6233974358974359\n",
      "Validation Precision: 0.6298157453936348\n",
      "Validation Recall: 0.9641025641025641\n"
     ]
    }
   ],
   "source": [
    "device = torch.device('cuda' if torch.cuda.is_available() else 'cpu')\n",
    "model = model.to(device)\n",
    "\n",
    "val_loss, val_accuracy, val_precision, val_recall = val_metrics(model, valid_dl, device)\n",
    "print(f\"Validation Loss: {val_loss}\")\n",
    "print(f\"Validation Accuracy: {val_accuracy}\")\n",
    "print(f\"Validation Precision: {val_precision}\")\n",
    "print(f\"Validation Recall: {val_recall}\")"
   ]
  }
 ],
 "metadata": {
  "accelerator": "GPU",
  "colab": {
   "gpuType": "A100",
   "provenance": [],
   "toc_visible": true
  },
  "kernelspec": {
   "display_name": "Python 3",
   "language": "python",
   "name": "python3"
  },
  "language_info": {
   "codemirror_mode": {
    "name": "ipython",
    "version": 3
   },
   "file_extension": ".py",
   "mimetype": "text/x-python",
   "name": "python",
   "nbconvert_exporter": "python",
   "pygments_lexer": "ipython3",
   "version": "3.6.5"
  }
 },
 "nbformat": 4,
 "nbformat_minor": 1
}
