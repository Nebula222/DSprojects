{
 "cells": [
  {
   "cell_type": "code",
   "execution_count": 1,
   "metadata": {},
   "outputs": [],
   "source": [
    "# Get Dataset\n",
    "import pandas as pd\n",
    "import numpy as np\n",
    "import seaborn as sns\n",
    "import matplotlib.pyplot as plt\n",
    "import os\n",
    "from scipy import stats"
   ]
  },
  {
   "cell_type": "code",
   "execution_count": 2,
   "metadata": {},
   "outputs": [],
   "source": [
    "data = pd.read_csv('./DataExtract.csv')"
   ]
  },
  {
   "cell_type": "code",
   "execution_count": 3,
   "metadata": {},
   "outputs": [
    {
     "data": {
      "text/html": [
       "<div>\n",
       "<style scoped>\n",
       "    .dataframe tbody tr th:only-of-type {\n",
       "        vertical-align: middle;\n",
       "    }\n",
       "\n",
       "    .dataframe tbody tr th {\n",
       "        vertical-align: top;\n",
       "    }\n",
       "\n",
       "    .dataframe thead th {\n",
       "        text-align: right;\n",
       "    }\n",
       "</style>\n",
       "<table border=\"1\" class=\"dataframe\">\n",
       "  <thead>\n",
       "    <tr style=\"text-align: right;\">\n",
       "      <th></th>\n",
       "      <th>pdc</th>\n",
       "      <th>num_ip_post</th>\n",
       "      <th>total_los_post</th>\n",
       "      <th>num_op_post</th>\n",
       "      <th>num_er_post</th>\n",
       "      <th>num_ndc_post</th>\n",
       "      <th>num_gpi6_post</th>\n",
       "      <th>adjust_total_30d_post</th>\n",
       "      <th>generic_rate_post</th>\n",
       "      <th>post_ip_flag</th>\n",
       "      <th>...</th>\n",
       "      <th>brand_cost</th>\n",
       "      <th>ratio_G_total_cost</th>\n",
       "      <th>numofgen_post</th>\n",
       "      <th>numofbrand_post</th>\n",
       "      <th>generic_cost_post</th>\n",
       "      <th>brand_cost_post</th>\n",
       "      <th>ratio_G_total_cost_post</th>\n",
       "      <th>pdc_80_flag</th>\n",
       "      <th>drug_class</th>\n",
       "      <th>patient_key</th>\n",
       "    </tr>\n",
       "  </thead>\n",
       "  <tbody>\n",
       "    <tr>\n",
       "      <th>0</th>\n",
       "      <td>0.894444</td>\n",
       "      <td>0</td>\n",
       "      <td>0</td>\n",
       "      <td>8</td>\n",
       "      <td>0</td>\n",
       "      <td>17</td>\n",
       "      <td>3</td>\n",
       "      <td>6.966667</td>\n",
       "      <td>1.000000</td>\n",
       "      <td>0</td>\n",
       "      <td>...</td>\n",
       "      <td>239.699550</td>\n",
       "      <td>0.710850</td>\n",
       "      <td>17</td>\n",
       "      <td>0</td>\n",
       "      <td>4332.043215</td>\n",
       "      <td>0.000000</td>\n",
       "      <td>1.000000</td>\n",
       "      <td>1</td>\n",
       "      <td>*ANTICOAGULANTS*</td>\n",
       "      <td>121</td>\n",
       "    </tr>\n",
       "    <tr>\n",
       "      <th>1</th>\n",
       "      <td>0.333333</td>\n",
       "      <td>0</td>\n",
       "      <td>0</td>\n",
       "      <td>4</td>\n",
       "      <td>0</td>\n",
       "      <td>15</td>\n",
       "      <td>5</td>\n",
       "      <td>14.466667</td>\n",
       "      <td>0.101382</td>\n",
       "      <td>0</td>\n",
       "      <td>...</td>\n",
       "      <td>2984.927229</td>\n",
       "      <td>0.010155</td>\n",
       "      <td>2</td>\n",
       "      <td>13</td>\n",
       "      <td>196.359216</td>\n",
       "      <td>3001.501507</td>\n",
       "      <td>0.061403</td>\n",
       "      <td>0</td>\n",
       "      <td>*ANTIDIABETICS*</td>\n",
       "      <td>168</td>\n",
       "    </tr>\n",
       "    <tr>\n",
       "      <th>2</th>\n",
       "      <td>0.077778</td>\n",
       "      <td>0</td>\n",
       "      <td>0</td>\n",
       "      <td>32</td>\n",
       "      <td>0</td>\n",
       "      <td>11</td>\n",
       "      <td>7</td>\n",
       "      <td>3.833333</td>\n",
       "      <td>0.739130</td>\n",
       "      <td>0</td>\n",
       "      <td>...</td>\n",
       "      <td>0.000000</td>\n",
       "      <td>1.000000</td>\n",
       "      <td>10</td>\n",
       "      <td>1</td>\n",
       "      <td>203.603270</td>\n",
       "      <td>1154.818505</td>\n",
       "      <td>0.149882</td>\n",
       "      <td>0</td>\n",
       "      <td>*ANTICOAGULANTS*</td>\n",
       "      <td>267</td>\n",
       "    </tr>\n",
       "    <tr>\n",
       "      <th>3</th>\n",
       "      <td>0.333333</td>\n",
       "      <td>0</td>\n",
       "      <td>0</td>\n",
       "      <td>57</td>\n",
       "      <td>0</td>\n",
       "      <td>16</td>\n",
       "      <td>6</td>\n",
       "      <td>24.000000</td>\n",
       "      <td>0.958333</td>\n",
       "      <td>0</td>\n",
       "      <td>...</td>\n",
       "      <td>160.804799</td>\n",
       "      <td>0.291008</td>\n",
       "      <td>15</td>\n",
       "      <td>1</td>\n",
       "      <td>140.952640</td>\n",
       "      <td>265.057382</td>\n",
       "      <td>0.347165</td>\n",
       "      <td>0</td>\n",
       "      <td>*ANTICOAGULANTS*</td>\n",
       "      <td>468</td>\n",
       "    </tr>\n",
       "    <tr>\n",
       "      <th>4</th>\n",
       "      <td>0.866667</td>\n",
       "      <td>0</td>\n",
       "      <td>0</td>\n",
       "      <td>5</td>\n",
       "      <td>0</td>\n",
       "      <td>16</td>\n",
       "      <td>4</td>\n",
       "      <td>18.000000</td>\n",
       "      <td>0.888889</td>\n",
       "      <td>0</td>\n",
       "      <td>...</td>\n",
       "      <td>0.000000</td>\n",
       "      <td>1.000000</td>\n",
       "      <td>14</td>\n",
       "      <td>2</td>\n",
       "      <td>671.755173</td>\n",
       "      <td>735.661568</td>\n",
       "      <td>0.477297</td>\n",
       "      <td>1</td>\n",
       "      <td>*ANTIDIABETICS*</td>\n",
       "      <td>499</td>\n",
       "    </tr>\n",
       "  </tbody>\n",
       "</table>\n",
       "<p>5 rows × 95 columns</p>\n",
       "</div>"
      ],
      "text/plain": [
       "        pdc  num_ip_post  total_los_post  num_op_post  num_er_post  \\\n",
       "0  0.894444            0               0            8            0   \n",
       "1  0.333333            0               0            4            0   \n",
       "2  0.077778            0               0           32            0   \n",
       "3  0.333333            0               0           57            0   \n",
       "4  0.866667            0               0            5            0   \n",
       "\n",
       "   num_ndc_post  num_gpi6_post  adjust_total_30d_post  generic_rate_post  \\\n",
       "0            17              3               6.966667           1.000000   \n",
       "1            15              5              14.466667           0.101382   \n",
       "2            11              7               3.833333           0.739130   \n",
       "3            16              6              24.000000           0.958333   \n",
       "4            16              4              18.000000           0.888889   \n",
       "\n",
       "   post_ip_flag     ...        brand_cost  ratio_G_total_cost  numofgen_post  \\\n",
       "0             0     ...        239.699550            0.710850             17   \n",
       "1             0     ...       2984.927229            0.010155              2   \n",
       "2             0     ...          0.000000            1.000000             10   \n",
       "3             0     ...        160.804799            0.291008             15   \n",
       "4             0     ...          0.000000            1.000000             14   \n",
       "\n",
       "   numofbrand_post  generic_cost_post  brand_cost_post  \\\n",
       "0                0        4332.043215         0.000000   \n",
       "1               13         196.359216      3001.501507   \n",
       "2                1         203.603270      1154.818505   \n",
       "3                1         140.952640       265.057382   \n",
       "4                2         671.755173       735.661568   \n",
       "\n",
       "   ratio_G_total_cost_post  pdc_80_flag        drug_class  patient_key  \n",
       "0                 1.000000            1  *ANTICOAGULANTS*          121  \n",
       "1                 0.061403            0   *ANTIDIABETICS*          168  \n",
       "2                 0.149882            0  *ANTICOAGULANTS*          267  \n",
       "3                 0.347165            0  *ANTICOAGULANTS*          468  \n",
       "4                 0.477297            1   *ANTIDIABETICS*          499  \n",
       "\n",
       "[5 rows x 95 columns]"
      ]
     },
     "execution_count": 3,
     "metadata": {},
     "output_type": "execute_result"
    }
   ],
   "source": [
    "data.head()"
   ]
  },
  {
   "cell_type": "code",
   "execution_count": 4,
   "metadata": {},
   "outputs": [
    {
     "data": {
      "text/plain": [
       "3550"
      ]
     },
     "execution_count": 4,
     "metadata": {},
     "output_type": "execute_result"
    }
   ],
   "source": [
    "data.patient_key.nunique()"
   ]
  },
  {
   "cell_type": "code",
   "execution_count": 5,
   "metadata": {},
   "outputs": [
    {
     "data": {
      "text/plain": [
       "(3550, 95)"
      ]
     },
     "execution_count": 5,
     "metadata": {},
     "output_type": "execute_result"
    }
   ],
   "source": [
    "data.shape #no duplicate records"
   ]
  },
  {
   "cell_type": "code",
   "execution_count": 6,
   "metadata": {},
   "outputs": [],
   "source": [
    "data_pdc_pop = data.groupby(['drug_class', 'pdc_80_flag']).patient_key.nunique()"
   ]
  },
  {
   "cell_type": "code",
   "execution_count": 7,
   "metadata": {},
   "outputs": [
    {
     "data": {
      "text/plain": [
       "drug_class        pdc_80_flag\n",
       "*ANTICOAGULANTS*  0              1437\n",
       "                  1               391\n",
       "*ANTIDIABETICS*   0              1051\n",
       "                  1               671\n",
       "Name: patient_key, dtype: int64"
      ]
     },
     "execution_count": 7,
     "metadata": {},
     "output_type": "execute_result"
    }
   ],
   "source": [
    "data_pdc_pop"
   ]
  },
  {
   "cell_type": "code",
   "execution_count": 8,
   "metadata": {},
   "outputs": [],
   "source": [
    "data_pdc_region = data.groupby(['drug_class', 'pdc_80_flag', 'regionN']).patient_key.nunique().reset_index()"
   ]
  },
  {
   "cell_type": "code",
   "execution_count": 9,
   "metadata": {},
   "outputs": [
    {
     "data": {
      "text/plain": [
       "drug_class        pdc_80_flag  sexN\n",
       "*ANTICOAGULANTS*  0            1       661\n",
       "                               2       776\n",
       "                  1            1       228\n",
       "                               2       163\n",
       "*ANTIDIABETICS*   0            1       486\n",
       "                               2       565\n",
       "                  1            1       376\n",
       "                               2       295\n",
       "Name: patient_key, dtype: int64"
      ]
     },
     "execution_count": 9,
     "metadata": {},
     "output_type": "execute_result"
    }
   ],
   "source": [
    "data.groupby(['drug_class', 'pdc_80_flag', 'sexN']).patient_key.nunique()"
   ]
  },
  {
   "cell_type": "code",
   "execution_count": 10,
   "metadata": {},
   "outputs": [],
   "source": [
    "from scipy.stats import chi2_contingency\n",
    "\n",
    "# Filter data for ANTIDIABETICS drug class\n",
    "AD = data[data['drug_class'].str.contains('ANTIDIABETICS')]\n"
   ]
  },
  {
   "cell_type": "code",
   "execution_count": 11,
   "metadata": {},
   "outputs": [
    {
     "name": "stdout",
     "output_type": "stream",
     "text": [
      "P-Value for Chi-Square Test: 0.4887\n"
     ]
    }
   ],
   "source": [
    "\n",
    "AD_df = AD.groupby(['pdc_80_flag'])['patient_key'].nunique().reset_index()\n",
    "\n",
    "AD_df_encoded = pd.crosstab(AD['patient_key'], AD['pdc_80_flag'])\n",
    "\n",
    "chi2, p, _, _ = chi2_contingency(AD_df_encoded)\n",
    "\n",
    "print(f'P-Value for Chi-Square Test: {p:.4f}')\n"
   ]
  },
  {
   "cell_type": "code",
   "execution_count": 12,
   "metadata": {},
   "outputs": [
    {
     "data": {
      "text/html": [
       "<div>\n",
       "<style scoped>\n",
       "    .dataframe tbody tr th:only-of-type {\n",
       "        vertical-align: middle;\n",
       "    }\n",
       "\n",
       "    .dataframe tbody tr th {\n",
       "        vertical-align: top;\n",
       "    }\n",
       "\n",
       "    .dataframe thead th {\n",
       "        text-align: right;\n",
       "    }\n",
       "</style>\n",
       "<table border=\"1\" class=\"dataframe\">\n",
       "  <thead>\n",
       "    <tr style=\"text-align: right;\">\n",
       "      <th></th>\n",
       "      <th>category</th>\n",
       "      <th>pdc_80_flag_0</th>\n",
       "      <th>pdc_80_flag_1</th>\n",
       "      <th>p_values</th>\n",
       "    </tr>\n",
       "  </thead>\n",
       "  <tbody>\n",
       "    <tr>\n",
       "      <th>0</th>\n",
       "      <td>AD_pop</td>\n",
       "      <td>1051</td>\n",
       "      <td>671</td>\n",
       "      <td>0.4887</td>\n",
       "    </tr>\n",
       "  </tbody>\n",
       "</table>\n",
       "</div>"
      ],
      "text/plain": [
       "  category  pdc_80_flag_0  pdc_80_flag_1  p_values\n",
       "0   AD_pop           1051            671    0.4887"
      ]
     },
     "execution_count": 12,
     "metadata": {},
     "output_type": "execute_result"
    }
   ],
   "source": [
    "df = {\n",
    "    'category': 'AD_pop',\n",
    "    'pdc_80_flag_0': [1051],\n",
    "    'pdc_80_flag_1': [671],\n",
    "    'p_values': [0.4887]\n",
    "}\n",
    "result_df1 = pd.DataFrame(df)\n",
    "result_df1.columns = ['category','pdc_80_flag_0', 'pdc_80_flag_1', 'p_values']\n",
    "\n",
    "result_df1.head()"
   ]
  },
  {
   "cell_type": "code",
   "execution_count": 13,
   "metadata": {},
   "outputs": [],
   "source": [
    "ADdata_pdc_age = AD.groupby(['pdc_80_flag', 'age_grpN']).patient_key.nunique().reset_index()"
   ]
  },
  {
   "cell_type": "code",
   "execution_count": 14,
   "metadata": {},
   "outputs": [],
   "source": [
    "age = ADdata_pdc_age.pivot_table(index='age_grpN', columns=['pdc_80_flag'], values='patient_key', fill_value=0)"
   ]
  },
  {
   "cell_type": "code",
   "execution_count": 15,
   "metadata": {},
   "outputs": [],
   "source": [
    "age = pd.DataFrame(age).rename(columns = {'age_grpN' : 'category', 0: 'pdc_80_flag_0', 1:'pdc_80_flag_1'})"
   ]
  },
  {
   "cell_type": "code",
   "execution_count": 16,
   "metadata": {},
   "outputs": [],
   "source": [
    "age_df = {\n",
    "    'category': ['0', '1','age_19-44', 'age_45 - 64', 'age_65+']\n",
    "}\n",
    "age_df = pd.DataFrame(age_df)\n",
    "age_df['pdc_80_flag_0'] = age['pdc_80_flag_0']\n",
    "age_df['pdc_80_flag_1'] = age['pdc_80_flag_1']"
   ]
  },
  {
   "cell_type": "code",
   "execution_count": 17,
   "metadata": {},
   "outputs": [],
   "source": [
    "age_df = age_df.iloc[2:,:]"
   ]
  },
  {
   "cell_type": "code",
   "execution_count": 18,
   "metadata": {},
   "outputs": [],
   "source": [
    "# gender population dataframe = male_df\n",
    "male_pop = AD[AD['sexN']== 1].groupby(['pdc_80_flag'])['patient_key'].nunique().reset_index()"
   ]
  },
  {
   "cell_type": "code",
   "execution_count": 19,
   "metadata": {},
   "outputs": [],
   "source": [
    "df = {\n",
    "    'category': 'male_pop',\n",
    "    'pdc_80_flag_0': [486],\n",
    "    'pdc_80_flag_1': [376],\n",
    "}\n",
    "male_df = pd.DataFrame(df)"
   ]
  },
  {
   "cell_type": "code",
   "execution_count": 20,
   "metadata": {},
   "outputs": [],
   "source": [
    "# counts of unique patient keys for each region combination\n",
    "ADdata_pdc_region = AD.groupby(['pdc_80_flag', 'regionN'])['patient_key'].nunique().reset_index()"
   ]
  },
  {
   "cell_type": "code",
   "execution_count": 21,
   "metadata": {},
   "outputs": [],
   "source": [
    "ADregion = ADdata_pdc_region.pivot_table(index='regionN', columns=['pdc_80_flag'], values='patient_key', fill_value=0)"
   ]
  },
  {
   "cell_type": "code",
   "execution_count": 22,
   "metadata": {},
   "outputs": [],
   "source": [
    "ADregion = pd.DataFrame(ADregion).rename(columns = {'regionN' : 'category', 0: 'pdc_80_flag_0', 1:'pdc_80_flag_1'})"
   ]
  },
  {
   "cell_type": "code",
   "execution_count": 23,
   "metadata": {},
   "outputs": [],
   "source": [
    "region_df = {\n",
    "    'category': ['North', 'Northest','Midwest', 'South', 'West']\n",
    "}\n",
    "region_df = pd.DataFrame(region_df)\n",
    "region_df['pdc_80_flag_0'] = ADregion['pdc_80_flag_0']\n",
    "region_df['pdc_80_flag_1'] = ADregion['pdc_80_flag_1']"
   ]
  },
  {
   "cell_type": "code",
   "execution_count": 24,
   "metadata": {},
   "outputs": [],
   "source": [
    "region_df = region_df.iloc[1:, :]"
   ]
  },
  {
   "cell_type": "code",
   "execution_count": 25,
   "metadata": {},
   "outputs": [],
   "source": [
    "# create a new dataframe for all diseases that we need to apply chi square test\n",
    "\n",
    "disease_data = data.iloc[:, 26:59]\n",
    "disease_data['patient_key'] = data['patient_key']\n",
    "disease_data['pdc_80_flag'] = data['pdc_80_flag']\n",
    "disease_data['drug_class'] = data['drug_class']"
   ]
  },
  {
   "cell_type": "code",
   "execution_count": 26,
   "metadata": {},
   "outputs": [],
   "source": [
    "AD_diseases = disease_data[disease_data['drug_class'] == '*ANTIDIABETICS*']\n",
    "AD_df = AD_diseases.drop(columns = ['drug_class'])\n",
    "\n",
    "def aggregateCount(df):\n",
    "    result = {}\n",
    "    for col in df.columns:\n",
    "        filtered_df = df[df[col] == 1]\n",
    "        # Group by 'pdc_80_flag' and count unique patients\n",
    "        counts = filtered_df.groupby('pdc_80_flag')['patient_key'].nunique()\n",
    "        result[col] = counts\n",
    "    return result\n"
   ]
  },
  {
   "cell_type": "code",
   "execution_count": 27,
   "metadata": {},
   "outputs": [],
   "source": [
    "AD_dff = aggregateCount(AD_df)\n",
    "AD_dff = pd.DataFrame(AD_dff).fillna(0)\n",
    "AD_dff = AD_dff.drop(columns = ['patient_key','pdc_80_flag']).reset_index()"
   ]
  },
  {
   "cell_type": "code",
   "execution_count": 28,
   "metadata": {},
   "outputs": [
    {
     "data": {
      "text/html": [
       "<div>\n",
       "<style scoped>\n",
       "    .dataframe tbody tr th:only-of-type {\n",
       "        vertical-align: middle;\n",
       "    }\n",
       "\n",
       "    .dataframe tbody tr th {\n",
       "        vertical-align: top;\n",
       "    }\n",
       "\n",
       "    .dataframe thead th {\n",
       "        text-align: right;\n",
       "    }\n",
       "</style>\n",
       "<table border=\"1\" class=\"dataframe\">\n",
       "  <thead>\n",
       "    <tr style=\"text-align: right;\">\n",
       "      <th></th>\n",
       "      <th>pdc_80_flag</th>\n",
       "      <th>ALCOHOL_DRUG</th>\n",
       "      <th>ASTHMA</th>\n",
       "      <th>CARDIAC_ARRYTHMIA</th>\n",
       "      <th>CARDIAC_VALVULAR</th>\n",
       "      <th>CEREBROVASCULAR</th>\n",
       "      <th>CHRONIC_KIDNEY</th>\n",
       "      <th>CHRONIC_PAIN_FIBRO</th>\n",
       "      <th>CHF</th>\n",
       "      <th>COPD</th>\n",
       "      <th>...</th>\n",
       "      <th>RENAL_FAILURE</th>\n",
       "      <th>RHEUMATOLOGIC</th>\n",
       "      <th>SCHIZOPHRENIA</th>\n",
       "      <th>SLEEP_DISORDERS</th>\n",
       "      <th>SMOKING</th>\n",
       "      <th>THYROID</th>\n",
       "      <th>Solid_Tumor</th>\n",
       "      <th>Metastatic</th>\n",
       "      <th>Leukemia_Lymphoma</th>\n",
       "      <th>Other_Cancer</th>\n",
       "    </tr>\n",
       "  </thead>\n",
       "  <tbody>\n",
       "    <tr>\n",
       "      <th>0</th>\n",
       "      <td>0</td>\n",
       "      <td>11</td>\n",
       "      <td>29</td>\n",
       "      <td>30</td>\n",
       "      <td>16</td>\n",
       "      <td>20</td>\n",
       "      <td>14</td>\n",
       "      <td>47</td>\n",
       "      <td>15</td>\n",
       "      <td>11</td>\n",
       "      <td>...</td>\n",
       "      <td>3</td>\n",
       "      <td>21</td>\n",
       "      <td>0.0</td>\n",
       "      <td>97</td>\n",
       "      <td>63</td>\n",
       "      <td>73</td>\n",
       "      <td>32</td>\n",
       "      <td>3</td>\n",
       "      <td>2</td>\n",
       "      <td>36</td>\n",
       "    </tr>\n",
       "    <tr>\n",
       "      <th>1</th>\n",
       "      <td>1</td>\n",
       "      <td>8</td>\n",
       "      <td>18</td>\n",
       "      <td>27</td>\n",
       "      <td>17</td>\n",
       "      <td>12</td>\n",
       "      <td>13</td>\n",
       "      <td>25</td>\n",
       "      <td>8</td>\n",
       "      <td>10</td>\n",
       "      <td>...</td>\n",
       "      <td>4</td>\n",
       "      <td>18</td>\n",
       "      <td>1.0</td>\n",
       "      <td>72</td>\n",
       "      <td>29</td>\n",
       "      <td>62</td>\n",
       "      <td>16</td>\n",
       "      <td>1</td>\n",
       "      <td>2</td>\n",
       "      <td>19</td>\n",
       "    </tr>\n",
       "  </tbody>\n",
       "</table>\n",
       "<p>2 rows × 34 columns</p>\n",
       "</div>"
      ],
      "text/plain": [
       "   pdc_80_flag  ALCOHOL_DRUG  ASTHMA  CARDIAC_ARRYTHMIA  CARDIAC_VALVULAR  \\\n",
       "0            0            11      29                 30                16   \n",
       "1            1             8      18                 27                17   \n",
       "\n",
       "   CEREBROVASCULAR  CHRONIC_KIDNEY  CHRONIC_PAIN_FIBRO  CHF  COPD  \\\n",
       "0               20              14                  47   15    11   \n",
       "1               12              13                  25    8    10   \n",
       "\n",
       "       ...       RENAL_FAILURE  RHEUMATOLOGIC  SCHIZOPHRENIA  SLEEP_DISORDERS  \\\n",
       "0      ...                   3             21            0.0               97   \n",
       "1      ...                   4             18            1.0               72   \n",
       "\n",
       "   SMOKING  THYROID  Solid_Tumor  Metastatic  Leukemia_Lymphoma  Other_Cancer  \n",
       "0       63       73           32           3                  2            36  \n",
       "1       29       62           16           1                  2            19  \n",
       "\n",
       "[2 rows x 34 columns]"
      ]
     },
     "execution_count": 28,
     "metadata": {},
     "output_type": "execute_result"
    }
   ],
   "source": [
    "AD_dff.head()"
   ]
  },
  {
   "cell_type": "code",
   "execution_count": 29,
   "metadata": {},
   "outputs": [],
   "source": [
    "desired_AF = AD_dff.iloc[:, 1:].T.reset_index()\n",
    "desired_AF = desired_AF.rename(columns = {'index': 'category', 0: 'pdc_80_flag_0', 1: 'pdc_80_flag_1'})"
   ]
  },
  {
   "cell_type": "code",
   "execution_count": 30,
   "metadata": {},
   "outputs": [
    {
     "data": {
      "text/plain": [
       "Index(['category', 'pdc_80_flag_0', 'pdc_80_flag_1'], dtype='object')"
      ]
     },
     "execution_count": 30,
     "metadata": {},
     "output_type": "execute_result"
    }
   ],
   "source": [
    "desired_AF.columns"
   ]
  },
  {
   "cell_type": "code",
   "execution_count": 31,
   "metadata": {},
   "outputs": [],
   "source": [
    "# removed outliers. chi square test must have observed frequencies are greater than or equal to 5\n",
    "diseases_to_drop = ['HIV_AIDS', 'Metastatic', 'Leukemia_Lymphoma',\n",
    "                                  'DEMENTIA', 'SCHIZOPHRENIA']"
   ]
  },
  {
   "cell_type": "code",
   "execution_count": 32,
   "metadata": {},
   "outputs": [],
   "source": [
    "desired_AF = desired_AF[~desired_AF['category'].isin(diseases_to_drop)]"
   ]
  },
  {
   "cell_type": "code",
   "execution_count": 33,
   "metadata": {},
   "outputs": [
    {
     "data": {
      "text/plain": [
       "(28, 3)"
      ]
     },
     "execution_count": 33,
     "metadata": {},
     "output_type": "execute_result"
    }
   ],
   "source": [
    "desired_AF.shape"
   ]
  },
  {
   "cell_type": "code",
   "execution_count": 34,
   "metadata": {},
   "outputs": [],
   "source": [
    "res = result_df1.drop(columns = ['p_values'])"
   ]
  },
  {
   "cell_type": "code",
   "execution_count": 35,
   "metadata": {},
   "outputs": [],
   "source": [
    "#pre index hospital visits > 1, pre index hospital visits > 1, \n",
    "selected_columns = ['pre_ip_flag', 'pre_er_flag', 'post_ip_flag', 'post_er_flag', 'pdc_80_flag', 'patient_key']\n",
    "IP_ER = AD[selected_columns]"
   ]
  },
  {
   "cell_type": "code",
   "execution_count": 36,
   "metadata": {},
   "outputs": [],
   "source": [
    "IP_ER = pd.DataFrame(IP_ER)\n",
    "IP_ER = IP_ER.rename(columns = {'pre_ip_flag': 'pre_hos_visits', 'pre_er_flag': 'pre_er_visits', \n",
    "                               'post_ip_flag': 'post_hos_visits', 'post_er_flag': 'post_er_visits'})"
   ]
  },
  {
   "cell_type": "code",
   "execution_count": 37,
   "metadata": {},
   "outputs": [],
   "source": [
    "IP_ERR = aggregateCount(IP_ER)\n",
    "ip_err = pd.DataFrame(IP_ERR).fillna(0)\n",
    "ip_er = ip_err.drop(columns = ['patient_key','pdc_80_flag']).reset_index()"
   ]
  },
  {
   "cell_type": "code",
   "execution_count": 38,
   "metadata": {},
   "outputs": [],
   "source": [
    "ip_er_df = ip_er.copy().T.reset_index()\n",
    "ip_er_df = ip_er_df.rename(columns = {'index': 'category', 0: 'pdc_80_flag_0', 1: 'pdc_80_flag_1'})"
   ]
  },
  {
   "cell_type": "code",
   "execution_count": 39,
   "metadata": {},
   "outputs": [
    {
     "data": {
      "text/plain": [
       "Index(['category', 'pdc_80_flag_0', 'pdc_80_flag_1'], dtype='object')"
      ]
     },
     "execution_count": 39,
     "metadata": {},
     "output_type": "execute_result"
    }
   ],
   "source": [
    "ip_er_df.columns"
   ]
  },
  {
   "cell_type": "markdown",
   "metadata": {},
   "source": [
    "### generate a contingency table that works for chi square testing by combining AD pop, age, gender, region, and diseases dataframe into one. DF = AD_pdc"
   ]
  },
  {
   "cell_type": "code",
   "execution_count": 40,
   "metadata": {},
   "outputs": [],
   "source": [
    "AD_pdc = pd.concat([res,age_df, male_df, region_df,desired_AF, ip_er_df], axis =0)"
   ]
  },
  {
   "cell_type": "code",
   "execution_count": 41,
   "metadata": {},
   "outputs": [
    {
     "data": {
      "text/plain": [
       "(42, 3)"
      ]
     },
     "execution_count": 41,
     "metadata": {},
     "output_type": "execute_result"
    }
   ],
   "source": [
    "AD_pdc.shape"
   ]
  },
  {
   "cell_type": "code",
   "execution_count": 42,
   "metadata": {},
   "outputs": [
    {
     "data": {
      "text/html": [
       "<div>\n",
       "<style scoped>\n",
       "    .dataframe tbody tr th:only-of-type {\n",
       "        vertical-align: middle;\n",
       "    }\n",
       "\n",
       "    .dataframe tbody tr th {\n",
       "        vertical-align: top;\n",
       "    }\n",
       "\n",
       "    .dataframe thead th {\n",
       "        text-align: right;\n",
       "    }\n",
       "</style>\n",
       "<table border=\"1\" class=\"dataframe\">\n",
       "  <thead>\n",
       "    <tr style=\"text-align: right;\">\n",
       "      <th></th>\n",
       "      <th>category</th>\n",
       "      <th>pdc_80_flag_0</th>\n",
       "      <th>pdc_80_flag_1</th>\n",
       "    </tr>\n",
       "  </thead>\n",
       "  <tbody>\n",
       "    <tr>\n",
       "      <th>0</th>\n",
       "      <td>pdc_80_flag</td>\n",
       "      <td>0.0</td>\n",
       "      <td>1.0</td>\n",
       "    </tr>\n",
       "    <tr>\n",
       "      <th>1</th>\n",
       "      <td>pre_hos_visits</td>\n",
       "      <td>82.0</td>\n",
       "      <td>37.0</td>\n",
       "    </tr>\n",
       "    <tr>\n",
       "      <th>2</th>\n",
       "      <td>pre_er_visits</td>\n",
       "      <td>224.0</td>\n",
       "      <td>85.0</td>\n",
       "    </tr>\n",
       "    <tr>\n",
       "      <th>3</th>\n",
       "      <td>post_hos_visits</td>\n",
       "      <td>101.0</td>\n",
       "      <td>34.0</td>\n",
       "    </tr>\n",
       "    <tr>\n",
       "      <th>4</th>\n",
       "      <td>post_er_visits</td>\n",
       "      <td>172.0</td>\n",
       "      <td>68.0</td>\n",
       "    </tr>\n",
       "  </tbody>\n",
       "</table>\n",
       "</div>"
      ],
      "text/plain": [
       "          category  pdc_80_flag_0  pdc_80_flag_1\n",
       "0      pdc_80_flag            0.0            1.0\n",
       "1   pre_hos_visits           82.0           37.0\n",
       "2    pre_er_visits          224.0           85.0\n",
       "3  post_hos_visits          101.0           34.0\n",
       "4   post_er_visits          172.0           68.0"
      ]
     },
     "execution_count": 42,
     "metadata": {},
     "output_type": "execute_result"
    }
   ],
   "source": [
    "AD_pdc.tail()"
   ]
  },
  {
   "cell_type": "markdown",
   "metadata": {},
   "source": [
    "### this is for chi square testing for comparing the pdc_80_flag (drug adherence) anti-diabetics population with each of the following diseases"
   ]
  },
  {
   "cell_type": "code",
   "execution_count": 43,
   "metadata": {},
   "outputs": [],
   "source": [
    "# Set the 'category' column as the index\n",
    "AD_pdc.set_index('category', inplace=True)\n",
    "\n",
    "# Define a list of categories to compare against \"AD_pop\"\n",
    "categories_to_compare = AD_pdc.index[AD_pdc.index != 'AD_pop']\n",
    "\n",
    "p_values = []\n",
    "diseases = []\n",
    "\n",
    "for category in categories_to_compare:\n",
    "    # create a contingency table for each row\n",
    "    contingency_table = AD_pdc.loc[['AD_pop', category]]\n",
    "    \n",
    "    chi2, p, _, _ = chi2_contingency(contingency_table)\n",
    "    \n",
    "    diseases.append(category)\n",
    "    p_values.append(f'{p:.5f}')\n",
    "    \n",
    "# Create a DataFrame with the results\n",
    "result_df = pd.DataFrame({\n",
    "    'Category': diseases,\n",
    "    'P-Value': p_values\n",
    "})"
   ]
  },
  {
   "cell_type": "code",
   "execution_count": 44,
   "metadata": {},
   "outputs": [],
   "source": [
    "AD_comorbidity = pd.merge(AD_pdc, result_df, left_on='category', right_on = 'Category', how='inner')"
   ]
  },
  {
   "cell_type": "code",
   "execution_count": 45,
   "metadata": {},
   "outputs": [
    {
     "data": {
      "text/html": [
       "<div>\n",
       "<style scoped>\n",
       "    .dataframe tbody tr th:only-of-type {\n",
       "        vertical-align: middle;\n",
       "    }\n",
       "\n",
       "    .dataframe tbody tr th {\n",
       "        vertical-align: top;\n",
       "    }\n",
       "\n",
       "    .dataframe thead th {\n",
       "        text-align: right;\n",
       "    }\n",
       "</style>\n",
       "<table border=\"1\" class=\"dataframe\">\n",
       "  <thead>\n",
       "    <tr style=\"text-align: right;\">\n",
       "      <th></th>\n",
       "      <th>Category</th>\n",
       "      <th>pdc_80_flag_0</th>\n",
       "      <th>pdc_80_flag_1</th>\n",
       "      <th>P-Value</th>\n",
       "    </tr>\n",
       "  </thead>\n",
       "  <tbody>\n",
       "    <tr>\n",
       "      <th>0</th>\n",
       "      <td>age_19-44</td>\n",
       "      <td>406.0</td>\n",
       "      <td>132.0</td>\n",
       "      <td>0.00000</td>\n",
       "    </tr>\n",
       "    <tr>\n",
       "      <th>1</th>\n",
       "      <td>age_45 - 64</td>\n",
       "      <td>596.0</td>\n",
       "      <td>473.0</td>\n",
       "      <td>0.00657</td>\n",
       "    </tr>\n",
       "    <tr>\n",
       "      <th>2</th>\n",
       "      <td>age_65+</td>\n",
       "      <td>49.0</td>\n",
       "      <td>66.0</td>\n",
       "      <td>0.00014</td>\n",
       "    </tr>\n",
       "    <tr>\n",
       "      <th>3</th>\n",
       "      <td>male_pop</td>\n",
       "      <td>486.0</td>\n",
       "      <td>376.0</td>\n",
       "      <td>0.02580</td>\n",
       "    </tr>\n",
       "    <tr>\n",
       "      <th>4</th>\n",
       "      <td>Northest</td>\n",
       "      <td>71.0</td>\n",
       "      <td>68.0</td>\n",
       "      <td>0.02661</td>\n",
       "    </tr>\n",
       "    <tr>\n",
       "      <th>5</th>\n",
       "      <td>Midwest</td>\n",
       "      <td>291.0</td>\n",
       "      <td>210.0</td>\n",
       "      <td>0.25588</td>\n",
       "    </tr>\n",
       "    <tr>\n",
       "      <th>6</th>\n",
       "      <td>South</td>\n",
       "      <td>620.0</td>\n",
       "      <td>345.0</td>\n",
       "      <td>0.10798</td>\n",
       "    </tr>\n",
       "    <tr>\n",
       "      <th>7</th>\n",
       "      <td>West</td>\n",
       "      <td>69.0</td>\n",
       "      <td>48.0</td>\n",
       "      <td>0.73097</td>\n",
       "    </tr>\n",
       "    <tr>\n",
       "      <th>8</th>\n",
       "      <td>ALCOHOL_DRUG</td>\n",
       "      <td>11.0</td>\n",
       "      <td>8.0</td>\n",
       "      <td>0.96609</td>\n",
       "    </tr>\n",
       "    <tr>\n",
       "      <th>9</th>\n",
       "      <td>ASTHMA</td>\n",
       "      <td>29.0</td>\n",
       "      <td>18.0</td>\n",
       "      <td>0.95305</td>\n",
       "    </tr>\n",
       "    <tr>\n",
       "      <th>10</th>\n",
       "      <td>CARDIAC_ARRYTHMIA</td>\n",
       "      <td>30.0</td>\n",
       "      <td>27.0</td>\n",
       "      <td>0.25416</td>\n",
       "    </tr>\n",
       "    <tr>\n",
       "      <th>11</th>\n",
       "      <td>CARDIAC_VALVULAR</td>\n",
       "      <td>16.0</td>\n",
       "      <td>17.0</td>\n",
       "      <td>0.19961</td>\n",
       "    </tr>\n",
       "    <tr>\n",
       "      <th>12</th>\n",
       "      <td>CEREBROVASCULAR</td>\n",
       "      <td>20.0</td>\n",
       "      <td>12.0</td>\n",
       "      <td>0.98852</td>\n",
       "    </tr>\n",
       "    <tr>\n",
       "      <th>13</th>\n",
       "      <td>CHRONIC_KIDNEY</td>\n",
       "      <td>14.0</td>\n",
       "      <td>13.0</td>\n",
       "      <td>0.44048</td>\n",
       "    </tr>\n",
       "    <tr>\n",
       "      <th>14</th>\n",
       "      <td>CHRONIC_PAIN_FIBRO</td>\n",
       "      <td>47.0</td>\n",
       "      <td>25.0</td>\n",
       "      <td>0.54809</td>\n",
       "    </tr>\n",
       "    <tr>\n",
       "      <th>15</th>\n",
       "      <td>CHF</td>\n",
       "      <td>15.0</td>\n",
       "      <td>8.0</td>\n",
       "      <td>0.84653</td>\n",
       "    </tr>\n",
       "    <tr>\n",
       "      <th>16</th>\n",
       "      <td>COPD</td>\n",
       "      <td>11.0</td>\n",
       "      <td>10.0</td>\n",
       "      <td>0.56003</td>\n",
       "    </tr>\n",
       "    <tr>\n",
       "      <th>17</th>\n",
       "      <td>DEPRESSION</td>\n",
       "      <td>58.0</td>\n",
       "      <td>29.0</td>\n",
       "      <td>0.34738</td>\n",
       "    </tr>\n",
       "    <tr>\n",
       "      <th>18</th>\n",
       "      <td>DIABETES</td>\n",
       "      <td>603.0</td>\n",
       "      <td>465.0</td>\n",
       "      <td>0.01877</td>\n",
       "    </tr>\n",
       "    <tr>\n",
       "      <th>19</th>\n",
       "      <td>DYSLIPIDEMIA</td>\n",
       "      <td>403.0</td>\n",
       "      <td>330.0</td>\n",
       "      <td>0.00598</td>\n",
       "    </tr>\n",
       "    <tr>\n",
       "      <th>20</th>\n",
       "      <td>EPILEPSY_SEIZURE</td>\n",
       "      <td>4.0</td>\n",
       "      <td>1.0</td>\n",
       "      <td>0.68232</td>\n",
       "    </tr>\n",
       "    <tr>\n",
       "      <th>21</th>\n",
       "      <td>HEPATITIS</td>\n",
       "      <td>13.0</td>\n",
       "      <td>5.0</td>\n",
       "      <td>0.46796</td>\n",
       "    </tr>\n",
       "    <tr>\n",
       "      <th>22</th>\n",
       "      <td>HYPERTENSION</td>\n",
       "      <td>409.0</td>\n",
       "      <td>345.0</td>\n",
       "      <td>0.00183</td>\n",
       "    </tr>\n",
       "    <tr>\n",
       "      <th>23</th>\n",
       "      <td>LIVER_GALLBLADDER_PANCREAS</td>\n",
       "      <td>45.0</td>\n",
       "      <td>31.0</td>\n",
       "      <td>0.84249</td>\n",
       "    </tr>\n",
       "    <tr>\n",
       "      <th>24</th>\n",
       "      <td>MI_CAD</td>\n",
       "      <td>64.0</td>\n",
       "      <td>36.0</td>\n",
       "      <td>0.62680</td>\n",
       "    </tr>\n",
       "    <tr>\n",
       "      <th>25</th>\n",
       "      <td>OSTEOARTHRITIS</td>\n",
       "      <td>204.0</td>\n",
       "      <td>129.0</td>\n",
       "      <td>0.98677</td>\n",
       "    </tr>\n",
       "    <tr>\n",
       "      <th>26</th>\n",
       "      <td>PARALYSIS</td>\n",
       "      <td>13.0</td>\n",
       "      <td>9.0</td>\n",
       "      <td>0.97263</td>\n",
       "    </tr>\n",
       "    <tr>\n",
       "      <th>27</th>\n",
       "      <td>PEPTIC_ULCER</td>\n",
       "      <td>2.0</td>\n",
       "      <td>3.0</td>\n",
       "      <td>0.61447</td>\n",
       "    </tr>\n",
       "    <tr>\n",
       "      <th>28</th>\n",
       "      <td>PERIPHERAL_VASCULAR</td>\n",
       "      <td>17.0</td>\n",
       "      <td>19.0</td>\n",
       "      <td>0.13177</td>\n",
       "    </tr>\n",
       "    <tr>\n",
       "      <th>29</th>\n",
       "      <td>RENAL_FAILURE</td>\n",
       "      <td>3.0</td>\n",
       "      <td>4.0</td>\n",
       "      <td>0.55143</td>\n",
       "    </tr>\n",
       "    <tr>\n",
       "      <th>30</th>\n",
       "      <td>RHEUMATOLOGIC</td>\n",
       "      <td>21.0</td>\n",
       "      <td>18.0</td>\n",
       "      <td>0.45712</td>\n",
       "    </tr>\n",
       "    <tr>\n",
       "      <th>31</th>\n",
       "      <td>SLEEP_DISORDERS</td>\n",
       "      <td>97.0</td>\n",
       "      <td>72.0</td>\n",
       "      <td>0.40015</td>\n",
       "    </tr>\n",
       "    <tr>\n",
       "      <th>32</th>\n",
       "      <td>SMOKING</td>\n",
       "      <td>63.0</td>\n",
       "      <td>29.0</td>\n",
       "      <td>0.18709</td>\n",
       "    </tr>\n",
       "    <tr>\n",
       "      <th>33</th>\n",
       "      <td>THYROID</td>\n",
       "      <td>73.0</td>\n",
       "      <td>62.0</td>\n",
       "      <td>0.13319</td>\n",
       "    </tr>\n",
       "    <tr>\n",
       "      <th>34</th>\n",
       "      <td>Solid_Tumor</td>\n",
       "      <td>32.0</td>\n",
       "      <td>16.0</td>\n",
       "      <td>0.52233</td>\n",
       "    </tr>\n",
       "    <tr>\n",
       "      <th>35</th>\n",
       "      <td>Other_Cancer</td>\n",
       "      <td>36.0</td>\n",
       "      <td>19.0</td>\n",
       "      <td>0.60188</td>\n",
       "    </tr>\n",
       "    <tr>\n",
       "      <th>36</th>\n",
       "      <td>pdc_80_flag</td>\n",
       "      <td>0.0</td>\n",
       "      <td>1.0</td>\n",
       "      <td>0.82155</td>\n",
       "    </tr>\n",
       "    <tr>\n",
       "      <th>37</th>\n",
       "      <td>pre_hos_visits</td>\n",
       "      <td>82.0</td>\n",
       "      <td>37.0</td>\n",
       "      <td>0.10737</td>\n",
       "    </tr>\n",
       "    <tr>\n",
       "      <th>38</th>\n",
       "      <td>pre_er_visits</td>\n",
       "      <td>224.0</td>\n",
       "      <td>85.0</td>\n",
       "      <td>0.00016</td>\n",
       "    </tr>\n",
       "    <tr>\n",
       "      <th>39</th>\n",
       "      <td>post_hos_visits</td>\n",
       "      <td>101.0</td>\n",
       "      <td>34.0</td>\n",
       "      <td>0.00203</td>\n",
       "    </tr>\n",
       "    <tr>\n",
       "      <th>40</th>\n",
       "      <td>post_er_visits</td>\n",
       "      <td>172.0</td>\n",
       "      <td>68.0</td>\n",
       "      <td>0.00185</td>\n",
       "    </tr>\n",
       "  </tbody>\n",
       "</table>\n",
       "</div>"
      ],
      "text/plain": [
       "                      Category  pdc_80_flag_0  pdc_80_flag_1  P-Value\n",
       "0                    age_19-44          406.0          132.0  0.00000\n",
       "1                  age_45 - 64          596.0          473.0  0.00657\n",
       "2                      age_65+           49.0           66.0  0.00014\n",
       "3                     male_pop          486.0          376.0  0.02580\n",
       "4                     Northest           71.0           68.0  0.02661\n",
       "5                      Midwest          291.0          210.0  0.25588\n",
       "6                        South          620.0          345.0  0.10798\n",
       "7                         West           69.0           48.0  0.73097\n",
       "8                 ALCOHOL_DRUG           11.0            8.0  0.96609\n",
       "9                       ASTHMA           29.0           18.0  0.95305\n",
       "10           CARDIAC_ARRYTHMIA           30.0           27.0  0.25416\n",
       "11            CARDIAC_VALVULAR           16.0           17.0  0.19961\n",
       "12             CEREBROVASCULAR           20.0           12.0  0.98852\n",
       "13              CHRONIC_KIDNEY           14.0           13.0  0.44048\n",
       "14          CHRONIC_PAIN_FIBRO           47.0           25.0  0.54809\n",
       "15                         CHF           15.0            8.0  0.84653\n",
       "16                        COPD           11.0           10.0  0.56003\n",
       "17                  DEPRESSION           58.0           29.0  0.34738\n",
       "18                    DIABETES          603.0          465.0  0.01877\n",
       "19                DYSLIPIDEMIA          403.0          330.0  0.00598\n",
       "20            EPILEPSY_SEIZURE            4.0            1.0  0.68232\n",
       "21                   HEPATITIS           13.0            5.0  0.46796\n",
       "22                HYPERTENSION          409.0          345.0  0.00183\n",
       "23  LIVER_GALLBLADDER_PANCREAS           45.0           31.0  0.84249\n",
       "24                      MI_CAD           64.0           36.0  0.62680\n",
       "25              OSTEOARTHRITIS          204.0          129.0  0.98677\n",
       "26                   PARALYSIS           13.0            9.0  0.97263\n",
       "27                PEPTIC_ULCER            2.0            3.0  0.61447\n",
       "28         PERIPHERAL_VASCULAR           17.0           19.0  0.13177\n",
       "29               RENAL_FAILURE            3.0            4.0  0.55143\n",
       "30               RHEUMATOLOGIC           21.0           18.0  0.45712\n",
       "31             SLEEP_DISORDERS           97.0           72.0  0.40015\n",
       "32                     SMOKING           63.0           29.0  0.18709\n",
       "33                     THYROID           73.0           62.0  0.13319\n",
       "34                 Solid_Tumor           32.0           16.0  0.52233\n",
       "35                Other_Cancer           36.0           19.0  0.60188\n",
       "36                 pdc_80_flag            0.0            1.0  0.82155\n",
       "37              pre_hos_visits           82.0           37.0  0.10737\n",
       "38               pre_er_visits          224.0           85.0  0.00016\n",
       "39             post_hos_visits          101.0           34.0  0.00203\n",
       "40              post_er_visits          172.0           68.0  0.00185"
      ]
     },
     "execution_count": 45,
     "metadata": {},
     "output_type": "execute_result"
    }
   ],
   "source": [
    "new_order = ['Category', 'pdc_80_flag_0', 'pdc_80_flag_1', 'P-Value']\n",
    "AD_comorbidity = AD_comorbidity[new_order]\n",
    "AD_comorbidity"
   ]
  },
  {
   "cell_type": "markdown",
   "metadata": {},
   "source": [
    "### Other Statistics"
   ]
  },
  {
   "cell_type": "code",
   "execution_count": 46,
   "metadata": {},
   "outputs": [],
   "source": [
    "chosen_columns = ['num_op','num_op_post', 'pre_total_cost','post_total_cost', 'patient_key', 'pdc_80_flag']\n",
    "\n",
    "costs = data[chosen_columns]"
   ]
  },
  {
   "cell_type": "code",
   "execution_count": 47,
   "metadata": {},
   "outputs": [
    {
     "data": {
      "text/html": [
       "<div>\n",
       "<style scoped>\n",
       "    .dataframe tbody tr th:only-of-type {\n",
       "        vertical-align: middle;\n",
       "    }\n",
       "\n",
       "    .dataframe tbody tr th {\n",
       "        vertical-align: top;\n",
       "    }\n",
       "\n",
       "    .dataframe thead th {\n",
       "        text-align: right;\n",
       "    }\n",
       "</style>\n",
       "<table border=\"1\" class=\"dataframe\">\n",
       "  <thead>\n",
       "    <tr style=\"text-align: right;\">\n",
       "      <th></th>\n",
       "      <th>num_op</th>\n",
       "      <th>num_op_post</th>\n",
       "      <th>pre_total_cost</th>\n",
       "      <th>post_total_cost</th>\n",
       "      <th>patient_key</th>\n",
       "      <th>pdc_80_flag</th>\n",
       "    </tr>\n",
       "  </thead>\n",
       "  <tbody>\n",
       "    <tr>\n",
       "      <th>0</th>\n",
       "      <td>14</td>\n",
       "      <td>8</td>\n",
       "      <td>5008.387473</td>\n",
       "      <td>5344.155468</td>\n",
       "      <td>121</td>\n",
       "      <td>1</td>\n",
       "    </tr>\n",
       "    <tr>\n",
       "      <th>1</th>\n",
       "      <td>27</td>\n",
       "      <td>4</td>\n",
       "      <td>4641.819829</td>\n",
       "      <td>3554.574459</td>\n",
       "      <td>168</td>\n",
       "      <td>0</td>\n",
       "    </tr>\n",
       "    <tr>\n",
       "      <th>2</th>\n",
       "      <td>6</td>\n",
       "      <td>32</td>\n",
       "      <td>39364.525970</td>\n",
       "      <td>9140.708554</td>\n",
       "      <td>267</td>\n",
       "      <td>0</td>\n",
       "    </tr>\n",
       "    <tr>\n",
       "      <th>3</th>\n",
       "      <td>8</td>\n",
       "      <td>57</td>\n",
       "      <td>30149.625110</td>\n",
       "      <td>10586.275170</td>\n",
       "      <td>468</td>\n",
       "      <td>0</td>\n",
       "    </tr>\n",
       "    <tr>\n",
       "      <th>4</th>\n",
       "      <td>3</td>\n",
       "      <td>5</td>\n",
       "      <td>1200.137573</td>\n",
       "      <td>2259.829961</td>\n",
       "      <td>499</td>\n",
       "      <td>1</td>\n",
       "    </tr>\n",
       "  </tbody>\n",
       "</table>\n",
       "</div>"
      ],
      "text/plain": [
       "   num_op  num_op_post  pre_total_cost  post_total_cost  patient_key  \\\n",
       "0      14            8     5008.387473      5344.155468          121   \n",
       "1      27            4     4641.819829      3554.574459          168   \n",
       "2       6           32    39364.525970      9140.708554          267   \n",
       "3       8           57    30149.625110     10586.275170          468   \n",
       "4       3            5     1200.137573      2259.829961          499   \n",
       "\n",
       "   pdc_80_flag  \n",
       "0            1  \n",
       "1            0  \n",
       "2            0  \n",
       "3            0  \n",
       "4            1  "
      ]
     },
     "execution_count": 47,
     "metadata": {},
     "output_type": "execute_result"
    }
   ],
   "source": [
    "costs.head()"
   ]
  },
  {
   "cell_type": "markdown",
   "metadata": {},
   "source": [
    "## QQ Plot to check normalities"
   ]
  },
  {
   "cell_type": "code",
   "execution_count": 48,
   "metadata": {},
   "outputs": [
    {
     "data": {
      "image/png": "[encoded data removed]",
      "text/plain": [
       "<Figure size 432x288 with 1 Axes>"
      ]
     },
     "metadata": {},
     "output_type": "display_data"
    },
    {
     "data": {
      "image/png": "[encoded data removed]",
      "text/plain": [
       "<Figure size 432x288 with 1 Axes>"
      ]
     },
     "metadata": {},
     "output_type": "display_data"
    }
   ],
   "source": [
    "import statsmodels.api as sm\n",
    "import matplotlib.pyplot as plt\n",
    "\n",
    "cost_QQ = costs.iloc[:,:-4]\n",
    "\n",
    "for col in cost_QQ.columns:\n",
    "    sm.qqplot(cost_QQ[col], line = '45')  \n",
    "    plt.title(f\"QQ Plot for {col}\")\n",
    "    plt.show()"
   ]
  },
  {
   "cell_type": "code",
   "execution_count": 49,
   "metadata": {},
   "outputs": [
    {
     "data": {
      "image/png": "[encoded data removed]",
      "text/plain": [
       "<Figure size 432x288 with 1 Axes>"
      ]
     },
     "metadata": {},
     "output_type": "display_data"
    },
    {
     "data": {
      "image/png": "[encoded data removed]",
      "text/plain": [
       "<Figure size 432x288 with 1 Axes>"
      ]
     },
     "metadata": {},
     "output_type": "display_data"
    }
   ],
   "source": [
    "cost_QQ = costs.iloc[:,2:-2]\n",
    "\n",
    "for col in cost_QQ.columns:\n",
    "    sm.qqplot(cost_QQ[col], line = '45') \n",
    "    plt.title(f\"QQ Plot for {col}\")\n",
    "    plt.show()"
   ]
  },
  {
   "cell_type": "code",
   "execution_count": 50,
   "metadata": {},
   "outputs": [],
   "source": [
    "def aggregateCost(df):\n",
    "    result = {}\n",
    "    for col in df.columns:\n",
    "        if col == 'pre_total_cost' or col =='post_total_cost':\n",
    "        # Group by 'pdc_80_flag' and count unique patients\n",
    "            groups = df.groupby(['pdc_80_flag'])[col].mean()\n",
    "        else:\n",
    "            groups = df.groupby(['pdc_80_flag'])[col].sum()\n",
    "            \n",
    "        result[col] = groups\n",
    "    return result\n"
   ]
  },
  {
   "cell_type": "code",
   "execution_count": 51,
   "metadata": {},
   "outputs": [],
   "source": [
    "cost_visits = aggregateCost(costs)\n",
    "cost_visits = pd.DataFrame(cost_visits).drop(columns = ['patient_key', 'pdc_80_flag']).reset_index()"
   ]
  },
  {
   "cell_type": "code",
   "execution_count": 52,
   "metadata": {},
   "outputs": [],
   "source": [
    "cost_vis = cost_visits.copy().T.reset_index()\n",
    "cost_vis = cost_vis.rename(columns = {'index': 'category', 0: 'pdc_80_flag_0', 1: 'pdc_80_flag_1'})\n",
    "cost_vis = pd.concat([res, cost_vis.iloc[1:,:]], axis = 0)"
   ]
  },
  {
   "cell_type": "markdown",
   "metadata": {},
   "source": [
    "### t statistics must perform levene test first"
   ]
  },
  {
   "cell_type": "code",
   "execution_count": 53,
   "metadata": {},
   "outputs": [],
   "source": [
    "visits = cost_vis.iloc[:3,:]"
   ]
  },
  {
   "cell_type": "code",
   "execution_count": 54,
   "metadata": {},
   "outputs": [],
   "source": [
    "visits = visits.set_index('category')"
   ]
  },
  {
   "cell_type": "code",
   "execution_count": 55,
   "metadata": {},
   "outputs": [
    {
     "data": {
      "text/plain": [
       "Index(['pdc_80_flag_0', 'pdc_80_flag_1'], dtype='object')"
      ]
     },
     "execution_count": 55,
     "metadata": {},
     "output_type": "execute_result"
    }
   ],
   "source": [
    "visits.columns"
   ]
  },
  {
   "cell_type": "code",
   "execution_count": 56,
   "metadata": {},
   "outputs": [
    {
     "data": {
      "image/png": "[encoded data removed]",
      "text/plain": [
       "<Figure size 432x864 with 3 Axes>"
      ]
     },
     "metadata": {},
     "output_type": "display_data"
    }
   ],
   "source": [
    "import seaborn as sns\n",
    "\n",
    "\n",
    "# Create subplots for each row\n",
    "fig, axes = plt.subplots(len(visits), 1, figsize=(6, 4 * len(visits)))\n",
    "\n",
    "# Define custom colors for the boxes\n",
    "custom_colors = [\"blue\", \"red\"]\n",
    "\n",
    "\n",
    "# Iterate over rows and create box plots for two categories in each row\n",
    "for i, (row_name, row) in enumerate(visits.iterrows()):\n",
    "    \n",
    "    sns.boxplot(x=row.index, y=row.values, ax=axes[i], palette=custom_colors)\n",
    "    axes[i].set_title(f'Box Plot for Row {row_name}')\n",
    "    axes[i].set_xlabel('Category')\n",
    "    axes[i].set_ylabel('Value')\n",
    "\n",
    "# Adjust layout\n",
    "plt.tight_layout()\n",
    "\n",
    "# Show the plots\n",
    "plt.show()\n"
   ]
  },
  {
   "cell_type": "code",
   "execution_count": 99,
   "metadata": {},
   "outputs": [],
   "source": [
    "def dataFormat(df, columns_to_format):\n",
    "    result = None\n",
    "    \n",
    "    for col in columns_to_format:\n",
    "        # Group by 'pdc_80_flag' and extract unique values for each column\n",
    "        col_groups = df.groupby(['pdc_80_flag'])[col].unique()\n",
    "        \n",
    "        # Create a DataFrame from the unique values\n",
    "        col_df = pd.DataFrame(col_groups.values.tolist(), index=col_groups.index)\n",
    "        \n",
    "        # Transpose the DataFrame\n",
    "        col_df = col_df.T\n",
    "        \n",
    "        # Rename columns\n",
    "        col_df = col_df.rename(columns={0: f'pdc_80_flag_0', 1: f'pdc_80_flag_1'})\n",
    "        \n",
    "        # Fill missing values with 0\n",
    "        col_df = col_df.fillna(0)\n",
    "        \n",
    "        if result is None:\n",
    "            result = col_df\n",
    "        else:\n",
    "            result = pd.concat([result, col_df], axis =1)\n",
    "    \n",
    "    return result\n"
   ]
  },
  {
   "cell_type": "code",
   "execution_count": 100,
   "metadata": {},
   "outputs": [],
   "source": [
    "col_to_format = ['num_op']\n",
    "num_ops = dataFormat(costs, col_to_format)"
   ]
  },
  {
   "cell_type": "code",
   "execution_count": 101,
   "metadata": {},
   "outputs": [
    {
     "name": "stdout",
     "output_type": "stream",
     "text": [
      "0.85531966630721600886033684219000861\n"
     ]
    }
   ],
   "source": [
    "from scipy.stats import levene\n",
    "statistics, p_value = levene(num_ops['pdc_80_flag_0'], num_ops['pdc_80_flag_1'])\n",
    "    \n",
    "print(f'{p_value:.35f}')"
   ]
  },
  {
   "cell_type": "code",
   "execution_count": 102,
   "metadata": {},
   "outputs": [
    {
     "name": "stdout",
     "output_type": "stream",
     "text": [
      "0.02624954062369138502\n"
     ]
    }
   ],
   "source": [
    "from scipy.stats import ttest_ind\n",
    "\n",
    "statistics, p_value = ttest_ind(num_ops['pdc_80_flag_0'], num_ops['pdc_80_flag_1'])\n",
    "print(f'{p_value:.20f}')"
   ]
  },
  {
   "cell_type": "code",
   "execution_count": 103,
   "metadata": {},
   "outputs": [],
   "source": [
    "col_to_format = ['num_op_post']\n",
    "post_ops = dataFormat(costs, col_to_format)"
   ]
  },
  {
   "cell_type": "code",
   "execution_count": 104,
   "metadata": {},
   "outputs": [
    {
     "name": "stdout",
     "output_type": "stream",
     "text": [
      "0.33227720892899481608\n"
     ]
    }
   ],
   "source": [
    "statistics, p_value = levene(post_ops['pdc_80_flag_0'], post_ops['pdc_80_flag_1'])\n",
    "    \n",
    "print(f'{p_value:.20f}')"
   ]
  },
  {
   "cell_type": "code",
   "execution_count": 105,
   "metadata": {},
   "outputs": [
    {
     "name": "stdout",
     "output_type": "stream",
     "text": [
      "0.00000830714588524767\n"
     ]
    }
   ],
   "source": [
    "statistics, p_value = ttest_ind(post_ops['pdc_80_flag_0'], post_ops['pdc_80_flag_1'])\n",
    "print(f'{p_value:.20f}')"
   ]
  },
  {
   "cell_type": "markdown",
   "metadata": {},
   "source": [
    "### Wilcox Test"
   ]
  },
  {
   "cell_type": "code",
   "execution_count": 106,
   "metadata": {},
   "outputs": [],
   "source": [
    "col_to_format = ['pre_total_cost']\n",
    "pre_cost = dataFormat(costs, col_to_format)"
   ]
  },
  {
   "cell_type": "code",
   "execution_count": 117,
   "metadata": {},
   "outputs": [
    {
     "name": "stdout",
     "output_type": "stream",
     "text": [
      "0.00034811212856426078\n"
     ]
    }
   ],
   "source": [
    "from scipy.stats import wilcoxon\n",
    "\n",
    "\n",
    "# Perform the Wilcoxon signed-rank test\n",
    "statistic, p_value = wilcoxon(post_ops['pdc_80_flag_0'], post_ops['pdc_80_flag_1'])\n",
    "\n",
    "print(f'{p_value:.20f}')"
   ]
  },
  {
   "cell_type": "code",
   "execution_count": 111,
   "metadata": {},
   "outputs": [],
   "source": [
    "col_to_format = ['post_total_cost']\n",
    "post_cost = dataFormat(costs, col_to_format)"
   ]
  },
  {
   "cell_type": "code",
   "execution_count": 112,
   "metadata": {},
   "outputs": [
    {
     "name": "stdout",
     "output_type": "stream",
     "text": [
      "0.00000000000000000000\n"
     ]
    }
   ],
   "source": [
    "\n",
    "# Perform the Wilcoxon signed-rank test\n",
    "statistic, p_value = wilcoxon(post_cost['pdc_80_flag_0'], post_cost['pdc_80_flag_1'])\n",
    "\n",
    "print(f'{p_value:.20f}')"
   ]
  },
  {
   "cell_type": "markdown",
   "metadata": {},
   "source": [
    "### Statistical Anallysis for ANTICOAGULANTS drugs"
   ]
  },
  {
   "cell_type": "code",
   "execution_count": 96,
   "metadata": {},
   "outputs": [
    {
     "name": "stdout",
     "output_type": "stream",
     "text": [
      "P-Value for ANTICOAGULANTS Chi-Square Test: 0.4890\n"
     ]
    }
   ],
   "source": [
    "\n",
    "# Filter data for ANTICOAGULANTS drug class\n",
    "AC = data[data['drug_class'].str.contains('ANTICOAGULANTS')]\n",
    "\n",
    "# Create a contingency table\n",
    "pat_p = pd.crosstab(AC['patient_key'], AC['pdc_80_flag'])\n",
    "\n",
    "# Perform chi-square test\n",
    "chi2, p, _, _ = chi2_contingency(pat_p)\n",
    "\n",
    "# Display the p-value\n",
    "print(f'P-Value for ANTICOAGULANTS Chi-Square Test: {p:.4f}')\n",
    "\n"
   ]
  },
  {
   "cell_type": "code",
   "execution_count": 119,
   "metadata": {},
   "outputs": [
    {
     "data": {
      "text/html": [
       "<div>\n",
       "<style scoped>\n",
       "    .dataframe tbody tr th:only-of-type {\n",
       "        vertical-align: middle;\n",
       "    }\n",
       "\n",
       "    .dataframe tbody tr th {\n",
       "        vertical-align: top;\n",
       "    }\n",
       "\n",
       "    .dataframe thead th {\n",
       "        text-align: right;\n",
       "    }\n",
       "</style>\n",
       "<table border=\"1\" class=\"dataframe\">\n",
       "  <thead>\n",
       "    <tr style=\"text-align: right;\">\n",
       "      <th></th>\n",
       "      <th>category</th>\n",
       "      <th>pdc_80_flag_0</th>\n",
       "      <th>pdc_80_flag_1</th>\n",
       "      <th>p_values</th>\n",
       "    </tr>\n",
       "  </thead>\n",
       "  <tbody>\n",
       "    <tr>\n",
       "      <th>0</th>\n",
       "      <td>AC_pop</td>\n",
       "      <td>1034</td>\n",
       "      <td>391</td>\n",
       "      <td>0.489</td>\n",
       "    </tr>\n",
       "  </tbody>\n",
       "</table>\n",
       "</div>"
      ],
      "text/plain": [
       "  category  pdc_80_flag_0  pdc_80_flag_1  p_values\n",
       "0   AC_pop           1034            391     0.489"
      ]
     },
     "execution_count": 119,
     "metadata": {},
     "output_type": "execute_result"
    }
   ],
   "source": [
    "df = {\n",
    "    'category': 'AC_pop',\n",
    "    'pdc_80_flag_0': [1034],\n",
    "    'pdc_80_flag_1': [391],\n",
    "    'p_values': [0.4890]\n",
    "}\n",
    "result_df1 = pd.DataFrame(df)\n",
    "result_df1.columns = ['category','pdc_80_flag_0', 'pdc_80_flag_1', 'p_values']\n",
    "\n",
    "result_df1.head()"
   ]
  },
  {
   "cell_type": "code",
   "execution_count": 120,
   "metadata": {},
   "outputs": [],
   "source": [
    "ACdata_pdc_age = AC.groupby(['pdc_80_flag', 'age_grpN']).patient_key.nunique().reset_index()"
   ]
  },
  {
   "cell_type": "code",
   "execution_count": 121,
   "metadata": {},
   "outputs": [],
   "source": [
    "age = ACdata_pdc_age.pivot_table(index='age_grpN', columns=['pdc_80_flag'], values='patient_key', fill_value=0)"
   ]
  },
  {
   "cell_type": "code",
   "execution_count": 123,
   "metadata": {},
   "outputs": [],
   "source": [
    "age = pd.DataFrame(age).rename(columns = {'age_grpN' : 'category', 0: 'pdc_80_flag_0', 1:'pdc_80_flag_1'})"
   ]
  },
  {
   "cell_type": "code",
   "execution_count": 124,
   "metadata": {},
   "outputs": [],
   "source": [
    "age_df = {\n",
    "    'category': ['0', '1','age_19-44', 'age_45 - 64', 'age_65+']\n",
    "}\n",
    "age_df = pd.DataFrame(age_df)\n",
    "age_df['pdc_80_flag_0'] = age['pdc_80_flag_0']\n",
    "age_df['pdc_80_flag_1'] = age['pdc_80_flag_1']"
   ]
  },
  {
   "cell_type": "code",
   "execution_count": 125,
   "metadata": {},
   "outputs": [],
   "source": [
    "age_df = age_df.iloc[2:,:]"
   ]
  },
  {
   "cell_type": "code",
   "execution_count": 126,
   "metadata": {},
   "outputs": [],
   "source": [
    "# gender population dataframe = male_df\n",
    "male_pop = AC[AC['sexN']== 1].groupby(['pdc_80_flag'])['patient_key'].nunique().reset_index()"
   ]
  },
  {
   "cell_type": "code",
   "execution_count": 128,
   "metadata": {},
   "outputs": [],
   "source": [
    "df = {\n",
    "    'category': 'male_pop',\n",
    "    'pdc_80_flag_0': [661],\n",
    "    'pdc_80_flag_1': [228],\n",
    "}\n",
    "male_df = pd.DataFrame(df)"
   ]
  },
  {
   "cell_type": "code",
   "execution_count": 129,
   "metadata": {},
   "outputs": [],
   "source": [
    "# counts of unique patient keys for each region combination\n",
    "ACdata_pdc_region = AC.groupby(['pdc_80_flag', 'regionN'])['patient_key'].nunique().reset_index()"
   ]
  },
  {
   "cell_type": "code",
   "execution_count": 130,
   "metadata": {},
   "outputs": [],
   "source": [
    "ACregion = ACdata_pdc_region.pivot_table(index='regionN', columns=['pdc_80_flag'], values='patient_key', fill_value=0)"
   ]
  },
  {
   "cell_type": "code",
   "execution_count": 131,
   "metadata": {},
   "outputs": [],
   "source": [
    "ACregion = pd.DataFrame(ACregion).rename(columns = {'regionN' : 'category', 0: 'pdc_80_flag_0', 1:'pdc_80_flag_1'})"
   ]
  },
  {
   "cell_type": "code",
   "execution_count": 138,
   "metadata": {},
   "outputs": [],
   "source": [
    "region_df = {\n",
    "    'category': ['North','Northest','Midwest', 'South', 'West']\n",
    "}\n",
    "region_df = pd.DataFrame(region_df)\n",
    "region_df['pdc_80_flag_0'] = ACregion['pdc_80_flag_0']\n",
    "region_df['pdc_80_flag_1'] = ACregion['pdc_80_flag_1']"
   ]
  },
  {
   "cell_type": "code",
   "execution_count": 140,
   "metadata": {},
   "outputs": [],
   "source": [
    "region_df = region_df.iloc[1:,:]"
   ]
  },
  {
   "cell_type": "code",
   "execution_count": 142,
   "metadata": {},
   "outputs": [],
   "source": [
    "AC_diseases = disease_data[disease_data['drug_class'] == '*ANTICOAGULANTS*']\n",
    "AC_df = AC_diseases.drop(columns = ['drug_class'])"
   ]
  },
  {
   "cell_type": "code",
   "execution_count": 143,
   "metadata": {},
   "outputs": [],
   "source": [
    "AC_dff = aggregateCount(AC_df)\n",
    "AC_dff = pd.DataFrame(AC_dff).fillna(0)\n",
    "AC_dff = AC_dff.drop(columns = ['patient_key','pdc_80_flag']).reset_index()"
   ]
  },
  {
   "cell_type": "code",
   "execution_count": 144,
   "metadata": {},
   "outputs": [
    {
     "data": {
      "text/html": [
       "<div>\n",
       "<style scoped>\n",
       "    .dataframe tbody tr th:only-of-type {\n",
       "        vertical-align: middle;\n",
       "    }\n",
       "\n",
       "    .dataframe tbody tr th {\n",
       "        vertical-align: top;\n",
       "    }\n",
       "\n",
       "    .dataframe thead th {\n",
       "        text-align: right;\n",
       "    }\n",
       "</style>\n",
       "<table border=\"1\" class=\"dataframe\">\n",
       "  <thead>\n",
       "    <tr style=\"text-align: right;\">\n",
       "      <th></th>\n",
       "      <th>pdc_80_flag</th>\n",
       "      <th>ALCOHOL_DRUG</th>\n",
       "      <th>ASTHMA</th>\n",
       "      <th>CARDIAC_ARRYTHMIA</th>\n",
       "      <th>CARDIAC_VALVULAR</th>\n",
       "      <th>CEREBROVASCULAR</th>\n",
       "      <th>CHRONIC_KIDNEY</th>\n",
       "      <th>CHRONIC_PAIN_FIBRO</th>\n",
       "      <th>CHF</th>\n",
       "      <th>COPD</th>\n",
       "      <th>...</th>\n",
       "      <th>RENAL_FAILURE</th>\n",
       "      <th>RHEUMATOLOGIC</th>\n",
       "      <th>SCHIZOPHRENIA</th>\n",
       "      <th>SLEEP_DISORDERS</th>\n",
       "      <th>SMOKING</th>\n",
       "      <th>THYROID</th>\n",
       "      <th>Solid_Tumor</th>\n",
       "      <th>Metastatic</th>\n",
       "      <th>Leukemia_Lymphoma</th>\n",
       "      <th>Other_Cancer</th>\n",
       "    </tr>\n",
       "  </thead>\n",
       "  <tbody>\n",
       "    <tr>\n",
       "      <th>0</th>\n",
       "      <td>0</td>\n",
       "      <td>36</td>\n",
       "      <td>113</td>\n",
       "      <td>236</td>\n",
       "      <td>82</td>\n",
       "      <td>28</td>\n",
       "      <td>23</td>\n",
       "      <td>137</td>\n",
       "      <td>40</td>\n",
       "      <td>26</td>\n",
       "      <td>...</td>\n",
       "      <td>9</td>\n",
       "      <td>84</td>\n",
       "      <td>3.0</td>\n",
       "      <td>203</td>\n",
       "      <td>235</td>\n",
       "      <td>125</td>\n",
       "      <td>98</td>\n",
       "      <td>23</td>\n",
       "      <td>8</td>\n",
       "      <td>82</td>\n",
       "    </tr>\n",
       "    <tr>\n",
       "      <th>1</th>\n",
       "      <td>1</td>\n",
       "      <td>9</td>\n",
       "      <td>18</td>\n",
       "      <td>115</td>\n",
       "      <td>50</td>\n",
       "      <td>16</td>\n",
       "      <td>17</td>\n",
       "      <td>24</td>\n",
       "      <td>25</td>\n",
       "      <td>9</td>\n",
       "      <td>...</td>\n",
       "      <td>6</td>\n",
       "      <td>10</td>\n",
       "      <td>0.0</td>\n",
       "      <td>58</td>\n",
       "      <td>41</td>\n",
       "      <td>27</td>\n",
       "      <td>39</td>\n",
       "      <td>16</td>\n",
       "      <td>3</td>\n",
       "      <td>25</td>\n",
       "    </tr>\n",
       "  </tbody>\n",
       "</table>\n",
       "<p>2 rows × 34 columns</p>\n",
       "</div>"
      ],
      "text/plain": [
       "   pdc_80_flag  ALCOHOL_DRUG  ASTHMA  CARDIAC_ARRYTHMIA  CARDIAC_VALVULAR  \\\n",
       "0            0            36     113                236                82   \n",
       "1            1             9      18                115                50   \n",
       "\n",
       "   CEREBROVASCULAR  CHRONIC_KIDNEY  CHRONIC_PAIN_FIBRO  CHF  COPD  \\\n",
       "0               28              23                 137   40    26   \n",
       "1               16              17                  24   25     9   \n",
       "\n",
       "       ...       RENAL_FAILURE  RHEUMATOLOGIC  SCHIZOPHRENIA  SLEEP_DISORDERS  \\\n",
       "0      ...                   9             84            3.0              203   \n",
       "1      ...                   6             10            0.0               58   \n",
       "\n",
       "   SMOKING  THYROID  Solid_Tumor  Metastatic  Leukemia_Lymphoma  Other_Cancer  \n",
       "0      235      125           98          23                  8            82  \n",
       "1       41       27           39          16                  3            25  \n",
       "\n",
       "[2 rows x 34 columns]"
      ]
     },
     "execution_count": 144,
     "metadata": {},
     "output_type": "execute_result"
    }
   ],
   "source": [
    "AC_dff"
   ]
  },
  {
   "cell_type": "code",
   "execution_count": 145,
   "metadata": {},
   "outputs": [],
   "source": [
    "desired_AF = AC_dff.iloc[:, 1:].T.reset_index()\n",
    "desired_AF = desired_AF.rename(columns = {'index': 'category', 0: 'pdc_80_flag_0', 1: 'pdc_80_flag_1'})"
   ]
  },
  {
   "cell_type": "code",
   "execution_count": 146,
   "metadata": {},
   "outputs": [],
   "source": [
    "res = result_df1.drop(columns = ['p_values'])"
   ]
  },
  {
   "cell_type": "code",
   "execution_count": 147,
   "metadata": {},
   "outputs": [],
   "source": [
    "#pre index hospital visits > 1, pre index hospital visits > 1, \n",
    "selected_columns = ['pre_ip_flag', 'pre_er_flag', 'post_ip_flag', 'post_er_flag', 'pdc_80_flag', 'patient_key']\n",
    "IP_ER = AC[selected_columns]"
   ]
  },
  {
   "cell_type": "code",
   "execution_count": 148,
   "metadata": {},
   "outputs": [],
   "source": [
    "IP_ER = pd.DataFrame(IP_ER)\n",
    "IP_ER = IP_ER.rename(columns = {'pre_ip_flag': 'pre_hos_visits', 'pre_er_flag': 'pre_er_visits', \n",
    "                               'post_ip_flag': 'post_hos_visits', 'post_er_flag': 'post_er_visits'})"
   ]
  },
  {
   "cell_type": "code",
   "execution_count": 149,
   "metadata": {},
   "outputs": [],
   "source": [
    "IP_ERR = aggregateCount(IP_ER)\n",
    "ip_err = pd.DataFrame(IP_ERR).fillna(0)\n",
    "ip_er = ip_err.drop(columns = ['patient_key','pdc_80_flag']).reset_index()"
   ]
  },
  {
   "cell_type": "code",
   "execution_count": 150,
   "metadata": {},
   "outputs": [],
   "source": [
    "AC_pdc = pd.concat([res,age_df, male_df, region_df,desired_AF, ip_er_df], axis =0)"
   ]
  },
  {
   "cell_type": "code",
   "execution_count": 151,
   "metadata": {},
   "outputs": [],
   "source": [
    "# Set the 'category' column as the index\n",
    "AC_pdc.set_index('category', inplace=True)\n",
    "\n",
    "# Define a list of categories to compare against \"AD_pop\"\n",
    "categories_to_compare = AC_pdc.index[AC_pdc.index != 'AC_pop']\n",
    "\n",
    "p_values = []\n",
    "diseases = []\n",
    "\n",
    "for category in categories_to_compare:\n",
    "    # create a contingency table for each row\n",
    "    contingency_table = AC_pdc.loc[['AC_pop', category]]\n",
    "    \n",
    "    chi2, p, _, _ = chi2_contingency(contingency_table)\n",
    "    \n",
    "    diseases.append(category)\n",
    "    p_values.append(f'{p:.5f}')\n",
    "    \n",
    "# Create a DataFrame with the results\n",
    "result_df = pd.DataFrame({\n",
    "    'Category': diseases,\n",
    "    'P-Value': p_values\n",
    "})"
   ]
  },
  {
   "cell_type": "code",
   "execution_count": 152,
   "metadata": {},
   "outputs": [],
   "source": [
    "AC_comorbidity = pd.merge(AC_pdc, result_df, left_on='category', right_on = 'Category', how='inner')"
   ]
  },
  {
   "cell_type": "code",
   "execution_count": 153,
   "metadata": {},
   "outputs": [
    {
     "data": {
      "text/html": [
       "<div>\n",
       "<style scoped>\n",
       "    .dataframe tbody tr th:only-of-type {\n",
       "        vertical-align: middle;\n",
       "    }\n",
       "\n",
       "    .dataframe tbody tr th {\n",
       "        vertical-align: top;\n",
       "    }\n",
       "\n",
       "    .dataframe thead th {\n",
       "        text-align: right;\n",
       "    }\n",
       "</style>\n",
       "<table border=\"1\" class=\"dataframe\">\n",
       "  <thead>\n",
       "    <tr style=\"text-align: right;\">\n",
       "      <th></th>\n",
       "      <th>Category</th>\n",
       "      <th>pdc_80_flag_0</th>\n",
       "      <th>pdc_80_flag_1</th>\n",
       "      <th>P-Value</th>\n",
       "    </tr>\n",
       "  </thead>\n",
       "  <tbody>\n",
       "    <tr>\n",
       "      <th>0</th>\n",
       "      <td>age_19-44</td>\n",
       "      <td>375.0</td>\n",
       "      <td>97.0</td>\n",
       "      <td>0.00366</td>\n",
       "    </tr>\n",
       "    <tr>\n",
       "      <th>1</th>\n",
       "      <td>age_45 - 64</td>\n",
       "      <td>890.0</td>\n",
       "      <td>221.0</td>\n",
       "      <td>0.00001</td>\n",
       "    </tr>\n",
       "    <tr>\n",
       "      <th>2</th>\n",
       "      <td>age_65+</td>\n",
       "      <td>172.0</td>\n",
       "      <td>73.0</td>\n",
       "      <td>0.49416</td>\n",
       "    </tr>\n",
       "    <tr>\n",
       "      <th>3</th>\n",
       "      <td>male_pop</td>\n",
       "      <td>661.0</td>\n",
       "      <td>228.0</td>\n",
       "      <td>0.36874</td>\n",
       "    </tr>\n",
       "    <tr>\n",
       "      <th>4</th>\n",
       "      <td>Northest</td>\n",
       "      <td>218.0</td>\n",
       "      <td>46.0</td>\n",
       "      <td>0.00085</td>\n",
       "    </tr>\n",
       "    <tr>\n",
       "      <th>5</th>\n",
       "      <td>Midwest</td>\n",
       "      <td>529.0</td>\n",
       "      <td>158.0</td>\n",
       "      <td>0.03346</td>\n",
       "    </tr>\n",
       "    <tr>\n",
       "      <th>6</th>\n",
       "      <td>South</td>\n",
       "      <td>597.0</td>\n",
       "      <td>162.0</td>\n",
       "      <td>0.00216</td>\n",
       "    </tr>\n",
       "    <tr>\n",
       "      <th>7</th>\n",
       "      <td>West</td>\n",
       "      <td>93.0</td>\n",
       "      <td>25.0</td>\n",
       "      <td>0.17293</td>\n",
       "    </tr>\n",
       "    <tr>\n",
       "      <th>8</th>\n",
       "      <td>ALCOHOL_DRUG</td>\n",
       "      <td>36.0</td>\n",
       "      <td>9.0</td>\n",
       "      <td>0.35039</td>\n",
       "    </tr>\n",
       "    <tr>\n",
       "      <th>9</th>\n",
       "      <td>ASTHMA</td>\n",
       "      <td>113.0</td>\n",
       "      <td>18.0</td>\n",
       "      <td>0.00095</td>\n",
       "    </tr>\n",
       "    <tr>\n",
       "      <th>10</th>\n",
       "      <td>CARDIAC_ARRYTHMIA</td>\n",
       "      <td>236.0</td>\n",
       "      <td>115.0</td>\n",
       "      <td>0.05565</td>\n",
       "    </tr>\n",
       "    <tr>\n",
       "      <th>11</th>\n",
       "      <td>CARDIAC_VALVULAR</td>\n",
       "      <td>82.0</td>\n",
       "      <td>50.0</td>\n",
       "      <td>0.01445</td>\n",
       "    </tr>\n",
       "    <tr>\n",
       "      <th>12</th>\n",
       "      <td>CEREBROVASCULAR</td>\n",
       "      <td>28.0</td>\n",
       "      <td>16.0</td>\n",
       "      <td>0.25770</td>\n",
       "    </tr>\n",
       "    <tr>\n",
       "      <th>13</th>\n",
       "      <td>CHRONIC_KIDNEY</td>\n",
       "      <td>23.0</td>\n",
       "      <td>17.0</td>\n",
       "      <td>0.05524</td>\n",
       "    </tr>\n",
       "    <tr>\n",
       "      <th>14</th>\n",
       "      <td>CHRONIC_PAIN_FIBRO</td>\n",
       "      <td>137.0</td>\n",
       "      <td>24.0</td>\n",
       "      <td>0.00085</td>\n",
       "    </tr>\n",
       "    <tr>\n",
       "      <th>15</th>\n",
       "      <td>CHF</td>\n",
       "      <td>40.0</td>\n",
       "      <td>25.0</td>\n",
       "      <td>0.07250</td>\n",
       "    </tr>\n",
       "    <tr>\n",
       "      <th>16</th>\n",
       "      <td>COPD</td>\n",
       "      <td>26.0</td>\n",
       "      <td>9.0</td>\n",
       "      <td>0.97275</td>\n",
       "    </tr>\n",
       "    <tr>\n",
       "      <th>17</th>\n",
       "      <td>DEMENTIA</td>\n",
       "      <td>4.0</td>\n",
       "      <td>2.0</td>\n",
       "      <td>0.89224</td>\n",
       "    </tr>\n",
       "    <tr>\n",
       "      <th>18</th>\n",
       "      <td>DEPRESSION</td>\n",
       "      <td>150.0</td>\n",
       "      <td>29.0</td>\n",
       "      <td>0.00173</td>\n",
       "    </tr>\n",
       "    <tr>\n",
       "      <th>19</th>\n",
       "      <td>DIABETES</td>\n",
       "      <td>123.0</td>\n",
       "      <td>65.0</td>\n",
       "      <td>0.05046</td>\n",
       "    </tr>\n",
       "    <tr>\n",
       "      <th>20</th>\n",
       "      <td>DYSLIPIDEMIA</td>\n",
       "      <td>421.0</td>\n",
       "      <td>144.0</td>\n",
       "      <td>0.40685</td>\n",
       "    </tr>\n",
       "    <tr>\n",
       "      <th>21</th>\n",
       "      <td>EPILEPSY_SEIZURE</td>\n",
       "      <td>19.0</td>\n",
       "      <td>6.0</td>\n",
       "      <td>0.87602</td>\n",
       "    </tr>\n",
       "    <tr>\n",
       "      <th>22</th>\n",
       "      <td>HEPATITIS</td>\n",
       "      <td>6.0</td>\n",
       "      <td>1.0</td>\n",
       "      <td>0.72358</td>\n",
       "    </tr>\n",
       "    <tr>\n",
       "      <th>23</th>\n",
       "      <td>HIV_AIDS</td>\n",
       "      <td>2.0</td>\n",
       "      <td>1.0</td>\n",
       "      <td>0.67522</td>\n",
       "    </tr>\n",
       "    <tr>\n",
       "      <th>24</th>\n",
       "      <td>HYPERTENSION</td>\n",
       "      <td>540.0</td>\n",
       "      <td>155.0</td>\n",
       "      <td>0.01292</td>\n",
       "    </tr>\n",
       "    <tr>\n",
       "      <th>25</th>\n",
       "      <td>LIVER_GALLBLADDER_PANCREAS</td>\n",
       "      <td>76.0</td>\n",
       "      <td>29.0</td>\n",
       "      <td>0.94156</td>\n",
       "    </tr>\n",
       "    <tr>\n",
       "      <th>26</th>\n",
       "      <td>MI_CAD</td>\n",
       "      <td>120.0</td>\n",
       "      <td>58.0</td>\n",
       "      <td>0.17608</td>\n",
       "    </tr>\n",
       "    <tr>\n",
       "      <th>27</th>\n",
       "      <td>OSTEOARTHRITIS</td>\n",
       "      <td>777.0</td>\n",
       "      <td>104.0</td>\n",
       "      <td>0.00000</td>\n",
       "    </tr>\n",
       "    <tr>\n",
       "      <th>28</th>\n",
       "      <td>PARALYSIS</td>\n",
       "      <td>28.0</td>\n",
       "      <td>24.0</td>\n",
       "      <td>0.00524</td>\n",
       "    </tr>\n",
       "    <tr>\n",
       "      <th>29</th>\n",
       "      <td>PEPTIC_ULCER</td>\n",
       "      <td>12.0</td>\n",
       "      <td>2.0</td>\n",
       "      <td>0.42500</td>\n",
       "    </tr>\n",
       "    <tr>\n",
       "      <th>30</th>\n",
       "      <td>PERIPHERAL_VASCULAR</td>\n",
       "      <td>87.0</td>\n",
       "      <td>36.0</td>\n",
       "      <td>0.74103</td>\n",
       "    </tr>\n",
       "    <tr>\n",
       "      <th>31</th>\n",
       "      <td>RENAL_FAILURE</td>\n",
       "      <td>9.0</td>\n",
       "      <td>6.0</td>\n",
       "      <td>0.42801</td>\n",
       "    </tr>\n",
       "    <tr>\n",
       "      <th>32</th>\n",
       "      <td>RHEUMATOLOGIC</td>\n",
       "      <td>84.0</td>\n",
       "      <td>10.0</td>\n",
       "      <td>0.00054</td>\n",
       "    </tr>\n",
       "    <tr>\n",
       "      <th>33</th>\n",
       "      <td>SCHIZOPHRENIA</td>\n",
       "      <td>3.0</td>\n",
       "      <td>0.0</td>\n",
       "      <td>0.67696</td>\n",
       "    </tr>\n",
       "    <tr>\n",
       "      <th>34</th>\n",
       "      <td>SLEEP_DISORDERS</td>\n",
       "      <td>203.0</td>\n",
       "      <td>58.0</td>\n",
       "      <td>0.09362</td>\n",
       "    </tr>\n",
       "    <tr>\n",
       "      <th>35</th>\n",
       "      <td>SMOKING</td>\n",
       "      <td>235.0</td>\n",
       "      <td>41.0</td>\n",
       "      <td>0.00002</td>\n",
       "    </tr>\n",
       "    <tr>\n",
       "      <th>36</th>\n",
       "      <td>THYROID</td>\n",
       "      <td>125.0</td>\n",
       "      <td>27.0</td>\n",
       "      <td>0.01342</td>\n",
       "    </tr>\n",
       "    <tr>\n",
       "      <th>37</th>\n",
       "      <td>Solid_Tumor</td>\n",
       "      <td>98.0</td>\n",
       "      <td>39.0</td>\n",
       "      <td>0.87500</td>\n",
       "    </tr>\n",
       "    <tr>\n",
       "      <th>38</th>\n",
       "      <td>Metastatic</td>\n",
       "      <td>23.0</td>\n",
       "      <td>16.0</td>\n",
       "      <td>0.09153</td>\n",
       "    </tr>\n",
       "    <tr>\n",
       "      <th>39</th>\n",
       "      <td>Leukemia_Lymphoma</td>\n",
       "      <td>8.0</td>\n",
       "      <td>3.0</td>\n",
       "      <td>0.74375</td>\n",
       "    </tr>\n",
       "    <tr>\n",
       "      <th>40</th>\n",
       "      <td>Other_Cancer</td>\n",
       "      <td>82.0</td>\n",
       "      <td>25.0</td>\n",
       "      <td>0.42303</td>\n",
       "    </tr>\n",
       "    <tr>\n",
       "      <th>41</th>\n",
       "      <td>pdc_80_flag</td>\n",
       "      <td>0.0</td>\n",
       "      <td>1.0</td>\n",
       "      <td>0.61400</td>\n",
       "    </tr>\n",
       "    <tr>\n",
       "      <th>42</th>\n",
       "      <td>pre_hos_visits</td>\n",
       "      <td>82.0</td>\n",
       "      <td>37.0</td>\n",
       "      <td>0.45393</td>\n",
       "    </tr>\n",
       "    <tr>\n",
       "      <th>43</th>\n",
       "      <td>pre_er_visits</td>\n",
       "      <td>224.0</td>\n",
       "      <td>85.0</td>\n",
       "      <td>0.96371</td>\n",
       "    </tr>\n",
       "    <tr>\n",
       "      <th>44</th>\n",
       "      <td>post_hos_visits</td>\n",
       "      <td>101.0</td>\n",
       "      <td>34.0</td>\n",
       "      <td>0.64485</td>\n",
       "    </tr>\n",
       "    <tr>\n",
       "      <th>45</th>\n",
       "      <td>post_er_visits</td>\n",
       "      <td>172.0</td>\n",
       "      <td>68.0</td>\n",
       "      <td>0.83453</td>\n",
       "    </tr>\n",
       "  </tbody>\n",
       "</table>\n",
       "</div>"
      ],
      "text/plain": [
       "                      Category  pdc_80_flag_0  pdc_80_flag_1  P-Value\n",
       "0                    age_19-44          375.0           97.0  0.00366\n",
       "1                  age_45 - 64          890.0          221.0  0.00001\n",
       "2                      age_65+          172.0           73.0  0.49416\n",
       "3                     male_pop          661.0          228.0  0.36874\n",
       "4                     Northest          218.0           46.0  0.00085\n",
       "5                      Midwest          529.0          158.0  0.03346\n",
       "6                        South          597.0          162.0  0.00216\n",
       "7                         West           93.0           25.0  0.17293\n",
       "8                 ALCOHOL_DRUG           36.0            9.0  0.35039\n",
       "9                       ASTHMA          113.0           18.0  0.00095\n",
       "10           CARDIAC_ARRYTHMIA          236.0          115.0  0.05565\n",
       "11            CARDIAC_VALVULAR           82.0           50.0  0.01445\n",
       "12             CEREBROVASCULAR           28.0           16.0  0.25770\n",
       "13              CHRONIC_KIDNEY           23.0           17.0  0.05524\n",
       "14          CHRONIC_PAIN_FIBRO          137.0           24.0  0.00085\n",
       "15                         CHF           40.0           25.0  0.07250\n",
       "16                        COPD           26.0            9.0  0.97275\n",
       "17                    DEMENTIA            4.0            2.0  0.89224\n",
       "18                  DEPRESSION          150.0           29.0  0.00173\n",
       "19                    DIABETES          123.0           65.0  0.05046\n",
       "20                DYSLIPIDEMIA          421.0          144.0  0.40685\n",
       "21            EPILEPSY_SEIZURE           19.0            6.0  0.87602\n",
       "22                   HEPATITIS            6.0            1.0  0.72358\n",
       "23                    HIV_AIDS            2.0            1.0  0.67522\n",
       "24                HYPERTENSION          540.0          155.0  0.01292\n",
       "25  LIVER_GALLBLADDER_PANCREAS           76.0           29.0  0.94156\n",
       "26                      MI_CAD          120.0           58.0  0.17608\n",
       "27              OSTEOARTHRITIS          777.0          104.0  0.00000\n",
       "28                   PARALYSIS           28.0           24.0  0.00524\n",
       "29                PEPTIC_ULCER           12.0            2.0  0.42500\n",
       "30         PERIPHERAL_VASCULAR           87.0           36.0  0.74103\n",
       "31               RENAL_FAILURE            9.0            6.0  0.42801\n",
       "32               RHEUMATOLOGIC           84.0           10.0  0.00054\n",
       "33               SCHIZOPHRENIA            3.0            0.0  0.67696\n",
       "34             SLEEP_DISORDERS          203.0           58.0  0.09362\n",
       "35                     SMOKING          235.0           41.0  0.00002\n",
       "36                     THYROID          125.0           27.0  0.01342\n",
       "37                 Solid_Tumor           98.0           39.0  0.87500\n",
       "38                  Metastatic           23.0           16.0  0.09153\n",
       "39           Leukemia_Lymphoma            8.0            3.0  0.74375\n",
       "40                Other_Cancer           82.0           25.0  0.42303\n",
       "41                 pdc_80_flag            0.0            1.0  0.61400\n",
       "42              pre_hos_visits           82.0           37.0  0.45393\n",
       "43               pre_er_visits          224.0           85.0  0.96371\n",
       "44             post_hos_visits          101.0           34.0  0.64485\n",
       "45              post_er_visits          172.0           68.0  0.83453"
      ]
     },
     "execution_count": 153,
     "metadata": {},
     "output_type": "execute_result"
    }
   ],
   "source": [
    "new_order = ['Category', 'pdc_80_flag_0', 'pdc_80_flag_1', 'P-Value']\n",
    "AC_comorbidity = AC_comorbidity[new_order]\n",
    "AC_comorbidity"
   ]
  },
  {
   "cell_type": "code",
   "execution_count": null,
   "metadata": {},
   "outputs": [],
   "source": []
  }
 ],
 "metadata": {
  "kernelspec": {
   "display_name": "Python 3",
   "language": "python",
   "name": "python3"
  },
  "language_info": {
   "codemirror_mode": {
    "name": "ipython",
    "version": 3
   },
   "file_extension": ".py",
   "mimetype": "text/x-python",
   "name": "python",
   "nbconvert_exporter": "python",
   "pygments_lexer": "ipython3",
   "version": "3.6.5"
  }
 },
 "nbformat": 4,
 "nbformat_minor": 2
}
