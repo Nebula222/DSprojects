{
 "cells": [
  {
   "cell_type": "code",
   "execution_count": 1,
   "metadata": {},
   "outputs": [],
   "source": [
    "# Get Dataset\n",
    "import pandas as pd\n",
    "import numpy as np\n",
    "import seaborn as sns\n",
    "import matplotlib.pyplot as plt"
   ]
  },
  {
   "cell_type": "code",
   "execution_count": 4,
   "metadata": {},
   "outputs": [
    {
     "data": {
      "text/plain": [
       "'/Users/angela/DSprojects'"
      ]
     },
     "execution_count": 4,
     "metadata": {},
     "output_type": "execute_result"
    }
   ],
   "source": [
    "import os\n",
    "os.getcwd()"
   ]
  },
  {
   "cell_type": "code",
   "execution_count": 2,
   "metadata": {},
   "outputs": [
    {
     "ename": "FileNotFoundError",
     "evalue": "File b'users/angela/OneDrive/ANLT272_Healthcare_CaseStudies/uopjan16_claims_in.csv' does not exist",
     "output_type": "error",
     "traceback": [
      "\u001b[0;31m---------------------------------------------------------------------------\u001b[0m",
      "\u001b[0;31mFileNotFoundError\u001b[0m                         Traceback (most recent call last)",
      "\u001b[0;32m<ipython-input-2-679063e5979f>\u001b[0m in \u001b[0;36m<module>\u001b[0;34m()\u001b[0m\n\u001b[0;32m----> 1\u001b[0;31m \u001b[0mclaims\u001b[0m \u001b[0;34m=\u001b[0m \u001b[0mpd\u001b[0m\u001b[0;34m.\u001b[0m\u001b[0mread_csv\u001b[0m\u001b[0;34m(\u001b[0m\u001b[0;34m'users/angela/OneDrive/ANLT272_Healthcare_CaseStudies/uopjan16_claims_in.csv'\u001b[0m\u001b[0;34m,\u001b[0m \u001b[0mlow_memory\u001b[0m \u001b[0;34m=\u001b[0m \u001b[0;32mFalse\u001b[0m\u001b[0;34m)\u001b[0m\u001b[0;34m\u001b[0m\u001b[0m\n\u001b[0m",
      "\u001b[0;32m~/anaconda3/lib/python3.6/site-packages/pandas/io/parsers.py\u001b[0m in \u001b[0;36mparser_f\u001b[0;34m(filepath_or_buffer, sep, delimiter, header, names, index_col, usecols, squeeze, prefix, mangle_dupe_cols, dtype, engine, converters, true_values, false_values, skipinitialspace, skiprows, nrows, na_values, keep_default_na, na_filter, verbose, skip_blank_lines, parse_dates, infer_datetime_format, keep_date_col, date_parser, dayfirst, iterator, chunksize, compression, thousands, decimal, lineterminator, quotechar, quoting, escapechar, comment, encoding, dialect, tupleize_cols, error_bad_lines, warn_bad_lines, skipfooter, doublequote, delim_whitespace, low_memory, memory_map, float_precision)\u001b[0m\n\u001b[1;32m    676\u001b[0m                     skip_blank_lines=skip_blank_lines)\n\u001b[1;32m    677\u001b[0m \u001b[0;34m\u001b[0m\u001b[0m\n\u001b[0;32m--> 678\u001b[0;31m         \u001b[0;32mreturn\u001b[0m \u001b[0m_read\u001b[0m\u001b[0;34m(\u001b[0m\u001b[0mfilepath_or_buffer\u001b[0m\u001b[0;34m,\u001b[0m \u001b[0mkwds\u001b[0m\u001b[0;34m)\u001b[0m\u001b[0;34m\u001b[0m\u001b[0m\n\u001b[0m\u001b[1;32m    679\u001b[0m \u001b[0;34m\u001b[0m\u001b[0m\n\u001b[1;32m    680\u001b[0m     \u001b[0mparser_f\u001b[0m\u001b[0;34m.\u001b[0m\u001b[0m__name__\u001b[0m \u001b[0;34m=\u001b[0m \u001b[0mname\u001b[0m\u001b[0;34m\u001b[0m\u001b[0m\n",
      "\u001b[0;32m~/anaconda3/lib/python3.6/site-packages/pandas/io/parsers.py\u001b[0m in \u001b[0;36m_read\u001b[0;34m(filepath_or_buffer, kwds)\u001b[0m\n\u001b[1;32m    438\u001b[0m \u001b[0;34m\u001b[0m\u001b[0m\n\u001b[1;32m    439\u001b[0m     \u001b[0;31m# Create the parser.\u001b[0m\u001b[0;34m\u001b[0m\u001b[0;34m\u001b[0m\u001b[0m\n\u001b[0;32m--> 440\u001b[0;31m     \u001b[0mparser\u001b[0m \u001b[0;34m=\u001b[0m \u001b[0mTextFileReader\u001b[0m\u001b[0;34m(\u001b[0m\u001b[0mfilepath_or_buffer\u001b[0m\u001b[0;34m,\u001b[0m \u001b[0;34m**\u001b[0m\u001b[0mkwds\u001b[0m\u001b[0;34m)\u001b[0m\u001b[0;34m\u001b[0m\u001b[0m\n\u001b[0m\u001b[1;32m    441\u001b[0m \u001b[0;34m\u001b[0m\u001b[0m\n\u001b[1;32m    442\u001b[0m     \u001b[0;32mif\u001b[0m \u001b[0mchunksize\u001b[0m \u001b[0;32mor\u001b[0m \u001b[0miterator\u001b[0m\u001b[0;34m:\u001b[0m\u001b[0;34m\u001b[0m\u001b[0m\n",
      "\u001b[0;32m~/anaconda3/lib/python3.6/site-packages/pandas/io/parsers.py\u001b[0m in \u001b[0;36m__init__\u001b[0;34m(self, f, engine, **kwds)\u001b[0m\n\u001b[1;32m    785\u001b[0m             \u001b[0mself\u001b[0m\u001b[0;34m.\u001b[0m\u001b[0moptions\u001b[0m\u001b[0;34m[\u001b[0m\u001b[0;34m'has_index_names'\u001b[0m\u001b[0;34m]\u001b[0m \u001b[0;34m=\u001b[0m \u001b[0mkwds\u001b[0m\u001b[0;34m[\u001b[0m\u001b[0;34m'has_index_names'\u001b[0m\u001b[0;34m]\u001b[0m\u001b[0;34m\u001b[0m\u001b[0m\n\u001b[1;32m    786\u001b[0m \u001b[0;34m\u001b[0m\u001b[0m\n\u001b[0;32m--> 787\u001b[0;31m         \u001b[0mself\u001b[0m\u001b[0;34m.\u001b[0m\u001b[0m_make_engine\u001b[0m\u001b[0;34m(\u001b[0m\u001b[0mself\u001b[0m\u001b[0;34m.\u001b[0m\u001b[0mengine\u001b[0m\u001b[0;34m)\u001b[0m\u001b[0;34m\u001b[0m\u001b[0m\n\u001b[0m\u001b[1;32m    788\u001b[0m \u001b[0;34m\u001b[0m\u001b[0m\n\u001b[1;32m    789\u001b[0m     \u001b[0;32mdef\u001b[0m \u001b[0mclose\u001b[0m\u001b[0;34m(\u001b[0m\u001b[0mself\u001b[0m\u001b[0;34m)\u001b[0m\u001b[0;34m:\u001b[0m\u001b[0;34m\u001b[0m\u001b[0m\n",
      "\u001b[0;32m~/anaconda3/lib/python3.6/site-packages/pandas/io/parsers.py\u001b[0m in \u001b[0;36m_make_engine\u001b[0;34m(self, engine)\u001b[0m\n\u001b[1;32m   1012\u001b[0m     \u001b[0;32mdef\u001b[0m \u001b[0m_make_engine\u001b[0m\u001b[0;34m(\u001b[0m\u001b[0mself\u001b[0m\u001b[0;34m,\u001b[0m \u001b[0mengine\u001b[0m\u001b[0;34m=\u001b[0m\u001b[0;34m'c'\u001b[0m\u001b[0;34m)\u001b[0m\u001b[0;34m:\u001b[0m\u001b[0;34m\u001b[0m\u001b[0m\n\u001b[1;32m   1013\u001b[0m         \u001b[0;32mif\u001b[0m \u001b[0mengine\u001b[0m \u001b[0;34m==\u001b[0m \u001b[0;34m'c'\u001b[0m\u001b[0;34m:\u001b[0m\u001b[0;34m\u001b[0m\u001b[0m\n\u001b[0;32m-> 1014\u001b[0;31m             \u001b[0mself\u001b[0m\u001b[0;34m.\u001b[0m\u001b[0m_engine\u001b[0m \u001b[0;34m=\u001b[0m \u001b[0mCParserWrapper\u001b[0m\u001b[0;34m(\u001b[0m\u001b[0mself\u001b[0m\u001b[0;34m.\u001b[0m\u001b[0mf\u001b[0m\u001b[0;34m,\u001b[0m \u001b[0;34m**\u001b[0m\u001b[0mself\u001b[0m\u001b[0;34m.\u001b[0m\u001b[0moptions\u001b[0m\u001b[0;34m)\u001b[0m\u001b[0;34m\u001b[0m\u001b[0m\n\u001b[0m\u001b[1;32m   1015\u001b[0m         \u001b[0;32melse\u001b[0m\u001b[0;34m:\u001b[0m\u001b[0;34m\u001b[0m\u001b[0m\n\u001b[1;32m   1016\u001b[0m             \u001b[0;32mif\u001b[0m \u001b[0mengine\u001b[0m \u001b[0;34m==\u001b[0m \u001b[0;34m'python'\u001b[0m\u001b[0;34m:\u001b[0m\u001b[0;34m\u001b[0m\u001b[0m\n",
      "\u001b[0;32m~/anaconda3/lib/python3.6/site-packages/pandas/io/parsers.py\u001b[0m in \u001b[0;36m__init__\u001b[0;34m(self, src, **kwds)\u001b[0m\n\u001b[1;32m   1706\u001b[0m         \u001b[0mkwds\u001b[0m\u001b[0;34m[\u001b[0m\u001b[0;34m'usecols'\u001b[0m\u001b[0;34m]\u001b[0m \u001b[0;34m=\u001b[0m \u001b[0mself\u001b[0m\u001b[0;34m.\u001b[0m\u001b[0musecols\u001b[0m\u001b[0;34m\u001b[0m\u001b[0m\n\u001b[1;32m   1707\u001b[0m \u001b[0;34m\u001b[0m\u001b[0m\n\u001b[0;32m-> 1708\u001b[0;31m         \u001b[0mself\u001b[0m\u001b[0;34m.\u001b[0m\u001b[0m_reader\u001b[0m \u001b[0;34m=\u001b[0m \u001b[0mparsers\u001b[0m\u001b[0;34m.\u001b[0m\u001b[0mTextReader\u001b[0m\u001b[0;34m(\u001b[0m\u001b[0msrc\u001b[0m\u001b[0;34m,\u001b[0m \u001b[0;34m**\u001b[0m\u001b[0mkwds\u001b[0m\u001b[0;34m)\u001b[0m\u001b[0;34m\u001b[0m\u001b[0m\n\u001b[0m\u001b[1;32m   1709\u001b[0m \u001b[0;34m\u001b[0m\u001b[0m\n\u001b[1;32m   1710\u001b[0m         \u001b[0mpassed_names\u001b[0m \u001b[0;34m=\u001b[0m \u001b[0mself\u001b[0m\u001b[0;34m.\u001b[0m\u001b[0mnames\u001b[0m \u001b[0;32mis\u001b[0m \u001b[0;32mNone\u001b[0m\u001b[0;34m\u001b[0m\u001b[0m\n",
      "\u001b[0;32mpandas/_libs/parsers.pyx\u001b[0m in \u001b[0;36mpandas._libs.parsers.TextReader.__cinit__\u001b[0;34m()\u001b[0m\n",
      "\u001b[0;32mpandas/_libs/parsers.pyx\u001b[0m in \u001b[0;36mpandas._libs.parsers.TextReader._setup_parser_source\u001b[0;34m()\u001b[0m\n",
      "\u001b[0;31mFileNotFoundError\u001b[0m: File b'users/angela/OneDrive/ANLT272_Healthcare_CaseStudies/uopjan16_claims_in.csv' does not exist"
     ]
    }
   ],
   "source": [
    "claims = pd.read_csv('users/angela/OneDrive/ANLT272_Healthcare_CaseStudies/uopjan16_claims_in.csv', low_memory = False)"
   ]
  },
  {
   "cell_type": "code",
   "execution_count": null,
   "metadata": {},
   "outputs": [],
   "source": [
    "claims.shape"
   ]
  },
  {
   "cell_type": "code",
   "execution_count": null,
   "metadata": {},
   "outputs": [],
   "source": [
    "eligibility = pd.read_csv('users/angela/OneDrive/ANLT272_Healthcare_CaseStudies/uopjan16_enroll_in.csv')"
   ]
  },
  {
   "cell_type": "code",
   "execution_count": null,
   "metadata": {},
   "outputs": [],
   "source": [
    "NPDLookup = pd.read_csv('users/angela/OneDrive/ANLT272_Healthcare_CaseStudies/uopjanref_rx_lookup.csv')"
   ]
  },
  {
   "cell_type": "code",
   "execution_count": null,
   "metadata": {},
   "outputs": [],
   "source": [
    "NPDLookup = NPDLookup.rename(columns = {'National Drug Code': 'NDC'})"
   ]
  },
  {
   "cell_type": "code",
   "execution_count": null,
   "metadata": {},
   "outputs": [],
   "source": [
    "# generate AC_AD NDC list\n",
    "AC_AD = NPDLookup.loc[(NPDLookup['rx_group'] == 'ANTIDIABETICS')| (NPDLookup['rx_group'] =='ANTICOAGULANTS'), 'NDC'].drop_duplicates()"
   ]
  },
  {
   "cell_type": "code",
   "execution_count": null,
   "metadata": {},
   "outputs": [],
   "source": [
    "pharma_data = claims[(claims['rectype'] == 'P') & (claims['ndc'].notnull())]"
   ]
  },
  {
   "cell_type": "code",
   "execution_count": null,
   "metadata": {},
   "outputs": [],
   "source": [
    "pharma_data.loc[:, 'ndc'] = pharma_data['ndc'].str.lstrip('0')"
   ]
  },
  {
   "cell_type": "code",
   "execution_count": null,
   "metadata": {},
   "outputs": [],
   "source": [
    "Anticoagulant = NPDLookup.loc[(NPDLookup['rx_group'] == 'ANTICOAGULANTS')].NDC.drop_duplicates()\n",
    "Antidiabetics = NPDLookup.loc[(NPDLookup['rx_group'] == 'ANTIDIABETICS')].NDC.drop_duplicates()                           "
   ]
  },
  {
   "cell_type": "code",
   "execution_count": null,
   "metadata": {},
   "outputs": [],
   "source": [
    "Anticoagulant = Anticoagulant.astype(str)\n",
    "Antidiabetics = Antidiabetics.astype(str)\n",
    "AC_AD = AC_AD.astype(str)"
   ]
  },
  {
   "cell_type": "code",
   "execution_count": null,
   "metadata": {},
   "outputs": [],
   "source": [
    "column_name = 'ndc'\n",
    "AC_df = pd.DataFrame({column_name: Anticoagulant})\n",
    "AD_df = pd.DataFrame({column_name: Antidiabetics})"
   ]
  },
  {
   "cell_type": "code",
   "execution_count": null,
   "metadata": {},
   "outputs": [],
   "source": [
    "AC_df['rx_group'] = 'Anticoagulants'\n",
    "AD_df['rx_group'] = 'Antidiabetics'"
   ]
  },
  {
   "cell_type": "code",
   "execution_count": null,
   "metadata": {},
   "outputs": [],
   "source": [
    "mergedADAC_df = pd.concat([AC_df, AD_df], axis=0, ignore_index=True)"
   ]
  },
  {
   "cell_type": "code",
   "execution_count": null,
   "metadata": {},
   "outputs": [],
   "source": [
    "mergedADAC_df.head()"
   ]
  },
  {
   "cell_type": "code",
   "execution_count": null,
   "metadata": {},
   "outputs": [],
   "source": [
    "# merge anticoagulants dataframe and antidiabetics dataframe with pharma_data\n",
    "pharma_data = pd.merge(pharma_data, mergedADAC_df, on = 'ndc', how = 'left')"
   ]
  },
  {
   "cell_type": "code",
   "execution_count": null,
   "metadata": {},
   "outputs": [],
   "source": [
    "pharma_data.shape"
   ]
  },
  {
   "cell_type": "code",
   "execution_count": null,
   "metadata": {},
   "outputs": [],
   "source": [
    "on_index_df = pharma_data[(pharma_data['from_dt'] >= '2013-01-01') & (pharma_data['from_dt'] <= '2013-03-31')]"
   ]
  },
  {
   "cell_type": "code",
   "execution_count": null,
   "metadata": {},
   "outputs": [],
   "source": [
    "on_index_df.shape"
   ]
  },
  {
   "cell_type": "code",
   "execution_count": null,
   "metadata": {},
   "outputs": [],
   "source": [
    "on_index_df[on_index_df['rx_group'].isnull()].ndc.unique()"
   ]
  },
  {
   "cell_type": "code",
   "execution_count": null,
   "metadata": {},
   "outputs": [],
   "source": [
    "# this is for all anticoagulants claims\n",
    "AC_claims = pharma_data[pharma_data['ndc'].isin(Anticoagulant)]"
   ]
  },
  {
   "cell_type": "code",
   "execution_count": null,
   "metadata": {},
   "outputs": [],
   "source": [
    "neither_claims = pharma_data[~pharma_data['ndc'].isin(AC_AD)]"
   ]
  },
  {
   "cell_type": "code",
   "execution_count": null,
   "metadata": {},
   "outputs": [],
   "source": [
    "# add age to the eligibility file\n",
    "eligibility['age'] = 2013 - eligibility['der_yob']"
   ]
  },
  {
   "cell_type": "code",
   "execution_count": null,
   "metadata": {},
   "outputs": [],
   "source": [
    "# add age buckets\n",
    "bin_edges = [0, 18, 50, 65, 75, 130]\n",
    "eligibility['age_bucket'] = pd.cut(eligibility['age'], bins = bin_edges, labels=['0-18', '19-50', '51-65','66-75', '76+'])"
   ]
  },
  {
   "cell_type": "code",
   "execution_count": null,
   "metadata": {},
   "outputs": [],
   "source": [
    "columns_to_select = ['pat_id', 'der_sex', 'age', 'pat_region', 'age_bucket']\n",
    "elig_subset = eligibility[columns_to_select]"
   ]
  },
  {
   "cell_type": "code",
   "execution_count": null,
   "metadata": {},
   "outputs": [],
   "source": [
    "#merge on_index_data with eligibility subset dataframe\n",
    "on_index_df = on_index_df.merge(elig_subset, on = 'pat_id', how = 'left')"
   ]
  },
  {
   "cell_type": "code",
   "execution_count": null,
   "metadata": {},
   "outputs": [],
   "source": [
    "on_index_df.shape"
   ]
  },
  {
   "cell_type": "code",
   "execution_count": null,
   "metadata": {},
   "outputs": [],
   "source": [
    "on_index_df['from_dt'] = pd.to_datetime(on_index_df['from_dt'], format = '%Y-%m-%d')"
   ]
  },
  {
   "cell_type": "code",
   "execution_count": null,
   "metadata": {},
   "outputs": [],
   "source": [
    "first_occurances = on_index_df.groupby(['pat_id', 'rx_group'])['from_dt'].idxmin()"
   ]
  },
  {
   "cell_type": "code",
   "execution_count": null,
   "metadata": {},
   "outputs": [],
   "source": [
    "first_occurances_df = on_index_df.loc[first_occurances]"
   ]
  },
  {
   "cell_type": "code",
   "execution_count": null,
   "metadata": {},
   "outputs": [],
   "source": [
    "first_occurances_df.pat_id.nunique()"
   ]
  },
  {
   "cell_type": "code",
   "execution_count": null,
   "metadata": {},
   "outputs": [],
   "source": [
    "on_index_df[on_index_df['pat_id'] == '0390AAAAAAVBDQXQ'].head()"
   ]
  },
  {
   "cell_type": "code",
   "execution_count": null,
   "metadata": {},
   "outputs": [],
   "source": [
    "# the sample size for patients who have either anticoagulants or antidiabetics claims\n",
    "first_occurances_df.groupby(['rx_group', 'der_sex']).pat_id.nunique()"
   ]
  },
  {
   "cell_type": "code",
   "execution_count": null,
   "metadata": {},
   "outputs": [],
   "source": [
    "# the sample size for patients who have either anticoagulants or antidiabetics claims: group by age bucket\n",
    "first_occurances_df.groupby(['rx_group','age_bucket']).pat_id.nunique()"
   ]
  },
  {
   "cell_type": "code",
   "execution_count": null,
   "metadata": {},
   "outputs": [],
   "source": [
    "pat_more_than_one = first_occurances_df['pat_id'].value_counts()\n",
    "pat_list = pat_more_than_one[pat_more_than_one > 1].index.tolist()"
   ]
  },
  {
   "cell_type": "code",
   "execution_count": null,
   "metadata": {},
   "outputs": [],
   "source": [
    "pat_more_than_one_df = pd.DataFrame({'pat_id': pat_list})"
   ]
  },
  {
   "cell_type": "code",
   "execution_count": null,
   "metadata": {},
   "outputs": [],
   "source": [
    "merged_age_df = pat_more_than_one_df.merge(eligibility, on = 'pat_id', how = 'left')"
   ]
  },
  {
   "cell_type": "code",
   "execution_count": null,
   "metadata": {},
   "outputs": [],
   "source": [
    "# the sample size for patients who have both anticoagulants and antidiabetics claims\n",
    "merged_age_df.groupby(['der_sex']).pat_id.nunique()"
   ]
  },
  {
   "cell_type": "code",
   "execution_count": null,
   "metadata": {},
   "outputs": [],
   "source": [
    "# the sample size for patients who have both anticoagulants and antidiabetics claims: group by age bucket\n",
    "merged_age_df.groupby(['age_bucket']).pat_id.nunique()"
   ]
  },
  {
   "cell_type": "code",
   "execution_count": null,
   "metadata": {},
   "outputs": [],
   "source": [
    "# the sample size for patients who have neither anticoagulants or antidiabetics claims\n",
    "first_occurances_df[first_occurances_df['rx_group'].isnull()].pat_id.nunique()"
   ]
  },
  {
   "cell_type": "code",
   "execution_count": null,
   "metadata": {},
   "outputs": [],
   "source": [
    "from datetime import datetime, timedelta\n",
    "claims['to_dt'] = pd.to_datetime(claims['to_dt'])\n",
    "to_date = pd.to_datetime('2013-01-01')\n",
    "oneEighty =  to_date - timedelta(days=180)"
   ]
  },
  {
   "cell_type": "code",
   "execution_count": null,
   "metadata": {},
   "outputs": [],
   "source": [
    "# generate a pre-index claims: pre index is defined as 180 days prior to the first date of index(1-1-2013)\n",
    "pre_index_hos = claims[(claims['rectype'] == 'F') & (claims['to_dt'] <= to_date) & (claims['to_dt']>= oneEighty)]"
   ]
  },
  {
   "cell_type": "code",
   "execution_count": null,
   "metadata": {},
   "outputs": [],
   "source": [
    "pre_index_hos.shape"
   ]
  },
  {
   "cell_type": "code",
   "execution_count": null,
   "metadata": {},
   "outputs": [],
   "source": [
    "pre_index_hos_AC_AD = first_occurances_df.merge(pre_index_hos, on = 'pat_id', how = 'inner')"
   ]
  },
  {
   "cell_type": "code",
   "execution_count": null,
   "metadata": {},
   "outputs": [],
   "source": [
    "pre_index_hos_AC_AD.shape"
   ]
  },
  {
   "cell_type": "code",
   "execution_count": null,
   "metadata": {},
   "outputs": [],
   "source": [
    "#pre_index_hospitalized patients whose had antidiabetics or anticoagulants drugs \n",
    "pre_index_hos_AC_AD.groupby(['rx_group']).pat_id.nunique()"
   ]
  },
  {
   "cell_type": "code",
   "execution_count": null,
   "metadata": {},
   "outputs": [],
   "source": [
    "pre_index_hos_more_than_one = pat_more_than_one_df.merge(pre_index_hos, on = 'pat_id', how = 'inner')"
   ]
  },
  {
   "cell_type": "code",
   "execution_count": null,
   "metadata": {},
   "outputs": [],
   "source": [
    "#pre_index_hospitalized patients whose had both antidiabetics and anticoagulants drugs \n",
    "pre_index_hos_more_than_one.pat_id.nunique()"
   ]
  },
  {
   "cell_type": "code",
   "execution_count": null,
   "metadata": {},
   "outputs": [],
   "source": [
    "#generate congested heart failure list with ICD9\n",
    "claims_icd9 = ['428', '4280', '4281', '4282', '42820', '42821','42822','42823','42830','42831','42832','42833',\n",
    "               '42840','42841','42842','42843','4289']"
   ]
  },
  {
   "cell_type": "code",
   "execution_count": null,
   "metadata": {},
   "outputs": [],
   "source": [
    "matching_diagnoses = claims[claims[['diag1', 'diag2', 'diag3', 'diag4']].apply(lambda x: x.isin(claims_icd9)).any(axis = 1)]"
   ]
  },
  {
   "cell_type": "code",
   "execution_count": null,
   "metadata": {},
   "outputs": [],
   "source": [
    "#preprocessing date filters\n",
    "matching_diagnoses['to_dt'] = pd.to_datetime(matching_diagnoses['to_dt'])\n",
    "to_date = pd.to_datetime('2013-03-31')\n",
    "oneEighty =  to_date - timedelta(days=180)"
   ]
  },
  {
   "cell_type": "code",
   "execution_count": null,
   "metadata": {},
   "outputs": [],
   "source": [
    "pre_CHF_raw = matching_diagnoses[(matching_diagnoses['to_dt'] <= to_date) & (matching_diagnoses['to_dt']>= oneEighty)]"
   ]
  },
  {
   "cell_type": "code",
   "execution_count": null,
   "metadata": {},
   "outputs": [],
   "source": [
    "pre_CHF_df = first_occurances_df.merge(pre_CHF_raw, on = 'pat_id', how = 'inner')"
   ]
  },
  {
   "cell_type": "code",
   "execution_count": null,
   "metadata": {},
   "outputs": [],
   "source": [
    "pre_CHF_df.shape"
   ]
  },
  {
   "cell_type": "code",
   "execution_count": null,
   "metadata": {},
   "outputs": [],
   "source": [
    "#pre_index patients with congested heart failures whose had either antidiabetics or anticoagulants drugs \n",
    "pre_CHF_df.groupby('rx_group').pat_id.nunique()"
   ]
  },
  {
   "cell_type": "code",
   "execution_count": null,
   "metadata": {},
   "outputs": [],
   "source": [
    "pre_CHF_more_than_one = pat_more_than_one_df.merge(pre_CHF_df, on = 'pat_id', how = 'inner')"
   ]
  },
  {
   "cell_type": "code",
   "execution_count": null,
   "metadata": {},
   "outputs": [],
   "source": [
    "#pre_index patients with congested heart failures whose had both antidiabetics and anticoagulants drugs \n",
    "pre_CHF_more_than_one.pat_id.nunique()"
   ]
  },
  {
   "cell_type": "code",
   "execution_count": null,
   "metadata": {},
   "outputs": [],
   "source": [
    "# generate bblocker list\n",
    "bblocker_raw = pd.read_csv('./bblocker.csv')"
   ]
  },
  {
   "cell_type": "code",
   "execution_count": null,
   "metadata": {},
   "outputs": [],
   "source": [
    "matching_blocker = claims[(claims['rectype'] == 'P') & (claims['ndc'].notnull())] "
   ]
  },
  {
   "cell_type": "code",
   "execution_count": null,
   "metadata": {},
   "outputs": [],
   "source": [
    "matching_blocker['ndc'] = matching_blocker['ndc'].astype(str)\n",
    "bblocker_raw['NDC'] = bblocker_raw['NDC'].astype(str)"
   ]
  },
  {
   "cell_type": "code",
   "execution_count": null,
   "metadata": {},
   "outputs": [],
   "source": [
    "matching_blocker = matching_blocker.merge(bblocker_raw, left_on = 'ndc', right_on = 'NDC', how = 'left')"
   ]
  },
  {
   "cell_type": "code",
   "execution_count": null,
   "metadata": {},
   "outputs": [],
   "source": [
    "#preprocessing date filters for from_date\n",
    "matching_blocker['from_dt'] = pd.to_datetime(matching_blocker['from_dt'])\n",
    "from_date = pd.to_datetime('2013-01-01')\n",
    "oneEighty =  from_date - timedelta(days=180)"
   ]
  },
  {
   "cell_type": "code",
   "execution_count": null,
   "metadata": {},
   "outputs": [],
   "source": [
    "pre_bblocker_raw = matching_blocker[(matching_blocker['from_dt'] <= from_date) & (matching_blocker['from_dt']>= oneEighty)]"
   ]
  },
  {
   "cell_type": "code",
   "execution_count": null,
   "metadata": {},
   "outputs": [],
   "source": [
    "pre_bblocker_df = first_occurances_df.merge(pre_bblocker_raw, on = 'pat_id', how = 'inner')"
   ]
  },
  {
   "cell_type": "code",
   "execution_count": null,
   "metadata": {},
   "outputs": [],
   "source": [
    "pre_bblocker_df.shape"
   ]
  },
  {
   "cell_type": "code",
   "execution_count": null,
   "metadata": {},
   "outputs": [],
   "source": [
    "#pre_index patients with bblocker whose had either antidiabetics or anticoagulants drugs \n",
    "pre_bblocker_df.groupby('rx_group').pat_id.nunique()"
   ]
  },
  {
   "cell_type": "code",
   "execution_count": null,
   "metadata": {},
   "outputs": [],
   "source": [
    "pre_bblocker_more_than_one = pat_more_than_one_df.merge(pre_bblocker_df, on = 'pat_id', how = 'inner')"
   ]
  },
  {
   "cell_type": "code",
   "execution_count": null,
   "metadata": {},
   "outputs": [],
   "source": [
    "#pre_index patients with bblocker whose had both antidiabetics and anticoagulants drugs \n",
    "pre_bblocker_more_than_one.pat_id.nunique()"
   ]
  },
  {
   "cell_type": "code",
   "execution_count": null,
   "metadata": {},
   "outputs": [],
   "source": [
    "# number of post index prescriptions for the index drug. post index = from_dt + to_dt += 180 days\n",
    "pharma_data['from_dt'] = pd.to_datetime(pharma_data['from_dt'])\n",
    "to_date = pd.to_datetime('2013-03-31')\n",
    "oneEighty =  to_date + timedelta(days=180)"
   ]
  },
  {
   "cell_type": "code",
   "execution_count": null,
   "metadata": {},
   "outputs": [],
   "source": [
    "post_index_df = pharma_data[(pharma_data['from_dt'] >= '2013-01-01') & (pharma_data['from_dt'] <= oneEighty)]"
   ]
  },
  {
   "cell_type": "code",
   "execution_count": null,
   "metadata": {},
   "outputs": [],
   "source": [
    "# total post index rx for anticoagulants \n",
    "rx_counts_AC = post_index_df[(post_index_df['ndc'].notnull()) & (post_index_df['rx_group'] == 'Anticoagulants')].groupby('pat_id').size().reset_index(name='prescription_count')"
   ]
  },
  {
   "cell_type": "code",
   "execution_count": null,
   "metadata": {},
   "outputs": [],
   "source": [
    "# total post index rx for antidiabetics\n",
    "rx_counts_AD = post_index_df[(post_index_df['ndc'].notnull()) & (post_index_df['rx_group'] == 'Antidiabetics')].groupby('pat_id').size().reset_index(name='prescription_count')"
   ]
  },
  {
   "cell_type": "code",
   "execution_count": null,
   "metadata": {},
   "outputs": [],
   "source": [
    "# total post index rx for anticoagulants\n",
    "rx_counts_AC.describe()"
   ]
  },
  {
   "cell_type": "code",
   "execution_count": null,
   "metadata": {},
   "outputs": [],
   "source": [
    "# total post index rx for antidiabetics\n",
    "rx_counts_AD.describe()"
   ]
  },
  {
   "cell_type": "code",
   "execution_count": null,
   "metadata": {},
   "outputs": [],
   "source": [
    "rx_counts_both = post_index_df[(post_index_df['ndc'].notnull()) &  (post_index_df['rx_group'].notnull())].groupby('pat_id').size().reset_index(name='prescription_count')"
   ]
  },
  {
   "cell_type": "code",
   "execution_count": null,
   "metadata": {},
   "outputs": [],
   "source": [
    "# total post index rx for both anticoagulants and antidiabetics\n",
    "rx_counts_both.describe()"
   ]
  },
  {
   "cell_type": "code",
   "execution_count": null,
   "metadata": {},
   "outputs": [],
   "source": [
    "filtered_df = post_index_df[(post_index_df['rx_group'] == 'Antidiabetics') | (post_index_df['rx_group'] == 'Anticoagulants')]"
   ]
  },
  {
   "cell_type": "code",
   "execution_count": null,
   "metadata": {},
   "outputs": [],
   "source": [
    "patient_counts = filtered_df.groupby('pat_id')['rx_group'].nunique()"
   ]
  },
  {
   "cell_type": "code",
   "execution_count": null,
   "metadata": {},
   "outputs": [],
   "source": [
    "patients_with_both = patient_counts[patient_counts == 2].index.tolist() "
   ]
  },
  {
   "cell_type": "code",
   "execution_count": null,
   "metadata": {},
   "outputs": [],
   "source": [
    "patients_with_both = pd.DataFrame({'pat_id': patients_with_both})"
   ]
  },
  {
   "cell_type": "code",
   "execution_count": null,
   "metadata": {},
   "outputs": [],
   "source": [
    "patients_with_both['pat_id'] = patients_with_both['pat_id'].astype(str)\n",
    "filtered_df['pat_id'] = filtered_df['pat_id'].astype(str)"
   ]
  },
  {
   "cell_type": "code",
   "execution_count": null,
   "metadata": {},
   "outputs": [],
   "source": [
    "post_idx_DS_both = filtered_df.merge(patients_with_both, on='pat_id', how = 'inner')"
   ]
  },
  {
   "cell_type": "code",
   "execution_count": null,
   "metadata": {},
   "outputs": [],
   "source": [
    "post_idx_DS_both_df = post_idx_DS_both.groupby('pat_id')['DAYSSUP'].sum().reset_index()"
   ]
  },
  {
   "cell_type": "code",
   "execution_count": null,
   "metadata": {},
   "outputs": [],
   "source": [
    "# calculate post index rx day supply for both anticoagulants and antidiabetics\n",
    "post_idx_DS_both_df['DAYSSUP'].describe()"
   ]
  },
  {
   "cell_type": "code",
   "execution_count": null,
   "metadata": {},
   "outputs": [],
   "source": [
    "post_idx_DS_AC = filtered_df[filtered_df['rx_group'] == 'Anticoagulants'].groupby('pat_id')['DAYSSUP'].sum().reset_index()"
   ]
  },
  {
   "cell_type": "code",
   "execution_count": null,
   "metadata": {},
   "outputs": [],
   "source": [
    "post_idx_DS_AC['DAYSSUP'].describe()"
   ]
  },
  {
   "cell_type": "code",
   "execution_count": null,
   "metadata": {},
   "outputs": [],
   "source": [
    "post_idx_DS_AD = filtered_df[filtered_df['rx_group'] == 'Antidiabetics'].groupby('pat_id')['DAYSSUP'].sum().reset_index()"
   ]
  },
  {
   "cell_type": "code",
   "execution_count": null,
   "metadata": {},
   "outputs": [],
   "source": [
    "post_idx_DS_AD['DAYSSUP'].describe()"
   ]
  },
  {
   "cell_type": "code",
   "execution_count": null,
   "metadata": {},
   "outputs": [],
   "source": [
    "import pandas as pd\n",
    "\n",
    "# Create separate DataFrames for each section\n",
    "at_index_data = {\n",
    "    'Variable': ['N', 'Male', 'Age 0-18', 'Age 19-50', 'Age 51-65', 'Age 66-75', 'Age 76+'],\n",
    "    'Anti-Diabetic_n': [5074, 2465, 136, 1372, 2471, 709, 384],\n",
    "    'Anticoagulant_n': [929, 495, 5, 142, 367, 171, 244],\n",
    "    'Both_n': [207, 108, 0, 25, 96, 44, 42],\n",
    "    'Neither_n': [0, 0, 0, 0, 0, 0, 0]\n",
    "}\n",
    "\n",
    "\n",
    "\n",
    "# Create DataFrames\n",
    "at_index_df = pd.DataFrame(at_index_data)\n",
    "\n",
    "\n",
    "# Calculate percentages\n",
    "at_index_df['Anti-Diabetic_%'] = (at_index_df['Anti-Diabetic_n'] / at_index_df['Anti-Diabetic_n'].sum() * 100).round(2).astype(str) + '%'\n",
    "at_index_df['Anticoagulant_%'] = (at_index_df['Anticoagulant_n'] / at_index_df['Anticoagulant_n'].sum() * 100).round(2).astype(str) + '%'\n",
    "at_index_df['Both_%'] = (at_index_df['Both_n'] / at_index_df['Both_n'].sum() * 100).round(2).astype(str) + '%'\n",
    "at_index_df['Neither_%'] = (at_index_df['Neither_n'] / at_index_df['Neither_n'].sum() * 100).round(2).astype(str) + '%'\n",
    "\n",
    "\n",
    "# Combine DataFrames\n",
    "result_df = pd.concat([at_index_df], keys=['At Index'])\n",
    "\n",
    "# Reset the index and set column names\n",
    "result_df.reset_index(level=0, inplace=True)\n",
    "result_df.columns.name = 'IDX_Group'\n",
    "\n",
    "# Reorder columns\n",
    "result_df = result_df[['Variable', 'Anti-Diabetic_n', 'Anti-Diabetic_%', 'Anticoagulant_n', 'Anticoagulant_%', 'Both_n', 'Both_%', 'Neither_n', 'Neither_%']]\n",
    "\n",
    "# Fill NaN values with empty strings\n",
    "result_df = result_df.fillna('')\n",
    "\n",
    "# Display the result DataFrame\n",
    "print(result_df)\n",
    "\n"
   ]
  },
  {
   "cell_type": "code",
   "execution_count": null,
   "metadata": {},
   "outputs": [],
   "source": [
    "plt.figure(figsize = (10,6))\n",
    "sns.countplot(data = first_occurances_df, x = \"rx_group\", hue = \"der_sex\", palette=\"Set2\")\n",
    "plt.xlabel(\"rx_group\")\n",
    "plt.ylabel(\"count\")\n",
    "plt.legend(\"gender\")\n",
    "plt.title(\"RX Patient Distribution by Gender - First Claim on Index\")\n",
    "plt.show()"
   ]
  },
  {
   "cell_type": "code",
   "execution_count": null,
   "metadata": {},
   "outputs": [],
   "source": []
  }
 ],
 "metadata": {
  "kernelspec": {
   "display_name": "Python 3",
   "language": "python",
   "name": "python3"
  },
  "language_info": {
   "codemirror_mode": {
    "name": "ipython",
    "version": 3
   },
   "file_extension": ".py",
   "mimetype": "text/x-python",
   "name": "python",
   "nbconvert_exporter": "python",
   "pygments_lexer": "ipython3",
   "version": "3.6.5"
  }
 },
 "nbformat": 4,
 "nbformat_minor": 2
}
