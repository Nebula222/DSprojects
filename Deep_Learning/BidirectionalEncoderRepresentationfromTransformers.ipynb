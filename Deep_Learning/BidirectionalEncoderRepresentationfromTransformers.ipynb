{
  "nbformat": 4,
  "nbformat_minor": 0,
  "metadata": {
    "colab": {
      "provenance": [],
      "gpuType": "V100"
    },
    "kernelspec": {
      "name": "python3",
      "display_name": "Python 3"
    },
    "language_info": {
      "name": "python"
    },
    "accelerator": "GPU"
  },
  "cells": [
    {
      "cell_type": "code",
      "source": [
        "pip install pytorch_transformers"
      ],
      "metadata": {
        "id": "ADl8Pb6ieiIM",
        "colab": {
          "base_uri": "https://localhost:8080/"
        },
        "outputId": "71e76d41-b14d-4359-c152-16b93a4f49f8"
      },
      "execution_count": null,
      "outputs": [
        {
          "output_type": "stream",
          "name": "stdout",
          "text": [
            "Collecting pytorch_transformers\n",
            "  Downloading pytorch_transformers-1.2.0-py3-none-any.whl (176 kB)\n",
            "\u001b[?25l     \u001b[90m━━━━━━━━━━━━━━━━━━━━━━━━━━━━━━━━━━━━━━━━\u001b[0m \u001b[32m0.0/176.4 kB\u001b[0m \u001b[31m?\u001b[0m eta \u001b[36m-:--:--\u001b[0m\r\u001b[2K     \u001b[91m━━━━━━━━━━━━━\u001b[0m\u001b[91m╸\u001b[0m\u001b[90m━━━━━━━━━━━━━━━━━━━━━━━━━━\u001b[0m \u001b[32m61.4/176.4 kB\u001b[0m \u001b[31m1.9 MB/s\u001b[0m eta \u001b[36m0:00:01\u001b[0m\r\u001b[2K     \u001b[90m━━━━━━━━━━━━━━━━━━━━━━━━━━━━━━━━━━━━━━━━\u001b[0m \u001b[32m176.4/176.4 kB\u001b[0m \u001b[31m3.1 MB/s\u001b[0m eta \u001b[36m0:00:00\u001b[0m\n",
            "\u001b[?25hRequirement already satisfied: torch>=1.0.0 in /usr/local/lib/python3.10/dist-packages (from pytorch_transformers) (2.1.0+cu121)\n",
            "Requirement already satisfied: numpy in /usr/local/lib/python3.10/dist-packages (from pytorch_transformers) (1.23.5)\n",
            "Collecting boto3 (from pytorch_transformers)\n",
            "  Downloading boto3-1.34.11-py3-none-any.whl (139 kB)\n",
            "\u001b[2K     \u001b[90m━━━━━━━━━━━━━━━━━━━━━━━━━━━━━━━━━━━━━━━━\u001b[0m \u001b[32m139.3/139.3 kB\u001b[0m \u001b[31m7.7 MB/s\u001b[0m eta \u001b[36m0:00:00\u001b[0m\n",
            "\u001b[?25hRequirement already satisfied: requests in /usr/local/lib/python3.10/dist-packages (from pytorch_transformers) (2.31.0)\n",
            "Requirement already satisfied: tqdm in /usr/local/lib/python3.10/dist-packages (from pytorch_transformers) (4.66.1)\n",
            "Requirement already satisfied: regex in /usr/local/lib/python3.10/dist-packages (from pytorch_transformers) (2023.6.3)\n",
            "Collecting sentencepiece (from pytorch_transformers)\n",
            "  Downloading sentencepiece-0.1.99-cp310-cp310-manylinux_2_17_x86_64.manylinux2014_x86_64.whl (1.3 MB)\n",
            "\u001b[2K     \u001b[90m━━━━━━━━━━━━━━━━━━━━━━━━━━━━━━━━━━━━━━━━\u001b[0m \u001b[32m1.3/1.3 MB\u001b[0m \u001b[31m14.8 MB/s\u001b[0m eta \u001b[36m0:00:00\u001b[0m\n",
            "\u001b[?25hCollecting sacremoses (from pytorch_transformers)\n",
            "  Downloading sacremoses-0.1.1-py3-none-any.whl (897 kB)\n",
            "\u001b[2K     \u001b[90m━━━━━━━━━━━━━━━━━━━━━━━━━━━━━━━━━━━━━━━━\u001b[0m \u001b[32m897.5/897.5 kB\u001b[0m \u001b[31m17.1 MB/s\u001b[0m eta \u001b[36m0:00:00\u001b[0m\n",
            "\u001b[?25hRequirement already satisfied: filelock in /usr/local/lib/python3.10/dist-packages (from torch>=1.0.0->pytorch_transformers) (3.13.1)\n",
            "Requirement already satisfied: typing-extensions in /usr/local/lib/python3.10/dist-packages (from torch>=1.0.0->pytorch_transformers) (4.5.0)\n",
            "Requirement already satisfied: sympy in /usr/local/lib/python3.10/dist-packages (from torch>=1.0.0->pytorch_transformers) (1.12)\n",
            "Requirement already satisfied: networkx in /usr/local/lib/python3.10/dist-packages (from torch>=1.0.0->pytorch_transformers) (3.2.1)\n",
            "Requirement already satisfied: jinja2 in /usr/local/lib/python3.10/dist-packages (from torch>=1.0.0->pytorch_transformers) (3.1.2)\n",
            "Requirement already satisfied: fsspec in /usr/local/lib/python3.10/dist-packages (from torch>=1.0.0->pytorch_transformers) (2023.6.0)\n",
            "Requirement already satisfied: triton==2.1.0 in /usr/local/lib/python3.10/dist-packages (from torch>=1.0.0->pytorch_transformers) (2.1.0)\n",
            "Collecting botocore<1.35.0,>=1.34.11 (from boto3->pytorch_transformers)\n",
            "  Downloading botocore-1.34.11-py3-none-any.whl (11.9 MB)\n",
            "\u001b[2K     \u001b[90m━━━━━━━━━━━━━━━━━━━━━━━━━━━━━━━━━━━━━━━━\u001b[0m \u001b[32m11.9/11.9 MB\u001b[0m \u001b[31m17.3 MB/s\u001b[0m eta \u001b[36m0:00:00\u001b[0m\n",
            "\u001b[?25hCollecting jmespath<2.0.0,>=0.7.1 (from boto3->pytorch_transformers)\n",
            "  Downloading jmespath-1.0.1-py3-none-any.whl (20 kB)\n",
            "Collecting s3transfer<0.11.0,>=0.10.0 (from boto3->pytorch_transformers)\n",
            "  Downloading s3transfer-0.10.0-py3-none-any.whl (82 kB)\n",
            "\u001b[2K     \u001b[90m━━━━━━━━━━━━━━━━━━━━━━━━━━━━━━━━━━━━━━━━\u001b[0m \u001b[32m82.1/82.1 kB\u001b[0m \u001b[31m3.4 MB/s\u001b[0m eta \u001b[36m0:00:00\u001b[0m\n",
            "\u001b[?25hRequirement already satisfied: charset-normalizer<4,>=2 in /usr/local/lib/python3.10/dist-packages (from requests->pytorch_transformers) (3.3.2)\n",
            "Requirement already satisfied: idna<4,>=2.5 in /usr/local/lib/python3.10/dist-packages (from requests->pytorch_transformers) (3.6)\n",
            "Requirement already satisfied: urllib3<3,>=1.21.1 in /usr/local/lib/python3.10/dist-packages (from requests->pytorch_transformers) (2.0.7)\n",
            "Requirement already satisfied: certifi>=2017.4.17 in /usr/local/lib/python3.10/dist-packages (from requests->pytorch_transformers) (2023.11.17)\n",
            "Requirement already satisfied: click in /usr/local/lib/python3.10/dist-packages (from sacremoses->pytorch_transformers) (8.1.7)\n",
            "Requirement already satisfied: joblib in /usr/local/lib/python3.10/dist-packages (from sacremoses->pytorch_transformers) (1.3.2)\n",
            "Requirement already satisfied: python-dateutil<3.0.0,>=2.1 in /usr/local/lib/python3.10/dist-packages (from botocore<1.35.0,>=1.34.11->boto3->pytorch_transformers) (2.8.2)\n",
            "Requirement already satisfied: MarkupSafe>=2.0 in /usr/local/lib/python3.10/dist-packages (from jinja2->torch>=1.0.0->pytorch_transformers) (2.1.3)\n",
            "Requirement already satisfied: mpmath>=0.19 in /usr/local/lib/python3.10/dist-packages (from sympy->torch>=1.0.0->pytorch_transformers) (1.3.0)\n",
            "Requirement already satisfied: six>=1.5 in /usr/local/lib/python3.10/dist-packages (from python-dateutil<3.0.0,>=2.1->botocore<1.35.0,>=1.34.11->boto3->pytorch_transformers) (1.16.0)\n",
            "Installing collected packages: sentencepiece, sacremoses, jmespath, botocore, s3transfer, boto3, pytorch_transformers\n",
            "Successfully installed boto3-1.34.11 botocore-1.34.11 jmespath-1.0.1 pytorch_transformers-1.2.0 s3transfer-0.10.0 sacremoses-0.1.1 sentencepiece-0.1.99\n"
          ]
        }
      ]
    },
    {
      "cell_type": "code",
      "execution_count": null,
      "metadata": {
        "id": "6AJdd9uL3FoZ"
      },
      "outputs": [],
      "source": [
        "import torch\n",
        "import torch.nn as nn\n",
        "import pickle\n",
        "from torch.utils.data import (DataLoader, RandomSampler, SequentialSampler, TensorDataset)\n",
        "from tqdm import tqdm_notebook, trange\n",
        "import os\n",
        "from pytorch_transformers import BertConfig, BertTokenizer, BertModel\n",
        "from pytorch_transformers.optimization import AdamW, WarmupLinearSchedule\n",
        "from torch.utils.data import Dataset, DataLoader"
      ]
    },
    {
      "cell_type": "code",
      "source": [
        "%reload_ext autoreload\n",
        "%autoreload 2\n",
        "%matplotlib inline\n",
        "import matplotlib.pyplot as plt\n",
        "import numpy as np\n",
        "import torch.optim as optim\n",
        "from torch.optim import lr_scheduler\n",
        "import time\n",
        "import copy\n",
        "import torch.nn.functional as F"
      ],
      "metadata": {
        "id": "jfetUIAge3MS"
      },
      "execution_count": null,
      "outputs": []
    },
    {
      "cell_type": "code",
      "source": [
        "class BertForSequenceClassification(nn.Module):\n",
        "  def __init__(self, num_labels = 1):\n",
        "    super(BertForSequenceClassification, self).__init__()\n",
        "    self.num_labels = num_labels\n",
        "    self.bert = BertModel.from_pretrained('bert-base-uncased')\n",
        "    self.dropout = nn.Dropout(config.hidden_dropout_prob) #a dropout % in the hidden layer\n",
        "    self.classifier = nn.Linear(config.hidden_size, num_labels)\n",
        "    nn.init.xavier_normal_(self.classifier.weight)\n",
        "\n",
        "  def forward(self, input_ids, token_type_ids = None, attention_mask = None, labels = None):\n",
        "    outputs = self.bert(input_ids, token_type_ids, attention_mask)\n",
        "    pooled_output = outputs[1]\n",
        "    pooled_output = self.dropout(pooled_output)\n",
        "    logits = self.classifier(pooled_output)\n",
        "    return logits\n",
        "\n",
        "  def freeze_bert_encoder(self):\n",
        "    for param in self.bert.parameters():\n",
        "      param.requires_grad = False\n",
        "\n",
        "  def unfreeze_bert_encoder(self):\n",
        "    for param in self.bert.parameters():\n",
        "      param.requires_grad = True\n",
        "\n"
      ],
      "metadata": {
        "id": "0gayxzK6fsS2"
      },
      "execution_count": null,
      "outputs": []
    },
    {
      "cell_type": "code",
      "source": [
        "config = BertConfig(vocab_size_or_config_json_file=32000, hidden_size = 768,\n",
        "                    num_hidden_layers=12, num_attention_heads = 12, intermediate_size= 3072)"
      ],
      "metadata": {
        "id": "ZUvkYQd-ZZxm"
      },
      "execution_count": null,
      "outputs": []
    },
    {
      "cell_type": "code",
      "source": [
        "num_labels = 1\n",
        "model = BertForSequenceClassification(num_labels)"
      ],
      "metadata": {
        "colab": {
          "base_uri": "https://localhost:8080/"
        },
        "id": "FqZZ1bt7Z4yN",
        "outputId": "10a3dc8c-36c3-44cc-f28e-3018b57353ab"
      },
      "execution_count": null,
      "outputs": [
        {
          "output_type": "stream",
          "name": "stderr",
          "text": [
            "100%|██████████| 433/433 [00:00<00:00, 1011210.26B/s]\n",
            "100%|██████████| 440473133/440473133 [00:17<00:00, 25185611.61B/s]\n"
          ]
        }
      ]
    },
    {
      "cell_type": "code",
      "source": [
        "def unpack_dataset():\n",
        "  ! wget http://ai.stanford.edu/~amaas/data/sentiment/aclImdb_v1.tar.gz > .None\n",
        "  ! tar -zxf aclImdb_v1.tar.gz"
      ],
      "metadata": {
        "id": "F48cxI0hcSz6"
      },
      "execution_count": null,
      "outputs": []
    },
    {
      "cell_type": "code",
      "source": [
        "unpack_dataset()"
      ],
      "metadata": {
        "colab": {
          "base_uri": "https://localhost:8080/"
        },
        "id": "29FOJFwUctcu",
        "outputId": "aabc0296-9a20-441f-e799-ad04ee33cf4e"
      },
      "execution_count": null,
      "outputs": [
        {
          "output_type": "stream",
          "name": "stdout",
          "text": [
            "--2024-01-03 00:58:13--  http://ai.stanford.edu/~amaas/data/sentiment/aclImdb_v1.tar.gz\n",
            "Resolving ai.stanford.edu (ai.stanford.edu)... 171.64.68.10\n",
            "Connecting to ai.stanford.edu (ai.stanford.edu)|171.64.68.10|:80... connected.\n",
            "HTTP request sent, awaiting response... 200 OK\n",
            "Length: 84125825 (80M) [application/x-gzip]\n",
            "Saving to: ‘aclImdb_v1.tar.gz’\n",
            "\n",
            "aclImdb_v1.tar.gz   100%[===================>]  80.23M  5.19MB/s    in 22s     \n",
            "\n",
            "2024-01-03 00:58:35 (3.66 MB/s) - ‘aclImdb_v1.tar.gz’ saved [84125825/84125825]\n",
            "\n"
          ]
        }
      ]
    },
    {
      "cell_type": "code",
      "source": [
        "from pathlib import Path\n",
        "PATH = Path(\"./aclImdb/\")\n",
        "list(PATH.iterdir())"
      ],
      "metadata": {
        "colab": {
          "base_uri": "https://localhost:8080/"
        },
        "id": "a6Lrfnk6bqZl",
        "outputId": "e6cb60ad-eec9-40dd-8e4d-2bbb8e4a9efd"
      },
      "execution_count": null,
      "outputs": [
        {
          "output_type": "execute_result",
          "data": {
            "text/plain": [
              "[PosixPath('aclImdb/imdb.vocab'),\n",
              " PosixPath('aclImdb/test'),\n",
              " PosixPath('aclImdb/README'),\n",
              " PosixPath('aclImdb/train'),\n",
              " PosixPath('aclImdb/imdbEr.txt')]"
            ]
          },
          "metadata": {},
          "execution_count": 9
        }
      ]
    },
    {
      "cell_type": "code",
      "source": [
        "tokenizer = BertTokenizer.from_pretrained('bert-base-uncased')"
      ],
      "metadata": {
        "colab": {
          "base_uri": "https://localhost:8080/"
        },
        "id": "5ayBOJpCc8g9",
        "outputId": "49e775bb-9c39-4c9f-dab5-6c23226a793e"
      },
      "execution_count": null,
      "outputs": [
        {
          "output_type": "stream",
          "name": "stderr",
          "text": [
            "100%|██████████| 231508/231508 [00:00<00:00, 899431.01B/s]\n"
          ]
        }
      ]
    },
    {
      "cell_type": "code",
      "source": [
        "path = PATH/\"train/pos/0_9.txt\"\n",
        "z = tokenizer.tokenize(path.read_text())\n",
        "z[:10]"
      ],
      "metadata": {
        "colab": {
          "base_uri": "https://localhost:8080/"
        },
        "id": "l2w1L8O70ZHz",
        "outputId": "6b61fc92-4fa0-46c3-eb57-cbe094fae450"
      },
      "execution_count": null,
      "outputs": [
        {
          "output_type": "execute_result",
          "data": {
            "text/plain": [
              "['bro', '##m', '##well', 'high', 'is', 'a', 'cartoon', 'comedy', '.', 'it']"
            ]
          },
          "metadata": {},
          "execution_count": 11
        }
      ]
    },
    {
      "cell_type": "code",
      "source": [
        "ids = tokenizer.convert_tokens_to_ids(z)\n",
        "ids[:10]"
      ],
      "metadata": {
        "id": "jchHK-oJdhUa",
        "colab": {
          "base_uri": "https://localhost:8080/"
        },
        "outputId": "c1eabc85-2f7a-4eed-bc32-130290dc027a"
      },
      "execution_count": null,
      "outputs": [
        {
          "output_type": "execute_result",
          "data": {
            "text/plain": [
              "[22953, 2213, 4381, 2152, 2003, 1037, 9476, 4038, 1012, 2009]"
            ]
          },
          "metadata": {},
          "execution_count": 12
        }
      ]
    },
    {
      "cell_type": "code",
      "source": [
        "tokens_tensor = torch.tensor([ids])"
      ],
      "metadata": {
        "id": "G1yCV3cH0td-"
      },
      "execution_count": null,
      "outputs": []
    },
    {
      "cell_type": "code",
      "source": [
        "tokens_tensor"
      ],
      "metadata": {
        "colab": {
          "base_uri": "https://localhost:8080/"
        },
        "id": "ncCmItHO040g",
        "outputId": "a0fc29eb-8995-4a49-b8f5-d8d035507910"
      },
      "execution_count": null,
      "outputs": [
        {
          "output_type": "execute_result",
          "data": {
            "text/plain": [
              "tensor([[22953,  2213,  4381,  2152,  2003,  1037,  9476,  4038,  1012,  2009,\n",
              "          2743,  2012,  1996,  2168,  2051,  2004,  2070,  2060,  3454,  2055,\n",
              "          2082,  2166,  1010,  2107,  2004,  1000,  5089,  1000,  1012,  2026,\n",
              "          3486,  2086,  1999,  1996,  4252,  9518,  2599,  2033,  2000,  2903,\n",
              "          2008, 22953,  2213,  4381,  2152,  1005,  1055, 18312,  2003,  2172,\n",
              "          3553,  2000,  4507,  2084,  2003,  1000,  5089,  1000,  1012,  1996,\n",
              "         25740,  2000,  5788, 13732,  1010,  1996, 12369,  3993,  2493,  2040,\n",
              "          2064,  2156,  2157,  2083,  2037, 17203,  5089,  1005, 13433,  8737,\n",
              "          1010,  1996,  9004, 10196,  4757,  1997,  1996,  2878,  3663,  1010,\n",
              "          2035, 10825,  2033,  1997,  1996,  2816,  1045,  2354,  1998,  2037,\n",
              "          2493,  1012,  2043,  1045,  2387,  1996,  2792,  1999,  2029,  1037,\n",
              "          3076,  8385,  2699,  2000,  6402,  2091,  1996,  2082,  1010,  1045,\n",
              "          3202,  7383,  1012,  1012,  1012,  1012,  1012,  1012,  1012,  1012,\n",
              "          1012,  2012,  1012,  1012,  1012,  1012,  1012,  1012,  1012,  1012,\n",
              "          1012,  1012,  2152,  1012,  1037,  4438,  2240,  1024,  7742,  1024,\n",
              "          1045,  1005,  1049,  2182,  2000, 12803,  2028,  1997,  2115,  5089,\n",
              "          1012,  3076,  1024,  6160,  2000, 22953,  2213,  4381,  2152,  1012,\n",
              "          1045,  5987,  2008,  2116,  6001,  1997,  2026,  2287,  2228,  2008,\n",
              "         22953,  2213,  4381,  2152,  2003,  2521, 18584,  2098,  1012,  2054,\n",
              "          1037, 12063,  2008,  2009,  3475,  1005,  1056,   999]])"
            ]
          },
          "metadata": {},
          "execution_count": 14
        }
      ]
    },
    {
      "cell_type": "code",
      "source": [
        "logits = model(tokens_tensor)"
      ],
      "metadata": {
        "id": "Rt4H1cnw0_uz"
      },
      "execution_count": null,
      "outputs": []
    },
    {
      "cell_type": "code",
      "source": [
        "logits"
      ],
      "metadata": {
        "colab": {
          "base_uri": "https://localhost:8080/"
        },
        "id": "SHHeSoRE1Fmb",
        "outputId": "3d0251df-1da6-4040-f463-989e315226ef"
      },
      "execution_count": null,
      "outputs": [
        {
          "output_type": "execute_result",
          "data": {
            "text/plain": [
              "tensor([[0.5463]], grad_fn=<AddmmBackward0>)"
            ]
          },
          "metadata": {},
          "execution_count": 16
        }
      ]
    },
    {
      "cell_type": "code",
      "source": [
        "def text2ids(text, max_seq_length = 300):\n",
        "  tok_text = tokenizer.tokenize(text)\n",
        "  if len(tok_text) > max_seq_length:\n",
        "    tok_text = tok_text[:max_seq_length]\n",
        "  ids_text = tokenizer.convert_tokens_to_ids(tok_text)\n",
        "  padding = [0] * (max_seq_length - len(ids_text))\n",
        "  ids_text += padding\n",
        "  return np.array(ids_text)"
      ],
      "metadata": {
        "id": "q8R-ItUK1VD1"
      },
      "execution_count": null,
      "outputs": []
    },
    {
      "cell_type": "code",
      "source": [
        "text2ids(path.read_text())"
      ],
      "metadata": {
        "colab": {
          "base_uri": "https://localhost:8080/"
        },
        "id": "eWmkLN8M2Jfc",
        "outputId": "50b851e2-5814-4566-cd79-1531dc942b16"
      },
      "execution_count": null,
      "outputs": [
        {
          "output_type": "execute_result",
          "data": {
            "text/plain": [
              "array([22953,  2213,  4381,  2152,  2003,  1037,  9476,  4038,  1012,\n",
              "        2009,  2743,  2012,  1996,  2168,  2051,  2004,  2070,  2060,\n",
              "        3454,  2055,  2082,  2166,  1010,  2107,  2004,  1000,  5089,\n",
              "        1000,  1012,  2026,  3486,  2086,  1999,  1996,  4252,  9518,\n",
              "        2599,  2033,  2000,  2903,  2008, 22953,  2213,  4381,  2152,\n",
              "        1005,  1055, 18312,  2003,  2172,  3553,  2000,  4507,  2084,\n",
              "        2003,  1000,  5089,  1000,  1012,  1996, 25740,  2000,  5788,\n",
              "       13732,  1010,  1996, 12369,  3993,  2493,  2040,  2064,  2156,\n",
              "        2157,  2083,  2037, 17203,  5089,  1005, 13433,  8737,  1010,\n",
              "        1996,  9004, 10196,  4757,  1997,  1996,  2878,  3663,  1010,\n",
              "        2035, 10825,  2033,  1997,  1996,  2816,  1045,  2354,  1998,\n",
              "        2037,  2493,  1012,  2043,  1045,  2387,  1996,  2792,  1999,\n",
              "        2029,  1037,  3076,  8385,  2699,  2000,  6402,  2091,  1996,\n",
              "        2082,  1010,  1045,  3202,  7383,  1012,  1012,  1012,  1012,\n",
              "        1012,  1012,  1012,  1012,  1012,  2012,  1012,  1012,  1012,\n",
              "        1012,  1012,  1012,  1012,  1012,  1012,  1012,  2152,  1012,\n",
              "        1037,  4438,  2240,  1024,  7742,  1024,  1045,  1005,  1049,\n",
              "        2182,  2000, 12803,  2028,  1997,  2115,  5089,  1012,  3076,\n",
              "        1024,  6160,  2000, 22953,  2213,  4381,  2152,  1012,  1045,\n",
              "        5987,  2008,  2116,  6001,  1997,  2026,  2287,  2228,  2008,\n",
              "       22953,  2213,  4381,  2152,  2003,  2521, 18584,  2098,  1012,\n",
              "        2054,  1037, 12063,  2008,  2009,  3475,  1005,  1056,   999,\n",
              "           0,     0,     0,     0,     0,     0,     0,     0,     0,\n",
              "           0,     0,     0,     0,     0,     0,     0,     0,     0,\n",
              "           0,     0,     0,     0,     0,     0,     0,     0,     0,\n",
              "           0,     0,     0,     0,     0,     0,     0,     0,     0,\n",
              "           0,     0,     0,     0,     0,     0,     0,     0,     0,\n",
              "           0,     0,     0,     0,     0,     0,     0,     0,     0,\n",
              "           0,     0,     0,     0,     0,     0,     0,     0,     0,\n",
              "           0,     0,     0,     0,     0,     0,     0,     0,     0,\n",
              "           0,     0,     0,     0,     0,     0,     0,     0,     0,\n",
              "           0,     0,     0,     0,     0,     0,     0,     0,     0,\n",
              "           0,     0,     0,     0,     0,     0,     0,     0,     0,\n",
              "           0,     0,     0])"
            ]
          },
          "metadata": {},
          "execution_count": 18
        }
      ]
    },
    {
      "cell_type": "code",
      "source": [
        "class ImdbDataset(Dataset):\n",
        "  def __init__(self, PATH, train = 'train'):\n",
        "    self.path_to_images = PATH/train\n",
        "    self.pos_files = list((self.path_to_images/\"pos\").iterdir())\n",
        "    self.neg_files = list((self.path_to_images/\"neg\").iterdir())\n",
        "    self.files = self.pos_files + self.neg_files\n",
        "    self.y = np.concatenate((np.ones(len(self.pos_files), dtype = int),\n",
        "                            np.zeros(len(self.neg_files), dtype = int)), axis = 0)\n",
        "\n",
        "  def __getitem__(self, index):\n",
        "    path = self.files[index]\n",
        "    x = text2ids(path.read_text())\n",
        "    return x, self.y[index]\n",
        "\n",
        "  def __len__(self):\n",
        "    return len(self.y)"
      ],
      "metadata": {
        "id": "2bvszcwc2VqH"
      },
      "execution_count": null,
      "outputs": []
    },
    {
      "cell_type": "code",
      "source": [
        "train_ds = ImdbDataset(PATH)\n",
        "valid_ds = ImdbDataset(PATH, \"test\")"
      ],
      "metadata": {
        "id": "2IRFvw1b4A4S"
      },
      "execution_count": null,
      "outputs": []
    },
    {
      "cell_type": "code",
      "source": [
        "batch_size = 10\n",
        "train_dl = DataLoader(train_ds, batch_size = batch_size, shuffle = True)\n",
        "valid_dl = DataLoader(valid_ds, batch_size = batch_size)"
      ],
      "metadata": {
        "id": "ZdPpQvZ84Wjw"
      },
      "execution_count": null,
      "outputs": []
    },
    {
      "cell_type": "code",
      "source": [
        "x, y = train_ds[0]"
      ],
      "metadata": {
        "id": "pM8KGQ3w4nwY"
      },
      "execution_count": null,
      "outputs": []
    },
    {
      "cell_type": "code",
      "source": [
        "x, y = next(iter(train_dl))"
      ],
      "metadata": {
        "id": "fD5lyToU4rhk"
      },
      "execution_count": null,
      "outputs": []
    },
    {
      "cell_type": "code",
      "source": [
        "x[3]"
      ],
      "metadata": {
        "colab": {
          "base_uri": "https://localhost:8080/"
        },
        "id": "QItrE_go4vHH",
        "outputId": "af38c650-3b60-4671-bb42-4d50e5f9faf4"
      },
      "execution_count": null,
      "outputs": [
        {
          "output_type": "execute_result",
          "data": {
            "text/plain": [
              "tensor([ 2004,  6827,  1037,  2112,  1997,  2329,  3769,  3226,  2004,  1996,\n",
              "        18446, 18750,  1998,  2508,  5416,  1010,  3460,  2040,  2001,  1037,\n",
              "         5294,  2718,  2005,  2656,  2086,  1006,  3699,  1011,  2960,  1007,\n",
              "         1010,  2437,  2009,  2028,  1997,  1996,  6493,  2770,  2694,  3065,\n",
              "         1999,  1996,  2088,  1006,  2087, 28172,  2024,  5341,  2000,  2031,\n",
              "         2702,  3692,  1007,  1012,  3488,  2000,  2128, 27927,  1996,  2186,\n",
              "         2020,  2467,  2006,  1996,  4035,  1005,  1055, 11376,  1010,  1998,\n",
              "         2044,  1037, 28616,  9289, 19879,  3064,  1006,  2025,  2000,  5254,\n",
              "         2137,  3550,  1007,  2694,  3185,  2550,  2011,  4419,  3478,  2000,\n",
              "         5425,  1996,  3894,  1997,  1996,  2434,  2544,  1010,  2178,  3157,\n",
              "         2086,  1006,  5021,  4335, 11867, 21511,  1998,  6579,  7163,  1011,\n",
              "         2186, 26206,  1007,  2020,  3223,  2077,  1996,  7209,  2051,  2935,\n",
              "         2071,  2709,  7919,  1010, 14571,  1997, 10251,  3213,  5735,  1056,\n",
              "         1012,  9082,  1012,  1026,  7987,  1013,  1028,  1026,  7987,  1013,\n",
              "         1028,  9082,  1005, 28850,  1999, 27788, 13181,  8566,  6129,  1996,\n",
              "         2839,  3658,  1999,  2010,  3247,  2000,  2079,  2061,  2083,  1996,\n",
              "         2159,  1997,  2019, 21002,  1024,  3123,  7482,  1006, 18210, 11939,\n",
              "         1007,  1010,  1037,  2414,  1011,  2241,  2611,  2040,  5260,  1037,\n",
              "         2200,  3671,  2166,  2127,  2028,  2305,  2016,  2003,  4457,  2011,\n",
              "         7329,  2081,  2041,  1997,  2542,  6081,  1012,  2016,  2003, 10148,\n",
              "         2011,  2019, 26475,  7985,  2040, 13999,  2370,  3432,  2004,  1996,\n",
              "         3460,  1006,  5696, 14925, 18954,  2669,  1007,  1998,  2059, 17144,\n",
              "         2044, 21864, 14853,  1024,  1000,  3835,  2000,  3113,  2017,  1010,\n",
              "         3123,  1012,  2448,  2005,  2115,  2166,   999,  1000,  1012,  2004,\n",
              "         2016,  4152,  2062,  1998,  2062,  8025,  2055,  2023,  1000,  2158,\n",
              "         1000,  1010,  2016,  2574,  4858,  2841,  1999,  1037,  2878,  2047,\n",
              "         2088,  1024, 12114,  1010, 23536,  1010,  3604,  2083,  2051,  1998,\n",
              "         2686,  1010,  1998,  1997,  2607,  1010,  1996, 18168,  3490, 28994,\n",
              "         4765,  2610,  3482,  1011,  5044, 16985, 10521,  1012,  1026,  7987,\n",
              "         1013,  1028,  1026,  7987,  1013,  1028,  1996,  2034,  3429,  2781])"
            ]
          },
          "metadata": {},
          "execution_count": 24
        }
      ]
    },
    {
      "cell_type": "code",
      "source": [
        "train_ds = ImdbDataset(PATH)\n",
        "valid_ds = ImdbDataset(PATH, \"test\")"
      ],
      "metadata": {
        "id": "KYG8vaQD40Na"
      },
      "execution_count": null,
      "outputs": []
    },
    {
      "cell_type": "code",
      "source": [
        "batch_size = 10\n",
        "train_dl = DataLoader(train_ds, batch_size = batch_size, shuffle = True)\n",
        "valid_dl = DataLoader(valid_ds, batch_size = batch_size)"
      ],
      "metadata": {
        "id": "ZYcefMnCxn-u"
      },
      "execution_count": null,
      "outputs": []
    },
    {
      "cell_type": "code",
      "source": [
        "x, y = train_ds[0]"
      ],
      "metadata": {
        "id": "Qz1pNclix6OS"
      },
      "execution_count": null,
      "outputs": []
    },
    {
      "cell_type": "code",
      "source": [
        "x, y = next(iter(train_dl))"
      ],
      "metadata": {
        "id": "1JghILZ1x-Pl"
      },
      "execution_count": null,
      "outputs": []
    },
    {
      "cell_type": "code",
      "source": [
        "x[3]"
      ],
      "metadata": {
        "colab": {
          "base_uri": "https://localhost:8080/"
        },
        "id": "KAqccxcFyAcn",
        "outputId": "54f0f362-21f1-4112-a53e-54c41992ba69"
      },
      "execution_count": null,
      "outputs": [
        {
          "output_type": "execute_result",
          "data": {
            "text/plain": [
              "tensor([ 2023,  2003,  2382,  3371,  2265,  2055,  2028,  8257,  1012,  1996,\n",
              "         8257,  1010,  5430,  3549,  2024,  2025,  5845,  7199,  1012,  5292,\n",
              "         3270,  3270,   999,   999,   999,  2002,  2064,  1005,  1056, 13764,\n",
              "         1037,  3042,  2138,  2002,  2003,  1037,  5430,  2386,  1012,  5430,\n",
              "         3549,  2024,  2025,  2004,  6047,  2004,  2529,  9552,  1012,  2821,\n",
              "        15333,  9351,  1010,  2216,  5430,  3549,  2024,  2061,  4895, 28793,\n",
              "        24158, 22723,  3064,  1012,  2045,  2003,  2053,  8562,  1999,  2023,\n",
              "         2265,  1012,  2027,  2064,  2069,  2448,  2125,  2023,  2028,  8257,\n",
              "         2005,  2061,  2146,  1998,  2027,  2525,  2031,  2007,  1996, 16216,\n",
              "        11261, 12698,  1012,  2023,  2265,  2515,  2025, 10107,  1037,  2051,\n",
              "        10453,  2006,  2120,  1056,  1012,  1058,  1012,  1026,  7987,  1013,\n",
              "         1028,  1026,  7987,  1013,  1028,  2023,  2265,  5363,  2000,  2524,\n",
              "         2000,  2022,  6057,  1010,  2021,  2009,  2074,  3475,  1005,  1056,\n",
              "         1012,  3666,  2023,  2265,  1010,  1045,  2001,  3241,  2008,  2009,\n",
              "         2001,  2667,  2000,  2022,  2066,  1037,  1000,  5065,  1005,  1055,\n",
              "         2908,  3748,  2265,  1012,  1000,  3574,  2027,  2175,  2000,  1996,\n",
              "         3347,  1998,  3046,  2000,  3637,  2007,  2116,  2308,  1012,  1996,\n",
              "         6933,  5430,  2386,  2003, 15703,  1012,  1996,  5430,  2386,  2007,\n",
              "         1996,  7877,  2003,  2205,  6047,  2000,  2022,  1037,  5430,  2386,\n",
              "         1006,  5292,  3270,  3270,   999,   999,   999,  1007,  1012,  2035,\n",
              "         2093,  1997,  2068,  2031, 12857,  1010,  2021,  1045,  2064,  1005,\n",
              "         1056,  3275,  2041,  2339,  1045,  2123,  1005,  1056,  2729,  2055,\n",
              "         2068,  1012,     0,     0,     0,     0,     0,     0,     0,     0,\n",
              "            0,     0,     0,     0,     0,     0,     0,     0,     0,     0,\n",
              "            0,     0,     0,     0,     0,     0,     0,     0,     0,     0,\n",
              "            0,     0,     0,     0,     0,     0,     0,     0,     0,     0,\n",
              "            0,     0,     0,     0,     0,     0,     0,     0,     0,     0,\n",
              "            0,     0,     0,     0,     0,     0,     0,     0,     0,     0,\n",
              "            0,     0,     0,     0,     0,     0,     0,     0,     0,     0,\n",
              "            0,     0,     0,     0,     0,     0,     0,     0,     0,     0])"
            ]
          },
          "metadata": {},
          "execution_count": 29
        }
      ]
    },
    {
      "cell_type": "code",
      "source": [
        "def train_model(model, optimizer, num_epochs = 25):\n",
        "  for epoch in range(num_epochs):\n",
        "    model.train()\n",
        "    running_loss = 0.0\n",
        "    for x, y in train_dl:\n",
        "      x = x.cuda()\n",
        "      y = y.float().unsqueeze(1).cuda()\n",
        "      optimizer.zero_grad()\n",
        "      logits = model(x)\n",
        "      loss = F.binary_cross_entropy_with_logits(logits, y)\n",
        "      loss.backward()\n",
        "      optimizer.step()\n",
        "      running_loss += loss.item() * x.size(0)\n",
        "    epoch_loss = running_loss / len(train_ds)\n",
        "    val_loss, accuracy = eval_model(model)\n",
        "    print(\"train loss: {:.3f}, valid loss {:.3f} accuracy {:.3f}\".format(\n",
        "        epoch_loss, val_loss, accuracy\n",
        "    ))"
      ],
      "metadata": {
        "id": "0fvlDzamyDnw"
      },
      "execution_count": null,
      "outputs": []
    },
    {
      "cell_type": "code",
      "source": [
        "def eval_model(model):\n",
        "  model.eval()\n",
        "  running_loss = 0.0\n",
        "  correct = 0\n",
        "  for x, y in valid_dl:\n",
        "    x = x.cuda()\n",
        "    y = y.float().unsqueeze(1).cuda()\n",
        "    logits = model(x)\n",
        "    loss = F.binary_cross_entropy_with_logits(logits, y)\n",
        "    y_pred = logits >0\n",
        "    correct += (y_pred.float()== y).float().sum()\n",
        "    running_loss += loss.item() * x.size(0)\n",
        "  accuracy = correct / len(valid_ds)\n",
        "  epoch_loss = running_loss / len(valid_ds)\n",
        "  return epoch_loss, accuracy.item()"
      ],
      "metadata": {
        "id": "KqO3LrXzzTG1"
      },
      "execution_count": null,
      "outputs": []
    },
    {
      "cell_type": "code",
      "source": [
        "model = model.cuda()"
      ],
      "metadata": {
        "id": "_QXcv7v70MP7"
      },
      "execution_count": null,
      "outputs": []
    },
    {
      "cell_type": "code",
      "source": [
        "lrlast = 0.0001\n",
        "lrmain = 0.00001\n",
        "optimizer = optim.Adam(\n",
        "    [\n",
        "        {\"params\": model.bert.parameters(), \"lr\": lrmain},\n",
        "        {\"params\": model.classifier.parameters(), \"lr\": lrlast},\n",
        "    ]\n",
        ")"
      ],
      "metadata": {
        "id": "nPP4Zjxb0OTb"
      },
      "execution_count": null,
      "outputs": []
    },
    {
      "cell_type": "code",
      "source": [
        "train_model(model, optimizer, num_epochs =2)"
      ],
      "metadata": {
        "colab": {
          "base_uri": "https://localhost:8080/"
        },
        "id": "AUV--vof0p6V",
        "outputId": "dd491b2e-a809-414a-8ea1-1a8c7b2ac1dd"
      },
      "execution_count": null,
      "outputs": [
        {
          "output_type": "stream",
          "name": "stdout",
          "text": [
            "train loss: 0.166, valid loss 0.214 accuracy 0.920\n",
            "train loss: 0.097, valid loss 0.217 accuracy 0.922\n"
          ]
        }
      ]
    }
  ]
}