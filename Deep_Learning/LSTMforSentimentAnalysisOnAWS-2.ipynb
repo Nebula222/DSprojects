{
  "cells": [
    {
      "cell_type": "code",
      "execution_count": 1,
      "metadata": {
        "id": "ByyaVhKmuFx9"
      },
      "outputs": [],
      "source": [
        "import pandas as pd\n",
        "import numpy as np\n",
        "import torch\n",
        "import torch.nn as nn\n",
        "import spacy\n",
        "import string\n",
        "import re\n",
        "import torch.nn.functional as F\n",
        "from torch.utils.data import Dataset, DataLoader\n",
        "from torch.nn.utils.rnn import pack_padded_sequence\n",
        "from spacy.symbols import ORTH\n",
        "from collections import Counter\n",
        "from sklearn.model_selection import train_test_split"
      ]
    },
    {
      "cell_type": "code",
      "execution_count": 2,
      "metadata": {
        "colab": {
          "base_uri": "https://localhost:8080/"
        },
        "id": "XgG3YZdW7Fnv",
        "outputId": "75864818-c1d1-4eaa-a367-2726d6d59754"
      },
      "outputs": [
        {
          "output_type": "stream",
          "name": "stdout",
          "text": [
            "/content\n"
          ]
        }
      ],
      "source": [
        "import os\n",
        "\n",
        "directory = os.getcwd()\n",
        "print(directory)"
      ]
    },
    {
      "cell_type": "code",
      "source": [
        "from google.colab import drive\n",
        "drive.mount('/content/drive')"
      ],
      "metadata": {
        "colab": {
          "base_uri": "https://localhost:8080/"
        },
        "id": "jfRoUF1_zX1I",
        "outputId": "e0a5442d-4c36-4738-fc1f-7fe777f28ec4"
      },
      "execution_count": 3,
      "outputs": [
        {
          "output_type": "stream",
          "name": "stdout",
          "text": [
            "Mounted at /content/drive\n"
          ]
        }
      ]
    },
    {
      "cell_type": "code",
      "execution_count": 8,
      "metadata": {
        "id": "X-vgDNvn7d62"
      },
      "outputs": [],
      "source": [
        "cols= ['target', 'id', 'date', 'flag', 'user', 'text']\n",
        "chunk_size = 10000  # Adjust the size as needed\n",
        "chunks = pd.read_csv('./training.tweets.processed.csv', encoding='ISO-8859-1', header=None, names=cols, chunksize=chunk_size)\n",
        "data = pd.concat(chunks, ignore_index=True)"
      ]
    },
    {
      "cell_type": "code",
      "execution_count": 9,
      "metadata": {
        "colab": {
          "base_uri": "https://localhost:8080/",
          "height": 204
        },
        "id": "gU6h1MqSADfo",
        "outputId": "1d32ecc3-c649-4a31-be87-b9d57fdc242a"
      },
      "outputs": [
        {
          "output_type": "execute_result",
          "data": {
            "text/plain": [
              "         target          id                          date      flag  \\\n",
              "1599995       4  2193601966  Tue Jun 16 08:40:49 PDT 2009  NO_QUERY   \n",
              "1599996       4  2193601969  Tue Jun 16 08:40:49 PDT 2009  NO_QUERY   \n",
              "1599997       4  2193601991  Tue Jun 16 08:40:49 PDT 2009  NO_QUERY   \n",
              "1599998       4  2193602064  Tue Jun 16 08:40:49 PDT 2009  NO_QUERY   \n",
              "1599999       4  2193602129  Tue Jun 16 08:40:50 PDT 2009  NO_QUERY   \n",
              "\n",
              "                    user                                               text  \n",
              "1599995  AmandaMarie1028  Just woke up. Having no school is the best fee...  \n",
              "1599996      TheWDBoards  TheWDB.com - Very cool to hear old Walt interv...  \n",
              "1599997           bpbabe  Are you ready for your MoJo Makeover? Ask me f...  \n",
              "1599998     tinydiamondz  Happy 38th Birthday to my boo of alll time!!! ...  \n",
              "1599999   RyanTrevMorris  happy #charitytuesday @theNSPCC @SparksCharity...  "
            ],
            "text/html": [
              "\n",
              "  <div id=\"df-e4cd4f23-44f2-44f5-872a-2572130e12dc\" class=\"colab-df-container\">\n",
              "    <div>\n",
              "<style scoped>\n",
              "    .dataframe tbody tr th:only-of-type {\n",
              "        vertical-align: middle;\n",
              "    }\n",
              "\n",
              "    .dataframe tbody tr th {\n",
              "        vertical-align: top;\n",
              "    }\n",
              "\n",
              "    .dataframe thead th {\n",
              "        text-align: right;\n",
              "    }\n",
              "</style>\n",
              "<table border=\"1\" class=\"dataframe\">\n",
              "  <thead>\n",
              "    <tr style=\"text-align: right;\">\n",
              "      <th></th>\n",
              "      <th>target</th>\n",
              "      <th>id</th>\n",
              "      <th>date</th>\n",
              "      <th>flag</th>\n",
              "      <th>user</th>\n",
              "      <th>text</th>\n",
              "    </tr>\n",
              "  </thead>\n",
              "  <tbody>\n",
              "    <tr>\n",
              "      <th>1599995</th>\n",
              "      <td>4</td>\n",
              "      <td>2193601966</td>\n",
              "      <td>Tue Jun 16 08:40:49 PDT 2009</td>\n",
              "      <td>NO_QUERY</td>\n",
              "      <td>AmandaMarie1028</td>\n",
              "      <td>Just woke up. Having no school is the best fee...</td>\n",
              "    </tr>\n",
              "    <tr>\n",
              "      <th>1599996</th>\n",
              "      <td>4</td>\n",
              "      <td>2193601969</td>\n",
              "      <td>Tue Jun 16 08:40:49 PDT 2009</td>\n",
              "      <td>NO_QUERY</td>\n",
              "      <td>TheWDBoards</td>\n",
              "      <td>TheWDB.com - Very cool to hear old Walt interv...</td>\n",
              "    </tr>\n",
              "    <tr>\n",
              "      <th>1599997</th>\n",
              "      <td>4</td>\n",
              "      <td>2193601991</td>\n",
              "      <td>Tue Jun 16 08:40:49 PDT 2009</td>\n",
              "      <td>NO_QUERY</td>\n",
              "      <td>bpbabe</td>\n",
              "      <td>Are you ready for your MoJo Makeover? Ask me f...</td>\n",
              "    </tr>\n",
              "    <tr>\n",
              "      <th>1599998</th>\n",
              "      <td>4</td>\n",
              "      <td>2193602064</td>\n",
              "      <td>Tue Jun 16 08:40:49 PDT 2009</td>\n",
              "      <td>NO_QUERY</td>\n",
              "      <td>tinydiamondz</td>\n",
              "      <td>Happy 38th Birthday to my boo of alll time!!! ...</td>\n",
              "    </tr>\n",
              "    <tr>\n",
              "      <th>1599999</th>\n",
              "      <td>4</td>\n",
              "      <td>2193602129</td>\n",
              "      <td>Tue Jun 16 08:40:50 PDT 2009</td>\n",
              "      <td>NO_QUERY</td>\n",
              "      <td>RyanTrevMorris</td>\n",
              "      <td>happy #charitytuesday @theNSPCC @SparksCharity...</td>\n",
              "    </tr>\n",
              "  </tbody>\n",
              "</table>\n",
              "</div>\n",
              "    <div class=\"colab-df-buttons\">\n",
              "\n",
              "  <div class=\"colab-df-container\">\n",
              "    <button class=\"colab-df-convert\" onclick=\"convertToInteractive('df-e4cd4f23-44f2-44f5-872a-2572130e12dc')\"\n",
              "            title=\"Convert this dataframe to an interactive table.\"\n",
              "            style=\"display:none;\">\n",
              "\n",
              "  <svg xmlns=\"http://www.w3.org/2000/svg\" height=\"24px\" viewBox=\"0 -960 960 960\">\n",
              "    <path d=\"M120-120v-720h720v720H120Zm60-500h600v-160H180v160Zm220 220h160v-160H400v160Zm0 220h160v-160H400v160ZM180-400h160v-160H180v160Zm440 0h160v-160H620v160ZM180-180h160v-160H180v160Zm440 0h160v-160H620v160Z\"/>\n",
              "  </svg>\n",
              "    </button>\n",
              "\n",
              "  <style>\n",
              "    .colab-df-container {\n",
              "      display:flex;\n",
              "      gap: 12px;\n",
              "    }\n",
              "\n",
              "    .colab-df-convert {\n",
              "      background-color: #E8F0FE;\n",
              "      border: none;\n",
              "      border-radius: 50%;\n",
              "      cursor: pointer;\n",
              "      display: none;\n",
              "      fill: #1967D2;\n",
              "      height: 32px;\n",
              "      padding: 0 0 0 0;\n",
              "      width: 32px;\n",
              "    }\n",
              "\n",
              "    .colab-df-convert:hover {\n",
              "      background-color: #E2EBFA;\n",
              "      box-shadow: 0px 1px 2px rgba(60, 64, 67, 0.3), 0px 1px 3px 1px rgba(60, 64, 67, 0.15);\n",
              "      fill: #174EA6;\n",
              "    }\n",
              "\n",
              "    .colab-df-buttons div {\n",
              "      margin-bottom: 4px;\n",
              "    }\n",
              "\n",
              "    [theme=dark] .colab-df-convert {\n",
              "      background-color: #3B4455;\n",
              "      fill: #D2E3FC;\n",
              "    }\n",
              "\n",
              "    [theme=dark] .colab-df-convert:hover {\n",
              "      background-color: #434B5C;\n",
              "      box-shadow: 0px 1px 3px 1px rgba(0, 0, 0, 0.15);\n",
              "      filter: drop-shadow(0px 1px 2px rgba(0, 0, 0, 0.3));\n",
              "      fill: #FFFFFF;\n",
              "    }\n",
              "  </style>\n",
              "\n",
              "    <script>\n",
              "      const buttonEl =\n",
              "        document.querySelector('#df-e4cd4f23-44f2-44f5-872a-2572130e12dc button.colab-df-convert');\n",
              "      buttonEl.style.display =\n",
              "        google.colab.kernel.accessAllowed ? 'block' : 'none';\n",
              "\n",
              "      async function convertToInteractive(key) {\n",
              "        const element = document.querySelector('#df-e4cd4f23-44f2-44f5-872a-2572130e12dc');\n",
              "        const dataTable =\n",
              "          await google.colab.kernel.invokeFunction('convertToInteractive',\n",
              "                                                    [key], {});\n",
              "        if (!dataTable) return;\n",
              "\n",
              "        const docLinkHtml = 'Like what you see? Visit the ' +\n",
              "          '<a target=\"_blank\" href=https://colab.research.google.com/notebooks/data_table.ipynb>data table notebook</a>'\n",
              "          + ' to learn more about interactive tables.';\n",
              "        element.innerHTML = '';\n",
              "        dataTable['output_type'] = 'display_data';\n",
              "        await google.colab.output.renderOutput(dataTable, element);\n",
              "        const docLink = document.createElement('div');\n",
              "        docLink.innerHTML = docLinkHtml;\n",
              "        element.appendChild(docLink);\n",
              "      }\n",
              "    </script>\n",
              "  </div>\n",
              "\n",
              "\n",
              "<div id=\"df-ce87e2b1-d853-4f9c-9deb-8cfe8f513b48\">\n",
              "  <button class=\"colab-df-quickchart\" onclick=\"quickchart('df-ce87e2b1-d853-4f9c-9deb-8cfe8f513b48')\"\n",
              "            title=\"Suggest charts\"\n",
              "            style=\"display:none;\">\n",
              "\n",
              "<svg xmlns=\"http://www.w3.org/2000/svg\" height=\"24px\"viewBox=\"0 0 24 24\"\n",
              "     width=\"24px\">\n",
              "    <g>\n",
              "        <path d=\"M19 3H5c-1.1 0-2 .9-2 2v14c0 1.1.9 2 2 2h14c1.1 0 2-.9 2-2V5c0-1.1-.9-2-2-2zM9 17H7v-7h2v7zm4 0h-2V7h2v10zm4 0h-2v-4h2v4z\"/>\n",
              "    </g>\n",
              "</svg>\n",
              "  </button>\n",
              "\n",
              "<style>\n",
              "  .colab-df-quickchart {\n",
              "      --bg-color: #E8F0FE;\n",
              "      --fill-color: #1967D2;\n",
              "      --hover-bg-color: #E2EBFA;\n",
              "      --hover-fill-color: #174EA6;\n",
              "      --disabled-fill-color: #AAA;\n",
              "      --disabled-bg-color: #DDD;\n",
              "  }\n",
              "\n",
              "  [theme=dark] .colab-df-quickchart {\n",
              "      --bg-color: #3B4455;\n",
              "      --fill-color: #D2E3FC;\n",
              "      --hover-bg-color: #434B5C;\n",
              "      --hover-fill-color: #FFFFFF;\n",
              "      --disabled-bg-color: #3B4455;\n",
              "      --disabled-fill-color: #666;\n",
              "  }\n",
              "\n",
              "  .colab-df-quickchart {\n",
              "    background-color: var(--bg-color);\n",
              "    border: none;\n",
              "    border-radius: 50%;\n",
              "    cursor: pointer;\n",
              "    display: none;\n",
              "    fill: var(--fill-color);\n",
              "    height: 32px;\n",
              "    padding: 0;\n",
              "    width: 32px;\n",
              "  }\n",
              "\n",
              "  .colab-df-quickchart:hover {\n",
              "    background-color: var(--hover-bg-color);\n",
              "    box-shadow: 0 1px 2px rgba(60, 64, 67, 0.3), 0 1px 3px 1px rgba(60, 64, 67, 0.15);\n",
              "    fill: var(--button-hover-fill-color);\n",
              "  }\n",
              "\n",
              "  .colab-df-quickchart-complete:disabled,\n",
              "  .colab-df-quickchart-complete:disabled:hover {\n",
              "    background-color: var(--disabled-bg-color);\n",
              "    fill: var(--disabled-fill-color);\n",
              "    box-shadow: none;\n",
              "  }\n",
              "\n",
              "  .colab-df-spinner {\n",
              "    border: 2px solid var(--fill-color);\n",
              "    border-color: transparent;\n",
              "    border-bottom-color: var(--fill-color);\n",
              "    animation:\n",
              "      spin 1s steps(1) infinite;\n",
              "  }\n",
              "\n",
              "  @keyframes spin {\n",
              "    0% {\n",
              "      border-color: transparent;\n",
              "      border-bottom-color: var(--fill-color);\n",
              "      border-left-color: var(--fill-color);\n",
              "    }\n",
              "    20% {\n",
              "      border-color: transparent;\n",
              "      border-left-color: var(--fill-color);\n",
              "      border-top-color: var(--fill-color);\n",
              "    }\n",
              "    30% {\n",
              "      border-color: transparent;\n",
              "      border-left-color: var(--fill-color);\n",
              "      border-top-color: var(--fill-color);\n",
              "      border-right-color: var(--fill-color);\n",
              "    }\n",
              "    40% {\n",
              "      border-color: transparent;\n",
              "      border-right-color: var(--fill-color);\n",
              "      border-top-color: var(--fill-color);\n",
              "    }\n",
              "    60% {\n",
              "      border-color: transparent;\n",
              "      border-right-color: var(--fill-color);\n",
              "    }\n",
              "    80% {\n",
              "      border-color: transparent;\n",
              "      border-right-color: var(--fill-color);\n",
              "      border-bottom-color: var(--fill-color);\n",
              "    }\n",
              "    90% {\n",
              "      border-color: transparent;\n",
              "      border-bottom-color: var(--fill-color);\n",
              "    }\n",
              "  }\n",
              "</style>\n",
              "\n",
              "  <script>\n",
              "    async function quickchart(key) {\n",
              "      const quickchartButtonEl =\n",
              "        document.querySelector('#' + key + ' button');\n",
              "      quickchartButtonEl.disabled = true;  // To prevent multiple clicks.\n",
              "      quickchartButtonEl.classList.add('colab-df-spinner');\n",
              "      try {\n",
              "        const charts = await google.colab.kernel.invokeFunction(\n",
              "            'suggestCharts', [key], {});\n",
              "      } catch (error) {\n",
              "        console.error('Error during call to suggestCharts:', error);\n",
              "      }\n",
              "      quickchartButtonEl.classList.remove('colab-df-spinner');\n",
              "      quickchartButtonEl.classList.add('colab-df-quickchart-complete');\n",
              "    }\n",
              "    (() => {\n",
              "      let quickchartButtonEl =\n",
              "        document.querySelector('#df-ce87e2b1-d853-4f9c-9deb-8cfe8f513b48 button');\n",
              "      quickchartButtonEl.style.display =\n",
              "        google.colab.kernel.accessAllowed ? 'block' : 'none';\n",
              "    })();\n",
              "  </script>\n",
              "</div>\n",
              "\n",
              "    </div>\n",
              "  </div>\n"
            ]
          },
          "metadata": {},
          "execution_count": 9
        }
      ],
      "source": [
        "data.tail(5)"
      ]
    },
    {
      "cell_type": "code",
      "execution_count": 10,
      "metadata": {
        "colab": {
          "base_uri": "https://localhost:8080/"
        },
        "id": "Xm3Aw9Rq-Sbu",
        "outputId": "96622b85-6840-4f17-cafa-6aad7a321dc6"
      },
      "outputs": [
        {
          "output_type": "stream",
          "name": "stdout",
          "text": [
            "Empty DataFrame\n",
            "Columns: [target, id, date, flag, user, text]\n",
            "Index: []\n"
          ]
        }
      ],
      "source": [
        "print(data[data['text'].isnull() == True])"
      ]
    },
    {
      "cell_type": "code",
      "execution_count": 11,
      "metadata": {
        "colab": {
          "base_uri": "https://localhost:8080/"
        },
        "id": "jVsiz40GDOzm",
        "outputId": "d73888f4-a906-400f-c49e-5a3026d811d2"
      },
      "outputs": [
        {
          "output_type": "execute_result",
          "data": {
            "text/plain": [
              "(1600000, 6)"
            ]
          },
          "metadata": {},
          "execution_count": 11
        }
      ],
      "source": [
        "data.shape"
      ]
    },
    {
      "cell_type": "code",
      "execution_count": 12,
      "metadata": {
        "colab": {
          "base_uri": "https://localhost:8080/",
          "height": 35
        },
        "id": "Veg-nGzzDVaZ",
        "outputId": "ba935d9a-32ff-42fe-f322-ac215d815232"
      },
      "outputs": [
        {
          "output_type": "execute_result",
          "data": {
            "text/plain": [
              "'TheWDB.com - Very cool to hear old Walt interviews!  â\\x99« http://blip.fm/~8bmta'"
            ],
            "application/vnd.google.colaboratory.intrinsic+json": {
              "type": "string"
            }
          },
          "metadata": {},
          "execution_count": 12
        }
      ],
      "source": [
        "data['text'][1599996]"
      ]
    },
    {
      "cell_type": "code",
      "execution_count": 13,
      "metadata": {
        "colab": {
          "base_uri": "https://localhost:8080/"
        },
        "id": "TyU_jU5z_koZ",
        "outputId": "e5162f62-6b23-4e03-f7f9-9dd35e998321"
      },
      "outputs": [
        {
          "output_type": "execute_result",
          "data": {
            "text/plain": [
              "array([0, 4])"
            ]
          },
          "metadata": {},
          "execution_count": 13
        }
      ],
      "source": [
        "data['target'].unique()"
      ]
    },
    {
      "cell_type": "code",
      "execution_count": 14,
      "metadata": {
        "id": "jFp-xlRr-t0E"
      },
      "outputs": [],
      "source": [
        "cols_to_drop = ['id', 'date', 'flag', 'user']\n",
        "data2= data.drop(columns= cols_to_drop, axis = 1)"
      ]
    },
    {
      "cell_type": "code",
      "execution_count": 15,
      "metadata": {
        "id": "VmuDymvJywQ3"
      },
      "outputs": [],
      "source": [
        "data2['text'] = data2['text'].astype(str)"
      ]
    },
    {
      "cell_type": "code",
      "execution_count": 16,
      "metadata": {
        "colab": {
          "base_uri": "https://localhost:8080/",
          "height": 35
        },
        "id": "iQllJ6pwzc9p",
        "outputId": "113e4345-9dfe-4989-9040-bd8eba31ee16"
      },
      "outputs": [
        {
          "output_type": "execute_result",
          "data": {
            "text/plain": [
              "\"@switchfoot http://twitpic.com/2y1zl - Awww, that's a bummer.  You shoulda got David Carr of Third Day to do it. ;D\""
            ],
            "application/vnd.google.colaboratory.intrinsic+json": {
              "type": "string"
            }
          },
          "metadata": {},
          "execution_count": 16
        }
      ],
      "source": [
        "data2['text'][0]"
      ]
    },
    {
      "cell_type": "markdown",
      "metadata": {
        "id": "MAYSEyHA_eoc"
      },
      "source": [
        "## label encoding for the target value"
      ]
    },
    {
      "cell_type": "code",
      "execution_count": 17,
      "metadata": {
        "id": "mnwCfYmy_eD7"
      },
      "outputs": [],
      "source": [
        "data2['target'] = [0 if label == 0 else 1 for label in data['target']]"
      ]
    },
    {
      "cell_type": "code",
      "execution_count": 18,
      "metadata": {
        "colab": {
          "base_uri": "https://localhost:8080/"
        },
        "id": "IH2gPCMN_bWp",
        "outputId": "26c8063c-1a81-4503-e829-8190b1c58e9f"
      },
      "outputs": [
        {
          "output_type": "execute_result",
          "data": {
            "text/plain": [
              "array([0, 1])"
            ]
          },
          "metadata": {},
          "execution_count": 18
        }
      ],
      "source": [
        "data2['target'].unique()"
      ]
    },
    {
      "cell_type": "code",
      "execution_count": 19,
      "metadata": {
        "colab": {
          "base_uri": "https://localhost:8080/"
        },
        "id": "rac6LBUYkHzD",
        "outputId": "6398864a-9790-4704-f293-7b7a000cf5b6"
      },
      "outputs": [
        {
          "output_type": "execute_result",
          "data": {
            "text/plain": [
              "1600000"
            ]
          },
          "metadata": {},
          "execution_count": 19
        }
      ],
      "source": [
        "len(data2)"
      ]
    },
    {
      "cell_type": "code",
      "execution_count": 20,
      "metadata": {
        "id": "My8uXAiikLT3"
      },
      "outputs": [],
      "source": [
        "data2['text'] = data2['text'].dropna()"
      ]
    },
    {
      "cell_type": "code",
      "execution_count": 21,
      "metadata": {
        "colab": {
          "base_uri": "https://localhost:8080/"
        },
        "id": "A1-M7KUkkTo-",
        "outputId": "07f23e52-774d-4d20-d7ab-914b10a0d29d"
      },
      "outputs": [
        {
          "output_type": "execute_result",
          "data": {
            "text/plain": [
              "1600000"
            ]
          },
          "metadata": {},
          "execution_count": 21
        }
      ],
      "source": [
        "len(data2)"
      ]
    },
    {
      "cell_type": "markdown",
      "metadata": {
        "id": "yUc0BF-DBsL4"
      },
      "source": [
        "## check for imbalanced dataset\n",
        "### by looking at the sentiment distribution chart below, both target values are equally distributed. We do not have an imbalanced dataset."
      ]
    },
    {
      "cell_type": "code",
      "execution_count": 22,
      "metadata": {
        "colab": {
          "base_uri": "https://localhost:8080/",
          "height": 467
        },
        "id": "0TT6hW2xBw4o",
        "outputId": "748515f3-a1dd-4b06-a8b3-79799f1f355a"
      },
      "outputs": [
        {
          "output_type": "display_data",
          "data": {
            "text/plain": [
              "<Figure size 640x480 with 1 Axes>"
            ],
            "image/png": "[encoded data removed]"
          },
          "metadata": {}
        }
      ],
      "source": [
        "import matplotlib.pyplot as plt\n",
        "label_counts= pd.Series(data2['target']).value_counts()\n",
        "label_counts.plot(kind= 'bar', color = ['blue', 'gray'])\n",
        "plt.title('Sentiment Distribution')\n",
        "plt.xlabel('Sentiment')\n",
        "plt.ylabel('Count')\n",
        "plt.show()"
      ]
    },
    {
      "cell_type": "markdown",
      "metadata": {
        "id": "sgWaOi1eDjz4"
      },
      "source": [
        "## text cleaning"
      ]
    },
    {
      "cell_type": "code",
      "execution_count": null,
      "metadata": {
        "id": "fZbhSOxZw3P9"
      },
      "outputs": [],
      "source": [
        "#text_cleaning = re.compile(r'|((@\\w+) | (http\\S+)|([^a-zA-Z0-9\\s]|(\\s+))', re.IGNORECASE)"
      ]
    },
    {
      "cell_type": "code",
      "execution_count": 23,
      "metadata": {
        "id": "qFJ50Uf8YJqx"
      },
      "outputs": [],
      "source": [
        "re_text = re.compile(r'(@\\w+)|(http\\S+)', re.IGNORECASE)\n",
        "def sub_br(x): return re_text.sub(\"a\", x)"
      ]
    },
    {
      "cell_type": "code",
      "execution_count": 24,
      "metadata": {
        "id": "HthOB3dPyAiK"
      },
      "outputs": [],
      "source": [
        "#!python -m spacy download en_core_web_sm"
      ]
    },
    {
      "cell_type": "code",
      "execution_count": 25,
      "metadata": {
        "id": "sDyHrmVkMWJW"
      },
      "outputs": [],
      "source": [
        "my_tok= spacy.load('en_core_web_sm')"
      ]
    },
    {
      "cell_type": "code",
      "execution_count": 26,
      "metadata": {
        "id": "Duq3QaYAHDxH"
      },
      "outputs": [],
      "source": [
        "def my_tokenization(x):\n",
        "    if isinstance(x, str):\n",
        "        cleaned_text = sub_br(x)\n",
        "        cleaned_text = re.sub(r'\\s+', ' ', cleaned_text).strip()\n",
        "        return [tok.text for tok in my_tok.tokenizer(cleaned_text)]\n",
        "    elif pd.notna(x):  # Check for non-null values\n",
        "        cleaned_text = sub_br(str(x))\n",
        "        return [tok.text for tok in my_tok.tokenizer(cleaned_text)]\n"
      ]
    },
    {
      "cell_type": "code",
      "execution_count": 27,
      "metadata": {
        "id": "C7GDfUh8GKha"
      },
      "outputs": [],
      "source": [
        "check = data2['text'].tolist()"
      ]
    },
    {
      "cell_type": "code",
      "execution_count": 28,
      "metadata": {
        "colab": {
          "base_uri": "https://localhost:8080/",
          "height": 35
        },
        "id": "g44rTn6_oKpZ",
        "outputId": "decd9cae-184e-4946-a7b7-ee15a7bbb8e6"
      },
      "outputs": [
        {
          "output_type": "execute_result",
          "data": {
            "text/plain": [
              "\"@switchfoot http://twitpic.com/2y1zl - Awww, that's a bummer.  You shoulda got David Carr of Third Day to do it. ;D\""
            ],
            "application/vnd.google.colaboratory.intrinsic+json": {
              "type": "string"
            }
          },
          "metadata": {},
          "execution_count": 28
        }
      ],
      "source": [
        "check[0]"
      ]
    },
    {
      "cell_type": "code",
      "execution_count": 29,
      "metadata": {
        "id": "H0flkAnCpudw"
      },
      "outputs": [],
      "source": [
        "min_sentence = data2['text'].apply(lambda x: len(x))"
      ]
    },
    {
      "cell_type": "markdown",
      "metadata": {
        "id": "OK5YFEiMZy-A"
      },
      "source": [
        "## Computing vocab2index"
      ]
    },
    {
      "cell_type": "code",
      "execution_count": 30,
      "metadata": {
        "id": "u51BwSiAa6jC"
      },
      "outputs": [],
      "source": [
        "#%config Z\n",
        "#MQInteractiveShell.iopub_data_rate_limit=1000000000"
      ]
    },
    {
      "cell_type": "code",
      "execution_count": 31,
      "metadata": {
        "id": "eptPTTjNJ-bv"
      },
      "outputs": [],
      "source": [
        "counts = Counter()\n",
        "counts.update(data2['text'].apply(lambda x: my_tokenization(x)).explode())"
      ]
    },
    {
      "cell_type": "code",
      "execution_count": 32,
      "metadata": {
        "id": "n8k7hqgGNwSY"
      },
      "outputs": [],
      "source": [
        "first_key = next(iter(counts))\n",
        "first_value = counts[first_key]"
      ]
    },
    {
      "cell_type": "code",
      "execution_count": 33,
      "metadata": {
        "colab": {
          "base_uri": "https://localhost:8080/"
        },
        "id": "9bS19htBOfRp",
        "outputId": "8ca75fa8-3c00-4e03-f2bb-15b52d58c44c"
      },
      "outputs": [
        {
          "output_type": "execute_result",
          "data": {
            "text/plain": [
              "('a', 1221402)"
            ]
          },
          "metadata": {},
          "execution_count": 33
        }
      ],
      "source": [
        "first_key, first_value"
      ]
    },
    {
      "cell_type": "code",
      "execution_count": 34,
      "metadata": {
        "colab": {
          "base_uri": "https://localhost:8080/"
        },
        "id": "UmHwg6hYOjJj",
        "outputId": "c3cb7290-8ba1-4d71-dcbd-af2a1baf436a"
      },
      "outputs": [
        {
          "output_type": "execute_result",
          "data": {
            "text/plain": [
              "458441"
            ]
          },
          "metadata": {},
          "execution_count": 34
        }
      ],
      "source": [
        "len(counts.keys())"
      ]
    },
    {
      "cell_type": "markdown",
      "metadata": {
        "id": "qVhXoiy3PGyb"
      },
      "source": [
        "## let's remove fillers"
      ]
    },
    {
      "cell_type": "code",
      "execution_count": 35,
      "metadata": {
        "id": "7BSSCOWqOqs7"
      },
      "outputs": [],
      "source": [
        "for word in list(counts):\n",
        "  if counts[word] < 5:\n",
        "    del counts[word]"
      ]
    },
    {
      "cell_type": "code",
      "execution_count": 36,
      "metadata": {
        "colab": {
          "base_uri": "https://localhost:8080/"
        },
        "id": "s6yQkYCJO7Pn",
        "outputId": "7d6a11c1-db6a-4d69-8770-04637942de5f"
      },
      "outputs": [
        {
          "output_type": "execute_result",
          "data": {
            "text/plain": [
              "72948"
            ]
          },
          "metadata": {},
          "execution_count": 36
        }
      ],
      "source": [
        "len(counts.keys())"
      ]
    },
    {
      "cell_type": "code",
      "execution_count": 37,
      "metadata": {
        "colab": {
          "base_uri": "https://localhost:8080/"
        },
        "id": "pPIqK8IcqmTS",
        "outputId": "c124479e-b030-4b11-91e6-e8789c0a33de"
      },
      "outputs": [
        {
          "output_type": "execute_result",
          "data": {
            "text/plain": [
              "Counter({'a': 1221402,\n",
              "         '-': 119855,\n",
              "         'Awww': 1892,\n",
              "         ',': 482706,\n",
              "         'that': 155269,\n",
              "         \"'s\": 178914,\n",
              "         'bummer': 1001,\n",
              "         '.': 804972,\n",
              "         'You': 26331,\n",
              "         'shoulda': 298,\n",
              "         'got': 61423,\n",
              "         'David': 1684,\n",
              "         'Carr': 39,\n",
              "         'of': 180640,\n",
              "         'Third': 97,\n",
              "         'Day': 5472,\n",
              "         'to': 557894,\n",
              "         'do': 122142,\n",
              "         'it': 260572,\n",
              "         ';D': 736,\n",
              "         'is': 232135,\n",
              "         'upset': 2552,\n",
              "         'he': 31956,\n",
              "         'ca': 52627,\n",
              "         \"n't\": 170855,\n",
              "         'update': 4024,\n",
              "         'his': 14819,\n",
              "         'Facebook': 1398,\n",
              "         'by': 24506,\n",
              "         'texting': 686,\n",
              "         '...': 219948,\n",
              "         'and': 281801,\n",
              "         'might': 8696,\n",
              "         'cry': 4285,\n",
              "         'as': 37076,\n",
              "         'result': 569,\n",
              "         'School': 1327,\n",
              "         'today': 63078,\n",
              "         'also': 8016,\n",
              "         'Blah': 392,\n",
              "         '!': 903976,\n",
              "         'I': 658549,\n",
              "         'many': 8420,\n",
              "         'times': 7183,\n",
              "         'for': 211830,\n",
              "         'the': 490096,\n",
              "         'ball': 1218,\n",
              "         'Managed': 112,\n",
              "         'save': 1937,\n",
              "         '50': 1333,\n",
              "         '%': 2740,\n",
              "         'The': 27454,\n",
              "         'rest': 4973,\n",
              "         'go': 69374,\n",
              "         'out': 79512,\n",
              "         'bounds': 14,\n",
              "         'my': 282932,\n",
              "         'whole': 5647,\n",
              "         'body': 2413,\n",
              "         'feels': 4455,\n",
              "         'itchy': 424,\n",
              "         'like': 76119,\n",
              "         'its': 36759,\n",
              "         'on': 160843,\n",
              "         'fire': 1271,\n",
              "         'no': 57687,\n",
              "         'not': 96244,\n",
              "         'behaving': 68,\n",
              "         'at': 103468,\n",
              "         'all': 77514,\n",
              "         'i': 339107,\n",
              "         \"'m\": 127460,\n",
              "         'mad': 3474,\n",
              "         'why': 19811,\n",
              "         'am': 50083,\n",
              "         'here': 35468,\n",
              "         '?': 236874,\n",
              "         'because': 12674,\n",
              "         'see': 43469,\n",
              "         'you': 268847,\n",
              "         'over': 22738,\n",
              "         'there': 41519,\n",
              "         'crew': 589,\n",
              "         'Need': 2445,\n",
              "         'hug': 1969,\n",
              "         'hey': 10012,\n",
              "         'long': 15599,\n",
              "         'time': 52996,\n",
              "         'Yes': 5528,\n",
              "         '..': 102175,\n",
              "         'Rains': 17,\n",
              "         'bit': 10677,\n",
              "         'only': 25004,\n",
              "         'LOL': 13946,\n",
              "         'fine': 4282,\n",
              "         'thanks': 22267,\n",
              "         'how': 34157,\n",
              "         'nope': 1620,\n",
              "         'they': 36204,\n",
              "         'did': 46816,\n",
              "         'have': 143686,\n",
              "         'que': 470,\n",
              "         'me': 154073,\n",
              "         'spring': 699,\n",
              "         'break': 4229,\n",
              "         'in': 208055,\n",
              "         'plain': 363,\n",
              "         'city': 2671,\n",
              "         'snowing': 124,\n",
              "         'just': 98219,\n",
              "         're': 3842,\n",
              "         'pierced': 154,\n",
              "         'ears': 813,\n",
              "         'could': 26852,\n",
              "         'bear': 663,\n",
              "         'watch': 14858,\n",
              "         'And': 18041,\n",
              "         'thought': 10381,\n",
              "         'UA': 15,\n",
              "         'loss': 993,\n",
              "         'was': 107257,\n",
              "         'embarrassing': 187,\n",
              "         'It': 39078,\n",
              "         'counts': 229,\n",
              "         'idk': 1880,\n",
              "         'either': 5022,\n",
              "         'never': 15708,\n",
              "         'talk': 7597,\n",
              "         'anymore': 6502,\n",
              "         'would': 29206,\n",
              "         \"'ve\": 25561,\n",
              "         'been': 31458,\n",
              "         'first': 14699,\n",
              "         'but': 113277,\n",
              "         'gun': 259,\n",
              "         'really': 45122,\n",
              "         'though': 23381,\n",
              "         'zac': 115,\n",
              "         'wish': 23593,\n",
              "         'with': 112549,\n",
              "         'miss': 33562,\n",
              "         'premiere': 327,\n",
              "         \"'\": 33123,\n",
              "         'death': 1440,\n",
              "         'scene': 639,\n",
              "         'will': 47501,\n",
              "         'hurt': 5053,\n",
              "         'severely': 67,\n",
              "         'film': 1803,\n",
              "         'wry': 8,\n",
              "         'directors': 28,\n",
              "         'cut': 3366,\n",
              "         'now': 82061,\n",
              "         'about': 48366,\n",
              "         'file': 496,\n",
              "         'taxes': 125,\n",
              "         'ahh': 1929,\n",
              "         've': 4056,\n",
              "         'always': 13566,\n",
              "         'wanted': 7161,\n",
              "         'rent': 444,\n",
              "         'love': 53358,\n",
              "         'soundtrack': 268,\n",
              "         'Oh': 16533,\n",
              "         'dear': 2957,\n",
              "         'Were': 404,\n",
              "         'drinking': 2416,\n",
              "         'forgotten': 503,\n",
              "         'table': 811,\n",
              "         'drinks': 1061,\n",
              "         'most': 7118,\n",
              "         'day': 79390,\n",
              "         'so': 131384,\n",
              "         'get': 77553,\n",
              "         'much': 35407,\n",
              "         'done': 14187,\n",
              "         'one': 49594,\n",
              "         'friend': 10842,\n",
              "         'called': 4111,\n",
              "         'asked': 1792,\n",
              "         'meet': 5113,\n",
              "         'her': 30125,\n",
              "         'Mid': 47,\n",
              "         'Valley': 151,\n",
              "         '*': 34581,\n",
              "         'sigh': 2616,\n",
              "         'baked': 332,\n",
              "         'cake': 2214,\n",
              "         'this': 83488,\n",
              "         'week': 21075,\n",
              "         'going': 55390,\n",
              "         'had': 43030,\n",
              "         'hoped': 264,\n",
              "         'class': 5624,\n",
              "         '8': 4947,\n",
              "         'tomorrow': 32166,\n",
              "         'hate': 17842,\n",
              "         'when': 36193,\n",
              "         'call': 7813,\n",
              "         'wake': 4132,\n",
              "         'people': 19149,\n",
              "         'up': 85676,\n",
              "         'Just': 27299,\n",
              "         'myself': 8936,\n",
              "         'sleep': 26585,\n",
              "         'after': 17254,\n",
              "         'watching': 16955,\n",
              "         'Marley': 226,\n",
              "         'Me': 4911,\n",
              "         'm': 49762,\n",
              "         'sad': 26346,\n",
              "         'Miss.': 21,\n",
              "         'Lilly': 56,\n",
              "         'ooooh': 218,\n",
              "         '....': 38212,\n",
              "         'leslie': 29,\n",
              "         'ok': 11025,\n",
              "         'wo': 14467,\n",
              "         'again': 28914,\n",
              "         'Meh': 218,\n",
              "         'Almost': 1028,\n",
              "         'Lover': 34,\n",
              "         'exception': 116,\n",
              "         'track': 1218,\n",
              "         'gets': 4172,\n",
              "         'depressed': 1270,\n",
              "         'every': 5853,\n",
              "         'some1': 240,\n",
              "         'hacked': 334,\n",
              "         'account': 2766,\n",
              "         'aim': 444,\n",
              "         'make': 23741,\n",
              "         'new': 36357,\n",
              "         'want': 40384,\n",
              "         'promote': 197,\n",
              "         'GEAR': 5,\n",
              "         'AND': 3082,\n",
              "         'ride': 2988,\n",
              "         'may': 6347,\n",
              "         'b': 5362,\n",
              "         'Anaheim': 45,\n",
              "         'May': 1814,\n",
              "         'sleeping': 3772,\n",
              "         'an': 34217,\n",
              "         'option': 663,\n",
              "         'realizing': 193,\n",
              "         'evaluations': 9,\n",
              "         'morning': 27842,\n",
              "         'work': 61734,\n",
              "         'afternoon': 3850,\n",
              "         'awe': 550,\n",
              "         'too': 60963,\n",
              "         '1': 11501,\n",
              "         'asian': 251,\n",
              "         'eyes': 3320,\n",
              "         'night': 39495,\n",
              "         'sick': 15134,\n",
              "         'spent': 2194,\n",
              "         'hour': 7335,\n",
              "         'sitting': 3838,\n",
              "         'shower': 3756,\n",
              "         'cause': 5899,\n",
              "         'stand': 1342,\n",
              "         'held': 308,\n",
              "         'back': 50975,\n",
              "         'puke': 191,\n",
              "         'champ': 90,\n",
              "         'BED': 179,\n",
              "         'ill': 5895,\n",
              "         'tell': 8901,\n",
              "         'ya': 9263,\n",
              "         'story': 2830,\n",
              "         'later': 9764,\n",
              "         'good': 72268,\n",
              "         'be': 110396,\n",
              "         'workin': 826,\n",
              "         'three': 2611,\n",
              "         'more': 35662,\n",
              "         'hours': 12835,\n",
              "         'sorry': 19166,\n",
              "         'bed': 21376,\n",
              "         'came': 5667,\n",
              "         '(': 36241,\n",
              "         ')': 36401,\n",
              "         'Its': 7245,\n",
              "         'depressing': 1198,\n",
              "         'think': 39683,\n",
              "         'even': 17553,\n",
              "         'know': 50538,\n",
              "         'kids': 5414,\n",
              "         'suitcases': 25,\n",
              "         'Bed': 585,\n",
              "         'Class': 305,\n",
              "         '12': 3019,\n",
              "         'Work': 2386,\n",
              "         '3': 17352,\n",
              "         'Gym': 222,\n",
              "         '5': 9626,\n",
              "         'or': 29109,\n",
              "         '6': 6284,\n",
              "         'Then': 2867,\n",
              "         '10': 6704,\n",
              "         'Another': 2432,\n",
              "         'gon': 21326,\n",
              "         'na': 24823,\n",
              "         'fly': 1545,\n",
              "         'girlfriend': 892,\n",
              "         'feel': 28621,\n",
              "         'getting': 20555,\n",
              "         'study': 3841,\n",
              "         'tomorrows': 182,\n",
              "         'practical': 111,\n",
              "         'exam': 5400,\n",
              "         'He': 7307,\n",
              "         'reason': 3381,\n",
              "         'teardrops': 19,\n",
              "         'guitar': 1680,\n",
              "         'who': 15908,\n",
              "         'has': 32581,\n",
              "         'enough': 6582,\n",
              "         'heart': 4630,\n",
              "         'Sad': 2448,\n",
              "         'feeling': 12876,\n",
              "         'wanna': 15629,\n",
              "         'still': 36717,\n",
              "         'soo': 4556,\n",
              "         'finally': 8174,\n",
              "         'comfortable': 289,\n",
              "         'missed': 9905,\n",
              "         'Falling': 139,\n",
              "         'asleep': 4178,\n",
              "         'heard': 4667,\n",
              "         'Tracy': 73,\n",
              "         'girl': 9213,\n",
              "         'being': 14982,\n",
              "         'found': 7678,\n",
              "         'How': 10162,\n",
              "         'My': 29775,\n",
              "         'breaks': 504,\n",
              "         'family': 6965,\n",
              "         'Yay': 4494,\n",
              "         'happy': 18217,\n",
              "         'your': 61217,\n",
              "         'job': 8143,\n",
              "         'But': 18322,\n",
              "         'means': 3615,\n",
              "         'less': 3251,\n",
              "         'checked': 1182,\n",
              "         'user': 460,\n",
              "         'timeline': 155,\n",
              "         'blackberry': 1038,\n",
              "         'looks': 8318,\n",
              "         'happening': 1233,\n",
              "         'Are': 2706,\n",
              "         'ppl': 3325,\n",
              "         'having': 13903,\n",
              "         'probs': 600,\n",
              "         'w/': 4428,\n",
              "         'BGs': 5,\n",
              "         'man': 11305,\n",
              "         'ironing': 263,\n",
              "         'fave': 1105,\n",
              "         'top': 3081,\n",
              "         'wear': 2422,\n",
              "         'meeting': 3095,\n",
              "         'Burnt': 108,\n",
              "         'strangely': 97,\n",
              "         'breaking': 838,\n",
              "         'oh': 21274,\n",
              "         'before': 12594,\n",
              "         'retweeting': 119,\n",
              "         'Broadband': 22,\n",
              "         'plan': 2614,\n",
              "         'massive': 704,\n",
              "         'broken': 2915,\n",
              "         'promise': 1154,\n",
              "         'via': 2976,\n",
              "         'Still': 5904,\n",
              "         'waiting': 7878,\n",
              "         'broadband': 187,\n",
              "         'we': 49066,\n",
              "         'are': 77689,\n",
              "         'Wow': 4106,\n",
              "         'tons': 688,\n",
              "         'replies': 689,\n",
              "         'from': 55003,\n",
              "         'unfollow': 343,\n",
              "         'can': 46207,\n",
              "         'friends': 13754,\n",
              "         'tweets': 5788,\n",
              "         \"'re\": 30442,\n",
              "         'scrolling': 52,\n",
              "         'feed': 938,\n",
              "         'lot': 8653,\n",
              "         'our': 13923,\n",
              "         'duck': 258,\n",
              "         'chicken': 1936,\n",
              "         'taking': 4933,\n",
              "         'wayyy': 169,\n",
              "         'hatch': 28,\n",
              "         'Put': 277,\n",
              "         'vacation': 2344,\n",
              "         'photos': 2214,\n",
              "         'online': 4336,\n",
              "         'few': 9079,\n",
              "         'yrs': 712,\n",
              "         'ago': 5354,\n",
              "         'PC': 1005,\n",
              "         'crashed': 772,\n",
              "         'forget': 2738,\n",
              "         'name': 5411,\n",
              "         'site': 4047,\n",
              "         'need': 32636,\n",
              "         'Not': 11155,\n",
              "         'sure': 14060,\n",
              "         'what': 47773,\n",
              "         'As': 1792,\n",
              "         'nt': 59581,\n",
              "         'trade': 365,\n",
              "         'away': 11818,\n",
              "         'company': 1828,\n",
              "         'assets': 30,\n",
              "         'andy': 335,\n",
              "         'happens': 1962,\n",
              "         'Dallas': 478,\n",
              "         'show': 14854,\n",
              "         'ta': 9303,\n",
              "         'say': 15701,\n",
              "         \"'d\": 11442,\n",
              "         'shows': 2442,\n",
              "         'use': 7525,\n",
              "         'music': 7996,\n",
              "         'game': 8920,\n",
              "         'mmm': 1041,\n",
              "         'Ugh': 4037,\n",
              "         '92': 87,\n",
              "         'degrees': 940,\n",
              "         'Where': 2947,\n",
              "         'u': 47718,\n",
              "         'move': 3686,\n",
              "         'were': 18303,\n",
              "         'already': 14011,\n",
              "         'sd': 79,\n",
              "         'Hmmm': 841,\n",
              "         'Random': 186,\n",
              "         'Glad': 2806,\n",
              "         'hear': 9875,\n",
              "         'yer': 395,\n",
              "         'doing': 14924,\n",
              "         'well': 34060,\n",
              "         'ps3': 177,\n",
              "         'commission': 85,\n",
              "         'playing': 6384,\n",
              "         'Have': 11031,\n",
              "         'copped': 19,\n",
              "         'Blood': 424,\n",
              "         'On': 5920,\n",
              "         'Sand': 23,\n",
              "         'leaving': 4309,\n",
              "         'parking': 526,\n",
              "         'Life': 1750,\n",
              "         'cool': 12604,\n",
              "         'Sadly': 815,\n",
              "         'gotten': 1259,\n",
              "         'experience': 1159,\n",
              "         'post': 5243,\n",
              "         'cigarette': 139,\n",
              "         'such': 8161,\n",
              "         'nice': 20016,\n",
              "         'Too': 3650,\n",
              "         'bad': 25262,\n",
              "         'rain': 9743,\n",
              "         'comes': 3443,\n",
              "         'around': 8896,\n",
              "         'lost': 9898,\n",
              "         'pay': 4090,\n",
              "         'phone': 12897,\n",
              "         'bill': 629,\n",
              "         'lmao': 2761,\n",
              "         'aw': 2454,\n",
              "         'shucks': 173,\n",
              "         'Damm': 33,\n",
              "         'school': 18812,\n",
              "         'Mo': 102,\n",
              "         'jobs': 718,\n",
              "         'money': 5965,\n",
              "         'hell': 4430,\n",
              "         'min': 1409,\n",
              "         'wage': 40,\n",
              "         '4': 17569,\n",
              "         \"f'n\": 43,\n",
              "         'clams': 13,\n",
              "         'forever': 2230,\n",
              "         'See': 2291,\n",
              "         'soon': 17089,\n",
              "         'agreed': 462,\n",
              "         'saw': 8822,\n",
              "         'failwhale': 17,\n",
              "         'allllll': 78,\n",
              "         'Haha': 5665,\n",
              "         'dude': 3411,\n",
              "         'look': 12200,\n",
              "         'em': 1761,\n",
              "         'unless': 1029,\n",
              "         'someone': 9823,\n",
              "         'says': 5748,\n",
              "         'HEY': 534,\n",
              "         'ADDED': 8,\n",
              "         'YOU': 5211,\n",
              "         'Sorry': 6733,\n",
              "         'terrible': 1770,\n",
              "         'pop': 975,\n",
              "         'right': 25947,\n",
              "         'start': 10224,\n",
              "         'working': 14684,\n",
              "         'Or': 2178,\n",
              "         'Jared': 162,\n",
              "         'least': 7888,\n",
              "         'diss': 50,\n",
              "         'bands': 545,\n",
              "         'Trace': 78,\n",
              "         'clearly': 433,\n",
              "         'NOT': 3461,\n",
              "         'ugly': 918,\n",
              "         'attire': 42,\n",
              "         ':': 41194,\n",
              "         'Puma': 19,\n",
              "         'singlet': 10,\n",
              "         'Adidas': 23,\n",
              "         'shorts': 578,\n",
              "         '.......': 1690,\n",
              "         'black': 2261,\n",
              "         'business': 1780,\n",
              "         'socks': 430,\n",
              "         'leather': 181,\n",
              "         'shoes': 2144,\n",
              "         'Lucky': 711,\n",
              "         'run': 5045,\n",
              "         'into': 11119,\n",
              "         'any': 13619,\n",
              "         'cute': 7196,\n",
              "         'girls': 4542,\n",
              "         'Why': 7517,\n",
              "         'location': 392,\n",
              "         'No': 15727,\n",
              "         'picnic': 518,\n",
              "         'smells': 682,\n",
              "         'citrus': 18,\n",
              "         'donkey': 68,\n",
              "         'sensitive': 142,\n",
              "         'comments': 997,\n",
              "         'Nevertheless': 19,\n",
              "         'glad': 7653,\n",
              "         'mug': 217,\n",
              "         'asap': 541,\n",
              "         'Charger': 19,\n",
              "         'awol': 11,\n",
              "         'csi': 72,\n",
              "         'tonight': 24509,\n",
              "         'FML': 939,\n",
              "         'arms': 755,\n",
              "         'sore': 3573,\n",
              "         'tennis': 737,\n",
              "         'wonders': 436,\n",
              "         'unhappy': 322,\n",
              "         'split': 354,\n",
              "         'saying': 2947,\n",
              "         'bye': 2972,\n",
              "         'ur': 12089,\n",
              "         'newsletter': 138,\n",
              "         'those': 9189,\n",
              "         'fares': 21,\n",
              "         'unbelievable': 128,\n",
              "         'shame': 1835,\n",
              "         'booked': 593,\n",
              "         'paid': 1347,\n",
              "         'mine': 5912,\n",
              "         'missin': 585,\n",
              "         'boo': 3471,\n",
              "         '#': 44609,\n",
              "         'itm': 5,\n",
              "         'Damn': 3631,\n",
              "         'chalk': 46,\n",
              "         'MY': 3444,\n",
              "         'IS': 2576,\n",
              "         'blast': 1201,\n",
              "         'Getty': 14,\n",
              "         'Villa': 29,\n",
              "         'hates': 1741,\n",
              "         'she': 25238,\n",
              "         'throat': 2902,\n",
              "         'worse': 2697,\n",
              "         'sup': 149,\n",
              "         'mama': 959,\n",
              "         'tummy': 2135,\n",
              "         'hurts': 7526,\n",
              "         'wonder': 2457,\n",
              "         'if': 35663,\n",
              "         'hypnosis': 15,\n",
              "         'anything': 7614,\n",
              "         'If': 7649,\n",
              "         'STOP': 269,\n",
              "         'SMOKING': 7,\n",
              "         'fat': 1490,\n",
              "         'ones': 3306,\n",
              "         'babe': 1953,\n",
              "         'fam': 1499,\n",
              "         'annoys': 95,\n",
              "         'Thankfully': 131,\n",
              "         'Muahaha': 15,\n",
              "         'evil': 815,\n",
              "         'laugh': 2168,\n",
              "         'should': 22641,\n",
              "         'attention': 806,\n",
              "         'covered': 586,\n",
              "         'photoshop': 290,\n",
              "         'webpage': 63,\n",
              "         'design': 1135,\n",
              "         'undergrad': 30,\n",
              "         'wednesday': 973,\n",
              "         '2': 39875,\n",
              "         'Poor': 2287,\n",
              "         'cameron': 54,\n",
              "         'hills': 865,\n",
              "         'pray': 1208,\n",
              "         'please': 11125,\n",
              "         'ex': 737,\n",
              "         'threatening': 60,\n",
              "         'sh': 34,\n",
              "         '/': 19995,\n",
              "         'babies': 916,\n",
              "         '1st': 2962,\n",
              "         'Birthday': 2117,\n",
              "         'party': 9007,\n",
              "         'jerk': 322,\n",
              "         'headache': 5195,\n",
              "         'hmm': 1805,\n",
              "         'enjoy': 5424,\n",
              "         'him': 18899,\n",
              "         'problems': 1581,\n",
              "         'things': 10905,\n",
              "         'find': 13878,\n",
              "         'little': 16097,\n",
              "         'puppy': 1498,\n",
              "         'grace': 223,\n",
              "         'wana': 493,\n",
              "         'steve': 157,\n",
              "         'SADLY': 7,\n",
              "         'SINCE': 36,\n",
              "         'ITS': 514,\n",
              "         'EASTER': 5,\n",
              "         'WNT': 5,\n",
              "         'B': 1629,\n",
              "         'ABLE': 19,\n",
              "         'DO': 1167,\n",
              "         'MUCH': 745,\n",
              "         'BUT': 1402,\n",
              "         'OHH': 43,\n",
              "         'WELL': 242,\n",
              "         '.....': 9912,\n",
              "         'actually': 8982,\n",
              "         'won': 3286,\n",
              "         'bracket': 31,\n",
              "         'pools': 76,\n",
              "         'follow': 9714,\n",
              "         'A': 11236,\n",
              "         'nite': 2959,\n",
              "         'favorite': 3931,\n",
              "         'teams': 228,\n",
              "         'Astros': 26,\n",
              "         'Spartans': 9,\n",
              "         'lose': 1887,\n",
              "         'Body': 138,\n",
              "         'Of': 1867,\n",
              "         'Missing': 1388,\n",
              "         'Northern': 100,\n",
              "         'Calif.': 8,\n",
              "         'Girl': 863,\n",
              "         'Found': 844,\n",
              "         'Police': 87,\n",
              "         'remains': 104,\n",
              "         'missing': 6780,\n",
              "         'California': 570,\n",
              "         'hope': 25103,\n",
              "         'increase': 145,\n",
              "         'capacity': 92,\n",
              "         'fast': 2947,\n",
              "         'yesterday': 8882,\n",
              "         'pain': 4325,\n",
              "         'Got': 7982,\n",
              "         'fail': 2798,\n",
              "         'whale': 177,\n",
              "         'Behind': 53,\n",
              "         'classes': 1460,\n",
              "         '&': 96530,\n",
              "         'quot;House&quot': 12,\n",
              "         ';': 93170,\n",
              "         'Remember': 512,\n",
              "         'bum': 474,\n",
              "         'leg': 1283,\n",
              "         'Strikes': 12,\n",
              "         'serious': 1555,\n",
              "         'their': 8170,\n",
              "         'kinds': 322,\n",
              "         'complaints': 100,\n",
              "         'laptop': 3387,\n",
              "         'overheating': 30,\n",
              "         'recalls': 5,\n",
              "         'Emily': 249,\n",
              "         'Mommy': 288,\n",
              "         'training': 1428,\n",
              "         'She': 5237,\n",
              "         'misses': 1069,\n",
              "         'rather': 2651,\n",
              "         'send': 4770,\n",
              "         'messages': 1172,\n",
              "         'than': 14296,\n",
              "         '3rd': 1264,\n",
              "         'mixed': 406,\n",
              "         'year': 10654,\n",
              "         'overrated': 119,\n",
              "         'wondered': 188,\n",
              "         'same': 10008,\n",
              "         'thing': 14547,\n",
              "         'Moscow': 63,\n",
              "         'behind': 1955,\n",
              "         'laying': 1079,\n",
              "         'voice': 2286,\n",
              "         'sooo': 5284,\n",
              "         'killed': 1242,\n",
              "         'off': 32338,\n",
              "         'Kutner': 26,\n",
              "         'House': 1188,\n",
              "         'whyyyyyyyy': 6,\n",
              "         'them': 24301,\n",
              "         'mea': 13,\n",
              "         'culpa': 7,\n",
              "         'sense': 1278,\n",
              "         'suicide': 162,\n",
              "         'refuse': 258,\n",
              "         'believe': 7019,\n",
              "         'happened': 3599,\n",
              "         'grind': 284,\n",
              "         'inspirational': 130,\n",
              "         'saddening': 37,\n",
              "         'Do': 9232,\n",
              "         'stop': 7267,\n",
              "         'cuz': 4721,\n",
              "         'Much': 742,\n",
              "         'yeah': 15072,\n",
              "         'wudnt': 36,\n",
              "         'chance': 2673,\n",
              "         'ugh': 5101,\n",
              "         '1:30am': 24,\n",
              "         'Hanging': 592,\n",
              "         'Wanna': 595,\n",
              "         'sing': 1624,\n",
              "         'Ca': 9117,\n",
              "         'Sucks': 527,\n",
              "         'aaw': 60,\n",
              "         'BH': 37,\n",
              "         'quot;morning&quot': 10,\n",
              "         'aww': 5392,\n",
              "         'beach': 4953,\n",
              "         'w': 3964,\n",
              "         'Is': 11481,\n",
              "         'pissed': 1489,\n",
              "         'radio': 1768,\n",
              "         'station': 941,\n",
              "         'n': 8878,\n",
              "         'life': 13777,\n",
              "         'flipped': 72,\n",
              "         'upside': 285,\n",
              "         'down': 17890,\n",
              "         'head': 8193,\n",
              "         'some': 43699,\n",
              "         'Ramen': 46,\n",
              "         'sounds': 6802,\n",
              "         'sides': 170,\n",
              "         'mention': 1434,\n",
              "         'crying': 2178,\n",
              "         'made': 12787,\n",
              "         'Late': 429,\n",
              "         'snack': 368,\n",
              "         'glass': 1051,\n",
              "         'OJ': 75,\n",
              "         'c': 2807,\n",
              "         'quot;down': 7,\n",
              "         'then': 31401,\n",
              "         'big': 8930,\n",
              "         'fan': 3783,\n",
              "         'camilla': 21,\n",
              "         'belle': 58,\n",
              "         'WAH': 38,\n",
              "         'clip': 382,\n",
              "         'must': 7258,\n",
              "         'el': 427,\n",
              "         'filters': 43,\n",
              "         'wait': 21071,\n",
              "         'till': 7676,\n",
              "         'puter': 79,\n",
              "         'Something': 608,\n",
              "         'else': 5268,\n",
              "         'blame': 847,\n",
              "         'broke': 4086,\n",
              "         'This': 9557,\n",
              "         'seems': 4467,\n",
              "         'longer': 2715,\n",
              "         'terms': 239,\n",
              "         'cold': 8074,\n",
              "         'Ehhh': 32,\n",
              "         'Weather': 527,\n",
              "         'take': 15597,\n",
              "         'turn': 2980,\n",
              "         'haha': 24425,\n",
              "         'cooooold': 14,\n",
              "         'd': 3064,\n",
              "         'incredible': 454,\n",
              "         'stuff': 9654,\n",
              "         'Hoping': 738,\n",
              "         'rumbles': 9,\n",
              "         'notice': 851,\n",
              "         'They': 6908,\n",
              "         'told': 4323,\n",
              "         'agency': 108,\n",
              "         'said': 9281,\n",
              "         'almost': 6686,\n",
              "         'bedtime': 537,\n",
              "         'alive': 1015,\n",
              "         'tired': 14980,\n",
              "         'imma': 783,\n",
              "         'try': 9620,\n",
              "         'hopefully': 3830,\n",
              "         'Agh': 123,\n",
              "         'snow': 633,\n",
              "         'kenny': 81,\n",
              "         'powers': 172,\n",
              "         'Thank': 7773,\n",
              "         'letting': 1028,\n",
              "         'direct': 815,\n",
              "         'message': 2385,\n",
              "         'Bridget': 53,\n",
              "         'India': 427,\n",
              "         '100th': 196,\n",
              "         'Test': 196,\n",
              "         'victory': 161,\n",
              "         '10th': 289,\n",
              "         'consecutive': 44,\n",
              "         'win': 5677,\n",
              "         'without': 6929,\n",
              "         'guess': 9829,\n",
              "         'sadly': 1644,\n",
              "         'Shame': 707,\n",
              "         'Stephan': 10,\n",
              "         'leavin': 263,\n",
              "         'Was': 3103,\n",
              "         'intending': 7,\n",
              "         'finish': 3607,\n",
              "         'editing': 610,\n",
              "         'page': 2906,\n",
              "         'novel': 225,\n",
              "         'manuscript': 16,\n",
              "         'probably': 5755,\n",
              "         'happen': 3372,\n",
              "         'pages': 799,\n",
              "         'left': 10889,\n",
              "         'laid': 354,\n",
              "         'read': 7971,\n",
              "         'Princess': 248,\n",
              "         'diaries': 23,\n",
              "         'Saving': 64,\n",
              "         'Francesca': 8,\n",
              "         'end': 7198,\n",
              "         'Hmm': 1240,\n",
              "         'easy': 2565,\n",
              "         'books': 2065,\n",
              "         'nokia': 84,\n",
              "         'died': 3443,\n",
              "         'mom': 7480,\n",
              "         'breast': 121,\n",
              "         'cancer': 653,\n",
              "         'Like': 1735,\n",
              "         'worried': 1593,\n",
              "         'Going': 8652,\n",
              "         'better': 22146,\n",
              "         'lol': 39239,\n",
              "         'understood': 173,\n",
              "         'daylight': 90,\n",
              "         'savings': 92,\n",
              "         'ended': 1528,\n",
              "         'breakfast': 4117,\n",
              "         'keep': 9793,\n",
              "         'waking': 1658,\n",
              "         'lame': 1788,\n",
              "         'understand': 2872,\n",
              "         'HEROES': 9,\n",
              "         'season': 3783,\n",
              "         'Living': 166,\n",
              "         'downtown': 664,\n",
              "         'fun': 26807,\n",
              "         'calorie': 48,\n",
              "         'wise': 434,\n",
              "         'junk': 361,\n",
              "         'food': 7059,\n",
              "         'free': 6528,\n",
              "         'ate': 2902,\n",
              "         'sour': 233,\n",
              "         'skittles': 93,\n",
              "         'ass': 4065,\n",
              "         'cherry': 320,\n",
              "         'coke': 532,\n",
              "         'Man': 2187,\n",
              "         'Hard': 450,\n",
              "         'hot': 9451,\n",
              "         'tea': 3126,\n",
              "         'studying': 3003,\n",
              "         'sleeeep': 106,\n",
              "         'Getting': 3659,\n",
              "         'eyebrows': 150,\n",
              "         'waxed': 46,\n",
              "         'More': 1502,\n",
              "         'star': 1318,\n",
              "         'MacHeist': 7,\n",
              "         '3.0': 1568,\n",
              "         'apps': 789,\n",
              "         'sweet': 5727,\n",
              "         'Did': 4838,\n",
              "         'Espresso': 31,\n",
              "         'serial': 88,\n",
              "         'although': 1300,\n",
              "         'sent': 2785,\n",
              "         'Picked': 95,\n",
              "         'Mich': 17,\n",
              "         'St': 295,\n",
              "         'pretty': 11572,\n",
              "         'pick': 2740,\n",
              "         'way': 23064,\n",
              "         'until': 9071,\n",
              "         '......': 3555,\n",
              "         'alone': 4743,\n",
              "         'downstairs': 373,\n",
              "         'anoop': 27,\n",
              "         'mean': 7383,\n",
              "         'seriously': 3374,\n",
              "         'kinda': 5289,\n",
              "         'yes': 11570,\n",
              "         'sprint': 133,\n",
              "         'g': 730,\n",
              "         'baltimore': 41,\n",
              "         'chicago': 415,\n",
              "         'far': 7417,\n",
              "         'stuck': 4344,\n",
              "         'awake': 4121,\n",
              "         'middle': 1424,\n",
              "         'second': 2917,\n",
              "         'row': 1117,\n",
              "         'felt': 2085,\n",
              "         'Thanks': 17351,\n",
              "         'bursting': 32,\n",
              "         'bubble': 361,\n",
              "         'gosh': 1256,\n",
              "         'hard': 9041,\n",
              "         'sooooo': 1326,\n",
              "         'Until': 288,\n",
              "         'deleted': 797,\n",
              "         'history': 1414,\n",
              "         'Crazy': 446,\n",
              "         'wind': 671,\n",
              "         '=': 7323,\n",
              "         'birding': 5,\n",
              "         'currently': 1364,\n",
              "         'Grrr': 359,\n",
              "         'ipods': 46,\n",
              "         'acting': 800,\n",
              "         'weird': 3144,\n",
              "         'Jai': 35,\n",
              "         'ho': 467,\n",
              "         'thinking': 6303,\n",
              "         'full': 4776,\n",
              "         'songs': 3277,\n",
              "         'ughh': 622,\n",
              "         'DVD': 993,\n",
              "         'cos': 1928,\n",
              "         'heaps': 320,\n",
              "         'deal': 1696,\n",
              "         'website': 2440,\n",
              "         'through': 6564,\n",
              "         'Again': 738,\n",
              "         'Far': 141,\n",
              "         'rail': 66,\n",
              "         'other': 10166,\n",
              "         'tips': 605,\n",
              "         'swear': 1028,\n",
              "         'losing': 1193,\n",
              "         'gaining': 84,\n",
              "         'tweeps': 1015,\n",
              "         'So': 17586,\n",
              "         'wrenching': 33,\n",
              "         'Today': 4027,\n",
              "         'realized': 1971,\n",
              "         ...})"
            ]
          },
          "metadata": {},
          "execution_count": 37
        }
      ],
      "source": [
        "counts"
      ]
    },
    {
      "cell_type": "markdown",
      "metadata": {
        "id": "JlzVn03cQY3y"
      },
      "source": [
        "## data processing"
      ]
    },
    {
      "cell_type": "code",
      "execution_count": 38,
      "metadata": {
        "id": "_Zz0HWVfO840"
      },
      "outputs": [],
      "source": [
        "vocab2index = {\"\": 0, \"UNK\": 1}\n",
        "words = [\"\", \"UNK\"]\n",
        "for word in counts:\n",
        "  vocab2index[word] = len(words)\n",
        "  words.append(word)"
      ]
    },
    {
      "cell_type": "code",
      "execution_count": 39,
      "metadata": {
        "colab": {
          "base_uri": "https://localhost:8080/"
        },
        "id": "i7xsURgef195",
        "outputId": "a6e51536-ef34-4111-cde3-fca60020563c"
      },
      "outputs": [
        {
          "output_type": "execute_result",
          "data": {
            "text/plain": [
              "('', 0)"
            ]
          },
          "metadata": {},
          "execution_count": 39
        }
      ],
      "source": [
        "list(vocab2index.items())[0]"
      ]
    },
    {
      "cell_type": "code",
      "execution_count": 40,
      "metadata": {
        "colab": {
          "base_uri": "https://localhost:8080/"
        },
        "id": "Hr8z67jJguta",
        "outputId": "c545871f-ae92-4629-d201-17425be95e4b"
      },
      "outputs": [
        {
          "output_type": "execute_result",
          "data": {
            "text/plain": [
              "array([0, 0, 0, 0, 0, 0, 0, 0, 0, 0, 0, 0, 0, 0, 0, 0, 0, 0, 0, 0, 0, 0,\n",
              "       0, 0, 0, 0, 0, 0, 0, 0, 0, 0, 0, 0, 0, 0, 0, 0, 0, 0, 0, 0, 0, 0,\n",
              "       0, 0, 0, 0, 0, 0, 0, 0, 0, 0, 0, 0, 0, 0, 0, 0, 0, 0, 0, 0, 0, 0,\n",
              "       0, 0, 0, 0, 0, 0, 0, 0, 0, 0, 0, 0, 0, 0, 0, 0, 0, 0, 0, 0, 0, 0,\n",
              "       0, 0, 0, 0, 0, 0, 0, 0, 0, 0, 0, 0, 0, 0, 0, 0, 0, 0, 0, 0, 0, 0,\n",
              "       0, 0, 0, 0, 0, 0, 0, 0, 0, 0, 0, 0, 0, 0, 0, 0, 0, 0, 0, 0, 0, 0,\n",
              "       0, 0, 0, 0, 0, 0, 0, 0, 0, 0, 0, 0, 0, 0, 0, 0, 0, 0], dtype=int32)"
            ]
          },
          "metadata": {},
          "execution_count": 40
        }
      ],
      "source": [
        "enc= np.zeros(150, dtype = np.int32)\n",
        "enc"
      ]
    },
    {
      "cell_type": "code",
      "execution_count": 41,
      "metadata": {
        "colab": {
          "base_uri": "https://localhost:8080/",
          "height": 35
        },
        "id": "rs5TZqeJNzwO",
        "outputId": "368c9a72-3bcb-4bdc-f31f-554626bdd074"
      },
      "outputs": [
        {
          "output_type": "execute_result",
          "data": {
            "text/plain": [
              "'@Kenichan I dived many times for the ball. Managed to save 50%  The rest go out of bounds'"
            ],
            "application/vnd.google.colaboratory.intrinsic+json": {
              "type": "string"
            }
          },
          "metadata": {},
          "execution_count": 41
        }
      ],
      "source": [
        "data2['text'][2]"
      ]
    },
    {
      "cell_type": "code",
      "execution_count": 42,
      "metadata": {
        "id": "xoaVDYr2XeKM"
      },
      "outputs": [],
      "source": [
        "x = my_tokenization(data2['text'][2])"
      ]
    },
    {
      "cell_type": "code",
      "execution_count": 43,
      "metadata": {
        "colab": {
          "base_uri": "https://localhost:8080/"
        },
        "id": "7aajfIS2kBYR",
        "outputId": "ab222c60-fc69-49dd-ed42-aa363a788e26"
      },
      "outputs": [
        {
          "output_type": "execute_result",
          "data": {
            "text/plain": [
              "['a',\n",
              " 'I',\n",
              " 'dived',\n",
              " 'many',\n",
              " 'times',\n",
              " 'for',\n",
              " 'the',\n",
              " 'ball',\n",
              " '.',\n",
              " 'Managed',\n",
              " 'to',\n",
              " 'save',\n",
              " '50',\n",
              " '%',\n",
              " 'The',\n",
              " 'rest',\n",
              " 'go',\n",
              " 'out',\n",
              " 'of',\n",
              " 'bounds']"
            ]
          },
          "metadata": {},
          "execution_count": 43
        }
      ],
      "source": [
        "x"
      ]
    },
    {
      "cell_type": "code",
      "execution_count": 44,
      "metadata": {
        "id": "LYKVwGxyX9on"
      },
      "outputs": [],
      "source": [
        "encl = [vocab2index.get(w, vocab2index[\"UNK\"]) for w in x]"
      ]
    },
    {
      "cell_type": "code",
      "execution_count": 45,
      "metadata": {
        "colab": {
          "base_uri": "https://localhost:8080/"
        },
        "id": "NHd7DDThYNur",
        "outputId": "fee008c6-2516-41e2-dc4e-89056ccedbfe"
      },
      "outputs": [
        {
          "output_type": "execute_result",
          "data": {
            "text/plain": [
              "44"
            ]
          },
          "metadata": {},
          "execution_count": 45
        }
      ],
      "source": [
        "encl[3]"
      ]
    },
    {
      "cell_type": "code",
      "execution_count": 46,
      "metadata": {
        "id": "tts8d-vTYoep"
      },
      "outputs": [],
      "source": [
        "def encode_sentence(text, vocab2index, N = 400, padding_start = True):\n",
        " # if not text:\n",
        " #   return np.zeros(N, dtype= np.int32), 0\n",
        "  x = my_tokenization(text)\n",
        "  enc = np.zeros(N, dtype = np.int32)\n",
        "  encl = np.array([vocab2index.get(w, vocab2index[\"UNK\"]) for w in x])\n",
        "  length = min(N, len(encl))\n",
        "  if padding_start:\n",
        "    enc[: length] = encl[: length]\n",
        "  else:\n",
        "    enc[N - length: ] = encl[: length]\n",
        "  return enc, length"
      ]
    },
    {
      "cell_type": "markdown",
      "metadata": {
        "id": "gWcCmbNzecaU"
      },
      "source": [
        "check if the function works"
      ]
    },
    {
      "cell_type": "code",
      "execution_count": 47,
      "metadata": {
        "colab": {
          "base_uri": "https://localhost:8080/"
        },
        "id": "XuSA2xwpOSVe",
        "outputId": "2de8b519-d9dd-48f4-af3f-493c6e59c399"
      },
      "outputs": [
        {
          "output_type": "execute_result",
          "data": {
            "text/plain": [
              "Index(['target', 'text'], dtype='object')"
            ]
          },
          "metadata": {},
          "execution_count": 47
        }
      ],
      "source": [
        "data2.columns"
      ]
    },
    {
      "cell_type": "code",
      "execution_count": 48,
      "metadata": {
        "colab": {
          "base_uri": "https://localhost:8080/"
        },
        "id": "nGhHP93AePMH",
        "outputId": "0f216044-f563-4f91-e403-ce8d4c8404be"
      },
      "outputs": [
        {
          "output_type": "execute_result",
          "data": {
            "text/plain": [
              "(array([58, 59, 60, 61, 62, 33, 63, 64, 65, 66,  0,  0,  0,  0,  0,  0,  0,\n",
              "         0,  0,  0,  0,  0,  0,  0,  0,  0,  0,  0,  0,  0,  0,  0,  0,  0,\n",
              "         0,  0,  0,  0,  0,  0,  0,  0,  0,  0,  0,  0,  0,  0,  0,  0,  0,\n",
              "         0,  0,  0,  0,  0,  0,  0,  0,  0,  0,  0,  0,  0,  0,  0,  0,  0,\n",
              "         0,  0,  0,  0,  0,  0,  0,  0,  0,  0,  0,  0,  0,  0,  0,  0,  0,\n",
              "         0,  0,  0,  0,  0,  0,  0,  0,  0,  0,  0,  0,  0,  0,  0,  0,  0,\n",
              "         0,  0,  0,  0,  0,  0,  0,  0,  0,  0,  0,  0,  0,  0,  0,  0,  0,\n",
              "         0,  0,  0,  0,  0,  0,  0,  0,  0,  0,  0,  0,  0,  0,  0,  0,  0,\n",
              "         0,  0,  0,  0,  0,  0,  0,  0,  0,  0,  0,  0,  0,  0,  0,  0,  0,\n",
              "         0,  0,  0,  0,  0,  0,  0,  0,  0,  0,  0,  0,  0,  0,  0,  0,  0,\n",
              "         0,  0,  0,  0,  0,  0,  0,  0,  0,  0,  0,  0,  0,  0,  0,  0,  0,\n",
              "         0,  0,  0,  0,  0,  0,  0,  0,  0,  0,  0,  0,  0,  0,  0,  0,  0,\n",
              "         0,  0,  0,  0,  0,  0,  0,  0,  0,  0,  0,  0,  0,  0,  0,  0,  0,\n",
              "         0,  0,  0,  0,  0,  0,  0,  0,  0,  0,  0,  0,  0,  0,  0,  0,  0,\n",
              "         0,  0,  0,  0,  0,  0,  0,  0,  0,  0,  0,  0,  0,  0,  0,  0,  0,\n",
              "         0,  0,  0,  0,  0,  0,  0,  0,  0,  0,  0,  0,  0,  0,  0,  0,  0,\n",
              "         0,  0,  0,  0,  0,  0,  0,  0,  0,  0,  0,  0,  0,  0,  0,  0,  0,\n",
              "         0,  0,  0,  0,  0,  0,  0,  0,  0,  0,  0,  0,  0,  0,  0,  0,  0,\n",
              "         0,  0,  0,  0,  0,  0,  0,  0,  0,  0,  0,  0,  0,  0,  0,  0,  0,\n",
              "         0,  0,  0,  0,  0,  0,  0,  0,  0,  0,  0,  0,  0,  0,  0,  0,  0,\n",
              "         0,  0,  0,  0,  0,  0,  0,  0,  0,  0,  0,  0,  0,  0,  0,  0,  0,\n",
              "         0,  0,  0,  0,  0,  0,  0,  0,  0,  0,  0,  0,  0,  0,  0,  0,  0,\n",
              "         0,  0,  0,  0,  0,  0,  0,  0,  0,  0,  0,  0,  0,  0,  0,  0,  0,\n",
              "         0,  0,  0,  0,  0,  0,  0,  0,  0], dtype=int32),\n",
              " 10)"
            ]
          },
          "metadata": {},
          "execution_count": 48
        }
      ],
      "source": [
        "text = data2['text'][3]\n",
        "encode_sentence(text, vocab2index, N= 400, padding_start = True)"
      ]
    },
    {
      "cell_type": "code",
      "execution_count": 49,
      "metadata": {
        "colab": {
          "base_uri": "https://localhost:8080/"
        },
        "id": "HD_IwYHPvDuR",
        "outputId": "74df1b54-b864-4737-bda9-2fb1d1d50115"
      },
      "outputs": [
        {
          "output_type": "execute_result",
          "data": {
            "text/plain": [
              "(2,\n",
              " '@Kenichan I dived many times for the ball. Managed to save 50%  The rest go out of bounds')"
            ]
          },
          "metadata": {},
          "execution_count": 49
        }
      ],
      "source": [
        "check2 = list(data2['text'].items())\n",
        "check2[2]"
      ]
    },
    {
      "cell_type": "code",
      "execution_count": 50,
      "metadata": {
        "id": "ZL5sgjeHS4Hr"
      },
      "outputs": [],
      "source": [
        "class TwitterDataset(Dataset):\n",
        "  def __init__(self, data, N = 400, padding_start = True):\n",
        "    self.data = data2\n",
        "    self.y = self.data['target']\n",
        "    self.files = list(self.data['text'].items())\n",
        "    self.X = [encode_sentence(text, vocab2index, N , padding_start ) for text in self.files]\n",
        "\n",
        "  def __len__(self):\n",
        "    return len(self.y)\n",
        "\n",
        "  def __getitem__(self, idx):\n",
        "    x, s= self.X[idx]\n",
        "\n",
        "    return x, s, self.y.iloc[idx]"
      ]
    },
    {
      "cell_type": "code",
      "execution_count": 51,
      "metadata": {
        "id": "NeljJMTwpuW1"
      },
      "outputs": [],
      "source": [
        "train_data, valid_data = train_test_split(data2, test_size = 0.2, random_state = 42 )"
      ]
    },
    {
      "cell_type": "code",
      "execution_count": 137,
      "metadata": {
        "id": "t91ReWkDgXxm"
      },
      "outputs": [],
      "source": [
        "class LSTMModel(torch.nn.Module):\n",
        "  def __init__(self, vocab_size, embedding_dim, hidden_dim):\n",
        "    super(LSTMModel, self).__init__()\n",
        "    self.hidden_dim = hidden_dim\n",
        "    self.dropout = nn.Dropout(0.5)\n",
        "    self.embeddings = nn.Embedding(vocab_size, embedding_dim, padding_idx = 0)\n",
        "    self.lstm = nn.LSTM(embedding_dim, hidden_dim, batch_first = True)\n",
        "    self.linear = nn.Linear(hidden_dim, 1)\n",
        "\n",
        "  def forward(self, x, s):\n",
        "    s, sort_index = torch.sort(s, 0, descending = True)\n",
        "    s = s.cpu().numpy().tolist()\n",
        "    x = x[sort_index]\n",
        "    x = self.embeddings(x)\n",
        "    x = self.dropout(x)\n",
        "\n",
        "    x_pack = pack_padded_sequence(x, s, batch_first = True)\n",
        "    out_pack, (ht, ct) = self.lstm(x_pack)\n",
        "    out = self.linear(ht[-1])\n",
        "    return torch.zeros_like(out).scatter_(0, sort_index.unsqueeze(1).cuda(), out)"
      ]
    },
    {
      "cell_type": "code",
      "execution_count": 53,
      "metadata": {
        "id": "h5Mequfcks_L"
      },
      "outputs": [],
      "source": [
        "def train_epochs(model, epochs = 10, lr = 0.001):\n",
        "  parameters = filter(lambda p: p.requires_grad, model.parameters())\n",
        "  optimizer = torch.optim.Adam(parameters, lr = lr)\n",
        "  for i in range(epochs):\n",
        "    model.train()\n",
        "    sum_loss = 0.0\n",
        "    total = 0\n",
        "    for x, s, y in train_dl:\n",
        "      x = x.long().cuda()\n",
        "      y = y.float().cuda()\n",
        "     # x, s, y = x, s, y\n",
        "      y_pred = model(x, s)\n",
        "      optimizer.zero_grad()\n",
        "      loss = F.binary_cross_entropy_with_logits(y_pred, y.unsqueeze(1))\n",
        "      loss.backward()\n",
        "      optimizer.step()\n",
        "      sum_loss += loss.item() * y.shape[0]\n",
        "      total += y.shape[0]\n",
        "    val_loss, val_acc = val_metrics(model, valid_dl)\n",
        "    if i % 5 == 1:\n",
        "      print(\"train loss %.3f val loss %.3f val_accuracy %.3f\" % (sum_loss / total, val_loss, val_acc))"
      ]
    },
    {
      "cell_type": "code",
      "execution_count": 54,
      "metadata": {
        "id": "9QMF5PrXnMOk"
      },
      "outputs": [],
      "source": [
        "def val_metrics(model, valid_dl):\n",
        "  model.eval()\n",
        "  correct = 0\n",
        "  total = 0\n",
        "  sum_loss = 0.0\n",
        "  for x, s, y in valid_dl:\n",
        "    x = x.long().cuda()\n",
        "    y = y.float().unsqueeze(1).cuda()\n",
        "    y_hat = model(x, s)\n",
        "    loss = F.binary_cross_entropy_with_logits(y_hat, y)\n",
        "    y_pred = y_hat >0\n",
        "    correct += (y_pred.float() == y).float().sum()\n",
        "    total += y.shape[0]\n",
        "    sum_loss += loss.item() * y.shape[0]\n",
        "  return sum_loss/ total, correct / total\n"
      ]
    },
    {
      "cell_type": "code",
      "execution_count": null,
      "metadata": {
        "id": "0AuT3GTtoM20"
      },
      "outputs": [],
      "source": [
        "train_ds = TwitterDataset(train_data)\n",
        "valid_ds = TwitterDataset(valid_data)"
      ]
    },
    {
      "cell_type": "code",
      "execution_count": 56,
      "metadata": {
        "colab": {
          "base_uri": "https://localhost:8080/"
        },
        "id": "s0aPN0YetSJq",
        "outputId": "50c0ab70-5c7e-4aae-aefd-c26b8d14285c",
        "scrolled": true
      },
      "outputs": [
        {
          "output_type": "execute_result",
          "data": {
            "text/plain": [
              "(array([ 284, 4123,    5,  144,    2,  103,  104,    1,   78,  144,  285,\n",
              "           0,    0,    0,    0,    0,    0,    0,    0,    0,    0,    0,\n",
              "           0,    0,    0,    0,    0,    0,    0,    0,    0,    0,    0,\n",
              "           0,    0,    0,    0,    0,    0,    0,    0,    0,    0,    0,\n",
              "           0,    0,    0,    0,    0,    0,    0,    0,    0,    0,    0,\n",
              "           0,    0,    0,    0,    0,    0,    0,    0,    0,    0,    0,\n",
              "           0,    0,    0,    0,    0,    0,    0,    0,    0,    0,    0,\n",
              "           0,    0,    0,    0,    0,    0,    0,    0,    0,    0,    0,\n",
              "           0,    0,    0,    0,    0,    0,    0,    0,    0,    0,    0,\n",
              "           0,    0,    0,    0,    0,    0,    0,    0,    0,    0,    0,\n",
              "           0,    0,    0,    0,    0,    0,    0,    0,    0,    0,    0,\n",
              "           0,    0,    0,    0,    0,    0,    0,    0,    0,    0,    0,\n",
              "           0,    0,    0,    0,    0,    0,    0,    0,    0,    0,    0,\n",
              "           0,    0,    0,    0,    0,    0,    0,    0,    0,    0,    0,\n",
              "           0,    0,    0,    0,    0,    0,    0,    0,    0,    0,    0,\n",
              "           0,    0,    0,    0,    0,    0,    0,    0,    0,    0,    0,\n",
              "           0,    0,    0,    0,    0,    0,    0,    0,    0,    0,    0,\n",
              "           0,    0,    0,    0,    0,    0,    0,    0,    0,    0,    0,\n",
              "           0,    0,    0,    0,    0,    0,    0,    0,    0,    0,    0,\n",
              "           0,    0,    0,    0,    0,    0,    0,    0,    0,    0,    0,\n",
              "           0,    0,    0,    0,    0,    0,    0,    0,    0,    0,    0,\n",
              "           0,    0,    0,    0,    0,    0,    0,    0,    0,    0,    0,\n",
              "           0,    0,    0,    0,    0,    0,    0,    0,    0,    0,    0,\n",
              "           0,    0,    0,    0,    0,    0,    0,    0,    0,    0,    0,\n",
              "           0,    0,    0,    0,    0,    0,    0,    0,    0,    0,    0,\n",
              "           0,    0,    0,    0,    0,    0,    0,    0,    0,    0,    0,\n",
              "           0,    0,    0,    0,    0,    0,    0,    0,    0,    0,    0,\n",
              "           0,    0,    0,    0,    0,    0,    0,    0,    0,    0,    0,\n",
              "           0,    0,    0,    0,    0,    0,    0,    0,    0,    0,    0,\n",
              "           0,    0,    0,    0,    0,    0,    0,    0,    0,    0,    0,\n",
              "           0,    0,    0,    0,    0,    0,    0,    0,    0,    0,    0,\n",
              "           0,    0,    0,    0,    0,    0,    0,    0,    0,    0,    0,\n",
              "           0,    0,    0,    0,    0,    0,    0,    0,    0,    0,    0,\n",
              "           0,    0,    0,    0,    0,    0,    0,    0,    0,    0,    0,\n",
              "           0,    0,    0,    0,    0,    0,    0,    0,    0,    0,    0,\n",
              "           0,    0,    0,    0,    0,    0,    0,    0,    0,    0,    0,\n",
              "           0,    0,    0,    0], dtype=int32),\n",
              " 11,\n",
              " 0)"
            ]
          },
          "metadata": {},
          "execution_count": 56
        }
      ],
      "source": [
        "train_ds[9]"
      ]
    },
    {
      "cell_type": "markdown",
      "metadata": {
        "id": "Pk0RTs-ekeYN"
      },
      "source": [
        "## Debugging"
      ]
    },
    {
      "cell_type": "code",
      "execution_count": 57,
      "metadata": {
        "colab": {
          "base_uri": "https://localhost:8080/"
        },
        "id": "zkmdwQg_0GO9",
        "outputId": "8ba302cd-8168-4bbf-a8f0-31a0ffecb164"
      },
      "outputs": [
        {
          "output_type": "stream",
          "name": "stdout",
          "text": [
            "23\n",
            "[ 0  0  0  0  0  0  0  0  0  0  0  0  0  0  0  0  0  0  0  0  0  0  0  0\n",
            "  0  0  0  0  0  0  0  0  0  0  0  0  0  0  0  0  0  0  0  0  0  0  0  0\n",
            "  0  0  0  0  0  0  0  0  0  0  0  0  0  0  0  0  0  0  0  0  0  0  0  0\n",
            "  0  0  0  0  0  0  0  0  0  0  0  0  0  0  0  0  0  0  0  0  0  0  0  0\n",
            "  0  0  0  0  0  0  0  0  0  0  0  0  0  0  0  0  0  0  0  0  0  0  0  0\n",
            "  0  0  0  0  0  0  0  0  0  0  0  0  0  0  0  0  0  0  0  0  0  0  0  0\n",
            "  0  0  0  0  0  0  0  0  0  0  0  0  0  0  0  0  0  0  0  0  0  0  0  0\n",
            "  0  0  0  0  0  0  0  0  0  0  0  0  0  0  0  0  0  0  0  0  0  0  0  0\n",
            "  0  0  0  0  0  0  0  0  0  0  0  0  0  0  0  0  0  0  0  0  0  0  0  0\n",
            "  0  0  0  0  0  0  0  0  0  0  0  0  0  0  0  0  0  0  0  0  0  0  0  0\n",
            "  0  0  0  0  0  0  0  0  0  0  0  0  0  0  0  0  0  0  0  0  0  0  0  0\n",
            "  0  0  0  0  0  0  0  0  0  0  0  0  0  0  0  0  0  0  0  0  0  0  0  0\n",
            "  0  0  0  0  0  0  0  0  0  0  0  0  0  0  0  0  0  0  0  0  0  0  0  0\n",
            "  0  0  0  0  0  0  0  0  0  0  0  0  0  0  0  0  0  0  0  0  0  0  0  0\n",
            "  0  0  0  0  0  0  0  0  0  0  0  0  0  0  0  0  0  0  0  0  0  0  0  0\n",
            "  0  0  0  0  0  0  0  0  0  0  0  0  0  0  0  0  0  2  2  3  4  5  6  7\n",
            "  2  8  9 10 11 12 13 14 15 16 17 18 19 20  9 21]\n"
          ]
        }
      ],
      "source": [
        "idx = 0\n",
        "text =  data2['text'].iloc[idx]\n",
        "#print(text)\n",
        "x, s= encode_sentence(text, vocab2index , N = 400, padding_start = False)\n",
        "print(s)\n",
        "print(x)"
      ]
    },
    {
      "cell_type": "code",
      "execution_count": 58,
      "metadata": {
        "id": "KU3Mqjbu2Hav"
      },
      "outputs": [],
      "source": [
        "batch_size = 7\n",
        "train_dataloader = DataLoader(train_ds, batch_size = batch_size, shuffle = True)\n",
        "x, s, y = next(iter(train_dataloader))"
      ]
    },
    {
      "cell_type": "code",
      "execution_count": 59,
      "metadata": {
        "colab": {
          "base_uri": "https://localhost:8080/"
        },
        "id": "_gvyTXwP2igD",
        "outputId": "faaf3f4b-0099-46a6-f5aa-634bed548f3c"
      },
      "outputs": [
        {
          "output_type": "execute_result",
          "data": {
            "text/plain": [
              "(torch.Size([7, 400]), torch.Size([7]))"
            ]
          },
          "metadata": {},
          "execution_count": 59
        }
      ],
      "source": [
        "x.shape, s.shape"
      ]
    },
    {
      "cell_type": "code",
      "execution_count": 60,
      "metadata": {
        "colab": {
          "base_uri": "https://localhost:8080/"
        },
        "id": "ImgjWW8h2smL",
        "outputId": "b5d5853a-9d15-4d7f-bdcb-8e81b6d65c60"
      },
      "outputs": [
        {
          "output_type": "execute_result",
          "data": {
            "text/plain": [
              "tensor([35, 24, 21, 20, 18, 12, 31])"
            ]
          },
          "metadata": {},
          "execution_count": 60
        }
      ],
      "source": [
        "s"
      ]
    },
    {
      "cell_type": "code",
      "execution_count": 61,
      "metadata": {
        "colab": {
          "base_uri": "https://localhost:8080/"
        },
        "id": "cQ37Cu6L2t6p",
        "outputId": "03649cf9-3633-459e-da50-f413b86ae535"
      },
      "outputs": [
        {
          "output_type": "execute_result",
          "data": {
            "text/plain": [
              "tensor([0, 0, 0, 1, 0, 0, 0])"
            ]
          },
          "metadata": {},
          "execution_count": 61
        }
      ],
      "source": [
        "y"
      ]
    },
    {
      "cell_type": "code",
      "execution_count": 62,
      "metadata": {
        "id": "vVqB0IEt2zjU"
      },
      "outputs": [],
      "source": [
        "#sort by length so we can use pack_padded_sequence\n",
        "s, index = s.sort(0, descending = True)\n",
        "x = x[index]"
      ]
    },
    {
      "cell_type": "code",
      "execution_count": 63,
      "metadata": {
        "colab": {
          "base_uri": "https://localhost:8080/"
        },
        "id": "4DdeomvR5wSO",
        "outputId": "e7dc4413-5ed3-4f4f-fd3f-02d841fa0188"
      },
      "outputs": [
        {
          "output_type": "execute_result",
          "data": {
            "text/plain": [
              "torch.Size([7, 400])"
            ]
          },
          "metadata": {},
          "execution_count": 63
        }
      ],
      "source": [
        "x.shape"
      ]
    },
    {
      "cell_type": "code",
      "execution_count": 64,
      "metadata": {
        "colab": {
          "base_uri": "https://localhost:8080/"
        },
        "id": "bAwhIepi3W4Y",
        "outputId": "62142caf-5a7e-4973-e131-8e5189534b06"
      },
      "outputs": [
        {
          "output_type": "execute_result",
          "data": {
            "text/plain": [
              "tensor([0, 6, 1, 2, 3, 4, 5])"
            ]
          },
          "metadata": {},
          "execution_count": 64
        }
      ],
      "source": [
        "index"
      ]
    },
    {
      "cell_type": "code",
      "execution_count": 65,
      "metadata": {
        "colab": {
          "base_uri": "https://localhost:8080/"
        },
        "id": "LbxEbERO3_wZ",
        "outputId": "76c80a52-a8ae-44f5-d861-e0f77caf49fd"
      },
      "outputs": [
        {
          "output_type": "execute_result",
          "data": {
            "text/plain": [
              "tensor([0, 0, 0, 0, 1, 0, 0])"
            ]
          },
          "metadata": {},
          "execution_count": 65
        }
      ],
      "source": [
        "y[index]"
      ]
    },
    {
      "cell_type": "code",
      "execution_count": 66,
      "metadata": {
        "id": "Hg71w7w_4IO9"
      },
      "outputs": [],
      "source": [
        "vocab_size = len(words)\n",
        "embedding_dim = 10\n",
        "embed = nn.Embedding(vocab_size, embedding_dim, padding_idx = 0)"
      ]
    },
    {
      "cell_type": "code",
      "execution_count": 67,
      "metadata": {
        "colab": {
          "base_uri": "https://localhost:8080/"
        },
        "id": "W31SsnzHjfqy",
        "outputId": "94c46a61-ebcd-4493-d007-6cc509df4f27"
      },
      "outputs": [
        {
          "output_type": "execute_result",
          "data": {
            "text/plain": [
              "torch.Size([7, 400, 10])"
            ]
          },
          "metadata": {},
          "execution_count": 67
        }
      ],
      "source": [
        "x = embed(x.long())\n",
        "x.shape"
      ]
    },
    {
      "cell_type": "code",
      "execution_count": 68,
      "metadata": {
        "id": "oIS9D6_-5Hd1"
      },
      "outputs": [],
      "source": [
        "hidden_dim = 9\n",
        "lstm = nn.LSTM(embedding_dim, hidden_dim, batch_first=True)"
      ]
    },
    {
      "cell_type": "code",
      "execution_count": 69,
      "metadata": {
        "id": "fMHg8tdg6GBV"
      },
      "outputs": [],
      "source": [
        "x_pack = pack_padded_sequence(x, list(s), batch_first = True)\n",
        "x_pack = x_pack.to(torch.float)"
      ]
    },
    {
      "cell_type": "code",
      "execution_count": 70,
      "metadata": {
        "id": "FNncSQN36Yio"
      },
      "outputs": [],
      "source": [
        "out_pack, (ht, ct) = lstm(x_pack)"
      ]
    },
    {
      "cell_type": "code",
      "execution_count": 71,
      "metadata": {
        "colab": {
          "base_uri": "https://localhost:8080/"
        },
        "id": "5VrWN8q3asuY",
        "outputId": "0f802f5e-b8a9-4e0c-80a0-40ef8053d425"
      },
      "outputs": [
        {
          "output_type": "execute_result",
          "data": {
            "text/plain": [
              "torch.Size([1, 7, 9])"
            ]
          },
          "metadata": {},
          "execution_count": 71
        }
      ],
      "source": [
        "ht.shape"
      ]
    },
    {
      "cell_type": "code",
      "execution_count": 72,
      "metadata": {
        "colab": {
          "base_uri": "https://localhost:8080/"
        },
        "id": "ayX0UPaaawy8",
        "outputId": "1fd1214d-fdc6-4d34-c6a1-eabb0f59608c"
      },
      "outputs": [
        {
          "output_type": "execute_result",
          "data": {
            "text/plain": [
              "torch.Size([7, 9])"
            ]
          },
          "metadata": {},
          "execution_count": 72
        }
      ],
      "source": [
        "ht[-1].shape"
      ]
    },
    {
      "cell_type": "code",
      "execution_count": 73,
      "metadata": {
        "colab": {
          "base_uri": "https://localhost:8080/"
        },
        "id": "t1EX3MU2a-PQ",
        "outputId": "5a53d917-7dda-438a-8f27-c3419309f07b"
      },
      "outputs": [
        {
          "output_type": "execute_result",
          "data": {
            "text/plain": [
              "tensor([[0.3254],\n",
              "        [0.3068],\n",
              "        [0.3142],\n",
              "        [0.3323],\n",
              "        [0.3290],\n",
              "        [0.2869],\n",
              "        [0.3084]], grad_fn=<AddmmBackward0>)"
            ]
          },
          "metadata": {},
          "execution_count": 73
        }
      ],
      "source": [
        "linear = nn.Linear(hidden_dim, 1)\n",
        "y_hat = linear(ht[-1])\n",
        "y_hat"
      ]
    },
    {
      "cell_type": "code",
      "execution_count": 74,
      "metadata": {
        "colab": {
          "base_uri": "https://localhost:8080/"
        },
        "id": "AWH-xfvNkTsU",
        "outputId": "a0346793-f5b7-47f1-a6ed-818c9fa03bfe"
      },
      "outputs": [
        {
          "output_type": "execute_result",
          "data": {
            "text/plain": [
              "torch.Size([7, 1])"
            ]
          },
          "metadata": {},
          "execution_count": 74
        }
      ],
      "source": [
        "index.unsqueeze(1).shape"
      ]
    },
    {
      "cell_type": "code",
      "execution_count": 75,
      "metadata": {
        "id": "4YGjr1eakZls"
      },
      "outputs": [],
      "source": [
        "#takes back to the original ordering\n",
        "h = torch.zeros_like(y_hat).scatter_(0, index.unsqueeze(1), y_hat)\n"
      ]
    },
    {
      "cell_type": "code",
      "execution_count": 76,
      "metadata": {
        "colab": {
          "base_uri": "https://localhost:8080/"
        },
        "id": "UOpGn7ezlJ1D",
        "outputId": "dfa11c97-abaf-4436-d946-472f2246c6ce"
      },
      "outputs": [
        {
          "output_type": "execute_result",
          "data": {
            "text/plain": [
              "tensor([[0.3254],\n",
              "        [0.3142],\n",
              "        [0.3323],\n",
              "        [0.3290],\n",
              "        [0.2869],\n",
              "        [0.3084],\n",
              "        [0.3068]], grad_fn=<ScatterBackward0>)"
            ]
          },
          "metadata": {},
          "execution_count": 76
        }
      ],
      "source": [
        "h"
      ]
    },
    {
      "cell_type": "code",
      "execution_count": 77,
      "metadata": {
        "colab": {
          "base_uri": "https://localhost:8080/"
        },
        "id": "lNAa6Ze6lN08",
        "outputId": "f748d97c-0ce7-4357-8caa-868c064687ef"
      },
      "outputs": [
        {
          "output_type": "execute_result",
          "data": {
            "text/plain": [
              "tensor([0, 6, 1, 2, 3, 4, 5])"
            ]
          },
          "metadata": {},
          "execution_count": 77
        }
      ],
      "source": [
        "index"
      ]
    },
    {
      "cell_type": "code",
      "execution_count": 78,
      "metadata": {
        "id": "Na-rcvJooe98"
      },
      "outputs": [],
      "source": [
        "batch_size = 3000\n",
        "train_dl = DataLoader(train_ds, batch_size= batch_size, shuffle = True)\n",
        "valid_dl = DataLoader(valid_ds, batch_size= batch_size)"
      ]
    },
    {
      "cell_type": "code",
      "execution_count": 138,
      "metadata": {
        "colab": {
          "base_uri": "https://localhost:8080/"
        },
        "id": "OZd_Q2eToxKV",
        "outputId": "99a2d886-723d-45c8-d6a0-5d4040d6a335"
      },
      "outputs": [
        {
          "output_type": "stream",
          "name": "stdout",
          "text": [
            "72950\n"
          ]
        }
      ],
      "source": [
        "vocab_size = len(words)\n",
        "print(vocab_size)\n",
        "model = LSTMModel(vocab_size, 50, 50).cuda()"
      ]
    },
    {
      "cell_type": "code",
      "execution_count": 80,
      "metadata": {
        "colab": {
          "base_uri": "https://localhost:8080/"
        },
        "id": "KpMGuw7Po_6Y",
        "outputId": "92bc9462-d75a-47a6-c6eb-0c6714f0f8c6"
      },
      "outputs": [
        {
          "output_type": "stream",
          "name": "stdout",
          "text": [
            "train loss 0.390 val loss 0.352 val_accuracy 0.846\n",
            "train loss 0.336 val loss 0.306 val_accuracy 0.869\n",
            "train loss 0.319 val loss 0.288 val_accuracy 0.878\n",
            "train loss 0.309 val loss 0.277 val_accuracy 0.883\n",
            "train loss 0.303 val loss 0.268 val_accuracy 0.888\n",
            "train loss 0.298 val loss 0.265 val_accuracy 0.889\n"
          ]
        }
      ],
      "source": [
        "train_epochs(model , epochs = 30, lr = 0.01)"
      ]
    },
    {
      "cell_type": "markdown",
      "metadata": {
        "id": "cluH6-LLyAiV"
      },
      "source": [
        "##Gated Recurrent Unit with dropout"
      ]
    },
    {
      "cell_type": "code",
      "execution_count": 131,
      "metadata": {
        "id": "Awj2eJzwyAiV"
      },
      "outputs": [],
      "source": [
        "class GRUModel(torch.nn.Module):\n",
        "    def __init__(self, vocab_size, embedding_dim, hidden_dim):\n",
        "        super(GRUModel, self).__init__()\n",
        "        self.hidden_dim = hidden_dim\n",
        "        self.embeddings = nn.Embedding(vocab_size, embedding_dim, padding_idx = 0)\n",
        "        self.dropout = nn.Dropout(0.5)\n",
        "        self.gru = nn.GRU(embedding_dim, hidden_dim, batch_first = True)\n",
        "        self.linear = nn.Linear(hidden_dim, 1)\n",
        "    def forward(self, x, s):\n",
        "        s, sort_index = torch.sort(s, 0, descending = True)\n",
        "        s = s.cpu().numpy().tolist()\n",
        "        x = x[sort_index]\n",
        "        x = self.embeddings(x)\n",
        "        x = self.dropout(x)\n",
        "        x_pack = pack_padded_sequence(x, s, batch_first = True)\n",
        "        out_pack, ht = self.gru(x_pack)\n",
        "        out = self.linear(ht[-1])\n",
        "        return torch.zeros_like(out).scatter_(0, sort_index.unsqueeze(1).cuda(), out)\n"
      ]
    },
    {
      "cell_type": "code",
      "execution_count": 132,
      "metadata": {
        "id": "NLUcFBLbyAiW",
        "colab": {
          "base_uri": "https://localhost:8080/"
        },
        "outputId": "e7ce4136-bca4-4d5d-dc91-73ac93f1f17b"
      },
      "outputs": [
        {
          "output_type": "stream",
          "name": "stdout",
          "text": [
            "72950\n"
          ]
        }
      ],
      "source": [
        "vocab_size = len(words)\n",
        "print(vocab_size)\n",
        "modelGRU = GRUModel(vocab_size, 50, 50).cuda()"
      ]
    },
    {
      "cell_type": "code",
      "execution_count": 83,
      "metadata": {
        "id": "a51_IrunyAiW",
        "colab": {
          "base_uri": "https://localhost:8080/"
        },
        "outputId": "db6d539d-7635-4179-e8bf-650768a0255e"
      },
      "outputs": [
        {
          "output_type": "stream",
          "name": "stdout",
          "text": [
            "train loss 0.390 val loss 0.351 val_accuracy 0.847\n",
            "train loss 0.342 val loss 0.313 val_accuracy 0.866\n",
            "train loss 0.330 val loss 0.302 val_accuracy 0.872\n",
            "train loss 0.326 val loss 0.297 val_accuracy 0.874\n",
            "train loss 0.325 val loss 0.295 val_accuracy 0.875\n",
            "train loss 0.332 val loss 0.300 val_accuracy 0.872\n"
          ]
        }
      ],
      "source": [
        "train_epochs(modelGRU, epochs = 30, lr = 0.01)"
      ]
    },
    {
      "cell_type": "markdown",
      "source": [
        "Model Performance Evaluations"
      ],
      "metadata": {
        "id": "MIWBa9BVUTPa"
      }
    },
    {
      "cell_type": "code",
      "execution_count": 85,
      "metadata": {
        "id": "plTOvakfyAiW"
      },
      "outputs": [],
      "source": [
        "from sklearn.metrics import precision_score, recall_score, f1_score"
      ]
    },
    {
      "cell_type": "code",
      "source": [
        "device = torch.device(\"cuda\" if torch.cuda.is_available() else \"cpu\")\n",
        "model.to(device)\n",
        "valid_dl = DataLoader(valid_ds, batch_size= batch_size, pin_memory = True, num_workers= 2)"
      ],
      "metadata": {
        "id": "GA8T_0Z_Ut-F"
      },
      "execution_count": null,
      "outputs": []
    },
    {
      "cell_type": "code",
      "source": [
        "def threshold_predictions(out, threshold = 0.5):\n",
        "  return (out > threshold).float()\n",
        "\n",
        "def evaluate_metrics(model, valid_dl, threshold= 0.5):\n",
        "  model.eval()\n",
        "  all_predictions = []\n",
        "  all_labels = []\n",
        "\n",
        "  with torch.no_grad():\n",
        "    for x, s, y in valid_dl:\n",
        "      x, s, y = x.to(device), s.to(device), y.to(device)\n",
        "      logits = model(x, s)\n",
        "      predictions = threshold_predictions(logits, threshold)\n",
        "      all_predictions.extend(predictions.cpu().numpy())\n",
        "      all_labels.extend(y.cpu().numpy())\n",
        "  all_predictions = torch.tensor(all_predictions).to(device)\n",
        "  all_labels = torch.tensor(all_labels).to(device)\n",
        "\n",
        "  threshold = torch.FloatTensor([threshold]).to(device)\n",
        "  binary_predictions = (all_predictions) > threshold.long()\n",
        "  binary_labels = (all_labels > 0.5).long()\n",
        "\n",
        "  precision = precision_score(binary_labels.cpu().numpy(), binary_predictions.cpu().numpy(), zero_division = 1)\n",
        "  recall = recall_score(binary_labels.cpu().numpy(), binary_predictions.cpu().numpy())\n",
        "  f1 = f1_score(binary_labels.cpu().numpy(), binary_predictions.cpu().numpy())\n",
        "  return precision, recall, f1\n",
        "\n"
      ],
      "metadata": {
        "id": "V6uOilx1QIO6"
      },
      "execution_count": 134,
      "outputs": []
    },
    {
      "cell_type": "code",
      "source": [
        "precision, recall, f1 = evaluate_metrics(model, valid_dl)\n",
        "print(f\"Precision: {precision:.4f}, Recall: {recall:.4f}, F1: {f1:.4f}\")\n",
        "\n"
      ],
      "metadata": {
        "id": "tMD7AF3PSLfJ"
      },
      "execution_count": null,
      "outputs": []
    }
  ],
  "metadata": {
    "accelerator": "GPU",
    "colab": {
      "gpuType": "T4",
      "provenance": []
    },
    "kernelspec": {
      "display_name": "Python 3",
      "name": "python3"
    },
    "language_info": {
      "codemirror_mode": {
        "name": "ipython",
        "version": 3
      },
      "file_extension": ".py",
      "mimetype": "text/x-python",
      "name": "python",
      "nbconvert_exporter": "python",
      "pygments_lexer": "ipython3",
      "version": "3.10.13"
    }
  },
  "nbformat": 4,
  "nbformat_minor": 0
}