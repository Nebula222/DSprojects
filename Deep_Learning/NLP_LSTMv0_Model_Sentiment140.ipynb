{
  "nbformat": 4,
  "nbformat_minor": 0,
  "metadata": {
    "colab": {
      "provenance": [],
      "gpuType": "A100"
    },
    "kernelspec": {
      "name": "python3",
      "display_name": "Python 3"
    },
    "language_info": {
      "name": "python"
    },
    "accelerator": "GPU"
  },
  "cells": [
    {
      "cell_type": "code",
      "execution_count": 1,
      "metadata": {
        "id": "2bJFqZQ99lk_"
      },
      "outputs": [],
      "source": [
        "import pandas as pd\n",
        "import numpy as np\n",
        "import torch\n",
        "import torch.nn as nn\n",
        "import spacy\n",
        "import string\n",
        "import re\n",
        "import torch.nn.functional as F\n",
        "from torch.utils.data import Dataset, DataLoader\n",
        "from torch.nn.utils.rnn import pack_padded_sequence\n",
        "from spacy.symbols import ORTH\n",
        "from collections import Counter\n",
        "from sklearn.model_selection import train_test_split"
      ]
    },
    {
      "cell_type": "code",
      "source": [
        "import os\n",
        "\n",
        "directory = os.getcwd()\n",
        "print(directory)"
      ],
      "metadata": {
        "colab": {
          "base_uri": "https://localhost:8080/"
        },
        "id": "FD6yhjveBnem",
        "outputId": "e9c4c532-aa65-4ab4-ba24-1b9148d01b9f"
      },
      "execution_count": 2,
      "outputs": [
        {
          "output_type": "stream",
          "name": "stdout",
          "text": [
            "/content\n"
          ]
        }
      ]
    },
    {
      "cell_type": "code",
      "source": [
        "cols= ['target', 'id', 'date', 'flag', 'user', 'text']\n",
        "data = pd.read_csv('./drive/MyDrive/training.tweets.processed.csv', encoding='ISO-8859-1', header= None, names= cols)"
      ],
      "metadata": {
        "id": "G_T0VkbBBsHO"
      },
      "execution_count": 3,
      "outputs": []
    },
    {
      "cell_type": "code",
      "source": [
        "print(data[data['text'].isnull() == True])"
      ],
      "metadata": {
        "id": "fiJfoKjkGMqv",
        "colab": {
          "base_uri": "https://localhost:8080/"
        },
        "outputId": "a0f73871-ddbf-446f-d493-8c0304b9afbc"
      },
      "execution_count": 4,
      "outputs": [
        {
          "output_type": "stream",
          "name": "stdout",
          "text": [
            "Empty DataFrame\n",
            "Columns: [target, id, date, flag, user, text]\n",
            "Index: []\n"
          ]
        }
      ]
    },
    {
      "cell_type": "code",
      "source": [
        "data.shape"
      ],
      "metadata": {
        "colab": {
          "base_uri": "https://localhost:8080/"
        },
        "id": "BqeHaxMYKWsi",
        "outputId": "9b175356-4fcb-4c9b-e495-a49d213ab4ab"
      },
      "execution_count": 5,
      "outputs": [
        {
          "output_type": "execute_result",
          "data": {
            "text/plain": [
              "(1600000, 6)"
            ]
          },
          "metadata": {},
          "execution_count": 5
        }
      ]
    },
    {
      "cell_type": "code",
      "source": [
        "data['text'][1599996]"
      ],
      "metadata": {
        "colab": {
          "base_uri": "https://localhost:8080/",
          "height": 35
        },
        "id": "q8q8M8skKakJ",
        "outputId": "69ac0235-6cb0-46aa-a48b-214bb36a5e7c"
      },
      "execution_count": 6,
      "outputs": [
        {
          "output_type": "execute_result",
          "data": {
            "text/plain": [
              "'TheWDB.com - Very cool to hear old Walt interviews!  â\\x99« http://blip.fm/~8bmta'"
            ],
            "application/vnd.google.colaboratory.intrinsic+json": {
              "type": "string"
            }
          },
          "metadata": {},
          "execution_count": 6
        }
      ]
    },
    {
      "cell_type": "code",
      "source": [
        "data['target'].unique()"
      ],
      "metadata": {
        "colab": {
          "base_uri": "https://localhost:8080/"
        },
        "id": "dhJycz_eKfC3",
        "outputId": "3844e61c-ffed-4716-f262-9f20a7ec80e4"
      },
      "execution_count": 7,
      "outputs": [
        {
          "output_type": "execute_result",
          "data": {
            "text/plain": [
              "array([0, 4])"
            ]
          },
          "metadata": {},
          "execution_count": 7
        }
      ]
    },
    {
      "cell_type": "code",
      "source": [
        "cols_to_drop = ['id', 'date', 'flag', 'user']\n",
        "data2= data.drop(columns= cols_to_drop, axis = 1)"
      ],
      "metadata": {
        "id": "Aci1dI1nKh0Y"
      },
      "execution_count": 8,
      "outputs": []
    },
    {
      "cell_type": "code",
      "source": [
        "data2['target'] = [0 if label == 0 else 1 for label in data['target']]"
      ],
      "metadata": {
        "id": "PDZT4CzYKkqy"
      },
      "execution_count": 9,
      "outputs": []
    },
    {
      "cell_type": "code",
      "source": [
        "data2['target'].unique()"
      ],
      "metadata": {
        "colab": {
          "base_uri": "https://localhost:8080/"
        },
        "id": "Z6yh1sZ8KqxB",
        "outputId": "fa630726-2613-4e84-ee0b-f55ab3dc6fbb"
      },
      "execution_count": 10,
      "outputs": [
        {
          "output_type": "execute_result",
          "data": {
            "text/plain": [
              "array([0, 1])"
            ]
          },
          "metadata": {},
          "execution_count": 10
        }
      ]
    },
    {
      "cell_type": "code",
      "source": [
        "import matplotlib.pyplot as plt\n",
        "label_counts= pd.Series(data2['target']).value_counts()\n",
        "label_counts.plot(kind= 'bar', color = ['red', 'green'])\n",
        "plt.title('Sentiment Distribution')\n",
        "plt.xlabel('Sentiment')\n",
        "plt.ylabel('Count')\n",
        "plt.show()"
      ],
      "metadata": {
        "colab": {
          "base_uri": "https://localhost:8080/",
          "height": 467
        },
        "id": "QXXzIcdkKt5J",
        "outputId": "ef6d37b8-3e23-45b9-f669-409e66ce96c0"
      },
      "execution_count": 11,
      "outputs": [
        {
          "output_type": "display_data",
          "data": {
            "text/plain": [
              "<Figure size 640x480 with 1 Axes>"
            ],
            "image/png": "[encoded data removed]"
          },
          "metadata": {}
        }
      ]
    },
    {
      "cell_type": "code",
      "source": [
        "text_cleaning= re.compile(r'(@\\w+)|(http\\S+)|([^a-zA-Z0-9\\s]|(\\s+))', re.IGNORECASE)"
      ],
      "metadata": {
        "id": "Ibm5SPPAKycS"
      },
      "execution_count": 12,
      "outputs": []
    },
    {
      "cell_type": "code",
      "source": [
        "my_tok= spacy.load('en_core_web_sm')"
      ],
      "metadata": {
        "id": "YGu5_94iK_ep"
      },
      "execution_count": 13,
      "outputs": []
    },
    {
      "cell_type": "code",
      "source": [
        "def my_tokenization(x, regex):\n",
        "  cleaned_text = regex.sub(' ', x)\n",
        "  cleaned_text = re.sub(r'\\s+', ' ', cleaned_text).strip()\n",
        "  tokens= [tok.text for tok in my_tok.tokenizer(cleaned_text)]\n",
        "\n",
        "  return tokens"
      ],
      "metadata": {
        "id": "Kw0iYBBxLBwY"
      },
      "execution_count": 14,
      "outputs": []
    },
    {
      "cell_type": "code",
      "source": [
        "my_tokenization(data2['text'][1599996], text_cleaning)"
      ],
      "metadata": {
        "colab": {
          "base_uri": "https://localhost:8080/"
        },
        "id": "PkykWs5TLEiF",
        "outputId": "732249c0-2ee0-41a6-e496-238aedef1b4f"
      },
      "execution_count": 15,
      "outputs": [
        {
          "output_type": "execute_result",
          "data": {
            "text/plain": [
              "['TheWDB', 'com', 'Very', 'cool', 'to', 'hear', 'old', 'Walt', 'interviews']"
            ]
          },
          "metadata": {},
          "execution_count": 15
        }
      ]
    },
    {
      "cell_type": "code",
      "source": [
        "counts = Counter()\n",
        "counts.update(data2['text'].apply(lambda x: my_tokenization(x, text_cleaning)).explode())"
      ],
      "metadata": {
        "id": "Fh6PX5GPLHm2"
      },
      "execution_count": 16,
      "outputs": []
    },
    {
      "cell_type": "code",
      "source": [
        "first_key = next(iter(counts))\n",
        "first_value = counts[first_key]"
      ],
      "metadata": {
        "id": "_P4JY-hMLO-l"
      },
      "execution_count": 17,
      "outputs": []
    },
    {
      "cell_type": "code",
      "source": [
        "for word in list(counts):\n",
        "  if counts[word] < 5:\n",
        "    del counts[word]"
      ],
      "metadata": {
        "id": "vRbCw8jgLSGT"
      },
      "execution_count": 18,
      "outputs": []
    },
    {
      "cell_type": "code",
      "source": [
        "len(counts.keys())"
      ],
      "metadata": {
        "colab": {
          "base_uri": "https://localhost:8080/"
        },
        "id": "Np5O-NPxLfyI",
        "outputId": "93c9d640-af3a-4098-c4e4-662c3afa3f9d"
      },
      "execution_count": 19,
      "outputs": [
        {
          "output_type": "execute_result",
          "data": {
            "text/plain": [
              "69264"
            ]
          },
          "metadata": {},
          "execution_count": 19
        }
      ]
    },
    {
      "cell_type": "markdown",
      "source": [
        "##data processing"
      ],
      "metadata": {
        "id": "Esr3CmdCLZlW"
      }
    },
    {
      "cell_type": "code",
      "source": [
        "vocab2index = {\"\": 0, \"UNK\": 1}\n",
        "words = [\"\", \"UNK\"]\n",
        "for word in counts:\n",
        "  vocab2index[word] = len(words)\n",
        "  words.append(word)"
      ],
      "metadata": {
        "id": "-mNkFwi8LiDk"
      },
      "execution_count": 20,
      "outputs": []
    },
    {
      "cell_type": "code",
      "source": [
        "vocab2index"
      ],
      "metadata": {
        "colab": {
          "base_uri": "https://localhost:8080/"
        },
        "id": "DEmlHRNdSsq4",
        "outputId": "4fd9048b-0fc8-4a37-8558-758bd0562cba"
      },
      "execution_count": 21,
      "outputs": [
        {
          "output_type": "execute_result",
          "data": {
            "text/plain": [
              "{'': 0,\n",
              " 'UNK': 1,\n",
              " 'Awww': 2,\n",
              " 'that': 3,\n",
              " 's': 4,\n",
              " 'a': 5,\n",
              " 'bummer': 6,\n",
              " 'You': 7,\n",
              " 'shoulda': 8,\n",
              " 'got': 9,\n",
              " 'David': 10,\n",
              " 'Carr': 11,\n",
              " 'of': 12,\n",
              " 'Third': 13,\n",
              " 'Day': 14,\n",
              " 'to': 15,\n",
              " 'do': 16,\n",
              " 'it': 17,\n",
              " 'D': 18,\n",
              " 'is': 19,\n",
              " 'upset': 20,\n",
              " 'he': 21,\n",
              " 'can': 22,\n",
              " 't': 23,\n",
              " 'update': 24,\n",
              " 'his': 25,\n",
              " 'Facebook': 26,\n",
              " 'by': 27,\n",
              " 'texting': 28,\n",
              " 'and': 29,\n",
              " 'might': 30,\n",
              " 'cry': 31,\n",
              " 'as': 32,\n",
              " 'result': 33,\n",
              " 'School': 34,\n",
              " 'today': 35,\n",
              " 'also': 36,\n",
              " 'Blah': 37,\n",
              " 'I': 38,\n",
              " 'many': 39,\n",
              " 'times': 40,\n",
              " 'for': 41,\n",
              " 'the': 42,\n",
              " 'ball': 43,\n",
              " 'Managed': 44,\n",
              " 'save': 45,\n",
              " '50': 46,\n",
              " 'The': 47,\n",
              " 'rest': 48,\n",
              " 'go': 49,\n",
              " 'out': 50,\n",
              " 'bounds': 51,\n",
              " 'my': 52,\n",
              " 'whole': 53,\n",
              " 'body': 54,\n",
              " 'feels': 55,\n",
              " 'itchy': 56,\n",
              " 'like': 57,\n",
              " 'its': 58,\n",
              " 'on': 59,\n",
              " 'fire': 60,\n",
              " 'no': 61,\n",
              " 'not': 62,\n",
              " 'behaving': 63,\n",
              " 'at': 64,\n",
              " 'all': 65,\n",
              " 'i': 66,\n",
              " 'm': 67,\n",
              " 'mad': 68,\n",
              " 'why': 69,\n",
              " 'am': 70,\n",
              " 'here': 71,\n",
              " 'because': 72,\n",
              " 'see': 73,\n",
              " 'you': 74,\n",
              " 'over': 75,\n",
              " 'there': 76,\n",
              " 'crew': 77,\n",
              " 'Need': 78,\n",
              " 'hug': 79,\n",
              " 'hey': 80,\n",
              " 'long': 81,\n",
              " 'time': 82,\n",
              " 'Yes': 83,\n",
              " 'Rains': 84,\n",
              " 'bit': 85,\n",
              " 'only': 86,\n",
              " 'LOL': 87,\n",
              " 'fine': 88,\n",
              " 'thanks': 89,\n",
              " 'how': 90,\n",
              " 'nope': 91,\n",
              " 'they': 92,\n",
              " 'didn': 93,\n",
              " 'have': 94,\n",
              " 'que': 95,\n",
              " 'me': 96,\n",
              " 'spring': 97,\n",
              " 'break': 98,\n",
              " 'in': 99,\n",
              " 'plain': 100,\n",
              " 'city': 101,\n",
              " 'snowing': 102,\n",
              " 'just': 103,\n",
              " 're': 104,\n",
              " 'pierced': 105,\n",
              " 'ears': 106,\n",
              " 'couldn': 107,\n",
              " 'bear': 108,\n",
              " 'watch': 109,\n",
              " 'And': 110,\n",
              " 'thought': 111,\n",
              " 'UA': 112,\n",
              " 'loss': 113,\n",
              " 'was': 114,\n",
              " 'embarrassing': 115,\n",
              " 'It': 116,\n",
              " 'counts': 117,\n",
              " 'idk': 118,\n",
              " 'did': 119,\n",
              " 'either': 120,\n",
              " 'never': 121,\n",
              " 'talk': 122,\n",
              " 'anymore': 123,\n",
              " 'would': 124,\n",
              " 've': 125,\n",
              " 'been': 126,\n",
              " 'first': 127,\n",
              " 'but': 128,\n",
              " 'gun': 129,\n",
              " 'really': 130,\n",
              " 'though': 131,\n",
              " 'zac': 132,\n",
              " 'wish': 133,\n",
              " 'with': 134,\n",
              " 'miss': 135,\n",
              " 'premiere': 136,\n",
              " 'death': 137,\n",
              " 'scene': 138,\n",
              " 'will': 139,\n",
              " 'hurt': 140,\n",
              " 'severely': 141,\n",
              " 'film': 142,\n",
              " 'wry': 143,\n",
              " 'directors': 144,\n",
              " 'cut': 145,\n",
              " 'now': 146,\n",
              " 'about': 147,\n",
              " 'file': 148,\n",
              " 'taxes': 149,\n",
              " 'ahh': 150,\n",
              " 'always': 151,\n",
              " 'wanted': 152,\n",
              " 'rent': 153,\n",
              " 'love': 154,\n",
              " 'soundtrack': 155,\n",
              " 'Oh': 156,\n",
              " 'dear': 157,\n",
              " 'Were': 158,\n",
              " 'drinking': 159,\n",
              " 'forgotten': 160,\n",
              " 'table': 161,\n",
              " 'drinks': 162,\n",
              " 'most': 163,\n",
              " 'day': 164,\n",
              " 'so': 165,\n",
              " 'get': 166,\n",
              " 'much': 167,\n",
              " 'done': 168,\n",
              " 'one': 169,\n",
              " 'friend': 170,\n",
              " 'called': 171,\n",
              " 'asked': 172,\n",
              " 'meet': 173,\n",
              " 'her': 174,\n",
              " 'Mid': 175,\n",
              " 'Valley': 176,\n",
              " 'sigh': 177,\n",
              " 'baked': 178,\n",
              " 'cake': 179,\n",
              " 'this': 180,\n",
              " 'week': 181,\n",
              " 'going': 182,\n",
              " 'had': 183,\n",
              " 'hoped': 184,\n",
              " 'class': 185,\n",
              " '8': 186,\n",
              " 'tomorrow': 187,\n",
              " 'hate': 188,\n",
              " 'when': 189,\n",
              " 'call': 190,\n",
              " 'wake': 191,\n",
              " 'people': 192,\n",
              " 'up': 193,\n",
              " 'Just': 194,\n",
              " 'myself': 195,\n",
              " 'sleep': 196,\n",
              " 'after': 197,\n",
              " 'watching': 198,\n",
              " 'Marley': 199,\n",
              " 'Me': 200,\n",
              " 'sad': 201,\n",
              " 'Miss': 202,\n",
              " 'Lilly': 203,\n",
              " 'ooooh': 204,\n",
              " 'leslie': 205,\n",
              " 'ok': 206,\n",
              " 'won': 207,\n",
              " 'again': 208,\n",
              " 'Meh': 209,\n",
              " 'Almost': 210,\n",
              " 'Lover': 211,\n",
              " 'exception': 212,\n",
              " 'track': 213,\n",
              " 'gets': 214,\n",
              " 'depressed': 215,\n",
              " 'every': 216,\n",
              " 'some1': 217,\n",
              " 'hacked': 218,\n",
              " 'account': 219,\n",
              " 'aim': 220,\n",
              " 'make': 221,\n",
              " 'new': 222,\n",
              " 'want': 223,\n",
              " 'promote': 224,\n",
              " 'GEAR': 225,\n",
              " 'AND': 226,\n",
              " 'ride': 227,\n",
              " 'may': 228,\n",
              " 'b': 229,\n",
              " 'Anaheim': 230,\n",
              " 'May': 231,\n",
              " 'sleeping': 232,\n",
              " 'an': 233,\n",
              " 'option': 234,\n",
              " 'realizing': 235,\n",
              " 'evaluations': 236,\n",
              " 'morning': 237,\n",
              " 'work': 238,\n",
              " 'afternoon': 239,\n",
              " 'awe': 240,\n",
              " 'too': 241,\n",
              " '1': 242,\n",
              " 'asian': 243,\n",
              " 'eyes': 244,\n",
              " 'night': 245,\n",
              " 'sick': 246,\n",
              " 'spent': 247,\n",
              " 'hour': 248,\n",
              " 'sitting': 249,\n",
              " 'shower': 250,\n",
              " 'cause': 251,\n",
              " 'stand': 252,\n",
              " 'held': 253,\n",
              " 'back': 254,\n",
              " 'puke': 255,\n",
              " 'champ': 256,\n",
              " 'BED': 257,\n",
              " 'ill': 258,\n",
              " 'tell': 259,\n",
              " 'ya': 260,\n",
              " 'story': 261,\n",
              " 'later': 262,\n",
              " 'good': 263,\n",
              " 'be': 264,\n",
              " 'workin': 265,\n",
              " 'three': 266,\n",
              " 'more': 267,\n",
              " 'hours': 268,\n",
              " 'sorry': 269,\n",
              " 'bed': 270,\n",
              " 'came': 271,\n",
              " 'GMT': 272,\n",
              " 'don': 273,\n",
              " 'Its': 274,\n",
              " 'depressing': 275,\n",
              " 'think': 276,\n",
              " 'even': 277,\n",
              " 'know': 278,\n",
              " 'kids': 279,\n",
              " 'suitcases': 280,\n",
              " 'Bed': 281,\n",
              " 'Class': 282,\n",
              " '12': 283,\n",
              " 'Work': 284,\n",
              " '3': 285,\n",
              " 'Gym': 286,\n",
              " '5': 287,\n",
              " 'or': 288,\n",
              " '6': 289,\n",
              " 'Then': 290,\n",
              " '10': 291,\n",
              " 'Another': 292,\n",
              " 'gon': 293,\n",
              " 'na': 294,\n",
              " 'fly': 295,\n",
              " 'girlfriend': 296,\n",
              " 'feel': 297,\n",
              " 'getting': 298,\n",
              " 'study': 299,\n",
              " 'tomorrows': 300,\n",
              " 'practical': 301,\n",
              " 'exam': 302,\n",
              " 'He': 303,\n",
              " 'reason': 304,\n",
              " 'teardrops': 305,\n",
              " 'guitar': 306,\n",
              " 'who': 307,\n",
              " 'has': 308,\n",
              " 'enough': 309,\n",
              " 'heart': 310,\n",
              " 'Sad': 311,\n",
              " 'feeling': 312,\n",
              " 'wanna': 313,\n",
              " 'still': 314,\n",
              " 'soo': 315,\n",
              " 'finally': 316,\n",
              " 'comfortable': 317,\n",
              " 'missed': 318,\n",
              " 'Falling': 319,\n",
              " 'asleep': 320,\n",
              " 'heard': 321,\n",
              " 'Tracy': 322,\n",
              " 'girl': 323,\n",
              " 'being': 324,\n",
              " 'found': 325,\n",
              " 'How': 326,\n",
              " 'My': 327,\n",
              " 'breaks': 328,\n",
              " 'family': 329,\n",
              " 'Yay': 330,\n",
              " 'happy': 331,\n",
              " 'your': 332,\n",
              " 'job': 333,\n",
              " 'But': 334,\n",
              " 'means': 335,\n",
              " 'less': 336,\n",
              " 'checked': 337,\n",
              " 'user': 338,\n",
              " 'timeline': 339,\n",
              " 'blackberry': 340,\n",
              " 'looks': 341,\n",
              " 'happening': 342,\n",
              " 'Are': 343,\n",
              " 'ppl': 344,\n",
              " 'having': 345,\n",
              " 'probs': 346,\n",
              " 'w': 347,\n",
              " 'BGs': 348,\n",
              " 'man': 349,\n",
              " 'ironing': 350,\n",
              " 'fave': 351,\n",
              " 'top': 352,\n",
              " 'wear': 353,\n",
              " 'meeting': 354,\n",
              " 'Burnt': 355,\n",
              " 'strangely': 356,\n",
              " 'breaking': 357,\n",
              " 'oh': 358,\n",
              " 'before': 359,\n",
              " 'retweeting': 360,\n",
              " 'Broadband': 361,\n",
              " 'plan': 362,\n",
              " 'massive': 363,\n",
              " 'broken': 364,\n",
              " 'promise': 365,\n",
              " 'via': 366,\n",
              " 'www': 367,\n",
              " 'diigo': 368,\n",
              " 'com': 369,\n",
              " 'Still': 370,\n",
              " 'waiting': 371,\n",
              " 'broadband': 372,\n",
              " 'we': 373,\n",
              " 'are': 374,\n",
              " 'Wow': 375,\n",
              " 'tons': 376,\n",
              " 'replies': 377,\n",
              " 'from': 378,\n",
              " 'unfollow': 379,\n",
              " 'friends': 380,\n",
              " 'tweets': 381,\n",
              " 'scrolling': 382,\n",
              " 'feed': 383,\n",
              " 'lot': 384,\n",
              " 'our': 385,\n",
              " 'duck': 386,\n",
              " 'chicken': 387,\n",
              " 'taking': 388,\n",
              " 'wayyy': 389,\n",
              " 'hatch': 390,\n",
              " 'Put': 391,\n",
              " 'vacation': 392,\n",
              " 'photos': 393,\n",
              " 'online': 394,\n",
              " 'few': 395,\n",
              " 'yrs': 396,\n",
              " 'ago': 397,\n",
              " 'PC': 398,\n",
              " 'crashed': 399,\n",
              " 'forget': 400,\n",
              " 'name': 401,\n",
              " 'site': 402,\n",
              " 'need': 403,\n",
              " 'Not': 404,\n",
              " 'sure': 405,\n",
              " 'what': 406,\n",
              " 'As': 407,\n",
              " 'nt': 408,\n",
              " 'trade': 409,\n",
              " 'away': 410,\n",
              " 'company': 411,\n",
              " 'assets': 412,\n",
              " 'andy': 413,\n",
              " 'happens': 414,\n",
              " 'Dallas': 415,\n",
              " 'show': 416,\n",
              " 'ta': 417,\n",
              " 'say': 418,\n",
              " 'd': 419,\n",
              " 'shows': 420,\n",
              " 'use': 421,\n",
              " 'music': 422,\n",
              " 'game': 423,\n",
              " 'mmm': 424,\n",
              " 'Ugh': 425,\n",
              " '92': 426,\n",
              " 'degrees': 427,\n",
              " 'Where': 428,\n",
              " 'u': 429,\n",
              " 'move': 430,\n",
              " 'were': 431,\n",
              " 'already': 432,\n",
              " 'sd': 433,\n",
              " 'Hmmm': 434,\n",
              " 'Random': 435,\n",
              " 'Glad': 436,\n",
              " 'hear': 437,\n",
              " 'yer': 438,\n",
              " 'doing': 439,\n",
              " 'well': 440,\n",
              " 'ps3': 441,\n",
              " 'commission': 442,\n",
              " 'playing': 443,\n",
              " 'Have': 444,\n",
              " 'copped': 445,\n",
              " 'Blood': 446,\n",
              " 'On': 447,\n",
              " 'Sand': 448,\n",
              " 'leaving': 449,\n",
              " 'parking': 450,\n",
              " 'Life': 451,\n",
              " 'cool': 452,\n",
              " 'Sadly': 453,\n",
              " 'gotten': 454,\n",
              " 'experience': 455,\n",
              " 'post': 456,\n",
              " 'cigarette': 457,\n",
              " 'such': 458,\n",
              " 'nice': 459,\n",
              " 'Too': 460,\n",
              " 'bad': 461,\n",
              " 'rain': 462,\n",
              " 'comes': 463,\n",
              " 'around': 464,\n",
              " 'lost': 465,\n",
              " 'pay': 466,\n",
              " 'phone': 467,\n",
              " 'bill': 468,\n",
              " 'lmao': 469,\n",
              " 'aw': 470,\n",
              " 'shucks': 471,\n",
              " 'Damm': 472,\n",
              " 'school': 473,\n",
              " 'Mo': 474,\n",
              " 'jobs': 475,\n",
              " 'money': 476,\n",
              " 'hell': 477,\n",
              " 'min': 478,\n",
              " 'wage': 479,\n",
              " '4': 480,\n",
              " 'f': 481,\n",
              " 'n': 482,\n",
              " 'clams': 483,\n",
              " 'forever': 484,\n",
              " 'See': 485,\n",
              " 'soon': 486,\n",
              " 'agreed': 487,\n",
              " 'saw': 488,\n",
              " 'failwhale': 489,\n",
              " 'allllll': 490,\n",
              " 'Haha': 491,\n",
              " 'dude': 492,\n",
              " 'look': 493,\n",
              " 'em': 494,\n",
              " 'unless': 495,\n",
              " 'someone': 496,\n",
              " 'says': 497,\n",
              " 'HEY': 498,\n",
              " 'ADDED': 499,\n",
              " 'YOU': 500,\n",
              " 'Sorry': 501,\n",
              " 'terrible': 502,\n",
              " 'pop': 503,\n",
              " 'right': 504,\n",
              " 'start': 505,\n",
              " 'working': 506,\n",
              " 'Or': 507,\n",
              " 'Jared': 508,\n",
              " 'least': 509,\n",
              " 'diss': 510,\n",
              " 'bands': 511,\n",
              " 'Trace': 512,\n",
              " 'clearly': 513,\n",
              " 'NOT': 514,\n",
              " 'ugly': 515,\n",
              " 'attire': 516,\n",
              " 'Puma': 517,\n",
              " 'singlet': 518,\n",
              " 'Adidas': 519,\n",
              " 'shorts': 520,\n",
              " 'black': 521,\n",
              " 'business': 522,\n",
              " 'socks': 523,\n",
              " 'leather': 524,\n",
              " 'shoes': 525,\n",
              " 'Lucky': 526,\n",
              " 'run': 527,\n",
              " 'into': 528,\n",
              " 'any': 529,\n",
              " 'cute': 530,\n",
              " 'girls': 531,\n",
              " 'Why': 532,\n",
              " 'location': 533,\n",
              " 'No': 534,\n",
              " 'picnic': 535,\n",
              " 'smells': 536,\n",
              " 'citrus': 537,\n",
              " 'donkey': 538,\n",
              " 'sensitive': 539,\n",
              " 'comments': 540,\n",
              " 'Nevertheless': 541,\n",
              " 'glad': 542,\n",
              " 'mug': 543,\n",
              " 'asap': 544,\n",
              " 'Charger': 545,\n",
              " 'awol': 546,\n",
              " 'csi': 547,\n",
              " 'tonight': 548,\n",
              " 'FML': 549,\n",
              " 'arms': 550,\n",
              " 'sore': 551,\n",
              " 'tennis': 552,\n",
              " 'wonders': 553,\n",
              " 'unhappy': 554,\n",
              " 'split': 555,\n",
              " 'saying': 556,\n",
              " 'bye': 557,\n",
              " 'ur': 558,\n",
              " 'newsletter': 559,\n",
              " 'those': 560,\n",
              " 'fares': 561,\n",
              " 'unbelievable': 562,\n",
              " 'shame': 563,\n",
              " 'booked': 564,\n",
              " 'paid': 565,\n",
              " 'mine': 566,\n",
              " 'missin': 567,\n",
              " 'boo': 568,\n",
              " 'itm': 569,\n",
              " 'Damn': 570,\n",
              " 'chalk': 571,\n",
              " 'MY': 572,\n",
              " 'IS': 573,\n",
              " 'blast': 574,\n",
              " 'Getty': 575,\n",
              " 'Villa': 576,\n",
              " 'hates': 577,\n",
              " 'she': 578,\n",
              " 'throat': 579,\n",
              " 'worse': 580,\n",
              " 'sup': 581,\n",
              " 'mama': 582,\n",
              " 'tummy': 583,\n",
              " 'hurts': 584,\n",
              " 'wonder': 585,\n",
              " 'if': 586,\n",
              " 'hypnosis': 587,\n",
              " 'anything': 588,\n",
              " 'If': 589,\n",
              " 'STOP': 590,\n",
              " 'SMOKING': 591,\n",
              " 'fat': 592,\n",
              " 'ones': 593,\n",
              " 'babe': 594,\n",
              " 'fam': 595,\n",
              " 'annoys': 596,\n",
              " 'Thankfully': 597,\n",
              " 'Muahaha': 598,\n",
              " 'evil': 599,\n",
              " 'laugh': 600,\n",
              " 'should': 601,\n",
              " 'attention': 602,\n",
              " 'covered': 603,\n",
              " 'photoshop': 604,\n",
              " 'webpage': 605,\n",
              " 'design': 606,\n",
              " 'undergrad': 607,\n",
              " 'wednesday': 608,\n",
              " '2': 609,\n",
              " 'Poor': 610,\n",
              " 'cameron': 611,\n",
              " 'hills': 612,\n",
              " 'pray': 613,\n",
              " 'please': 614,\n",
              " 'ex': 615,\n",
              " 'threatening': 616,\n",
              " 'sh': 617,\n",
              " 'babies': 618,\n",
              " '1st': 619,\n",
              " 'Birthday': 620,\n",
              " 'party': 621,\n",
              " 'jerk': 622,\n",
              " 'headache': 623,\n",
              " 'hmm': 624,\n",
              " 'enjoy': 625,\n",
              " 'him': 626,\n",
              " 'problems': 627,\n",
              " 'things': 628,\n",
              " 'find': 629,\n",
              " 'little': 630,\n",
              " 'puppy': 631,\n",
              " 'grace': 632,\n",
              " 'wana': 633,\n",
              " 'steve': 634,\n",
              " 'SADLY': 635,\n",
              " 'SINCE': 636,\n",
              " 'ITS': 637,\n",
              " 'EASTER': 638,\n",
              " 'WNT': 639,\n",
              " 'B': 640,\n",
              " 'ABLE': 641,\n",
              " 'DO': 642,\n",
              " 'MUCH': 643,\n",
              " 'BUT': 644,\n",
              " 'OHH': 645,\n",
              " 'WELL': 646,\n",
              " 'actually': 647,\n",
              " 'bracket': 648,\n",
              " 'pools': 649,\n",
              " 'wasn': 650,\n",
              " 'follow': 651,\n",
              " 'A': 652,\n",
              " 'nite': 653,\n",
              " 'favorite': 654,\n",
              " 'teams': 655,\n",
              " 'Astros': 656,\n",
              " 'Spartans': 657,\n",
              " 'lose': 658,\n",
              " 'T': 659,\n",
              " 'W': 660,\n",
              " 'Body': 661,\n",
              " 'Of': 662,\n",
              " 'Missing': 663,\n",
              " 'Northern': 664,\n",
              " 'Calif': 665,\n",
              " 'Girl': 666,\n",
              " 'Found': 667,\n",
              " 'Police': 668,\n",
              " 'remains': 669,\n",
              " 'missing': 670,\n",
              " 'California': 671,\n",
              " 'hope': 672,\n",
              " 'increase': 673,\n",
              " 'capacity': 674,\n",
              " 'fast': 675,\n",
              " 'yesterday': 676,\n",
              " 'pain': 677,\n",
              " 'Got': 678,\n",
              " 'fail': 679,\n",
              " 'whale': 680,\n",
              " '15': 681,\n",
              " 'Behind': 682,\n",
              " 'classes': 683,\n",
              " 'quot': 684,\n",
              " 'House': 685,\n",
              " 'Remember': 686,\n",
              " 'bum': 687,\n",
              " 'leg': 688,\n",
              " 'Strikes': 689,\n",
              " 'serious': 690,\n",
              " 'their': 691,\n",
              " 'kinds': 692,\n",
              " 'complaints': 693,\n",
              " 'laptop': 694,\n",
              " 'overheating': 695,\n",
              " 'recalls': 696,\n",
              " 'Emily': 697,\n",
              " 'Mommy': 698,\n",
              " 'training': 699,\n",
              " 'She': 700,\n",
              " 'misses': 701,\n",
              " 'rather': 702,\n",
              " 'send': 703,\n",
              " 'messages': 704,\n",
              " 'than': 705,\n",
              " '3rd': 706,\n",
              " 'mixed': 707,\n",
              " 'year': 708,\n",
              " 'overrated': 709,\n",
              " 'wondered': 710,\n",
              " 'same': 711,\n",
              " 'thing': 712,\n",
              " 'Moscow': 713,\n",
              " 'behind': 714,\n",
              " 'laying': 715,\n",
              " 'voice': 716,\n",
              " 'sooo': 717,\n",
              " 'killed': 718,\n",
              " 'off': 719,\n",
              " 'Kutner': 720,\n",
              " 'whyyyyyyyy': 721,\n",
              " 'them': 722,\n",
              " 'mea': 723,\n",
              " 'culpa': 724,\n",
              " 'sense': 725,\n",
              " 'suicide': 726,\n",
              " 'refuse': 727,\n",
              " 'believe': 728,\n",
              " 'happened': 729,\n",
              " 'grind': 730,\n",
              " 'inspirational': 731,\n",
              " 'saddening': 732,\n",
              " 'Don': 733,\n",
              " 'stop': 734,\n",
              " 'cuz': 735,\n",
              " 'Much': 736,\n",
              " 'yeah': 737,\n",
              " 'wudnt': 738,\n",
              " 'chance': 739,\n",
              " 'ugh': 740,\n",
              " 'ca': 741,\n",
              " '30am': 742,\n",
              " 'Hanging': 743,\n",
              " 'Wanna': 744,\n",
              " 'sing': 745,\n",
              " 'Can': 746,\n",
              " 'Sucks': 747,\n",
              " 'aaw': 748,\n",
              " 'BH': 749,\n",
              " 'aww': 750,\n",
              " 'beach': 751,\n",
              " 'Is': 752,\n",
              " 'pissed': 753,\n",
              " 'radio': 754,\n",
              " 'station': 755,\n",
              " 'life': 756,\n",
              " 'flipped': 757,\n",
              " 'upside': 758,\n",
              " 'down': 759,\n",
              " 'head': 760,\n",
              " 'some': 761,\n",
              " 'Ramen': 762,\n",
              " 'sounds': 763,\n",
              " 'sides': 764,\n",
              " 'mention': 765,\n",
              " 'crying': 766,\n",
              " 'made': 767,\n",
              " 'Late': 768,\n",
              " 'snack': 769,\n",
              " 'glass': 770,\n",
              " 'OJ': 771,\n",
              " 'c': 772,\n",
              " 'sickness': 773,\n",
              " 'then': 774,\n",
              " 'big': 775,\n",
              " 'fan': 776,\n",
              " 'camilla': 777,\n",
              " 'belle': 778,\n",
              " 'WAH': 779,\n",
              " 'clip': 780,\n",
              " 'must': 781,\n",
              " 'el': 782,\n",
              " 'filters': 783,\n",
              " 'wait': 784,\n",
              " 'till': 785,\n",
              " 'puter': 786,\n",
              " 'Something': 787,\n",
              " 'else': 788,\n",
              " 'blame': 789,\n",
              " 'broke': 790,\n",
              " 'This': 791,\n",
              " 'seems': 792,\n",
              " 'longer': 793,\n",
              " 'terms': 794,\n",
              " 'cold': 795,\n",
              " 'Ehhh': 796,\n",
              " 'Weather': 797,\n",
              " 'take': 798,\n",
              " 'turn': 799,\n",
              " 'haha': 800,\n",
              " 'cooooold': 801,\n",
              " 'incredible': 802,\n",
              " 'stuff': 803,\n",
              " 'Hoping': 804,\n",
              " 'rumbles': 805,\n",
              " 'notice': 806,\n",
              " 'They': 807,\n",
              " 'told': 808,\n",
              " 'agency': 809,\n",
              " 'said': 810,\n",
              " 'almost': 811,\n",
              " 'bedtime': 812,\n",
              " 'alive': 813,\n",
              " 'tired': 814,\n",
              " 'imma': 815,\n",
              " 'try': 816,\n",
              " 'hopefully': 817,\n",
              " 'Agh': 818,\n",
              " 'snow': 819,\n",
              " 'kenny': 820,\n",
              " 'powers': 821,\n",
              " 'Thank': 822,\n",
              " 'letting': 823,\n",
              " 'direct': 824,\n",
              " 'message': 825,\n",
              " 'Bridget': 826,\n",
              " 'India': 827,\n",
              " '100th': 828,\n",
              " 'Test': 829,\n",
              " 'victory': 830,\n",
              " '10th': 831,\n",
              " 'consecutive': 832,\n",
              " 'win': 833,\n",
              " 'without': 834,\n",
              " 'guess': 835,\n",
              " 'sadly': 836,\n",
              " 'Shame': 837,\n",
              " 'Stephan': 838,\n",
              " 'leavin': 839,\n",
              " 'Was': 840,\n",
              " 'intending': 841,\n",
              " 'finish': 842,\n",
              " 'editing': 843,\n",
              " '536': 844,\n",
              " 'page': 845,\n",
              " 'novel': 846,\n",
              " 'manuscript': 847,\n",
              " 'probably': 848,\n",
              " 'happen': 849,\n",
              " 'pages': 850,\n",
              " 'left': 851,\n",
              " 'laid': 852,\n",
              " 'haven': 853,\n",
              " 'read': 854,\n",
              " '9th': 855,\n",
              " 'amp': 856,\n",
              " 'Princess': 857,\n",
              " 'diaries': 858,\n",
              " 'Saving': 859,\n",
              " 'Francesca': 860,\n",
              " 'end': 861,\n",
              " 'Hmm': 862,\n",
              " 'easy': 863,\n",
              " 'books': 864,\n",
              " 'nokia': 865,\n",
              " 'died': 866,\n",
              " 'mom': 867,\n",
              " 'breast': 868,\n",
              " 'cancer': 869,\n",
              " 'Like': 870,\n",
              " 'worried': 871,\n",
              " 'Going': 872,\n",
              " 'better': 873,\n",
              " 'lol': 874,\n",
              " 'understood': 875,\n",
              " 'daylight': 876,\n",
              " 'savings': 877,\n",
              " 'ended': 878,\n",
              " 'breakfast': 879,\n",
              " 'keep': 880,\n",
              " 'waking': 881,\n",
              " 'lame': 882,\n",
              " 'understand': 883,\n",
              " 'HEROES': 884,\n",
              " 'isn': 885,\n",
              " 'season': 886,\n",
              " 'Living': 887,\n",
              " 'downtown': 888,\n",
              " 'fun': 889,\n",
              " 'calorie': 890,\n",
              " 'wise': 891,\n",
              " 'junk': 892,\n",
              " 'food': 893,\n",
              " 'free': 894,\n",
              " 'ate': 895,\n",
              " 'sour': 896,\n",
              " 'skittles': 897,\n",
              " 'ass': 898,\n",
              " 'cherry': 899,\n",
              " 'coke': 900,\n",
              " 'Man': 901,\n",
              " 'Hard': 902,\n",
              " 'hot': 903,\n",
              " 'tea': 904,\n",
              " 'studying': 905,\n",
              " 'sleeeep': 906,\n",
              " 'Getting': 907,\n",
              " 'eyebrows': 908,\n",
              " 'waxed': 909,\n",
              " 'More': 910,\n",
              " 'star': 911,\n",
              " 'MacHeist': 912,\n",
              " '0': 913,\n",
              " 'apps': 914,\n",
              " 'sweet': 915,\n",
              " 'Didn': 916,\n",
              " 'Espresso': 917,\n",
              " 'serial': 918,\n",
              " 'although': 919,\n",
              " 'sent': 920,\n",
              " 'Picked': 921,\n",
              " 'Mich': 922,\n",
              " 'St': 923,\n",
              " 'pretty': 924,\n",
              " 'pick': 925,\n",
              " 'way': 926,\n",
              " 'until': 927,\n",
              " 'alone': 928,\n",
              " 'downstairs': 929,\n",
              " 'anoop': 930,\n",
              " 'mean': 931,\n",
              " 'seriously': 932,\n",
              " 'kinda': 933,\n",
              " 'yes': 934,\n",
              " 'sprint': 935,\n",
              " 'g': 936,\n",
              " 'baltimore': 937,\n",
              " 'chicago': 938,\n",
              " 'far': 939,\n",
              " 'stuck': 940,\n",
              " 'awake': 941,\n",
              " 'middle': 942,\n",
              " 'second': 943,\n",
              " 'row': 944,\n",
              " 'felt': 945,\n",
              " 'Thanks': 946,\n",
              " 'bursting': 947,\n",
              " 'bubble': 948,\n",
              " 'gosh': 949,\n",
              " 'hard': 950,\n",
              " 'sooooo': 951,\n",
              " 'Until': 952,\n",
              " 'deleted': 953,\n",
              " 'history': 954,\n",
              " 'Crazy': 955,\n",
              " 'wind': 956,\n",
              " 'birding': 957,\n",
              " 'currently': 958,\n",
              " 'Grrr': 959,\n",
              " 'ipods': 960,\n",
              " 'acting': 961,\n",
              " 'weird': 962,\n",
              " 'Jai': 963,\n",
              " 'ho': 964,\n",
              " 'thinking': 965,\n",
              " 'aren': 966,\n",
              " 'full': 967,\n",
              " 'songs': 968,\n",
              " 'ughh': 969,\n",
              " 'DVD': 970,\n",
              " 'cos': 971,\n",
              " 'heaps': 972,\n",
              " 'deal': 973,\n",
              " 'website': 974,\n",
              " 'through': 975,\n",
              " 'Again': 976,\n",
              " 'Far': 977,\n",
              " 'rail': 978,\n",
              " 'other': 979,\n",
              " 'tips': 980,\n",
              " 'swear': 981,\n",
              " 'losing': 982,\n",
              " 'gaining': 983,\n",
              " 'tweeps': 984,\n",
              " 'So': 985,\n",
              " 'wrenching': 986,\n",
              " 'Today': 987,\n",
              " 'realized': 988,\n",
              " 'hiding': 989,\n",
              " 'Staying': 990,\n",
              " 'house': 991,\n",
              " 'neighbors': 992,\n",
              " 'SO': 993,\n",
              " 'loud': 994,\n",
              " 'danny': 995,\n",
              " 'live': 996,\n",
              " 'chat': 997,\n",
              " 'car': 998,\n",
              " 'trip': 999,\n",
              " ...}"
            ]
          },
          "metadata": {},
          "execution_count": 21
        }
      ]
    },
    {
      "cell_type": "code",
      "source": [
        "list(vocab2index.items())[0]"
      ],
      "metadata": {
        "colab": {
          "base_uri": "https://localhost:8080/"
        },
        "id": "x4d7qfrBLlBS",
        "outputId": "62512b0f-0c3a-4ad5-9acc-7368b328e70d"
      },
      "execution_count": 22,
      "outputs": [
        {
          "output_type": "execute_result",
          "data": {
            "text/plain": [
              "('', 0)"
            ]
          },
          "metadata": {},
          "execution_count": 22
        }
      ]
    },
    {
      "cell_type": "code",
      "source": [
        "enc= np.zeros(150, dtype = np.int32)\n",
        "enc"
      ],
      "metadata": {
        "colab": {
          "base_uri": "https://localhost:8080/"
        },
        "id": "lGMy981vLn14",
        "outputId": "a2fa02bd-66d6-4c7f-d633-2c59366ed84d"
      },
      "execution_count": 23,
      "outputs": [
        {
          "output_type": "execute_result",
          "data": {
            "text/plain": [
              "array([0, 0, 0, 0, 0, 0, 0, 0, 0, 0, 0, 0, 0, 0, 0, 0, 0, 0, 0, 0, 0, 0,\n",
              "       0, 0, 0, 0, 0, 0, 0, 0, 0, 0, 0, 0, 0, 0, 0, 0, 0, 0, 0, 0, 0, 0,\n",
              "       0, 0, 0, 0, 0, 0, 0, 0, 0, 0, 0, 0, 0, 0, 0, 0, 0, 0, 0, 0, 0, 0,\n",
              "       0, 0, 0, 0, 0, 0, 0, 0, 0, 0, 0, 0, 0, 0, 0, 0, 0, 0, 0, 0, 0, 0,\n",
              "       0, 0, 0, 0, 0, 0, 0, 0, 0, 0, 0, 0, 0, 0, 0, 0, 0, 0, 0, 0, 0, 0,\n",
              "       0, 0, 0, 0, 0, 0, 0, 0, 0, 0, 0, 0, 0, 0, 0, 0, 0, 0, 0, 0, 0, 0,\n",
              "       0, 0, 0, 0, 0, 0, 0, 0, 0, 0, 0, 0, 0, 0, 0, 0, 0, 0], dtype=int32)"
            ]
          },
          "metadata": {},
          "execution_count": 23
        }
      ]
    },
    {
      "cell_type": "code",
      "source": [
        "data2['text'][0]"
      ],
      "metadata": {
        "colab": {
          "base_uri": "https://localhost:8080/",
          "height": 35
        },
        "id": "zi9Xi2QaLp4O",
        "outputId": "2c0e506b-fdd4-4b36-93ae-94122f0ef5d0"
      },
      "execution_count": 24,
      "outputs": [
        {
          "output_type": "execute_result",
          "data": {
            "text/plain": [
              "\"@switchfoot http://twitpic.com/2y1zl - Awww, that's a bummer.  You shoulda got David Carr of Third Day to do it. ;D\""
            ],
            "application/vnd.google.colaboratory.intrinsic+json": {
              "type": "string"
            }
          },
          "metadata": {},
          "execution_count": 24
        }
      ]
    },
    {
      "cell_type": "code",
      "source": [
        "x = my_tokenization(data2['text'][3], text_cleaning)"
      ],
      "metadata": {
        "id": "iZ4dceapLrzQ"
      },
      "execution_count": 25,
      "outputs": []
    },
    {
      "cell_type": "code",
      "source": [
        "x"
      ],
      "metadata": {
        "colab": {
          "base_uri": "https://localhost:8080/"
        },
        "id": "FGbzzy1gLuIm",
        "outputId": "6b5443a5-563a-4ff4-d75c-be5be4e35e0e"
      },
      "execution_count": 26,
      "outputs": [
        {
          "output_type": "execute_result",
          "data": {
            "text/plain": [
              "['my', 'whole', 'body', 'feels', 'itchy', 'and', 'like', 'its', 'on', 'fire']"
            ]
          },
          "metadata": {},
          "execution_count": 26
        }
      ]
    },
    {
      "cell_type": "code",
      "source": [
        "encl = [vocab2index.get(w, vocab2index[\"UNK\"]) for w in x]"
      ],
      "metadata": {
        "id": "wzs-YsdN9Ixn"
      },
      "execution_count": 27,
      "outputs": []
    },
    {
      "cell_type": "code",
      "source": [
        "encl"
      ],
      "metadata": {
        "colab": {
          "base_uri": "https://localhost:8080/"
        },
        "id": "c7BvZUSF-DrG",
        "outputId": "e12d5a03-5b4c-46d7-ba20-4db109933c46"
      },
      "execution_count": 28,
      "outputs": [
        {
          "output_type": "execute_result",
          "data": {
            "text/plain": [
              "[52, 53, 54, 55, 56, 29, 57, 58, 59, 60]"
            ]
          },
          "metadata": {},
          "execution_count": 28
        }
      ]
    },
    {
      "cell_type": "code",
      "source": [
        "def encode_sentence(text, vocab2index, N = 200, padding_start = True):\n",
        "  if not text:\n",
        "    return np.zeros(N, dtype= np.int32), 0\n",
        "  x = my_tokenization(text, text_cleaning)\n",
        "  enc = np.zeros(N, dtype = np.int32)\n",
        "  encl = np.array([vocab2index.get(w, vocab2index[\"UNK\"]) for w in x])\n",
        "  length = min(N, len(encl))\n",
        "  if padding_start:\n",
        "    enc[: length] = encl[: length]\n",
        "  else:\n",
        "    enc[N - length: ] = encl[: length]\n",
        "  return enc, length"
      ],
      "metadata": {
        "id": "3AjHmHXcLwX-"
      },
      "execution_count": 29,
      "outputs": []
    },
    {
      "cell_type": "code",
      "source": [
        "text = data2['text'][3]\n",
        "encode_sentence(text, vocab2index, N= 400, padding_start = False)"
      ],
      "metadata": {
        "colab": {
          "base_uri": "https://localhost:8080/"
        },
        "id": "iObx5YO-953e",
        "outputId": "ca547f00-b88f-410f-fd33-732997c7ac1e"
      },
      "execution_count": 30,
      "outputs": [
        {
          "output_type": "execute_result",
          "data": {
            "text/plain": [
              "(array([ 0,  0,  0,  0,  0,  0,  0,  0,  0,  0,  0,  0,  0,  0,  0,  0,  0,\n",
              "         0,  0,  0,  0,  0,  0,  0,  0,  0,  0,  0,  0,  0,  0,  0,  0,  0,\n",
              "         0,  0,  0,  0,  0,  0,  0,  0,  0,  0,  0,  0,  0,  0,  0,  0,  0,\n",
              "         0,  0,  0,  0,  0,  0,  0,  0,  0,  0,  0,  0,  0,  0,  0,  0,  0,\n",
              "         0,  0,  0,  0,  0,  0,  0,  0,  0,  0,  0,  0,  0,  0,  0,  0,  0,\n",
              "         0,  0,  0,  0,  0,  0,  0,  0,  0,  0,  0,  0,  0,  0,  0,  0,  0,\n",
              "         0,  0,  0,  0,  0,  0,  0,  0,  0,  0,  0,  0,  0,  0,  0,  0,  0,\n",
              "         0,  0,  0,  0,  0,  0,  0,  0,  0,  0,  0,  0,  0,  0,  0,  0,  0,\n",
              "         0,  0,  0,  0,  0,  0,  0,  0,  0,  0,  0,  0,  0,  0,  0,  0,  0,\n",
              "         0,  0,  0,  0,  0,  0,  0,  0,  0,  0,  0,  0,  0,  0,  0,  0,  0,\n",
              "         0,  0,  0,  0,  0,  0,  0,  0,  0,  0,  0,  0,  0,  0,  0,  0,  0,\n",
              "         0,  0,  0,  0,  0,  0,  0,  0,  0,  0,  0,  0,  0,  0,  0,  0,  0,\n",
              "         0,  0,  0,  0,  0,  0,  0,  0,  0,  0,  0,  0,  0,  0,  0,  0,  0,\n",
              "         0,  0,  0,  0,  0,  0,  0,  0,  0,  0,  0,  0,  0,  0,  0,  0,  0,\n",
              "         0,  0,  0,  0,  0,  0,  0,  0,  0,  0,  0,  0,  0,  0,  0,  0,  0,\n",
              "         0,  0,  0,  0,  0,  0,  0,  0,  0,  0,  0,  0,  0,  0,  0,  0,  0,\n",
              "         0,  0,  0,  0,  0,  0,  0,  0,  0,  0,  0,  0,  0,  0,  0,  0,  0,\n",
              "         0,  0,  0,  0,  0,  0,  0,  0,  0,  0,  0,  0,  0,  0,  0,  0,  0,\n",
              "         0,  0,  0,  0,  0,  0,  0,  0,  0,  0,  0,  0,  0,  0,  0,  0,  0,\n",
              "         0,  0,  0,  0,  0,  0,  0,  0,  0,  0,  0,  0,  0,  0,  0,  0,  0,\n",
              "         0,  0,  0,  0,  0,  0,  0,  0,  0,  0,  0,  0,  0,  0,  0,  0,  0,\n",
              "         0,  0,  0,  0,  0,  0,  0,  0,  0,  0,  0,  0,  0,  0,  0,  0,  0,\n",
              "         0,  0,  0,  0,  0,  0,  0,  0,  0,  0,  0,  0,  0,  0,  0,  0, 52,\n",
              "        53, 54, 55, 56, 29, 57, 58, 59, 60], dtype=int32),\n",
              " 10)"
            ]
          },
          "metadata": {},
          "execution_count": 30
        }
      ]
    },
    {
      "cell_type": "code",
      "source": [
        "class TwitterDataset(Dataset):\n",
        "  def __init__(self, data, N = 200, padding_start = True):\n",
        "    self.data = data\n",
        "    self.y = self.data['target']\n",
        "    self.X = self.data['text']\n",
        "\n",
        "  def __len__(self):\n",
        "    return len(self.y)\n",
        "\n",
        "  def __getitem__(self, idx):\n",
        "    x, s= encode_sentence(self.X.iloc[idx], vocab2index , N = 200, padding_start = False)\n",
        "\n",
        "    return x, s, self.y.iloc[idx]"
      ],
      "metadata": {
        "id": "vAWZ1qLwL7sb"
      },
      "execution_count": 31,
      "outputs": []
    },
    {
      "cell_type": "code",
      "source": [
        "train_data, valid_data = train_test_split(data2, test_size = 0.2, random_state = 42)"
      ],
      "metadata": {
        "id": "mZgKVWwzMEF1"
      },
      "execution_count": 32,
      "outputs": []
    },
    {
      "cell_type": "markdown",
      "source": [
        "## simple model"
      ],
      "metadata": {
        "id": "4HctCM-jmqxR"
      }
    },
    {
      "cell_type": "code",
      "source": [
        "class LSTMV0Model(torch.nn.Module):\n",
        "  def __init__(self, vocab_size, embedding_dim, hidden_dim):\n",
        "    super(LSTMV0Model, self).__init__()\n",
        "    self.embeddings = nn.Embedding(vocab_size, embedding_dim, padding_idx = 0)\n",
        "    self.lstm = nn.LSTM(embedding_dim, hidden_dim, batch_first = True)\n",
        "    self.linear = nn.Linear(hidden_dim, 1)\n",
        "    self.dropout = nn.Dropout(0.5)\n",
        "\n",
        "  def forward(self, x):\n",
        "    x = self.embeddings(x)\n",
        "    x = self.dropout(x)\n",
        "    out_pack, (ht, ct) = self.lstm(x)\n",
        "    return self.linear(ht[-1])"
      ],
      "metadata": {
        "id": "9l8SPMkdmm_F"
      },
      "execution_count": 33,
      "outputs": []
    },
    {
      "cell_type": "code",
      "source": [
        "def train_epochs_v0(model, epochs = 10, lr = 0.001):\n",
        "  parameters = filter(lambda p: p.requires_grad, model.parameters())\n",
        "  optimizer = torch.optim.Adam(parameters, lr = lr)\n",
        "  for i in range(epochs):\n",
        "    model.train()\n",
        "    sum_loss = 0.0\n",
        "    total =0\n",
        "    for x, s, y in train_dl:\n",
        "      x = x.long().cuda()\n",
        "      y = y.float().cuda()\n",
        "      y_pred = model(x)\n",
        "      optimizer.zero_grad()\n",
        "      loss = F.binary_cross_entropy_with_logits(y_pred, y.unsqueeze(1))\n",
        "      loss.backward()\n",
        "      optimizer.step()\n",
        "      sum_loss += loss.item() * y.shape[0]\n",
        "      total += y.shape[0]\n",
        "    val_loss, val_acc = val_metrics_v0(model, val_dl)\n",
        "    if i % 5 == 1:\n",
        "      print(\"train loss %.3f val loss %.3f and val accuracy %.3f\" % (sum_loss / total, val_loss, val_acc))"
      ],
      "metadata": {
        "id": "LILO8kcYn4Jo"
      },
      "execution_count": 34,
      "outputs": []
    },
    {
      "cell_type": "code",
      "source": [
        "def val_metrics_v0(model, val_dl):\n",
        "  model.eval()\n",
        "  correct = 0\n",
        "  total = 0\n",
        "  sum_loss = 0.0\n",
        "  for x, s, y in val_dl:\n",
        "    x = x.long().cuda()\n",
        "    y = y.float().unsqueeze(1).cuda()\n",
        "    y_hat = model(x)\n",
        "    loss = F.binary_cross_entropy_with_logits(y_hat, y)\n",
        "    y_pred = y_hat >0\n",
        "    correct += (y_pred.float() == y).float().sum()\n",
        "    total += y.shape[0]\n",
        "    sum_loss += loss.item() * y.shape[0]\n",
        "  return sum_loss/total, correct/ total"
      ],
      "metadata": {
        "id": "cbz8P-rwpqOq"
      },
      "execution_count": 35,
      "outputs": []
    },
    {
      "cell_type": "code",
      "source": [
        "train_ds_v0 = TwitterDataset(train_data)\n",
        "valid_ds_v0 = TwitterDataset(valid_data)"
      ],
      "metadata": {
        "id": "nroymMpnrBfI"
      },
      "execution_count": 36,
      "outputs": []
    },
    {
      "cell_type": "code",
      "source": [
        "batch_size = 2000\n",
        "train_dl = DataLoader(train_ds_v0, batch_size = batch_size, shuffle = True)\n",
        "val_dl = DataLoader(valid_ds_v0, batch_size = batch_size)"
      ],
      "metadata": {
        "id": "786IkszxqXe7"
      },
      "execution_count": 37,
      "outputs": []
    },
    {
      "cell_type": "code",
      "source": [
        "vocab_size = len(words)\n",
        "print(vocab_size)\n",
        "model_v0 = LSTMV0Model(vocab_size, 50, 50).cuda()"
      ],
      "metadata": {
        "colab": {
          "base_uri": "https://localhost:8080/"
        },
        "id": "_3LiJ19bqucR",
        "outputId": "2f6911fd-18c6-4da7-84aa-54b98e853b14"
      },
      "execution_count": 38,
      "outputs": [
        {
          "output_type": "stream",
          "name": "stdout",
          "text": [
            "69266\n"
          ]
        }
      ]
    },
    {
      "cell_type": "code",
      "source": [
        "train_epochs_v0(model_v0, epochs = 10, lr = 0.001)"
      ],
      "metadata": {
        "colab": {
          "base_uri": "https://localhost:8080/"
        },
        "id": "CnFu8gDbsSTb",
        "outputId": "1dda5015-5cc9-469f-fd71-b9a0d0288a50"
      },
      "execution_count": 40,
      "outputs": [
        {
          "output_type": "stream",
          "name": "stdout",
          "text": [
            "train loss 0.474 val loss 0.447 and val accuracy 0.795\n",
            "train loss 0.423 val loss 0.418 and val accuracy 0.813\n"
          ]
        }
      ]
    },
    {
      "cell_type": "markdown",
      "source": [
        "## Model Evaluations"
      ],
      "metadata": {
        "id": "wuYNRoTy2XdK"
      }
    },
    {
      "cell_type": "code",
      "source": [
        "from sklearn.metrics import precision_score, recall_score, f1_score"
      ],
      "metadata": {
        "id": "UbeajHG6k0ms"
      },
      "execution_count": 41,
      "outputs": []
    },
    {
      "cell_type": "code",
      "source": [
        "device = torch.device(\"cuda\" if torch.cuda.is_available() else \"cpu\")\n",
        "model_v0.to(device)\n",
        "valid_dl = DataLoader(valid_ds_v0, batch_size= batch_size, pin_memory = True, num_workers= 2)"
      ],
      "metadata": {
        "id": "UQ8eRJak03Ac"
      },
      "execution_count": 59,
      "outputs": []
    },
    {
      "cell_type": "code",
      "source": [
        "def threshold_predictions(out, threshold= 0.5):\n",
        "  return (out > threshold).float()\n",
        "def evaluate_metrics(model, valid_dl, threshold= 0.5):\n",
        "  model.eval()\n",
        "  all_predictions = []\n",
        "  all_labels = []\n",
        "\n",
        "  with torch.no_grad():\n",
        "    for x, s, y in valid_dl:\n",
        "      x, s, y = x.to(device), s.to(device), y.to(device)\n",
        "      logits = model(x)\n",
        "      predictions = threshold_predictions(logits, threshold)\n",
        "      all_predictions.extend(predictions.cpu().numpy())\n",
        "      all_labels.extend(y.cpu().numpy())\n",
        "    all_predictions =torch.tensor(all_predictions).to(device)\n",
        "    all_labels = torch.tensor(all_labels).to(device)\n",
        "    threshold= torch.FloatTensor([threshold]).to(device)\n",
        "    binary_predictions = (all_predictions) > threshold.long()\n",
        "    binary_labels= (all_labels > 0.5).long()\n",
        "\n",
        "    precision = precision_score(binary_labels.cpu().numpy(), binary_predictions.cpu().numpy(), zero_division = 1)\n",
        "    recall = recall_score(binary_labels.cpu().numpy(), binary_predictions.cpu().numpy())\n",
        "    f1 = f1_score(binary_labels.cpu().numpy(), binary_predictions.cpu().numpy())\n",
        "\n",
        "    return precision, recall, f1\n"
      ],
      "metadata": {
        "id": "kvwK7tndlx7m"
      },
      "execution_count": 63,
      "outputs": []
    },
    {
      "cell_type": "code",
      "source": [
        "precision, recall, f1 = evaluate_metrics(model_v0, valid_dl)\n",
        "print(f\"Precision: {precision: .4f}, Recall: {recall: .4f}, F1: {f1: .4f}\")"
      ],
      "metadata": {
        "colab": {
          "base_uri": "https://localhost:8080/"
        },
        "id": "EUsilebxpgO7",
        "outputId": "fbf46242-6593-4941-acb4-7f88a1efcaaa"
      },
      "execution_count": 64,
      "outputs": [
        {
          "output_type": "stream",
          "name": "stderr",
          "text": [
            "<ipython-input-63-5dc05df72537>:15: UserWarning: Creating a tensor from a list of numpy.ndarrays is extremely slow. Please consider converting the list to a single numpy.ndarray with numpy.array() before converting to a tensor. (Triggered internally at ../torch/csrc/utils/tensor_new.cpp:261.)\n",
            "  all_predictions =torch.tensor(all_predictions).to(device)\n"
          ]
        },
        {
          "output_type": "stream",
          "name": "stdout",
          "text": [
            "Precision:  0.8565, Recall:  0.7515, F1:  0.8006\n"
          ]
        }
      ]
    }
  ]
}