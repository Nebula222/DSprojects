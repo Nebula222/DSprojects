{
 "cells": [
  {
   "cell_type": "code",
   "execution_count": 1,
   "metadata": {},
   "outputs": [],
   "source": [
    "# Get Dataset\n",
    "import pandas as pd\n",
    "import numpy as np\n",
    "import seaborn as sns\n",
    "import matplotlib.pyplot as plt"
   ]
  },
  {
   "cell_type": "code",
   "execution_count": 5,
   "metadata": {},
   "outputs": [],
   "source": [
    "import os\n",
    "os.getcwd()\n",
    "os.chdir('/users/angela/OneDrive/ANLT272_Healthcare_CaseStudies')"
   ]
  },
  {
   "cell_type": "code",
   "execution_count": 6,
   "metadata": {},
   "outputs": [
    {
     "data": {
      "text/plain": [
       "'/Users/angela/Library/CloudStorage/OneDrive-Personal/ANLT272_Healthcare_CaseStudies'"
      ]
     },
     "execution_count": 6,
     "metadata": {},
     "output_type": "execute_result"
    }
   ],
   "source": [
    "os.getcwd()"
   ]
  },
  {
   "cell_type": "code",
   "execution_count": 8,
   "metadata": {},
   "outputs": [],
   "source": [
    "claims = pd.read_csv('./uopjan16_claims_in.csv', low_memory = False)"
   ]
  },
  {
   "cell_type": "code",
   "execution_count": 9,
   "metadata": {},
   "outputs": [
    {
     "data": {
      "text/plain": [
       "(1788544, 22)"
      ]
     },
     "execution_count": 9,
     "metadata": {},
     "output_type": "execute_result"
    }
   ],
   "source": [
    "claims.shape"
   ]
  },
  {
   "cell_type": "code",
   "execution_count": 10,
   "metadata": {},
   "outputs": [],
   "source": [
    "eligibility = pd.read_csv('./uopjan16_enroll_in.csv')"
   ]
  },
  {
   "cell_type": "code",
   "execution_count": 11,
   "metadata": {},
   "outputs": [],
   "source": [
    "NPDLookup = pd.read_csv('./uopjanref_rx_lookup.csv')"
   ]
  },
  {
   "cell_type": "code",
   "execution_count": 12,
   "metadata": {},
   "outputs": [],
   "source": [
    "NPDLookup = NPDLookup.rename(columns = {'National Drug Code': 'NDC'})"
   ]
  },
  {
   "cell_type": "code",
   "execution_count": 13,
   "metadata": {},
   "outputs": [],
   "source": [
    "# generate AC_AD NDC list\n",
    "AC_AD = NPDLookup.loc[(NPDLookup['rx_group'] == 'ANTIDIABETICS')| (NPDLookup['rx_group'] =='ANTICOAGULANTS'), 'NDC'].drop_duplicates()"
   ]
  },
  {
   "cell_type": "code",
   "execution_count": 14,
   "metadata": {},
   "outputs": [],
   "source": [
    "pharma_data = claims[(claims['rectype'] == 'P') & (claims['ndc'].notnull())]"
   ]
  },
  {
   "cell_type": "code",
   "execution_count": 15,
   "metadata": {},
   "outputs": [
    {
     "name": "stderr",
     "output_type": "stream",
     "text": [
      "/Users/angela/anaconda3/lib/python3.6/site-packages/pandas/core/indexing.py:543: SettingWithCopyWarning: \n",
      "A value is trying to be set on a copy of a slice from a DataFrame.\n",
      "Try using .loc[row_indexer,col_indexer] = value instead\n",
      "\n",
      "See the caveats in the documentation: http://pandas.pydata.org/pandas-docs/stable/indexing.html#indexing-view-versus-copy\n",
      "  self.obj[item] = s\n"
     ]
    }
   ],
   "source": [
    "pharma_data.loc[:, 'ndc'] = pharma_data['ndc'].str.lstrip('0')"
   ]
  },
  {
   "cell_type": "code",
   "execution_count": 16,
   "metadata": {},
   "outputs": [],
   "source": [
    "Anticoagulant = NPDLookup.loc[(NPDLookup['rx_group'] == 'ANTICOAGULANTS')].NDC.drop_duplicates()\n",
    "Antidiabetics = NPDLookup.loc[(NPDLookup['rx_group'] == 'ANTIDIABETICS')].NDC.drop_duplicates()                           "
   ]
  },
  {
   "cell_type": "code",
   "execution_count": 17,
   "metadata": {},
   "outputs": [],
   "source": [
    "Anticoagulant = Anticoagulant.astype(str)\n",
    "Antidiabetics = Antidiabetics.astype(str)\n",
    "AC_AD = AC_AD.astype(str)"
   ]
  },
  {
   "cell_type": "code",
   "execution_count": 18,
   "metadata": {},
   "outputs": [],
   "source": [
    "column_name = 'ndc'\n",
    "AC_df = pd.DataFrame({column_name: Anticoagulant})\n",
    "AD_df = pd.DataFrame({column_name: Antidiabetics})"
   ]
  },
  {
   "cell_type": "code",
   "execution_count": 19,
   "metadata": {},
   "outputs": [],
   "source": [
    "AC_df['rx_group'] = 'Anticoagulants'\n",
    "AD_df['rx_group'] = 'Antidiabetics'"
   ]
  },
  {
   "cell_type": "code",
   "execution_count": 20,
   "metadata": {},
   "outputs": [],
   "source": [
    "mergedADAC_df = pd.concat([AC_df, AD_df], axis=0, ignore_index=True)"
   ]
  },
  {
   "cell_type": "code",
   "execution_count": 21,
   "metadata": {},
   "outputs": [
    {
     "data": {
      "text/html": [
       "<div>\n",
       "<style scoped>\n",
       "    .dataframe tbody tr th:only-of-type {\n",
       "        vertical-align: middle;\n",
       "    }\n",
       "\n",
       "    .dataframe tbody tr th {\n",
       "        vertical-align: top;\n",
       "    }\n",
       "\n",
       "    .dataframe thead th {\n",
       "        text-align: right;\n",
       "    }\n",
       "</style>\n",
       "<table border=\"1\" class=\"dataframe\">\n",
       "  <thead>\n",
       "    <tr style=\"text-align: right;\">\n",
       "      <th></th>\n",
       "      <th>ndc</th>\n",
       "      <th>rx_group</th>\n",
       "    </tr>\n",
       "  </thead>\n",
       "  <tbody>\n",
       "    <tr>\n",
       "      <th>0</th>\n",
       "      <td>3089321</td>\n",
       "      <td>Anticoagulants</td>\n",
       "    </tr>\n",
       "    <tr>\n",
       "      <th>1</th>\n",
       "      <td>3089421</td>\n",
       "      <td>Anticoagulants</td>\n",
       "    </tr>\n",
       "    <tr>\n",
       "      <th>2</th>\n",
       "      <td>7323011</td>\n",
       "      <td>Anticoagulants</td>\n",
       "    </tr>\n",
       "    <tr>\n",
       "      <th>3</th>\n",
       "      <td>7323611</td>\n",
       "      <td>Anticoagulants</td>\n",
       "    </tr>\n",
       "    <tr>\n",
       "      <th>4</th>\n",
       "      <td>56016870</td>\n",
       "      <td>Anticoagulants</td>\n",
       "    </tr>\n",
       "  </tbody>\n",
       "</table>\n",
       "</div>"
      ],
      "text/plain": [
       "        ndc        rx_group\n",
       "0   3089321  Anticoagulants\n",
       "1   3089421  Anticoagulants\n",
       "2   7323011  Anticoagulants\n",
       "3   7323611  Anticoagulants\n",
       "4  56016870  Anticoagulants"
      ]
     },
     "execution_count": 21,
     "metadata": {},
     "output_type": "execute_result"
    }
   ],
   "source": [
    "mergedADAC_df.head()"
   ]
  },
  {
   "cell_type": "code",
   "execution_count": 22,
   "metadata": {},
   "outputs": [],
   "source": [
    "# merge anticoagulants dataframe and antidiabetics dataframe with pharma_data\n",
    "pharma_data = pd.merge(pharma_data, mergedADAC_df, on = 'ndc', how = 'left')"
   ]
  },
  {
   "cell_type": "code",
   "execution_count": 23,
   "metadata": {},
   "outputs": [
    {
     "data": {
      "text/plain": [
       "(716503, 23)"
      ]
     },
     "execution_count": 23,
     "metadata": {},
     "output_type": "execute_result"
    }
   ],
   "source": [
    "pharma_data.shape"
   ]
  },
  {
   "cell_type": "code",
   "execution_count": 24,
   "metadata": {},
   "outputs": [],
   "source": [
    "on_index_df = pharma_data[(pharma_data['from_dt'] >= '2013-01-01') & (pharma_data['from_dt'] <= '2013-03-31')]"
   ]
  },
  {
   "cell_type": "code",
   "execution_count": 25,
   "metadata": {},
   "outputs": [
    {
     "data": {
      "text/plain": [
       "(78132, 23)"
      ]
     },
     "execution_count": 25,
     "metadata": {},
     "output_type": "execute_result"
    }
   ],
   "source": [
    "on_index_df.shape"
   ]
  },
  {
   "cell_type": "code",
   "execution_count": 26,
   "metadata": {},
   "outputs": [
    {
     "data": {
      "text/plain": [
       "array(['65702049210', '69421030', '62037083001', ..., '99207052560',\n",
       "       '16729003101', '63739028431'], dtype=object)"
      ]
     },
     "execution_count": 26,
     "metadata": {},
     "output_type": "execute_result"
    }
   ],
   "source": [
    "on_index_df[on_index_df['rx_group'].isnull()].ndc.unique()"
   ]
  },
  {
   "cell_type": "code",
   "execution_count": 27,
   "metadata": {},
   "outputs": [],
   "source": [
    "# this is for all anticoagulants claims\n",
    "AC_claims = pharma_data[pharma_data['ndc'].isin(Anticoagulant)]"
   ]
  },
  {
   "cell_type": "code",
   "execution_count": 28,
   "metadata": {},
   "outputs": [],
   "source": [
    "neither_claims = pharma_data[~pharma_data['ndc'].isin(AC_AD)]"
   ]
  },
  {
   "cell_type": "code",
   "execution_count": 29,
   "metadata": {},
   "outputs": [],
   "source": [
    "# add age to the eligibility file\n",
    "eligibility['age'] = 2013 - eligibility['der_yob']"
   ]
  },
  {
   "cell_type": "code",
   "execution_count": 30,
   "metadata": {},
   "outputs": [],
   "source": [
    "# add age buckets\n",
    "bin_edges = [0, 18, 50, 65, 75, 130]\n",
    "eligibility['age_bucket'] = pd.cut(eligibility['age'], bins = bin_edges, labels=['0-18', '19-50', '51-65','66-75', '76+'])"
   ]
  },
  {
   "cell_type": "code",
   "execution_count": 31,
   "metadata": {},
   "outputs": [],
   "source": [
    "columns_to_select = ['pat_id', 'der_sex', 'age', 'pat_region', 'age_bucket']\n",
    "elig_subset = eligibility[columns_to_select]"
   ]
  },
  {
   "cell_type": "code",
   "execution_count": 32,
   "metadata": {},
   "outputs": [],
   "source": [
    "#merge on_index_data with eligibility subset dataframe\n",
    "on_index_df = on_index_df.merge(elig_subset, on = 'pat_id', how = 'left')"
   ]
  },
  {
   "cell_type": "code",
   "execution_count": 33,
   "metadata": {},
   "outputs": [
    {
     "data": {
      "text/plain": [
       "(78132, 27)"
      ]
     },
     "execution_count": 33,
     "metadata": {},
     "output_type": "execute_result"
    }
   ],
   "source": [
    "on_index_df.shape"
   ]
  },
  {
   "cell_type": "code",
   "execution_count": 34,
   "metadata": {},
   "outputs": [],
   "source": [
    "on_index_df['from_dt'] = pd.to_datetime(on_index_df['from_dt'], format = '%Y-%m-%d')"
   ]
  },
  {
   "cell_type": "code",
   "execution_count": 35,
   "metadata": {},
   "outputs": [],
   "source": [
    "first_occurances = on_index_df.groupby(['pat_id', 'rx_group'])['from_dt'].idxmin()"
   ]
  },
  {
   "cell_type": "code",
   "execution_count": 36,
   "metadata": {},
   "outputs": [],
   "source": [
    "first_occurances_df = on_index_df.loc[first_occurances]"
   ]
  },
  {
   "cell_type": "code",
   "execution_count": 37,
   "metadata": {},
   "outputs": [
    {
     "data": {
      "text/plain": [
       "5796"
      ]
     },
     "execution_count": 37,
     "metadata": {},
     "output_type": "execute_result"
    }
   ],
   "source": [
    "first_occurances_df.pat_id.nunique()"
   ]
  },
  {
   "cell_type": "code",
   "execution_count": 38,
   "metadata": {},
   "outputs": [
    {
     "data": {
      "text/html": [
       "<div>\n",
       "<style scoped>\n",
       "    .dataframe tbody tr th:only-of-type {\n",
       "        vertical-align: middle;\n",
       "    }\n",
       "\n",
       "    .dataframe tbody tr th {\n",
       "        vertical-align: top;\n",
       "    }\n",
       "\n",
       "    .dataframe thead th {\n",
       "        text-align: right;\n",
       "    }\n",
       "</style>\n",
       "<table border=\"1\" class=\"dataframe\">\n",
       "  <thead>\n",
       "    <tr style=\"text-align: right;\">\n",
       "      <th></th>\n",
       "      <th>pat_id</th>\n",
       "      <th>rec_spec</th>\n",
       "      <th>rectype</th>\n",
       "      <th>ALLOWED</th>\n",
       "      <th>DAYSSUP</th>\n",
       "      <th>QUAN</th>\n",
       "      <th>rec_ix</th>\n",
       "      <th>from_dt</th>\n",
       "      <th>to_dt</th>\n",
       "      <th>prov_id</th>\n",
       "      <th>...</th>\n",
       "      <th>diag4</th>\n",
       "      <th>ptypeflg</th>\n",
       "      <th>pos</th>\n",
       "      <th>cluspvid</th>\n",
       "      <th>conf_num</th>\n",
       "      <th>rx_group</th>\n",
       "      <th>der_sex</th>\n",
       "      <th>age</th>\n",
       "      <th>pat_region</th>\n",
       "      <th>age_bucket</th>\n",
       "    </tr>\n",
       "  </thead>\n",
       "  <tbody>\n",
       "    <tr>\n",
       "      <th>2708</th>\n",
       "      <td>0390AAAAAAVBDQXQ</td>\n",
       "      <td>NaN</td>\n",
       "      <td>P</td>\n",
       "      <td>17.12</td>\n",
       "      <td>10.0</td>\n",
       "      <td>20.0</td>\n",
       "      <td>353057225</td>\n",
       "      <td>2013-01-07</td>\n",
       "      <td>2013-01-07</td>\n",
       "      <td>0309AAAAAAAAAXHE</td>\n",
       "      <td>...</td>\n",
       "      <td>NaN</td>\n",
       "      <td>0</td>\n",
       "      <td>00</td>\n",
       "      <td>0323AAAAAAAACUQW</td>\n",
       "      <td>NaN</td>\n",
       "      <td>NaN</td>\n",
       "      <td>F</td>\n",
       "      <td>57.0</td>\n",
       "      <td>MW</td>\n",
       "      <td>51-65</td>\n",
       "    </tr>\n",
       "    <tr>\n",
       "      <th>2709</th>\n",
       "      <td>0390AAAAAAVBDQXQ</td>\n",
       "      <td>NaN</td>\n",
       "      <td>P</td>\n",
       "      <td>6.20</td>\n",
       "      <td>30.0</td>\n",
       "      <td>60.0</td>\n",
       "      <td>353057226</td>\n",
       "      <td>2013-01-09</td>\n",
       "      <td>2013-01-09</td>\n",
       "      <td>0309AAAAAAAAAXHE</td>\n",
       "      <td>...</td>\n",
       "      <td>NaN</td>\n",
       "      <td>0</td>\n",
       "      <td>00</td>\n",
       "      <td>NaN</td>\n",
       "      <td>NaN</td>\n",
       "      <td>Antidiabetics</td>\n",
       "      <td>F</td>\n",
       "      <td>57.0</td>\n",
       "      <td>MW</td>\n",
       "      <td>51-65</td>\n",
       "    </tr>\n",
       "    <tr>\n",
       "      <th>2710</th>\n",
       "      <td>0390AAAAAAVBDQXQ</td>\n",
       "      <td>NaN</td>\n",
       "      <td>P</td>\n",
       "      <td>2.66</td>\n",
       "      <td>30.0</td>\n",
       "      <td>45.0</td>\n",
       "      <td>353057227</td>\n",
       "      <td>2013-01-09</td>\n",
       "      <td>2013-01-09</td>\n",
       "      <td>0309AAAAAAAAAXHE</td>\n",
       "      <td>...</td>\n",
       "      <td>NaN</td>\n",
       "      <td>0</td>\n",
       "      <td>00</td>\n",
       "      <td>0358AAAAAAAADYKI</td>\n",
       "      <td>NaN</td>\n",
       "      <td>NaN</td>\n",
       "      <td>F</td>\n",
       "      <td>57.0</td>\n",
       "      <td>MW</td>\n",
       "      <td>51-65</td>\n",
       "    </tr>\n",
       "    <tr>\n",
       "      <th>2711</th>\n",
       "      <td>0390AAAAAAVBDQXQ</td>\n",
       "      <td>NaN</td>\n",
       "      <td>P</td>\n",
       "      <td>3.92</td>\n",
       "      <td>60.0</td>\n",
       "      <td>60.0</td>\n",
       "      <td>353057230</td>\n",
       "      <td>2013-01-17</td>\n",
       "      <td>2013-01-17</td>\n",
       "      <td>0309AAAAAAAAAXHE</td>\n",
       "      <td>...</td>\n",
       "      <td>NaN</td>\n",
       "      <td>0</td>\n",
       "      <td>00</td>\n",
       "      <td>NaN</td>\n",
       "      <td>NaN</td>\n",
       "      <td>NaN</td>\n",
       "      <td>F</td>\n",
       "      <td>57.0</td>\n",
       "      <td>MW</td>\n",
       "      <td>51-65</td>\n",
       "    </tr>\n",
       "    <tr>\n",
       "      <th>2712</th>\n",
       "      <td>0390AAAAAAVBDQXQ</td>\n",
       "      <td>NaN</td>\n",
       "      <td>P</td>\n",
       "      <td>6.33</td>\n",
       "      <td>30.0</td>\n",
       "      <td>60.0</td>\n",
       "      <td>353057231</td>\n",
       "      <td>2013-01-17</td>\n",
       "      <td>2013-01-17</td>\n",
       "      <td>0309AAAAAAAAAXHE</td>\n",
       "      <td>...</td>\n",
       "      <td>NaN</td>\n",
       "      <td>0</td>\n",
       "      <td>00</td>\n",
       "      <td>0358AAAAAAAADYKI</td>\n",
       "      <td>NaN</td>\n",
       "      <td>Anticoagulants</td>\n",
       "      <td>F</td>\n",
       "      <td>57.0</td>\n",
       "      <td>MW</td>\n",
       "      <td>51-65</td>\n",
       "    </tr>\n",
       "  </tbody>\n",
       "</table>\n",
       "<p>5 rows × 27 columns</p>\n",
       "</div>"
      ],
      "text/plain": [
       "                pat_id rec_spec rectype  ALLOWED  DAYSSUP  QUAN     rec_ix  \\\n",
       "2708  0390AAAAAAVBDQXQ      NaN       P    17.12     10.0  20.0  353057225   \n",
       "2709  0390AAAAAAVBDQXQ      NaN       P     6.20     30.0  60.0  353057226   \n",
       "2710  0390AAAAAAVBDQXQ      NaN       P     2.66     30.0  45.0  353057227   \n",
       "2711  0390AAAAAAVBDQXQ      NaN       P     3.92     60.0  60.0  353057230   \n",
       "2712  0390AAAAAAVBDQXQ      NaN       P     6.33     30.0  60.0  353057231   \n",
       "\n",
       "        from_dt       to_dt           prov_id    ...      diag4  ptypeflg pos  \\\n",
       "2708 2013-01-07  2013-01-07  0309AAAAAAAAAXHE    ...        NaN         0  00   \n",
       "2709 2013-01-09  2013-01-09  0309AAAAAAAAAXHE    ...        NaN         0  00   \n",
       "2710 2013-01-09  2013-01-09  0309AAAAAAAAAXHE    ...        NaN         0  00   \n",
       "2711 2013-01-17  2013-01-17  0309AAAAAAAAAXHE    ...        NaN         0  00   \n",
       "2712 2013-01-17  2013-01-17  0309AAAAAAAAAXHE    ...        NaN         0  00   \n",
       "\n",
       "              cluspvid conf_num        rx_group der_sex   age  pat_region  \\\n",
       "2708  0323AAAAAAAACUQW      NaN             NaN       F  57.0          MW   \n",
       "2709               NaN      NaN   Antidiabetics       F  57.0          MW   \n",
       "2710  0358AAAAAAAADYKI      NaN             NaN       F  57.0          MW   \n",
       "2711               NaN      NaN             NaN       F  57.0          MW   \n",
       "2712  0358AAAAAAAADYKI      NaN  Anticoagulants       F  57.0          MW   \n",
       "\n",
       "     age_bucket  \n",
       "2708      51-65  \n",
       "2709      51-65  \n",
       "2710      51-65  \n",
       "2711      51-65  \n",
       "2712      51-65  \n",
       "\n",
       "[5 rows x 27 columns]"
      ]
     },
     "execution_count": 38,
     "metadata": {},
     "output_type": "execute_result"
    }
   ],
   "source": [
    "on_index_df[on_index_df['pat_id'] == '0390AAAAAAVBDQXQ'].head()"
   ]
  },
  {
   "cell_type": "code",
   "execution_count": 39,
   "metadata": {},
   "outputs": [
    {
     "data": {
      "text/plain": [
       "rx_group        der_sex\n",
       "Anticoagulants  F           434\n",
       "                M           495\n",
       "Antidiabetics   F          2609\n",
       "                M          2465\n",
       "Name: pat_id, dtype: int64"
      ]
     },
     "execution_count": 39,
     "metadata": {},
     "output_type": "execute_result"
    }
   ],
   "source": [
    "# the sample size for patients who have either anticoagulants or antidiabetics claims\n",
    "first_occurances_df.groupby(['rx_group', 'der_sex']).pat_id.nunique()"
   ]
  },
  {
   "cell_type": "code",
   "execution_count": 40,
   "metadata": {},
   "outputs": [
    {
     "data": {
      "text/plain": [
       "rx_group        age_bucket\n",
       "Anticoagulants  0-18             5\n",
       "                19-50          142\n",
       "                51-65          367\n",
       "                66-75          171\n",
       "                76+            244\n",
       "Antidiabetics   0-18           136\n",
       "                19-50         1372\n",
       "                51-65         2471\n",
       "                66-75          709\n",
       "                76+            384\n",
       "Name: pat_id, dtype: int64"
      ]
     },
     "execution_count": 40,
     "metadata": {},
     "output_type": "execute_result"
    }
   ],
   "source": [
    "# the sample size for patients who have either anticoagulants or antidiabetics claims: group by age bucket\n",
    "first_occurances_df.groupby(['rx_group','age_bucket']).pat_id.nunique()"
   ]
  },
  {
   "cell_type": "code",
   "execution_count": 41,
   "metadata": {},
   "outputs": [],
   "source": [
    "pat_more_than_one = first_occurances_df['pat_id'].value_counts()\n",
    "pat_list = pat_more_than_one[pat_more_than_one > 1].index.tolist()"
   ]
  },
  {
   "cell_type": "code",
   "execution_count": 42,
   "metadata": {},
   "outputs": [],
   "source": [
    "pat_more_than_one_df = pd.DataFrame({'pat_id': pat_list})"
   ]
  },
  {
   "cell_type": "code",
   "execution_count": 43,
   "metadata": {},
   "outputs": [],
   "source": [
    "merged_age_df = pat_more_than_one_df.merge(eligibility, on = 'pat_id', how = 'left')"
   ]
  },
  {
   "cell_type": "code",
   "execution_count": 44,
   "metadata": {},
   "outputs": [
    {
     "data": {
      "text/plain": [
       "der_sex\n",
       "F     99\n",
       "M    108\n",
       "Name: pat_id, dtype: int64"
      ]
     },
     "execution_count": 44,
     "metadata": {},
     "output_type": "execute_result"
    }
   ],
   "source": [
    "# the sample size for patients who have both anticoagulants and antidiabetics claims\n",
    "merged_age_df.groupby(['der_sex']).pat_id.nunique()"
   ]
  },
  {
   "cell_type": "code",
   "execution_count": 45,
   "metadata": {},
   "outputs": [
    {
     "data": {
      "text/plain": [
       "age_bucket\n",
       "0-18      0\n",
       "19-50    25\n",
       "51-65    96\n",
       "66-75    44\n",
       "76+      42\n",
       "Name: pat_id, dtype: int64"
      ]
     },
     "execution_count": 45,
     "metadata": {},
     "output_type": "execute_result"
    }
   ],
   "source": [
    "# the sample size for patients who have both anticoagulants and antidiabetics claims: group by age bucket\n",
    "merged_age_df.groupby(['age_bucket']).pat_id.nunique()"
   ]
  },
  {
   "cell_type": "code",
   "execution_count": 46,
   "metadata": {},
   "outputs": [
    {
     "data": {
      "text/plain": [
       "0"
      ]
     },
     "execution_count": 46,
     "metadata": {},
     "output_type": "execute_result"
    }
   ],
   "source": [
    "# the sample size for patients who have neither anticoagulants or antidiabetics claims\n",
    "first_occurances_df[first_occurances_df['rx_group'].isnull()].pat_id.nunique()"
   ]
  },
  {
   "cell_type": "code",
   "execution_count": 47,
   "metadata": {},
   "outputs": [],
   "source": [
    "from datetime import datetime, timedelta\n",
    "claims['to_dt'] = pd.to_datetime(claims['to_dt'])\n",
    "to_date = pd.to_datetime('2013-01-01')\n",
    "oneEighty =  to_date - timedelta(days=180)"
   ]
  },
  {
   "cell_type": "code",
   "execution_count": 48,
   "metadata": {},
   "outputs": [],
   "source": [
    "# generate a pre-index claims: pre index is defined as 180 days prior to the first date of index(1-1-2013)\n",
    "pre_index_hos = claims[(claims['rectype'] == 'F') & (claims['to_dt'] <= to_date) & (claims['to_dt']>= oneEighty)]"
   ]
  },
  {
   "cell_type": "code",
   "execution_count": 49,
   "metadata": {},
   "outputs": [
    {
     "data": {
      "text/plain": [
       "(1321, 22)"
      ]
     },
     "execution_count": 49,
     "metadata": {},
     "output_type": "execute_result"
    }
   ],
   "source": [
    "pre_index_hos.shape"
   ]
  },
  {
   "cell_type": "code",
   "execution_count": 50,
   "metadata": {},
   "outputs": [],
   "source": [
    "pre_index_hos_AC_AD = first_occurances_df.merge(pre_index_hos, on = 'pat_id', how = 'inner')"
   ]
  },
  {
   "cell_type": "code",
   "execution_count": 51,
   "metadata": {},
   "outputs": [
    {
     "data": {
      "text/plain": [
       "(1414, 48)"
      ]
     },
     "execution_count": 51,
     "metadata": {},
     "output_type": "execute_result"
    }
   ],
   "source": [
    "pre_index_hos_AC_AD.shape"
   ]
  },
  {
   "cell_type": "code",
   "execution_count": 52,
   "metadata": {},
   "outputs": [
    {
     "data": {
      "text/plain": [
       "rx_group\n",
       "Anticoagulants    166\n",
       "Antidiabetics     350\n",
       "Name: pat_id, dtype: int64"
      ]
     },
     "execution_count": 52,
     "metadata": {},
     "output_type": "execute_result"
    }
   ],
   "source": [
    "#pre_index_hospitalized patients whose had antidiabetics or anticoagulants drugs \n",
    "pre_index_hos_AC_AD.groupby(['rx_group']).pat_id.nunique()"
   ]
  },
  {
   "cell_type": "code",
   "execution_count": 53,
   "metadata": {},
   "outputs": [],
   "source": [
    "pre_index_hos_more_than_one = pat_more_than_one_df.merge(pre_index_hos, on = 'pat_id', how = 'inner')"
   ]
  },
  {
   "cell_type": "code",
   "execution_count": 54,
   "metadata": {},
   "outputs": [
    {
     "data": {
      "text/plain": [
       "34"
      ]
     },
     "execution_count": 54,
     "metadata": {},
     "output_type": "execute_result"
    }
   ],
   "source": [
    "#pre_index_hospitalized patients whose had both antidiabetics and anticoagulants drugs \n",
    "pre_index_hos_more_than_one.pat_id.nunique()"
   ]
  },
  {
   "cell_type": "code",
   "execution_count": 55,
   "metadata": {},
   "outputs": [],
   "source": [
    "#generate congested heart failure list with ICD9\n",
    "claims_icd9 = ['428', '4280', '4281', '4282', '42820', '42821','42822','42823','42830','42831','42832','42833',\n",
    "               '42840','42841','42842','42843','4289']"
   ]
  },
  {
   "cell_type": "code",
   "execution_count": 56,
   "metadata": {},
   "outputs": [],
   "source": [
    "matching_diagnoses = claims[claims[['diag1', 'diag2', 'diag3', 'diag4']].apply(lambda x: x.isin(claims_icd9)).any(axis = 1)]"
   ]
  },
  {
   "cell_type": "code",
   "execution_count": 57,
   "metadata": {},
   "outputs": [
    {
     "name": "stderr",
     "output_type": "stream",
     "text": [
      "/Users/angela/anaconda3/lib/python3.6/site-packages/ipykernel_launcher.py:2: SettingWithCopyWarning: \n",
      "A value is trying to be set on a copy of a slice from a DataFrame.\n",
      "Try using .loc[row_indexer,col_indexer] = value instead\n",
      "\n",
      "See the caveats in the documentation: http://pandas.pydata.org/pandas-docs/stable/indexing.html#indexing-view-versus-copy\n",
      "  \n"
     ]
    }
   ],
   "source": [
    "#preprocessing date filters\n",
    "matching_diagnoses['to_dt'] = pd.to_datetime(matching_diagnoses['to_dt'])\n",
    "to_date = pd.to_datetime('2013-03-31')\n",
    "oneEighty =  to_date - timedelta(days=180)"
   ]
  },
  {
   "cell_type": "code",
   "execution_count": 58,
   "metadata": {},
   "outputs": [],
   "source": [
    "pre_CHF_raw = matching_diagnoses[(matching_diagnoses['to_dt'] <= to_date) & (matching_diagnoses['to_dt']>= oneEighty)]"
   ]
  },
  {
   "cell_type": "code",
   "execution_count": 59,
   "metadata": {},
   "outputs": [],
   "source": [
    "pre_CHF_df = first_occurances_df.merge(pre_CHF_raw, on = 'pat_id', how = 'inner')"
   ]
  },
  {
   "cell_type": "code",
   "execution_count": 60,
   "metadata": {},
   "outputs": [
    {
     "data": {
      "text/plain": [
       "(5057, 48)"
      ]
     },
     "execution_count": 60,
     "metadata": {},
     "output_type": "execute_result"
    }
   ],
   "source": [
    "pre_CHF_df.shape"
   ]
  },
  {
   "cell_type": "code",
   "execution_count": 61,
   "metadata": {},
   "outputs": [
    {
     "data": {
      "text/plain": [
       "rx_group\n",
       "Anticoagulants    125\n",
       "Antidiabetics     198\n",
       "Name: pat_id, dtype: int64"
      ]
     },
     "execution_count": 61,
     "metadata": {},
     "output_type": "execute_result"
    }
   ],
   "source": [
    "#pre_index patients with congested heart failures whose had either antidiabetics or anticoagulants drugs \n",
    "pre_CHF_df.groupby('rx_group').pat_id.nunique()"
   ]
  },
  {
   "cell_type": "code",
   "execution_count": 62,
   "metadata": {},
   "outputs": [],
   "source": [
    "pre_CHF_more_than_one = pat_more_than_one_df.merge(pre_CHF_df, on = 'pat_id', how = 'inner')"
   ]
  },
  {
   "cell_type": "code",
   "execution_count": 63,
   "metadata": {},
   "outputs": [
    {
     "data": {
      "text/plain": [
       "33"
      ]
     },
     "execution_count": 63,
     "metadata": {},
     "output_type": "execute_result"
    }
   ],
   "source": [
    "#pre_index patients with congested heart failures whose had both antidiabetics and anticoagulants drugs \n",
    "pre_CHF_more_than_one.pat_id.nunique()"
   ]
  },
  {
   "cell_type": "code",
   "execution_count": 65,
   "metadata": {},
   "outputs": [],
   "source": [
    "# generate bblocker list\n",
    "bblocker_raw = pd.read_csv('./bblocker.csv')"
   ]
  },
  {
   "cell_type": "code",
   "execution_count": 66,
   "metadata": {},
   "outputs": [],
   "source": [
    "matching_blocker = claims[(claims['rectype'] == 'P') & (claims['ndc'].notnull())] "
   ]
  },
  {
   "cell_type": "code",
   "execution_count": 67,
   "metadata": {},
   "outputs": [
    {
     "name": "stderr",
     "output_type": "stream",
     "text": [
      "/Users/angela/anaconda3/lib/python3.6/site-packages/ipykernel_launcher.py:1: SettingWithCopyWarning: \n",
      "A value is trying to be set on a copy of a slice from a DataFrame.\n",
      "Try using .loc[row_indexer,col_indexer] = value instead\n",
      "\n",
      "See the caveats in the documentation: http://pandas.pydata.org/pandas-docs/stable/indexing.html#indexing-view-versus-copy\n",
      "  \"\"\"Entry point for launching an IPython kernel.\n"
     ]
    }
   ],
   "source": [
    "matching_blocker['ndc'] = matching_blocker['ndc'].astype(str)\n",
    "bblocker_raw['NDC'] = bblocker_raw['NDC'].astype(str)"
   ]
  },
  {
   "cell_type": "code",
   "execution_count": 68,
   "metadata": {},
   "outputs": [],
   "source": [
    "matching_blocker = matching_blocker.merge(bblocker_raw, left_on = 'ndc', right_on = 'NDC', how = 'left')"
   ]
  },
  {
   "cell_type": "code",
   "execution_count": 69,
   "metadata": {},
   "outputs": [],
   "source": [
    "#preprocessing date filters for from_date\n",
    "matching_blocker['from_dt'] = pd.to_datetime(matching_blocker['from_dt'])\n",
    "from_date = pd.to_datetime('2013-01-01')\n",
    "oneEighty =  from_date - timedelta(days=180)"
   ]
  },
  {
   "cell_type": "code",
   "execution_count": 70,
   "metadata": {},
   "outputs": [],
   "source": [
    "pre_bblocker_raw = matching_blocker[(matching_blocker['from_dt'] <= from_date) & (matching_blocker['from_dt']>= oneEighty)]"
   ]
  },
  {
   "cell_type": "code",
   "execution_count": 71,
   "metadata": {},
   "outputs": [],
   "source": [
    "pre_bblocker_df = first_occurances_df.merge(pre_bblocker_raw, on = 'pat_id', how = 'inner')"
   ]
  },
  {
   "cell_type": "code",
   "execution_count": 72,
   "metadata": {},
   "outputs": [
    {
     "data": {
      "text/plain": [
       "(139172, 49)"
      ]
     },
     "execution_count": 72,
     "metadata": {},
     "output_type": "execute_result"
    }
   ],
   "source": [
    "pre_bblocker_df.shape"
   ]
  },
  {
   "cell_type": "code",
   "execution_count": 73,
   "metadata": {},
   "outputs": [
    {
     "data": {
      "text/plain": [
       "rx_group\n",
       "Anticoagulants     862\n",
       "Antidiabetics     4686\n",
       "Name: pat_id, dtype: int64"
      ]
     },
     "execution_count": 73,
     "metadata": {},
     "output_type": "execute_result"
    }
   ],
   "source": [
    "#pre_index patients with bblocker whose had either antidiabetics or anticoagulants drugs \n",
    "pre_bblocker_df.groupby('rx_group').pat_id.nunique()"
   ]
  },
  {
   "cell_type": "code",
   "execution_count": 74,
   "metadata": {},
   "outputs": [],
   "source": [
    "pre_bblocker_more_than_one = pat_more_than_one_df.merge(pre_bblocker_df, on = 'pat_id', how = 'inner')"
   ]
  },
  {
   "cell_type": "code",
   "execution_count": 75,
   "metadata": {},
   "outputs": [
    {
     "data": {
      "text/plain": [
       "200"
      ]
     },
     "execution_count": 75,
     "metadata": {},
     "output_type": "execute_result"
    }
   ],
   "source": [
    "#pre_index patients with bblocker whose had both antidiabetics and anticoagulants drugs \n",
    "pre_bblocker_more_than_one.pat_id.nunique()"
   ]
  },
  {
   "cell_type": "code",
   "execution_count": 76,
   "metadata": {},
   "outputs": [],
   "source": [
    "# number of post index prescriptions for the index drug. post index = from_dt + to_dt += 180 days\n",
    "pharma_data['from_dt'] = pd.to_datetime(pharma_data['from_dt'])\n",
    "to_date = pd.to_datetime('2013-03-31')\n",
    "oneEighty =  to_date + timedelta(days=180)"
   ]
  },
  {
   "cell_type": "code",
   "execution_count": 77,
   "metadata": {},
   "outputs": [],
   "source": [
    "post_index_df = pharma_data[(pharma_data['from_dt'] >= '2013-01-01') & (pharma_data['from_dt'] <= oneEighty)]"
   ]
  },
  {
   "cell_type": "code",
   "execution_count": 78,
   "metadata": {},
   "outputs": [],
   "source": [
    "# total post index rx for anticoagulants \n",
    "rx_counts_AC = post_index_df[(post_index_df['ndc'].notnull()) & (post_index_df['rx_group'] == 'Anticoagulants')].groupby('pat_id').size().reset_index(name='prescription_count')"
   ]
  },
  {
   "cell_type": "code",
   "execution_count": 79,
   "metadata": {},
   "outputs": [],
   "source": [
    "# total post index rx for antidiabetics\n",
    "rx_counts_AD = post_index_df[(post_index_df['ndc'].notnull()) & (post_index_df['rx_group'] == 'Antidiabetics')].groupby('pat_id').size().reset_index(name='prescription_count')"
   ]
  },
  {
   "cell_type": "code",
   "execution_count": 80,
   "metadata": {},
   "outputs": [
    {
     "data": {
      "text/html": [
       "<div>\n",
       "<style scoped>\n",
       "    .dataframe tbody tr th:only-of-type {\n",
       "        vertical-align: middle;\n",
       "    }\n",
       "\n",
       "    .dataframe tbody tr th {\n",
       "        vertical-align: top;\n",
       "    }\n",
       "\n",
       "    .dataframe thead th {\n",
       "        text-align: right;\n",
       "    }\n",
       "</style>\n",
       "<table border=\"1\" class=\"dataframe\">\n",
       "  <thead>\n",
       "    <tr style=\"text-align: right;\">\n",
       "      <th></th>\n",
       "      <th>prescription_count</th>\n",
       "    </tr>\n",
       "  </thead>\n",
       "  <tbody>\n",
       "    <tr>\n",
       "      <th>count</th>\n",
       "      <td>970.000000</td>\n",
       "    </tr>\n",
       "    <tr>\n",
       "      <th>mean</th>\n",
       "      <td>5.409278</td>\n",
       "    </tr>\n",
       "    <tr>\n",
       "      <th>std</th>\n",
       "      <td>4.277345</td>\n",
       "    </tr>\n",
       "    <tr>\n",
       "      <th>min</th>\n",
       "      <td>1.000000</td>\n",
       "    </tr>\n",
       "    <tr>\n",
       "      <th>25%</th>\n",
       "      <td>3.000000</td>\n",
       "    </tr>\n",
       "    <tr>\n",
       "      <th>50%</th>\n",
       "      <td>4.000000</td>\n",
       "    </tr>\n",
       "    <tr>\n",
       "      <th>75%</th>\n",
       "      <td>8.000000</td>\n",
       "    </tr>\n",
       "    <tr>\n",
       "      <th>max</th>\n",
       "      <td>54.000000</td>\n",
       "    </tr>\n",
       "  </tbody>\n",
       "</table>\n",
       "</div>"
      ],
      "text/plain": [
       "       prescription_count\n",
       "count          970.000000\n",
       "mean             5.409278\n",
       "std              4.277345\n",
       "min              1.000000\n",
       "25%              3.000000\n",
       "50%              4.000000\n",
       "75%              8.000000\n",
       "max             54.000000"
      ]
     },
     "execution_count": 80,
     "metadata": {},
     "output_type": "execute_result"
    }
   ],
   "source": [
    "# total post index rx for anticoagulants\n",
    "rx_counts_AC.describe()"
   ]
  },
  {
   "cell_type": "code",
   "execution_count": 81,
   "metadata": {},
   "outputs": [
    {
     "data": {
      "text/html": [
       "<div>\n",
       "<style scoped>\n",
       "    .dataframe tbody tr th:only-of-type {\n",
       "        vertical-align: middle;\n",
       "    }\n",
       "\n",
       "    .dataframe tbody tr th {\n",
       "        vertical-align: top;\n",
       "    }\n",
       "\n",
       "    .dataframe thead th {\n",
       "        text-align: right;\n",
       "    }\n",
       "</style>\n",
       "<table border=\"1\" class=\"dataframe\">\n",
       "  <thead>\n",
       "    <tr style=\"text-align: right;\">\n",
       "      <th></th>\n",
       "      <th>prescription_count</th>\n",
       "    </tr>\n",
       "  </thead>\n",
       "  <tbody>\n",
       "    <tr>\n",
       "      <th>count</th>\n",
       "      <td>5089.000000</td>\n",
       "    </tr>\n",
       "    <tr>\n",
       "      <th>mean</th>\n",
       "      <td>7.635095</td>\n",
       "    </tr>\n",
       "    <tr>\n",
       "      <th>std</th>\n",
       "      <td>6.059930</td>\n",
       "    </tr>\n",
       "    <tr>\n",
       "      <th>min</th>\n",
       "      <td>1.000000</td>\n",
       "    </tr>\n",
       "    <tr>\n",
       "      <th>25%</th>\n",
       "      <td>3.000000</td>\n",
       "    </tr>\n",
       "    <tr>\n",
       "      <th>50%</th>\n",
       "      <td>6.000000</td>\n",
       "    </tr>\n",
       "    <tr>\n",
       "      <th>75%</th>\n",
       "      <td>10.000000</td>\n",
       "    </tr>\n",
       "    <tr>\n",
       "      <th>max</th>\n",
       "      <td>50.000000</td>\n",
       "    </tr>\n",
       "  </tbody>\n",
       "</table>\n",
       "</div>"
      ],
      "text/plain": [
       "       prescription_count\n",
       "count         5089.000000\n",
       "mean             7.635095\n",
       "std              6.059930\n",
       "min              1.000000\n",
       "25%              3.000000\n",
       "50%              6.000000\n",
       "75%             10.000000\n",
       "max             50.000000"
      ]
     },
     "execution_count": 81,
     "metadata": {},
     "output_type": "execute_result"
    }
   ],
   "source": [
    "# total post index rx for antidiabetics\n",
    "rx_counts_AD.describe()"
   ]
  },
  {
   "cell_type": "code",
   "execution_count": 82,
   "metadata": {},
   "outputs": [],
   "source": [
    "rx_counts_both = post_index_df[(post_index_df['ndc'].notnull()) &  (post_index_df['rx_group'].notnull())].groupby('pat_id').size().reset_index(name='prescription_count')"
   ]
  },
  {
   "cell_type": "code",
   "execution_count": 83,
   "metadata": {},
   "outputs": [
    {
     "data": {
      "text/html": [
       "<div>\n",
       "<style scoped>\n",
       "    .dataframe tbody tr th:only-of-type {\n",
       "        vertical-align: middle;\n",
       "    }\n",
       "\n",
       "    .dataframe tbody tr th {\n",
       "        vertical-align: top;\n",
       "    }\n",
       "\n",
       "    .dataframe thead th {\n",
       "        text-align: right;\n",
       "    }\n",
       "</style>\n",
       "<table border=\"1\" class=\"dataframe\">\n",
       "  <thead>\n",
       "    <tr style=\"text-align: right;\">\n",
       "      <th></th>\n",
       "      <th>prescription_count</th>\n",
       "    </tr>\n",
       "  </thead>\n",
       "  <tbody>\n",
       "    <tr>\n",
       "      <th>count</th>\n",
       "      <td>5796.000000</td>\n",
       "    </tr>\n",
       "    <tr>\n",
       "      <th>mean</th>\n",
       "      <td>7.609041</td>\n",
       "    </tr>\n",
       "    <tr>\n",
       "      <th>std</th>\n",
       "      <td>6.079628</td>\n",
       "    </tr>\n",
       "    <tr>\n",
       "      <th>min</th>\n",
       "      <td>1.000000</td>\n",
       "    </tr>\n",
       "    <tr>\n",
       "      <th>25%</th>\n",
       "      <td>3.000000</td>\n",
       "    </tr>\n",
       "    <tr>\n",
       "      <th>50%</th>\n",
       "      <td>6.000000</td>\n",
       "    </tr>\n",
       "    <tr>\n",
       "      <th>75%</th>\n",
       "      <td>10.000000</td>\n",
       "    </tr>\n",
       "    <tr>\n",
       "      <th>max</th>\n",
       "      <td>54.000000</td>\n",
       "    </tr>\n",
       "  </tbody>\n",
       "</table>\n",
       "</div>"
      ],
      "text/plain": [
       "       prescription_count\n",
       "count         5796.000000\n",
       "mean             7.609041\n",
       "std              6.079628\n",
       "min              1.000000\n",
       "25%              3.000000\n",
       "50%              6.000000\n",
       "75%             10.000000\n",
       "max             54.000000"
      ]
     },
     "execution_count": 83,
     "metadata": {},
     "output_type": "execute_result"
    }
   ],
   "source": [
    "# total post index rx for both anticoagulants and antidiabetics\n",
    "rx_counts_both.describe()"
   ]
  },
  {
   "cell_type": "code",
   "execution_count": 84,
   "metadata": {},
   "outputs": [],
   "source": [
    "filtered_df = post_index_df[(post_index_df['rx_group'] == 'Antidiabetics') | (post_index_df['rx_group'] == 'Anticoagulants')]"
   ]
  },
  {
   "cell_type": "code",
   "execution_count": 85,
   "metadata": {},
   "outputs": [],
   "source": [
    "patient_counts = filtered_df.groupby('pat_id')['rx_group'].nunique()"
   ]
  },
  {
   "cell_type": "code",
   "execution_count": 86,
   "metadata": {},
   "outputs": [],
   "source": [
    "patients_with_both = patient_counts[patient_counts == 2].index.tolist() "
   ]
  },
  {
   "cell_type": "code",
   "execution_count": 87,
   "metadata": {},
   "outputs": [],
   "source": [
    "patients_with_both = pd.DataFrame({'pat_id': patients_with_both})"
   ]
  },
  {
   "cell_type": "code",
   "execution_count": 88,
   "metadata": {},
   "outputs": [
    {
     "name": "stderr",
     "output_type": "stream",
     "text": [
      "/Users/angela/anaconda3/lib/python3.6/site-packages/ipykernel_launcher.py:2: SettingWithCopyWarning: \n",
      "A value is trying to be set on a copy of a slice from a DataFrame.\n",
      "Try using .loc[row_indexer,col_indexer] = value instead\n",
      "\n",
      "See the caveats in the documentation: http://pandas.pydata.org/pandas-docs/stable/indexing.html#indexing-view-versus-copy\n",
      "  \n"
     ]
    }
   ],
   "source": [
    "patients_with_both['pat_id'] = patients_with_both['pat_id'].astype(str)\n",
    "filtered_df['pat_id'] = filtered_df['pat_id'].astype(str)"
   ]
  },
  {
   "cell_type": "code",
   "execution_count": 89,
   "metadata": {},
   "outputs": [],
   "source": [
    "post_idx_DS_both = filtered_df.merge(patients_with_both, on='pat_id', how = 'inner')"
   ]
  },
  {
   "cell_type": "code",
   "execution_count": 90,
   "metadata": {},
   "outputs": [],
   "source": [
    "post_idx_DS_both_df = post_idx_DS_both.groupby('pat_id')['DAYSSUP'].sum().reset_index()"
   ]
  },
  {
   "cell_type": "code",
   "execution_count": 91,
   "metadata": {},
   "outputs": [
    {
     "data": {
      "text/plain": [
       "count     263.000000\n",
       "mean      507.486692\n",
       "std       275.448224\n",
       "min        36.000000\n",
       "25%       300.000000\n",
       "50%       480.000000\n",
       "75%       660.000000\n",
       "max      1710.000000\n",
       "Name: DAYSSUP, dtype: float64"
      ]
     },
     "execution_count": 91,
     "metadata": {},
     "output_type": "execute_result"
    }
   ],
   "source": [
    "# calculate post index rx day supply for both anticoagulants and antidiabetics\n",
    "post_idx_DS_both_df['DAYSSUP'].describe()"
   ]
  },
  {
   "cell_type": "code",
   "execution_count": 92,
   "metadata": {},
   "outputs": [],
   "source": [
    "post_idx_DS_AC = filtered_df[filtered_df['rx_group'] == 'Anticoagulants'].groupby('pat_id')['DAYSSUP'].sum().reset_index()"
   ]
  },
  {
   "cell_type": "code",
   "execution_count": 93,
   "metadata": {},
   "outputs": [
    {
     "data": {
      "text/plain": [
       "count     970.000000\n",
       "mean      214.051546\n",
       "std       130.649799\n",
       "min         3.000000\n",
       "25%       120.000000\n",
       "50%       210.000000\n",
       "75%       270.000000\n",
       "max      1048.000000\n",
       "Name: DAYSSUP, dtype: float64"
      ]
     },
     "execution_count": 93,
     "metadata": {},
     "output_type": "execute_result"
    }
   ],
   "source": [
    "post_idx_DS_AC['DAYSSUP'].describe()"
   ]
  },
  {
   "cell_type": "code",
   "execution_count": 94,
   "metadata": {},
   "outputs": [],
   "source": [
    "post_idx_DS_AD = filtered_df[filtered_df['rx_group'] == 'Antidiabetics'].groupby('pat_id')['DAYSSUP'].sum().reset_index()"
   ]
  },
  {
   "cell_type": "code",
   "execution_count": 95,
   "metadata": {},
   "outputs": [
    {
     "data": {
      "text/plain": [
       "count    5089.000000\n",
       "mean      320.083513\n",
       "std       223.743902\n",
       "min         0.000000\n",
       "25%       180.000000\n",
       "50%       270.000000\n",
       "75%       450.000000\n",
       "max      1800.000000\n",
       "Name: DAYSSUP, dtype: float64"
      ]
     },
     "execution_count": 95,
     "metadata": {},
     "output_type": "execute_result"
    }
   ],
   "source": [
    "post_idx_DS_AD['DAYSSUP'].describe()"
   ]
  },
  {
   "cell_type": "code",
   "execution_count": 96,
   "metadata": {},
   "outputs": [
    {
     "name": "stdout",
     "output_type": "stream",
     "text": [
      "IDX_Group   Variable  Anti-Diabetic_n Anti-Diabetic_%  Anticoagulant_n  \\\n",
      "0                  N             5074          40.23%              929   \n",
      "1               Male             2465          19.55%              495   \n",
      "2           Age 0-18              136           1.08%                5   \n",
      "3          Age 19-50             1372          10.88%              142   \n",
      "4          Age 51-65             2471          19.59%              367   \n",
      "5          Age 66-75              709           5.62%              171   \n",
      "6            Age 76+              384           3.04%              244   \n",
      "\n",
      "IDX_Group Anticoagulant_%  Both_n  Both_%  Neither_n Neither_%  \n",
      "0                  39.48%     207  39.66%          0      nan%  \n",
      "1                  21.04%     108  20.69%          0      nan%  \n",
      "2                   0.21%       0    0.0%          0      nan%  \n",
      "3                   6.03%      25   4.79%          0      nan%  \n",
      "4                   15.6%      96  18.39%          0      nan%  \n",
      "5                   7.27%      44   8.43%          0      nan%  \n",
      "6                  10.37%      42   8.05%          0      nan%  \n"
     ]
    }
   ],
   "source": [
    "import pandas as pd\n",
    "\n",
    "# Create separate DataFrames for each section\n",
    "at_index_data = {\n",
    "    'Variable': ['N', 'Male', 'Age 0-18', 'Age 19-50', 'Age 51-65', 'Age 66-75', 'Age 76+'],\n",
    "    'Anti-Diabetic_n': [5074, 2465, 136, 1372, 2471, 709, 384],\n",
    "    'Anticoagulant_n': [929, 495, 5, 142, 367, 171, 244],\n",
    "    'Both_n': [207, 108, 0, 25, 96, 44, 42],\n",
    "    'Neither_n': [0, 0, 0, 0, 0, 0, 0]\n",
    "}\n",
    "\n",
    "\n",
    "\n",
    "# Create DataFrames\n",
    "at_index_df = pd.DataFrame(at_index_data)\n",
    "\n",
    "\n",
    "# Calculate percentages\n",
    "at_index_df['Anti-Diabetic_%'] = (at_index_df['Anti-Diabetic_n'] / at_index_df['Anti-Diabetic_n'].sum() * 100).round(2).astype(str) + '%'\n",
    "at_index_df['Anticoagulant_%'] = (at_index_df['Anticoagulant_n'] / at_index_df['Anticoagulant_n'].sum() * 100).round(2).astype(str) + '%'\n",
    "at_index_df['Both_%'] = (at_index_df['Both_n'] / at_index_df['Both_n'].sum() * 100).round(2).astype(str) + '%'\n",
    "at_index_df['Neither_%'] = (at_index_df['Neither_n'] / at_index_df['Neither_n'].sum() * 100).round(2).astype(str) + '%'\n",
    "\n",
    "\n",
    "# Combine DataFrames\n",
    "result_df = pd.concat([at_index_df], keys=['At Index'])\n",
    "\n",
    "# Reset the index and set column names\n",
    "result_df.reset_index(level=0, inplace=True)\n",
    "result_df.columns.name = 'IDX_Group'\n",
    "\n",
    "# Reorder columns\n",
    "result_df = result_df[['Variable', 'Anti-Diabetic_n', 'Anti-Diabetic_%', 'Anticoagulant_n', 'Anticoagulant_%', 'Both_n', 'Both_%', 'Neither_n', 'Neither_%']]\n",
    "\n",
    "# Fill NaN values with empty strings\n",
    "result_df = result_df.fillna('')\n",
    "\n",
    "# Display the result DataFrame\n",
    "print(result_df)\n",
    "\n"
   ]
  },
  {
   "cell_type": "code",
   "execution_count": 97,
   "metadata": {},
   "outputs": [
    {
     "data": {
      "image/png": "[encoded data removed]",
      "text/plain": [
       "<Figure size 720x432 with 1 Axes>"
      ]
     },
     "metadata": {},
     "output_type": "display_data"
    }
   ],
   "source": [
    "plt.figure(figsize = (10,6))\n",
    "sns.countplot(data = first_occurances_df, x = \"rx_group\", hue = \"der_sex\", palette=\"Set2\")\n",
    "plt.xlabel(\"rx_group\")\n",
    "plt.ylabel(\"count\")\n",
    "plt.legend(\"gender\")\n",
    "plt.title(\"RX Patient Distribution by Gender - First Claim on Index\")\n",
    "plt.show()"
   ]
  },
  {
   "cell_type": "code",
   "execution_count": null,
   "metadata": {},
   "outputs": [],
   "source": []
  }
 ],
 "metadata": {
  "kernelspec": {
   "display_name": "Python 3",
   "language": "python",
   "name": "python3"
  },
  "language_info": {
   "codemirror_mode": {
    "name": "ipython",
    "version": 3
   },
   "file_extension": ".py",
   "mimetype": "text/x-python",
   "name": "python",
   "nbconvert_exporter": "python",
   "pygments_lexer": "ipython3",
   "version": "3.6.5"
  }
 },
 "nbformat": 4,
 "nbformat_minor": 2
}
