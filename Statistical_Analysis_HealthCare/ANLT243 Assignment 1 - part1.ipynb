{
 "cells": [
  {
   "cell_type": "code",
   "execution_count": 3,
   "metadata": {
    "collapsed": true
   },
   "outputs": [],
   "source": [
    "import csv\n",
    "import json\n",
    "import pandas as pd\n",
    "\n",
    "#import os\n",
    "#cwd = os.getcwd()\n"
   ]
  },
  {
   "cell_type": "code",
   "execution_count": 10,
   "metadata": {},
   "outputs": [],
   "source": [
    "df = pd.read_csv('/Users/angela/Desktop/so-emissions.csv')\n",
    "mydict = df.T.to_dict()\n",
    "#print(mydict)"
   ]
  },
  {
   "cell_type": "code",
   "execution_count": 11,
   "metadata": {
    "collapsed": true
   },
   "outputs": [],
   "source": [
    "from redis import Redis\n",
    "from datetime import datetime\n",
    "port = '11211'\n",
    "host =  'localhost'\n",
    "#memcached_port =  '9150'\n",
    "redis_port =  '9250'\n",
    "password =  ''\n",
    "hostname =  'ec2-54-193-75-213.us-west-1.compute.amazonaws.com'"
   ]
  },
  {
   "cell_type": "code",
   "execution_count": 15,
   "metadata": {
    "collapsed": true
   },
   "outputs": [],
   "source": [
    "mc = redis.StrictRedis(host=hostname, port=redis_port, password=password)"
   ]
  },
  {
   "cell_type": "code",
   "execution_count": 22,
   "metadata": {},
   "outputs": [
    {
     "data": {
      "text/plain": [
       "dict"
      ]
     },
     "execution_count": 22,
     "metadata": {},
     "output_type": "execute_result"
    }
   ],
   "source": [
    "type(unpacked_dict)"
   ]
  },
  {
   "cell_type": "code",
   "execution_count": 26,
   "metadata": {},
   "outputs": [],
   "source": [
    "import pickle\n",
    "import redis\n",
    "import pandas as pd\n",
    "\n",
    "p_mydict = pickle.dumps(mydict)\n",
    "mc.set('mydict',p_mydict)\n",
    "\n",
    "read_dict = mc.get('mydict')\n",
    "unpacked_dict = pickle.loads(read_dict)\n",
    "\n",
    "(pd.DataFrame.from_dict(data=unpacked_dict, orient='index').\n",
    "to_csv('new_dict_file.csv', header=False))"
   ]
  },
  {
   "cell_type": "code",
   "execution_count": null,
   "metadata": {
    "collapsed": true
   },
   "outputs": [],
   "source": []
  }
 ],
 "metadata": {
  "kernelspec": {
   "display_name": "Python 3",
   "language": "python",
   "name": "python3"
  },
  "language_info": {
   "codemirror_mode": {
    "name": "ipython",
    "version": 3
   },
   "file_extension": ".py",
   "mimetype": "text/x-python",
   "name": "python",
   "nbconvert_exporter": "python",
   "pygments_lexer": "ipython3",
   "version": "3.6.2rc1"
  }
 },
 "nbformat": 4,
 "nbformat_minor": 2
}
