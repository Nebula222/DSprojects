{
 "cells": [
  {
   "cell_type": "code",
   "execution_count": 3,
   "metadata": {
    "colab": {},
    "colab_type": "code",
    "id": "r6AwvW6rOJgS"
   },
   "outputs": [],
   "source": [
    "#!pip install bioinfokit\n",
    "#!pip install kmodes\n",
    "#!pip install dython\n",
    "#!pip install plotly==4.10.0"
   ]
  },
  {
   "cell_type": "code",
   "execution_count": 4,
   "metadata": {
    "colab": {
     "base_uri": "https://localhost:8080/",
     "height": 71
    },
    "colab_type": "code",
    "id": "VYK1fL5hqEye",
    "outputId": "c3f48258-3d60-403f-f136-681d0c5aa4fd"
   },
   "outputs": [
    {
     "name": "stderr",
     "output_type": "stream",
     "text": [
      "/usr/local/lib/python3.6/dist-packages/statsmodels/tools/_testing.py:19: FutureWarning: pandas.util.testing is deprecated. Use the functions in the public API at pandas.testing instead.\n",
      "  import pandas.util.testing as tm\n"
     ]
    }
   ],
   "source": [
    "import numpy as np\n",
    "import pandas as pd\n",
    "from pathlib import Path\n",
    "from scipy.stats import binom, pointbiserialr\n",
    "import matplotlib.pyplot as plt\n",
    "import seaborn as sns\n",
    "from sklearn.preprocessing import LabelEncoder\n",
    "import statsmodels.formula.api as smf\n",
    "import statsmodels.api as sm\n",
    "from bioinfokit.analys import stat, get_data\n",
    "from kmodes.kprototypes import KPrototypes"
   ]
  },
  {
   "cell_type": "code",
   "execution_count": 5,
   "metadata": {
    "colab": {
     "base_uri": "https://localhost:8080/",
     "height": 34
    },
    "colab_type": "code",
    "id": "Ma1zGHEJqWxi",
    "outputId": "58dc0161-ae5e-428d-96ff-045390df884d"
   },
   "outputs": [
    {
     "name": "stdout",
     "output_type": "stream",
     "text": [
      "Drive already mounted at /content/drive; to attempt to forcibly remount, call drive.mount(\"/content/drive\", force_remount=True).\n"
     ]
    }
   ],
   "source": [
    "from google.colab import drive\n",
    "drive.mount('/content/drive')"
   ]
  },
  {
   "cell_type": "code",
   "execution_count": 6,
   "metadata": {
    "colab": {},
    "colab_type": "code",
    "id": "GVptJ0caDVtX"
   },
   "outputs": [],
   "source": [
    "PATH = Path('/content/drive/My Drive')"
   ]
  },
  {
   "cell_type": "markdown",
   "metadata": {
    "colab_type": "text",
    "id": "UDsf3N76gJ6z"
   },
   "source": [
    "**Summary**\n",
    "\n",
    "\n",
    "1.   This is a dataset with 7273 records and 8 features. Four out of the eight features are categorical variables. It contains 6887 unique patient IDs (employee + dependent).\n",
    "3.   Clinic C has the highest number of unique patient IDs (37%), followed by clinic A (35%), and clinic B (28%). Both the employees and dependents have visited a clinic at least once.\n",
    "4.   By examining the distribution of ageNBR, it appears that the dataset contains patients with a fairly even distribution across different age groups.\n",
    "5.   The distributions for RiskNBR and VisitsCNT are right-skewed, with the majority of patients having a lower RiskNBR and an average value of 0.989636.\n",
    "6.   The chi-square test results for all categorical variables show that the p-value for clinicID and modalityDSC is 4.00595e-132, indicating a strong association (p-value < 0.05). Additionally, the point-biserial correlation test between categorical and continuous variables reveals that the p-value for Modality_class and VisitsCNT is statistically significant, indicating a correlation between these two variables.\n",
    "7. In conclusion, most clinics offer the same types of services that patients typically utilize, with only a few locations lacking certain services. The number of visits is influenced by the type of services patients seek. For example, chiropractic care, acupuncture, physical therapy, and mental health are the top four most popular services across all clinic locations. Massage therapy is the fifth most popular service, particularly at Clinic B.\"\n",
    "8. In this dataset, only 5% of the patient population (280 out of 6,088) who visited a clinic have utilized more than one service.\n"
   ]
  },
  {
   "cell_type": "markdown",
   "metadata": {
    "colab_type": "text",
    "id": "L0LLILqq0KgD"
   },
   "source": [
    "#Data Exploration"
   ]
  },
  {
   "cell_type": "code",
   "execution_count": 7,
   "metadata": {
    "colab": {},
    "colab_type": "code",
    "id": "UcT4ggv7qRG0"
   },
   "outputs": [],
   "source": [
    "raw_data = pd.read_csv(PATH/'XO_TakeHome_Data.csv')"
   ]
  },
  {
   "cell_type": "code",
   "execution_count": 8,
   "metadata": {
    "colab": {
     "base_uri": "https://localhost:8080/",
     "height": 34
    },
    "colab_type": "code",
    "id": "wjOGT3zpEl8L",
    "outputId": "a4fe5d0e-63ce-44ce-c8f9-7b89ff764740"
   },
   "outputs": [
    {
     "data": {
      "text/plain": [
       "(7273, 8)"
      ]
     },
     "execution_count": 8,
     "metadata": {
      "tags": []
     },
     "output_type": "execute_result"
    }
   ],
   "source": [
    "raw_data.shape"
   ]
  },
  {
   "cell_type": "code",
   "execution_count": 9,
   "metadata": {
    "colab": {
     "base_uri": "https://localhost:8080/",
     "height": 34
    },
    "colab_type": "code",
    "id": "pDw2DzkHNPri",
    "outputId": "e7181330-bedd-4bf0-fb74-6ed630a4112b"
   },
   "outputs": [
    {
     "data": {
      "text/plain": [
       "6887"
      ]
     },
     "execution_count": 9,
     "metadata": {
      "tags": []
     },
     "output_type": "execute_result"
    }
   ],
   "source": [
    "raw_data.PatientID.nunique()"
   ]
  },
  {
   "cell_type": "code",
   "execution_count": 10,
   "metadata": {
    "colab": {
     "base_uri": "https://localhost:8080/",
     "height": 170
    },
    "colab_type": "code",
    "id": "29XnmPnpuMyw",
    "outputId": "da07b6ab-b7d1-496f-9269-a981d5fc2d19"
   },
   "outputs": [
    {
     "data": {
      "text/plain": [
       "PatientID            int64\n",
       "AgeNBR               int64\n",
       "GenderCD            object\n",
       "RelationshipDSC     object\n",
       "ClinicID            object\n",
       "ModalityDSC         object\n",
       "VisitsCNT            int64\n",
       "RiskNBR            float64\n",
       "dtype: object"
      ]
     },
     "execution_count": 10,
     "metadata": {
      "tags": []
     },
     "output_type": "execute_result"
    }
   ],
   "source": [
    "raw_data.dtypes"
   ]
  },
  {
   "cell_type": "code",
   "execution_count": 11,
   "metadata": {
    "colab": {
     "base_uri": "https://localhost:8080/",
     "height": 297
    },
    "colab_type": "code",
    "id": "WW9hbQvgMrKd",
    "outputId": "191da346-f817-4e3b-a51d-0589a7e7ba37"
   },
   "outputs": [
    {
     "data": {
      "text/html": [
       "<div>\n",
       "<style scoped>\n",
       "    .dataframe tbody tr th:only-of-type {\n",
       "        vertical-align: middle;\n",
       "    }\n",
       "\n",
       "    .dataframe tbody tr th {\n",
       "        vertical-align: top;\n",
       "    }\n",
       "\n",
       "    .dataframe thead th {\n",
       "        text-align: right;\n",
       "    }\n",
       "</style>\n",
       "<table border=\"1\" class=\"dataframe\">\n",
       "  <thead>\n",
       "    <tr style=\"text-align: right;\">\n",
       "      <th></th>\n",
       "      <th>PatientID</th>\n",
       "      <th>AgeNBR</th>\n",
       "      <th>VisitsCNT</th>\n",
       "      <th>RiskNBR</th>\n",
       "    </tr>\n",
       "  </thead>\n",
       "  <tbody>\n",
       "    <tr>\n",
       "      <th>count</th>\n",
       "      <td>7273.000000</td>\n",
       "      <td>7273.000000</td>\n",
       "      <td>7273.000000</td>\n",
       "      <td>6937.000000</td>\n",
       "    </tr>\n",
       "    <tr>\n",
       "      <th>mean</th>\n",
       "      <td>102272.129520</td>\n",
       "      <td>58.753609</td>\n",
       "      <td>2.374123</td>\n",
       "      <td>0.989636</td>\n",
       "    </tr>\n",
       "    <tr>\n",
       "      <th>std</th>\n",
       "      <td>58336.218918</td>\n",
       "      <td>23.743300</td>\n",
       "      <td>3.599425</td>\n",
       "      <td>0.988562</td>\n",
       "    </tr>\n",
       "    <tr>\n",
       "      <th>min</th>\n",
       "      <td>85.000000</td>\n",
       "      <td>18.000000</td>\n",
       "      <td>1.000000</td>\n",
       "      <td>0.000072</td>\n",
       "    </tr>\n",
       "    <tr>\n",
       "      <th>25%</th>\n",
       "      <td>51925.000000</td>\n",
       "      <td>38.000000</td>\n",
       "      <td>1.000000</td>\n",
       "      <td>0.285526</td>\n",
       "    </tr>\n",
       "    <tr>\n",
       "      <th>50%</th>\n",
       "      <td>103086.000000</td>\n",
       "      <td>59.000000</td>\n",
       "      <td>1.000000</td>\n",
       "      <td>0.682753</td>\n",
       "    </tr>\n",
       "    <tr>\n",
       "      <th>75%</th>\n",
       "      <td>152914.000000</td>\n",
       "      <td>79.000000</td>\n",
       "      <td>2.000000</td>\n",
       "      <td>1.357584</td>\n",
       "    </tr>\n",
       "    <tr>\n",
       "      <th>max</th>\n",
       "      <td>202870.000000</td>\n",
       "      <td>99.000000</td>\n",
       "      <td>74.000000</td>\n",
       "      <td>9.312341</td>\n",
       "    </tr>\n",
       "  </tbody>\n",
       "</table>\n",
       "</div>"
      ],
      "text/plain": [
       "           PatientID       AgeNBR    VisitsCNT      RiskNBR\n",
       "count    7273.000000  7273.000000  7273.000000  6937.000000\n",
       "mean   102272.129520    58.753609     2.374123     0.989636\n",
       "std     58336.218918    23.743300     3.599425     0.988562\n",
       "min        85.000000    18.000000     1.000000     0.000072\n",
       "25%     51925.000000    38.000000     1.000000     0.285526\n",
       "50%    103086.000000    59.000000     1.000000     0.682753\n",
       "75%    152914.000000    79.000000     2.000000     1.357584\n",
       "max    202870.000000    99.000000    74.000000     9.312341"
      ]
     },
     "execution_count": 11,
     "metadata": {
      "tags": []
     },
     "output_type": "execute_result"
    }
   ],
   "source": [
    "raw_data.describe()"
   ]
  },
  {
   "cell_type": "code",
   "execution_count": 12,
   "metadata": {
    "colab": {
     "base_uri": "https://localhost:8080/",
     "height": 173
    },
    "colab_type": "code",
    "id": "lVtTZ31eEVJ0",
    "outputId": "b81aa8e6-b1a0-4e40-c36a-0dbbe93a06f7"
   },
   "outputs": [
    {
     "data": {
      "text/html": [
       "<div>\n",
       "<style scoped>\n",
       "    .dataframe tbody tr th:only-of-type {\n",
       "        vertical-align: middle;\n",
       "    }\n",
       "\n",
       "    .dataframe tbody tr th {\n",
       "        vertical-align: top;\n",
       "    }\n",
       "\n",
       "    .dataframe thead th {\n",
       "        text-align: right;\n",
       "    }\n",
       "</style>\n",
       "<table border=\"1\" class=\"dataframe\">\n",
       "  <thead>\n",
       "    <tr style=\"text-align: right;\">\n",
       "      <th></th>\n",
       "      <th>PatientID</th>\n",
       "      <th>AgeNBR</th>\n",
       "      <th>GenderCD</th>\n",
       "      <th>RelationshipDSC</th>\n",
       "      <th>ClinicID</th>\n",
       "      <th>ModalityDSC</th>\n",
       "      <th>VisitsCNT</th>\n",
       "      <th>RiskNBR</th>\n",
       "    </tr>\n",
       "  </thead>\n",
       "  <tbody>\n",
       "    <tr>\n",
       "      <th>0</th>\n",
       "      <td>42534</td>\n",
       "      <td>39</td>\n",
       "      <td>F</td>\n",
       "      <td>Employee</td>\n",
       "      <td>A</td>\n",
       "      <td>Primary</td>\n",
       "      <td>1</td>\n",
       "      <td>NaN</td>\n",
       "    </tr>\n",
       "    <tr>\n",
       "      <th>1</th>\n",
       "      <td>169233</td>\n",
       "      <td>46</td>\n",
       "      <td>F</td>\n",
       "      <td>Dependent</td>\n",
       "      <td>A</td>\n",
       "      <td>Nurse Visit</td>\n",
       "      <td>3</td>\n",
       "      <td>0.165685</td>\n",
       "    </tr>\n",
       "    <tr>\n",
       "      <th>2</th>\n",
       "      <td>42880</td>\n",
       "      <td>59</td>\n",
       "      <td>F</td>\n",
       "      <td>Employee</td>\n",
       "      <td>B</td>\n",
       "      <td>|||Preventive</td>\n",
       "      <td>1</td>\n",
       "      <td>1.133132</td>\n",
       "    </tr>\n",
       "    <tr>\n",
       "      <th>3</th>\n",
       "      <td>118044</td>\n",
       "      <td>36</td>\n",
       "      <td>F</td>\n",
       "      <td>Employee</td>\n",
       "      <td>B</td>\n",
       "      <td>Health Coach</td>\n",
       "      <td>1</td>\n",
       "      <td>0.701008</td>\n",
       "    </tr>\n",
       "  </tbody>\n",
       "</table>\n",
       "</div>"
      ],
      "text/plain": [
       "   PatientID  AgeNBR GenderCD  ...    ModalityDSC VisitsCNT   RiskNBR\n",
       "0      42534      39        F  ...        Primary         1       NaN\n",
       "1     169233      46        F  ...    Nurse Visit         3  0.165685\n",
       "2      42880      59        F  ...  |||Preventive         1  1.133132\n",
       "3     118044      36        F  ...   Health Coach         1  0.701008\n",
       "\n",
       "[4 rows x 8 columns]"
      ]
     },
     "execution_count": 12,
     "metadata": {
      "tags": []
     },
     "output_type": "execute_result"
    }
   ],
   "source": [
    "raw_data.head(4)"
   ]
  },
  {
   "cell_type": "markdown",
   "metadata": {
    "colab_type": "text",
    "id": "Y8785yfw1Bos"
   },
   "source": [
    "Clean Messy Data\n",
    "\n",
    "\n",
    "1.   Removed special characters for modalityDSC by using regular expression\n",
    "\n"
   ]
  },
  {
   "cell_type": "code",
   "execution_count": 13,
   "metadata": {
    "colab": {
     "base_uri": "https://localhost:8080/",
     "height": 187
    },
    "colab_type": "code",
    "id": "tLtXy05R0_Oe",
    "outputId": "db46ce82-dfca-49cb-8d3d-62ff8aa7ab8f"
   },
   "outputs": [
    {
     "data": {
      "text/plain": [
       "array(['Primary', 'Nurse Visit', '|||Preventive', 'Health Coach',\n",
       "       'Massage', 'Lab Visit', '|||Primary', 'Optometry',\n",
       "       '|||Chiropractic', '|||Acupuncture', 'Preventive',\n",
       "       '|||Physical Therapy', '|||Nurse Visit', 'Chiropractic', 'Dental',\n",
       "       '|||Dental', 'Physical Therapy', 'Acupuncture', '|||Optometry',\n",
       "       '|||Nurse Practitioner', 'Dermatology', '|||Massage',\n",
       "       'Nurse Practitioner', '|||Health Coach', '|||Mental Health',\n",
       "       'Screening', '|||Dermatology', 'Mental Health', 'Bod Pod',\n",
       "       '|||Psychiatry', '|||Lab Visit', '|||Screening', '|||Bod Pod',\n",
       "       'Psychiatry'], dtype=object)"
      ]
     },
     "execution_count": 13,
     "metadata": {
      "tags": []
     },
     "output_type": "execute_result"
    }
   ],
   "source": [
    "raw_data[\"ModalityDSC\"].unique()"
   ]
  },
  {
   "cell_type": "code",
   "execution_count": 14,
   "metadata": {
    "colab": {},
    "colab_type": "code",
    "id": "WcervC2e0MWn"
   },
   "outputs": [],
   "source": [
    "import re\n",
    "raw_data['updated_ModalityDSC'] = raw_data[\"ModalityDSC\"].map(lambda x: re.sub(r'\\W+', '', x))"
   ]
  },
  {
   "cell_type": "code",
   "execution_count": 15,
   "metadata": {
    "colab": {
     "base_uri": "https://localhost:8080/",
     "height": 235
    },
    "colab_type": "code",
    "id": "Qh7ZqtJEEMM1",
    "outputId": "096ea5be-5c69-40d2-c4e7-4a4d5d88b230"
   },
   "outputs": [
    {
     "data": {
      "text/html": [
       "<div>\n",
       "<style scoped>\n",
       "    .dataframe tbody tr th:only-of-type {\n",
       "        vertical-align: middle;\n",
       "    }\n",
       "\n",
       "    .dataframe tbody tr th {\n",
       "        vertical-align: top;\n",
       "    }\n",
       "\n",
       "    .dataframe thead th {\n",
       "        text-align: right;\n",
       "    }\n",
       "</style>\n",
       "<table border=\"1\" class=\"dataframe\">\n",
       "  <thead>\n",
       "    <tr style=\"text-align: right;\">\n",
       "      <th></th>\n",
       "      <th>PatientID</th>\n",
       "      <th>AgeNBR</th>\n",
       "      <th>GenderCD</th>\n",
       "      <th>RelationshipDSC</th>\n",
       "      <th>ClinicID</th>\n",
       "      <th>ModalityDSC</th>\n",
       "      <th>VisitsCNT</th>\n",
       "      <th>RiskNBR</th>\n",
       "      <th>updated_ModalityDSC</th>\n",
       "    </tr>\n",
       "  </thead>\n",
       "  <tbody>\n",
       "    <tr>\n",
       "      <th>0</th>\n",
       "      <td>42534</td>\n",
       "      <td>39</td>\n",
       "      <td>F</td>\n",
       "      <td>Employee</td>\n",
       "      <td>A</td>\n",
       "      <td>Primary</td>\n",
       "      <td>1</td>\n",
       "      <td>NaN</td>\n",
       "      <td>Primary</td>\n",
       "    </tr>\n",
       "    <tr>\n",
       "      <th>1</th>\n",
       "      <td>169233</td>\n",
       "      <td>46</td>\n",
       "      <td>F</td>\n",
       "      <td>Dependent</td>\n",
       "      <td>A</td>\n",
       "      <td>Nurse Visit</td>\n",
       "      <td>3</td>\n",
       "      <td>0.165685</td>\n",
       "      <td>NurseVisit</td>\n",
       "    </tr>\n",
       "    <tr>\n",
       "      <th>2</th>\n",
       "      <td>42880</td>\n",
       "      <td>59</td>\n",
       "      <td>F</td>\n",
       "      <td>Employee</td>\n",
       "      <td>B</td>\n",
       "      <td>|||Preventive</td>\n",
       "      <td>1</td>\n",
       "      <td>1.133132</td>\n",
       "      <td>Preventive</td>\n",
       "    </tr>\n",
       "    <tr>\n",
       "      <th>3</th>\n",
       "      <td>118044</td>\n",
       "      <td>36</td>\n",
       "      <td>F</td>\n",
       "      <td>Employee</td>\n",
       "      <td>B</td>\n",
       "      <td>Health Coach</td>\n",
       "      <td>1</td>\n",
       "      <td>0.701008</td>\n",
       "      <td>HealthCoach</td>\n",
       "    </tr>\n",
       "    <tr>\n",
       "      <th>4</th>\n",
       "      <td>36774</td>\n",
       "      <td>39</td>\n",
       "      <td>F</td>\n",
       "      <td>Dependent</td>\n",
       "      <td>A</td>\n",
       "      <td>Massage</td>\n",
       "      <td>1</td>\n",
       "      <td>1.221869</td>\n",
       "      <td>Massage</td>\n",
       "    </tr>\n",
       "    <tr>\n",
       "      <th>5</th>\n",
       "      <td>154760</td>\n",
       "      <td>42</td>\n",
       "      <td>F</td>\n",
       "      <td>Dependent</td>\n",
       "      <td>B</td>\n",
       "      <td>Lab Visit</td>\n",
       "      <td>1</td>\n",
       "      <td>1.351404</td>\n",
       "      <td>LabVisit</td>\n",
       "    </tr>\n",
       "  </tbody>\n",
       "</table>\n",
       "</div>"
      ],
      "text/plain": [
       "   PatientID  AgeNBR GenderCD  ... VisitsCNT   RiskNBR updated_ModalityDSC\n",
       "0      42534      39        F  ...         1       NaN             Primary\n",
       "1     169233      46        F  ...         3  0.165685          NurseVisit\n",
       "2      42880      59        F  ...         1  1.133132          Preventive\n",
       "3     118044      36        F  ...         1  0.701008         HealthCoach\n",
       "4      36774      39        F  ...         1  1.221869             Massage\n",
       "5     154760      42        F  ...         1  1.351404            LabVisit\n",
       "\n",
       "[6 rows x 9 columns]"
      ]
     },
     "execution_count": 15,
     "metadata": {
      "tags": []
     },
     "output_type": "execute_result"
    }
   ],
   "source": [
    "raw_data.head(6)"
   ]
  },
  {
   "cell_type": "markdown",
   "metadata": {
    "colab_type": "text",
    "id": "og6dI-NiZr6B"
   },
   "source": [
    "Remove NAs"
   ]
  },
  {
   "cell_type": "code",
   "execution_count": 16,
   "metadata": {
    "colab": {
     "base_uri": "https://localhost:8080/",
     "height": 187
    },
    "colab_type": "code",
    "id": "_qKzSe5LEYUF",
    "outputId": "8f069969-6d2b-4e94-f9ff-e6516c9cd548"
   },
   "outputs": [
    {
     "data": {
      "text/plain": [
       "PatientID                0\n",
       "AgeNBR                   0\n",
       "GenderCD               585\n",
       "RelationshipDSC          0\n",
       "ClinicID                 0\n",
       "ModalityDSC              0\n",
       "VisitsCNT                0\n",
       "RiskNBR                336\n",
       "updated_ModalityDSC      0\n",
       "dtype: int64"
      ]
     },
     "execution_count": 16,
     "metadata": {
      "tags": []
     },
     "output_type": "execute_result"
    }
   ],
   "source": [
    "raw_data.isna().sum()"
   ]
  },
  {
   "cell_type": "code",
   "execution_count": 17,
   "metadata": {
    "colab": {},
    "colab_type": "code",
    "id": "7N3vobSlFMR9"
   },
   "outputs": [],
   "source": [
    "# drop NAs\n",
    "data = raw_data.dropna(subset = [\"GenderCD\",\"RiskNBR\"])"
   ]
  },
  {
   "cell_type": "markdown",
   "metadata": {
    "colab_type": "text",
    "id": "q0U2BUjW0OOD"
   },
   "source": [
    "#Distribution for Continuous Variables"
   ]
  },
  {
   "cell_type": "code",
   "execution_count": 18,
   "metadata": {
    "colab": {
     "base_uri": "https://localhost:8080/",
     "height": 444
    },
    "colab_type": "code",
    "id": "LCoZjwYcL1YW",
    "outputId": "56fa5bc0-f75f-4a89-a9df-920dcd5ebd0c"
   },
   "outputs": [
    {
     "data": {
      "image/png": "[encoded data removed]",
      "text/plain": [
       "<Figure size 504x504 with 4 Axes>"
      ]
     },
     "metadata": {
      "needs_background": "light",
      "tags": []
     },
     "output_type": "display_data"
    }
   ],
   "source": [
    "data[[\"AgeNBR\", \"VisitsCNT\", \"RiskNBR\"]].hist(figsize = (7, 7),bins = 20, color = \"pink\", edgecolor = \"black\", linewidth = 1.5)\n",
    "data[[\"AgeNBR\", \"VisitsCNT\", \"RiskNBR\"]].boxplot(figsize = (7, 7), color = \"pink\" )\n",
    "plt.show()"
   ]
  },
  {
   "cell_type": "markdown",
   "metadata": {
    "colab_type": "text",
    "id": "IZ6itvxzdfQW"
   },
   "source": [
    "**Normality**\n",
    "\n",
    "\n",
    "1.   Below are the qqplots for each continuous variable. Qqplot is used to check the normality of age, visitCNT, and riskNBR. The plot that doesn't fall around the 45 degree diagonal line indicates that the variable is not normal. In conclusion, ageNBR, visitsCNT, and RiskNBR are not not normal and they are not suitable for using t.test in hypothesis testing. Instead, Wilcoxon Rank test is a better test for hypothesis testing. \n",
    "2.   The not-normal qqplots also explain that these variables are not suitable for being used as a dependent variable (y) for prediction in univariate or multivariate regression modeling.\n"
   ]
  },
  {
   "cell_type": "code",
   "execution_count": 19,
   "metadata": {
    "colab": {
     "base_uri": "https://localhost:8080/",
     "height": 803
    },
    "colab_type": "code",
    "id": "hrTqUVf812YN",
    "outputId": "1a61cbc6-1c2d-4ea3-b913-e91e985aece8"
   },
   "outputs": [
    {
     "data": {
      "image/png": "[encoded data removed]",
      "text/plain": [
       "<Figure size 432x288 with 1 Axes>"
      ]
     },
     "metadata": {
      "needs_background": "light",
      "tags": []
     },
     "output_type": "display_data"
    },
    {
     "data": {
      "image/png": "[encoded data removed]",
      "text/plain": [
       "<Figure size 432x288 with 1 Axes>"
      ]
     },
     "metadata": {
      "needs_background": "light",
      "tags": []
     },
     "output_type": "display_data"
    },
    {
     "data": {
      "image/png": "[encoded data removed]",
      "text/plain": [
       "<Figure size 432x288 with 1 Axes>"
      ]
     },
     "metadata": {
      "needs_background": "light",
      "tags": []
     },
     "output_type": "display_data"
    }
   ],
   "source": [
    "sm.qqplot(data[\"AgeNBR\"], line = '45')\n",
    "sm.qqplot(data[\"VisitsCNT\"], line = '45')\n",
    "sm.qqplot(data[\"RiskNBR\"], line = '45')\n",
    "plt.show()"
   ]
  },
  {
   "cell_type": "markdown",
   "metadata": {
    "colab_type": "text",
    "id": "oLOC1D_l0Yax"
   },
   "source": [
    "#Box Plot\n",
    "\n",
    "\n",
    "1. Below are the boxplot, scatter plot, and pearson correlation matrix heatmap that are used to determine the correlation between the continuous variables.\n",
    "2. I'd assume that people who are old would have higher RiskNBR. However, by looking at the boxplot for RiskNBR and VisitsCNT, the median age with a higher riskNBR peaks at 44 and the median age with a higher RiskNBR slightly descreases until age 67.\n",
    "3.  Note: The line in the middle of the box is the median and the top and bottom of the box are the 75% and 25% interquartile range (IQR). The straigt line outside the box indicates the minimum and maximum RiskNBR of each age group\n",
    "\n"
   ]
  },
  {
   "cell_type": "code",
   "execution_count": 20,
   "metadata": {
    "colab": {
     "base_uri": "https://localhost:8080/",
     "height": 621
    },
    "colab_type": "code",
    "id": "9CwaHwn3ai81",
    "outputId": "1454ed9e-7395-4015-b237-348359619b1d"
   },
   "outputs": [
    {
     "data": {
      "image/png": "[encoded data removed]",
      "text/plain": [
       "<Figure size 1440x720 with 1 Axes>"
      ]
     },
     "metadata": {
      "needs_background": "light",
      "tags": []
     },
     "output_type": "display_data"
    }
   ],
   "source": [
    "plt.figure(figsize= (20, 10))\n",
    "sns.boxplot(x = \"AgeNBR\", y = \"RiskNBR\", data = data, whis= 20)\n",
    "plt.yscale(\"log\")\n",
    "plt.title(\"Correlations Between Age and Risk (normalized by log)\")\n",
    "plt.xlabel(\"VisitsCNT\")\n",
    "plt.ylabel(\"RiskNBR\")\n",
    "plt.show()\n"
   ]
  },
  {
   "cell_type": "markdown",
   "metadata": {
    "colab_type": "text",
    "id": "1HSGRhBq6U1o"
   },
   "source": [
    "The scatter plot below is used to determine the correlation between VisitCNT and RiskNBR. The plot below does not show any linear correlation between the two variables.  "
   ]
  },
  {
   "cell_type": "code",
   "execution_count": 21,
   "metadata": {
    "colab": {
     "base_uri": "https://localhost:8080/",
     "height": 295
    },
    "colab_type": "code",
    "id": "00KnOM-nUTPG",
    "outputId": "a25235b0-8801-4728-cb9b-3fab5949d921"
   },
   "outputs": [
    {
     "data": {
      "image/png": "[encoded data removed]",
      "text/plain": [
       "<Figure size 432x288 with 1 Axes>"
      ]
     },
     "metadata": {
      "needs_background": "light",
      "tags": []
     },
     "output_type": "display_data"
    }
   ],
   "source": [
    "data_first1000 = data[:1000]\n",
    "data_first1000.plot.scatter(\"VisitsCNT\", \"RiskNBR\", c = data_first1000.index, cmap = plt.cm.viridis, colorbar = False)\n",
    "plt.title(\"Correlation Between VisitCNT and RiskNBR\")\n",
    "plt.show()"
   ]
  },
  {
   "cell_type": "markdown",
   "metadata": {
    "colab_type": "text",
    "id": "ZUUNjwi07Dm7"
   },
   "source": [
    "Below are the Pearson Correlation matrix and the heatmap for all continuous variables. The index ranges from -1 and 1. A strong correlation would have an index close to -1 or 1. These indexes that are near zero indicate the AgeNBR, VisitsCNT, and RiskNBR are not correlated."
   ]
  },
  {
   "cell_type": "code",
   "execution_count": 22,
   "metadata": {
    "colab": {
     "base_uri": "https://localhost:8080/",
     "height": 337
    },
    "colab_type": "code",
    "id": "-QK_LsKqZhhg",
    "outputId": "6adef9e6-9e2f-4291-b3f7-c703712a643e"
   },
   "outputs": [
    {
     "name": "stdout",
     "output_type": "stream",
     "text": [
      "             AgeNBR  VisitsCNT   RiskNBR\n",
      "AgeNBR     1.000000   0.014389  0.019294\n",
      "VisitsCNT  0.014389   1.000000 -0.005566\n",
      "RiskNBR    0.019294  -0.005566  1.000000\n"
     ]
    },
    {
     "data": {
      "image/png": "[encoded data removed]",
      "text/plain": [
       "<Figure size 432x288 with 2 Axes>"
      ]
     },
     "metadata": {
      "needs_background": "light",
      "tags": []
     },
     "output_type": "display_data"
    }
   ],
   "source": [
    "contin_data = data[[\"AgeNBR\", \"VisitsCNT\", \"RiskNBR\"]]\n",
    "C = contin_data.corr()\n",
    "print(C)\n",
    "sns.heatmap(C, cmap= \"viridis\")\n",
    "plt.show()"
   ]
  },
  {
   "cell_type": "markdown",
   "metadata": {
    "colab_type": "text",
    "id": "hQLX9c841IdG"
   },
   "source": [
    "**Correlation Between Categorical Variables and Continuous Variables**\n",
    "\n",
    "\n",
    "1.   Let's determine the correlation between the categorical and continuous variables by looking at the bar charts and dython association heatmap. Figure 1 represents the relationship for genderCD, clinic, and visitCNT. The distributions among female and male patient visiting in each clinic is releatively equal.\n",
    "2. Figure 2 represents the relationship between modalityDSC, clinic, and VisitCNT. As mentioned in the summary, the top 4 popular services based on patient visits are physical therapy, acupuncture, chiropractic, and mental health.\n",
    "3. The dython association heatmap indicates the associates between the categorical and continuous variables. However, besides visitCNT and modalityDSC that moderately associated, all other variables are not associated. The pointbisserial correlation test results also indicate the two varibles are correlated.\n",
    "\n"
   ]
  },
  {
   "cell_type": "code",
   "execution_count": 23,
   "metadata": {
    "colab": {
     "base_uri": "https://localhost:8080/",
     "height": 373
    },
    "colab_type": "code",
    "id": "4DUiaNibAGC8",
    "outputId": "32031d7c-4c0e-4ca5-9586-aa1bc805d61f"
   },
   "outputs": [
    {
     "data": {
      "image/png": "[encoded data removed]",
      "text/plain": [
       "<Figure size 419.5x360 with 1 Axes>"
      ]
     },
     "metadata": {
      "needs_background": "light",
      "tags": []
     },
     "output_type": "display_data"
    }
   ],
   "source": [
    "g = sns.catplot(data=data, kind=\"bar\", x=\"ClinicID\", y= \"VisitsCNT\", hue=\"GenderCD\")\n",
    "g.fig.suptitle('fig.1 Patient Visits for Each Clinic (By Gender)')\n",
    "plt.show()"
   ]
  },
  {
   "cell_type": "code",
   "execution_count": 27,
   "metadata": {
    "colab": {
     "base_uri": "https://localhost:8080/",
     "height": 280
    },
    "colab_type": "code",
    "id": "YYjKPEWZBGsH",
    "outputId": "0b846584-085a-4363-bb62-ef07ccdca47b"
   },
   "outputs": [
    {
     "data": {
      "image/png": "[encoded data removed]",
      "text/plain": [
       "<Figure size 2926x576 with 1 Axes>"
      ]
     },
     "metadata": {
      "needs_background": "light",
      "tags": []
     },
     "output_type": "display_data"
    }
   ],
   "source": [
    "sns.catplot(data=data, kind=\"bar\", x=\"updated_ModalityDSC\", y=\"VisitsCNT\", hue=\"ClinicID\", palette=\"pastel\", height = 8, aspect = 5)\n",
    "plt.title(\"fig.2 Count of Patient Visits by Modality Type for Each Clinic Location\")\n",
    "plt.show()"
   ]
  },
  {
   "cell_type": "markdown",
   "metadata": {
    "colab_type": "text",
    "id": "y6U-0QFvZ4-q"
   },
   "source": [
    "**One hot coding for Categorical Variables for Pointbisserial Correlation Test**\n",
    "\n",
    "\n",
    "1.   The Pointbisserial Correlation test results explain the strong correlation  between Modality class and VisitCNT by p-value (statistical significance of p < 0.05"
   ]
  },
  {
   "cell_type": "code",
   "execution_count": 26,
   "metadata": {
    "colab": {},
    "colab_type": "code",
    "id": "h8msS7NHtrYK"
   },
   "outputs": [],
   "source": [
    "le = LabelEncoder()\n",
    "\n",
    "label_data = data[[\"RelationshipDSC\", \"GenderCD\", \"ClinicID\",\"updated_ModalityDSC\"]].apply(lambda x: le.fit_transform(x)).rename(columns = {\"RelationshipDSC\":\"RelationshipDSC_class\", \"GenderCD\":\"GenderCD_class\", \"ClinicID\": \"ClinicID_class\", \"updated_ModalityDSC\":\"Modality_class\"})\n",
    "data = pd.concat([data, label_data], axis = 1)"
   ]
  },
  {
   "cell_type": "code",
   "execution_count": 28,
   "metadata": {
    "colab": {
     "base_uri": "https://localhost:8080/",
     "height": 369
    },
    "colab_type": "code",
    "id": "c-G7D5g1bwLh",
    "outputId": "e5d3814b-90ad-46b8-ead5-1d1efb3bbecb"
   },
   "outputs": [
    {
     "data": {
      "image/png": "[encoded data removed]",
      "text/plain": [
       "<Figure size 432x288 with 2 Axes>"
      ]
     },
     "metadata": {
      "needs_background": "light",
      "tags": []
     },
     "output_type": "display_data"
    }
   ],
   "source": [
    "from dython.nominal import associations\n",
    "subset = data.drop(columns= [\"PatientID\", \"GenderCD_class\", \"RelationshipDSC_class\", \"ClinicID_class\", \"ModalityDSC\", \"Modality_class\"])\n",
    "associations(subset)\n",
    "\n",
    "plt.rcParams[\"figure.figsize\"]= 5,5"
   ]
  },
  {
   "cell_type": "code",
   "execution_count": 29,
   "metadata": {
    "colab": {
     "base_uri": "https://localhost:8080/",
     "height": 162
    },
    "colab_type": "code",
    "id": "hIaHBpw9YJIr",
    "outputId": "80aa0ac7-ad8b-421c-c065-e36b079c6217"
   },
   "outputs": [
    {
     "data": {
      "text/html": [
       "<div>\n",
       "<style scoped>\n",
       "    .dataframe tbody tr th:only-of-type {\n",
       "        vertical-align: middle;\n",
       "    }\n",
       "\n",
       "    .dataframe tbody tr th {\n",
       "        vertical-align: top;\n",
       "    }\n",
       "\n",
       "    .dataframe thead th {\n",
       "        text-align: right;\n",
       "    }\n",
       "</style>\n",
       "<table border=\"1\" class=\"dataframe\">\n",
       "  <thead>\n",
       "    <tr style=\"text-align: right;\">\n",
       "      <th></th>\n",
       "      <th>PatientID</th>\n",
       "      <th>AgeNBR</th>\n",
       "      <th>GenderCD</th>\n",
       "      <th>RelationshipDSC</th>\n",
       "      <th>ClinicID</th>\n",
       "      <th>ModalityDSC</th>\n",
       "      <th>VisitsCNT</th>\n",
       "      <th>RiskNBR</th>\n",
       "      <th>updated_ModalityDSC</th>\n",
       "      <th>RelationshipDSC_class</th>\n",
       "      <th>GenderCD_class</th>\n",
       "      <th>ClinicID_class</th>\n",
       "      <th>Modality_class</th>\n",
       "    </tr>\n",
       "  </thead>\n",
       "  <tbody>\n",
       "    <tr>\n",
       "      <th>1</th>\n",
       "      <td>169233</td>\n",
       "      <td>46</td>\n",
       "      <td>F</td>\n",
       "      <td>Dependent</td>\n",
       "      <td>A</td>\n",
       "      <td>Nurse Visit</td>\n",
       "      <td>3</td>\n",
       "      <td>0.165685</td>\n",
       "      <td>NurseVisit</td>\n",
       "      <td>0</td>\n",
       "      <td>0</td>\n",
       "      <td>0</td>\n",
       "      <td>10</td>\n",
       "    </tr>\n",
       "    <tr>\n",
       "      <th>2</th>\n",
       "      <td>42880</td>\n",
       "      <td>59</td>\n",
       "      <td>F</td>\n",
       "      <td>Employee</td>\n",
       "      <td>B</td>\n",
       "      <td>|||Preventive</td>\n",
       "      <td>1</td>\n",
       "      <td>1.133132</td>\n",
       "      <td>Preventive</td>\n",
       "      <td>1</td>\n",
       "      <td>0</td>\n",
       "      <td>1</td>\n",
       "      <td>13</td>\n",
       "    </tr>\n",
       "    <tr>\n",
       "      <th>3</th>\n",
       "      <td>118044</td>\n",
       "      <td>36</td>\n",
       "      <td>F</td>\n",
       "      <td>Employee</td>\n",
       "      <td>B</td>\n",
       "      <td>Health Coach</td>\n",
       "      <td>1</td>\n",
       "      <td>0.701008</td>\n",
       "      <td>HealthCoach</td>\n",
       "      <td>1</td>\n",
       "      <td>0</td>\n",
       "      <td>1</td>\n",
       "      <td>5</td>\n",
       "    </tr>\n",
       "  </tbody>\n",
       "</table>\n",
       "</div>"
      ],
      "text/plain": [
       "   PatientID  AgeNBR GenderCD  ... GenderCD_class ClinicID_class Modality_class\n",
       "1     169233      46        F  ...              0              0             10\n",
       "2      42880      59        F  ...              0              1             13\n",
       "3     118044      36        F  ...              0              1              5\n",
       "\n",
       "[3 rows x 13 columns]"
      ]
     },
     "execution_count": 29,
     "metadata": {
      "tags": []
     },
     "output_type": "execute_result"
    }
   ],
   "source": [
    "data.head(3)"
   ]
  },
  {
   "cell_type": "code",
   "execution_count": 30,
   "metadata": {
    "colab": {},
    "colab_type": "code",
    "id": "UE-_rv9to1w2"
   },
   "outputs": [],
   "source": [
    "def pointbisserial_func(x, y):\n",
    "  pbc = pointbiserialr(x, y)\n",
    "  print(\"the point biserial correlation between\", x.name, \"and\", y.name, \"is\", pbc[0], \n",
    "      \"and the p-value is\", pbc[1])"
   ]
  },
  {
   "cell_type": "code",
   "execution_count": 31,
   "metadata": {
    "colab": {
     "base_uri": "https://localhost:8080/",
     "height": 221
    },
    "colab_type": "code",
    "id": "uaEhU4cDot7S",
    "outputId": "34988fab-a427-4bb7-94c6-c70d06d46515"
   },
   "outputs": [
    {
     "name": "stdout",
     "output_type": "stream",
     "text": [
      "the point biserial correlation between ClinicID_class and VisitsCNT is -0.01739232338167553 and the p-value is 0.1648196814221005\n",
      "the point biserial correlation between ClinicID_class and RiskNBR is 0.0023885321283083336 and the p-value is 0.8487240807476877\n",
      "the point biserial correlation between ClinicID_class and AgeNBR is 0.007167662571674697 and the p-value is 0.5670432139920979\n",
      "the point biserial correlation between Modality_class and VisitsCNT is -0.21583673125177794 and the p-value is 3.922746565023128e-68\n",
      "the point biserial correlation between Modality_class and RiskNBR is 0.013174582571192568 and the p-value is 0.2927270842362156\n",
      "the point biserial correlation between Modality_class and AgeNBR is 0.006013190396248117 and the p-value is 0.6310757846135844\n",
      "the point biserial correlation between RelationshipDSC_class and VisitsCNT is 0.019862853907143 and the p-value is 0.11265106409442004\n",
      "the point biserial correlation between RelationshipDSC_class and RiskNBR is 0.015348202183113249 and the p-value is 0.22028594395029502\n",
      "the point biserial correlation between RelationshipDSC_class and AgeNBR is -0.007857042329957119 and the p-value is 0.5303530286722989\n",
      "the point biserial correlation between GenderCD_class and VisitsCNT is -0.016503325986835325 and the p-value is 0.18749259768772683\n",
      "the point biserial correlation between GenderCD_class and RiskNBR is -0.0013708415898569962 and the p-value is 0.9128261982290217\n",
      "the point biserial correlation between GenderCD_class and AgeNBR is -0.004117923467602136 and the p-value is 0.7422647755428439\n"
     ]
    }
   ],
   "source": [
    "pointbisserial_func(data[\"ClinicID_class\"],data[\"VisitsCNT\"] )\n",
    "pointbisserial_func(data[\"ClinicID_class\"],data[\"RiskNBR\"] )\n",
    "pointbisserial_func(data[\"ClinicID_class\"],data[\"AgeNBR\"] )\n",
    "pointbisserial_func(data[\"Modality_class\"],data[\"VisitsCNT\"] )\n",
    "pointbisserial_func(data[\"Modality_class\"],data[\"RiskNBR\"] )\n",
    "pointbisserial_func(data[\"Modality_class\"],data[\"AgeNBR\"] )\n",
    "pointbisserial_func(data[\"RelationshipDSC_class\"],data[\"VisitsCNT\"] )\n",
    "pointbisserial_func(data[\"RelationshipDSC_class\"],data[\"RiskNBR\"] )\n",
    "pointbisserial_func(data[\"RelationshipDSC_class\"],data[\"AgeNBR\"] )\n",
    "pointbisserial_func(data[\"GenderCD_class\"],data[\"VisitsCNT\"] )\n",
    "pointbisserial_func(data[\"GenderCD_class\"],data[\"RiskNBR\"] )\n",
    "pointbisserial_func(data[\"GenderCD_class\"],data[\"AgeNBR\"] )"
   ]
  },
  {
   "cell_type": "markdown",
   "metadata": {
    "colab_type": "text",
    "id": "UixjVZiONLfs"
   },
   "source": [
    "**Patient Behavior** - IDs that appear more than once\n",
    "\n",
    "\n",
    "1.   The categorical bar plot in the previous session show that the patient ID appear at least twice if they have a dependent who also visited the clinic. Any patient ID that appear more than 3 times indicate the another visit to modality by the employee or dependent. This helps analyze the activity of each patient and the variety of services being seen. For example, an employee (patient ID 13096) had a primary visit and nurse visit\n",
    "\n",
    "2. For this dataset, only 5% of the patient ID population (280 / 6088) who visited a clinic have used more than one service."
   ]
  },
  {
   "cell_type": "code",
   "execution_count": 32,
   "metadata": {
    "colab": {
     "base_uri": "https://localhost:8080/",
     "height": 179
    },
    "colab_type": "code",
    "id": "yFTF2pHx5b0k",
    "outputId": "d02d7e92-75f6-491d-c5fd-08a45a30c1a6"
   },
   "outputs": [
    {
     "data": {
      "text/html": [
       "<div>\n",
       "<style scoped>\n",
       "    .dataframe tbody tr th:only-of-type {\n",
       "        vertical-align: middle;\n",
       "    }\n",
       "\n",
       "    .dataframe tbody tr th {\n",
       "        vertical-align: top;\n",
       "    }\n",
       "\n",
       "    .dataframe thead th {\n",
       "        text-align: right;\n",
       "    }\n",
       "</style>\n",
       "<table border=\"1\" class=\"dataframe\">\n",
       "  <thead>\n",
       "    <tr style=\"text-align: right;\">\n",
       "      <th></th>\n",
       "      <th>PatientID</th>\n",
       "      <th>AgeNBR</th>\n",
       "      <th>GenderCD</th>\n",
       "      <th>RelationshipDSC</th>\n",
       "      <th>ClinicID</th>\n",
       "      <th>ModalityDSC</th>\n",
       "      <th>VisitsCNT</th>\n",
       "      <th>RiskNBR</th>\n",
       "      <th>updated_ModalityDSC</th>\n",
       "      <th>RelationshipDSC_class</th>\n",
       "      <th>GenderCD_class</th>\n",
       "      <th>ClinicID_class</th>\n",
       "      <th>Modality_class</th>\n",
       "    </tr>\n",
       "  </thead>\n",
       "  <tbody>\n",
       "    <tr>\n",
       "      <th>572</th>\n",
       "      <td>13096</td>\n",
       "      <td>72</td>\n",
       "      <td>M</td>\n",
       "      <td>Dependent</td>\n",
       "      <td>A</td>\n",
       "      <td>|||Health Coach</td>\n",
       "      <td>2</td>\n",
       "      <td>0.469890</td>\n",
       "      <td>HealthCoach</td>\n",
       "      <td>0</td>\n",
       "      <td>1</td>\n",
       "      <td>0</td>\n",
       "      <td>5</td>\n",
       "    </tr>\n",
       "    <tr>\n",
       "      <th>3919</th>\n",
       "      <td>13096</td>\n",
       "      <td>54</td>\n",
       "      <td>F</td>\n",
       "      <td>Employee</td>\n",
       "      <td>A</td>\n",
       "      <td>Primary</td>\n",
       "      <td>1</td>\n",
       "      <td>0.079440</td>\n",
       "      <td>Primary</td>\n",
       "      <td>1</td>\n",
       "      <td>0</td>\n",
       "      <td>0</td>\n",
       "      <td>14</td>\n",
       "    </tr>\n",
       "    <tr>\n",
       "      <th>5612</th>\n",
       "      <td>13096</td>\n",
       "      <td>90</td>\n",
       "      <td>F</td>\n",
       "      <td>Employee</td>\n",
       "      <td>A</td>\n",
       "      <td>Nurse Visit</td>\n",
       "      <td>1</td>\n",
       "      <td>2.731954</td>\n",
       "      <td>NurseVisit</td>\n",
       "      <td>1</td>\n",
       "      <td>0</td>\n",
       "      <td>0</td>\n",
       "      <td>10</td>\n",
       "    </tr>\n",
       "  </tbody>\n",
       "</table>\n",
       "</div>"
      ],
      "text/plain": [
       "      PatientID  AgeNBR  ... ClinicID_class Modality_class\n",
       "572       13096      72  ...              0              5\n",
       "3919      13096      54  ...              0             14\n",
       "5612      13096      90  ...              0             10\n",
       "\n",
       "[3 rows x 13 columns]"
      ]
     },
     "execution_count": 32,
     "metadata": {
      "tags": []
     },
     "output_type": "execute_result"
    }
   ],
   "source": [
    "appear_more_than_once = data.groupby(\"PatientID\")[\"PatientID\"].count()\n",
    "appear_more_than_once_1 = appear_more_than_once[ appear_more_than_once>= 2]\n",
    "appear_more_than_threetimes = appear_more_than_once[ appear_more_than_once>= 3]\n",
    "data[data.PatientID == 13096]"
   ]
  },
  {
   "cell_type": "code",
   "execution_count": 33,
   "metadata": {
    "colab": {
     "base_uri": "https://localhost:8080/",
     "height": 34
    },
    "colab_type": "code",
    "id": "4DOj21I9QGCr",
    "outputId": "9c77440f-b834-4198-9ab3-5f0efd1c6bc1"
   },
   "outputs": [
    {
     "data": {
      "text/plain": [
       "((6088,), (280,), (12,))"
      ]
     },
     "execution_count": 33,
     "metadata": {
      "tags": []
     },
     "output_type": "execute_result"
    }
   ],
   "source": [
    "appear_more_than_once.shape, appear_more_than_once_1.shape, appear_more_than_threetimes.shape"
   ]
  },
  {
   "cell_type": "markdown",
   "metadata": {
    "colab_type": "text",
    "id": "UCyWtpuoM8_8"
   },
   "source": [
    "**Chi Square Test for Correlation Between Categorical Variables**\n",
    "\n",
    "H0: categorical variable A and categorical variable B are not associated.\n",
    "HA : categorical variable A and categorical variable B are associated.\n",
    "1.   In conclusion, the p-value is (p_value < 0.05). We reject the null hypothesis. ClinicID and ModalityDSC are associated.\n",
    "\n",
    "\n"
   ]
  },
  {
   "cell_type": "code",
   "execution_count": 34,
   "metadata": {
    "colab": {},
    "colab_type": "code",
    "id": "J-T-F89RkV-n"
   },
   "outputs": [],
   "source": [
    "def chisquare(contingency_table):\n",
    "  res = stat()\n",
    "  res.chisq(contingency_table)\n",
    "  print(res.summary)"
   ]
  },
  {
   "cell_type": "code",
   "execution_count": 35,
   "metadata": {
    "colab": {
     "base_uri": "https://localhost:8080/",
     "height": 153
    },
    "colab_type": "code",
    "id": "0XrkJGYwZgSZ",
    "outputId": "18f3cab6-92e8-4851-fce8-94a18fe26f1b"
   },
   "outputs": [
    {
     "name": "stdout",
     "output_type": "stream",
     "text": [
      "\n",
      "Chi-squared test for independence\n",
      "\n",
      "Test              Df    Chi-square    P-value\n",
      "--------------  ----  ------------  ---------\n",
      "Pearson            2       1.64412   0.439525\n",
      "Log-likelihood     2       1.64409   0.439531\n",
      "\n"
     ]
    }
   ],
   "source": [
    "gender_df = pd.crosstab(data[\"ClinicID\"], data[\"GenderCD\"], margins= False)\n",
    "chisquare(gender_df)"
   ]
  },
  {
   "cell_type": "code",
   "execution_count": 36,
   "metadata": {
    "colab": {
     "base_uri": "https://localhost:8080/",
     "height": 153
    },
    "colab_type": "code",
    "id": "hP5Kf0scjzXq",
    "outputId": "08b2052d-1d65-4b2f-bda5-1b764f81e369"
   },
   "outputs": [
    {
     "name": "stdout",
     "output_type": "stream",
     "text": [
      "\n",
      "Chi-squared test for independence\n",
      "\n",
      "Test              Df    Chi-square    P-value\n",
      "--------------  ----  ------------  ---------\n",
      "Pearson            2       2.30508   0.315834\n",
      "Log-likelihood     2       2.30853   0.315289\n",
      "\n"
     ]
    }
   ],
   "source": [
    "clinic_ra = pd.crosstab(data[\"ClinicID\"], data[\"RelationshipDSC_class\"], margins= False)\n",
    "chisquare(clinic_ra)"
   ]
  },
  {
   "cell_type": "code",
   "execution_count": 37,
   "metadata": {
    "colab": {
     "base_uri": "https://localhost:8080/",
     "height": 153
    },
    "colab_type": "code",
    "id": "ootzrbHxlQeP",
    "outputId": "b51a7ba0-c969-4fe3-9c55-c33765aa53dd"
   },
   "outputs": [
    {
     "name": "stdout",
     "output_type": "stream",
     "text": [
      "\n",
      "Chi-squared test for independence\n",
      "\n",
      "Test              Df    Chi-square       P-value\n",
      "--------------  ----  ------------  ------------\n",
      "Pearson           66       827.791  4.00595e-132\n",
      "Log-likelihood    66       997.024  2.71127e-166\n",
      "\n"
     ]
    }
   ],
   "source": [
    "modality_gender = pd.crosstab(data[\"ClinicID\"], data[\"ModalityDSC\"], margins= False)\n",
    "chisquare(modality_gender)"
   ]
  },
  {
   "cell_type": "code",
   "execution_count": 38,
   "metadata": {
    "colab": {
     "base_uri": "https://localhost:8080/",
     "height": 102
    },
    "colab_type": "code",
    "id": "8LUohkFgy5HU",
    "outputId": "26f8f5a6-cd15-4441-9c42-e5401db5eca3"
   },
   "outputs": [
    {
     "data": {
      "text/plain": [
       "ClinicID\n",
       "A    0.352661\n",
       "B    0.277595\n",
       "C    0.369744\n",
       "Name: PatientID, dtype: float64"
      ]
     },
     "execution_count": 38,
     "metadata": {
      "tags": []
     },
     "output_type": "execute_result"
    }
   ],
   "source": [
    "data.groupby(\"ClinicID\")[\"PatientID\"].nunique() /data.PatientID.nunique()"
   ]
  },
  {
   "cell_type": "markdown",
   "metadata": {
    "colab_type": "text",
    "id": "JHCOa_a8pP_-"
   },
   "source": [
    "# K Prototypes Clustering \n",
    "\n",
    "Based on the statistical test results, let's use modality DSC, ClinicID, and three continuous variables (Age, VisitCNT, RiskNBR) for K Prototype (a mixed type) clustering to see the natural group for these variables.\n"
   ]
  },
  {
   "cell_type": "markdown",
   "metadata": {
    "colab_type": "text",
    "id": "MDfydD3NUZrH"
   },
   "source": [
    "**Data Preprocessing**"
   ]
  },
  {
   "cell_type": "code",
   "execution_count": 39,
   "metadata": {
    "colab": {},
    "colab_type": "code",
    "id": "HdaAY9l0iFtM"
   },
   "outputs": [],
   "source": [
    "# normalize the continuous variable\n",
    "min_max_tr = lambda x: (x - x.min()) / (x.max() - x.min())\n",
    "normalized_subset = contin_data\n",
    "normalized_subset = normalized_subset.transform(min_max_tr)\n",
    "cate_subset = data[[\"ClinicID_class\", \"Modality_class\"]]\n",
    "# add two categorical variables\n",
    "normalized_subset = pd.concat([normalized_subset, cate_subset] , axis = 1)\n",
    "\n",
    "#create randomized train test dataset\n",
    "msk = np.random.rand(len(normalized_subset)) <= 0.8\n",
    "train = normalized_subset[msk]\n",
    "test = normalized_subset[~msk]"
   ]
  },
  {
   "cell_type": "code",
   "execution_count": 40,
   "metadata": {
    "colab": {
     "base_uri": "https://localhost:8080/",
     "height": 34
    },
    "colab_type": "code",
    "id": "ghVQaSbmt9Ve",
    "outputId": "bea3f5c2-9ff1-45f7-e6a4-5e96d766156a"
   },
   "outputs": [
    {
     "data": {
      "text/plain": [
       "((5128, 5), (1252, 5))"
      ]
     },
     "execution_count": 40,
     "metadata": {
      "tags": []
     },
     "output_type": "execute_result"
    }
   ],
   "source": [
    "train.shape, test.shape"
   ]
  },
  {
   "cell_type": "markdown",
   "metadata": {
    "colab_type": "text",
    "id": "yT6qqbA8pk4r"
   },
   "source": [
    "K Prototypes Clustering\n",
    "\n",
    "*   plot number clusters against the cost functin for k prototypes to choose the optimal number of clusters (K). \n",
    "*   by looking at the plot below, looks like the curve slightly bends at k =3.  \n",
    "\n"
   ]
  },
  {
   "cell_type": "code",
   "execution_count": 47,
   "metadata": {
    "colab": {
     "base_uri": "https://localhost:8080/",
     "height": 351
    },
    "colab_type": "code",
    "id": "bYJFjyPJoOFM",
    "outputId": "7e780dd3-1406-476c-e018-e3b680d7c76f"
   },
   "outputs": [
    {
     "data": {
      "text/plain": [
       "<function matplotlib.pyplot.show>"
      ]
     },
     "execution_count": 47,
     "metadata": {
      "tags": []
     },
     "output_type": "execute_result"
    },
    {
     "data": {
      "image/png": "[encoded data removed]",
      "text/plain": [
       "<Figure size 360x360 with 1 Axes>"
      ]
     },
     "metadata": {
      "needs_background": "light",
      "tags": []
     },
     "output_type": "display_data"
    }
   ],
   "source": [
    "#Choosing optimal K value\n",
    "cost = []\n",
    "X = train\n",
    "for num_clusters in list(range(2,7)):\n",
    "    kproto = KPrototypes(n_clusters=num_clusters, init='Huang', random_state=42,n_jobs=-2,max_iter=8,n_init=50) \n",
    "    kproto.fit_predict(X, categorical=[3,4])\n",
    "    cost.append(kproto.cost_)\n",
    "\n",
    "plt.plot(cost)\n",
    "plt.xlabel('K')\n",
    "plt.ylabel('cost')\n",
    "plt.show()"
   ]
  },
  {
   "cell_type": "code",
   "execution_count": 41,
   "metadata": {
    "colab": {},
    "colab_type": "code",
    "id": "rUmSImUUprLL"
   },
   "outputs": [],
   "source": [
    "# Running K-Prototype clustering\n",
    "kproto = KPrototypes(n_clusters=3, init='Huang', verbose=0, random_state=42,max_iter=10, n_init=50,n_jobs=-2,gamma=.25) \n",
    "clusters = kproto.fit_predict(train, categorical=[3,4])"
   ]
  },
  {
   "cell_type": "code",
   "execution_count": 42,
   "metadata": {
    "colab": {
     "base_uri": "https://localhost:8080/",
     "height": 306
    },
    "colab_type": "code",
    "id": "7PH_VnTxy5iT",
    "outputId": "8c38deec-b1e5-4bab-95a8-a0bab02a6df4"
   },
   "outputs": [
    {
     "name": "stderr",
     "output_type": "stream",
     "text": [
      "/usr/local/lib/python3.6/dist-packages/ipykernel_launcher.py:1: SettingWithCopyWarning: \n",
      "A value is trying to be set on a copy of a slice from a DataFrame.\n",
      "Try using .loc[row_indexer,col_indexer] = value instead\n",
      "\n",
      "See the caveats in the documentation: https://pandas.pydata.org/pandas-docs/stable/user_guide/indexing.html#returning-a-view-versus-a-copy\n",
      "  \"\"\"Entry point for launching an IPython kernel.\n"
     ]
    },
    {
     "data": {
      "text/html": [
       "<div>\n",
       "<style scoped>\n",
       "    .dataframe tbody tr th:only-of-type {\n",
       "        vertical-align: middle;\n",
       "    }\n",
       "\n",
       "    .dataframe tbody tr th {\n",
       "        vertical-align: top;\n",
       "    }\n",
       "\n",
       "    .dataframe thead th {\n",
       "        text-align: right;\n",
       "    }\n",
       "</style>\n",
       "<table border=\"1\" class=\"dataframe\">\n",
       "  <thead>\n",
       "    <tr style=\"text-align: right;\">\n",
       "      <th></th>\n",
       "      <th>AgeNBR</th>\n",
       "      <th>VisitsCNT</th>\n",
       "      <th>RiskNBR</th>\n",
       "      <th>ClinicID_class</th>\n",
       "      <th>Modality_class</th>\n",
       "      <th>cluster_id</th>\n",
       "    </tr>\n",
       "  </thead>\n",
       "  <tbody>\n",
       "    <tr>\n",
       "      <th>1</th>\n",
       "      <td>0.345679</td>\n",
       "      <td>0.027397</td>\n",
       "      <td>0.017784</td>\n",
       "      <td>0</td>\n",
       "      <td>10</td>\n",
       "      <td>2</td>\n",
       "    </tr>\n",
       "    <tr>\n",
       "      <th>2</th>\n",
       "      <td>0.506173</td>\n",
       "      <td>0.000000</td>\n",
       "      <td>0.121674</td>\n",
       "      <td>1</td>\n",
       "      <td>13</td>\n",
       "      <td>1</td>\n",
       "    </tr>\n",
       "    <tr>\n",
       "      <th>3</th>\n",
       "      <td>0.222222</td>\n",
       "      <td>0.000000</td>\n",
       "      <td>0.075270</td>\n",
       "      <td>1</td>\n",
       "      <td>5</td>\n",
       "      <td>1</td>\n",
       "    </tr>\n",
       "    <tr>\n",
       "      <th>5</th>\n",
       "      <td>0.296296</td>\n",
       "      <td>0.000000</td>\n",
       "      <td>0.145113</td>\n",
       "      <td>1</td>\n",
       "      <td>6</td>\n",
       "      <td>1</td>\n",
       "    </tr>\n",
       "    <tr>\n",
       "      <th>7</th>\n",
       "      <td>0.271605</td>\n",
       "      <td>0.013699</td>\n",
       "      <td>0.050386</td>\n",
       "      <td>0</td>\n",
       "      <td>10</td>\n",
       "      <td>2</td>\n",
       "    </tr>\n",
       "  </tbody>\n",
       "</table>\n",
       "</div>"
      ],
      "text/plain": [
       "     AgeNBR  VisitsCNT   RiskNBR  ClinicID_class  Modality_class  cluster_id\n",
       "1  0.345679   0.027397  0.017784               0              10           2\n",
       "2  0.506173   0.000000  0.121674               1              13           1\n",
       "3  0.222222   0.000000  0.075270               1               5           1\n",
       "5  0.296296   0.000000  0.145113               1               6           1\n",
       "7  0.271605   0.013699  0.050386               0              10           2"
      ]
     },
     "execution_count": 42,
     "metadata": {
      "tags": []
     },
     "output_type": "execute_result"
    }
   ],
   "source": [
    "train['cluster_id'] = clusters\n",
    "train.head()"
   ]
  },
  {
   "cell_type": "markdown",
   "metadata": {
    "colab_type": "text",
    "id": "a-kBziHxUfZi"
   },
   "source": [
    "**test result for model 1 ( k= 3, AgeNBR\tVisitsCNT\tRiskNBR\tClinicID_class\tModality_class)**\n",
    "by looking at the cluster centroids for each cluster, ageNBR and ModalityDSC are not clustered well. The modality is clustered around Primary and Age is clustered around 58. Let's re-perform clustering by removing AgeNBR and ModalityDSC."
   ]
  },
  {
   "cell_type": "code",
   "execution_count": 43,
   "metadata": {
    "colab": {
     "base_uri": "https://localhost:8080/",
     "height": 142
    },
    "colab_type": "code",
    "id": "D4SPMMSRxMTT",
    "outputId": "83313852-7e8f-41f0-c313-838b85177b91"
   },
   "outputs": [
    {
     "data": {
      "text/html": [
       "<div>\n",
       "<style scoped>\n",
       "    .dataframe tbody tr th:only-of-type {\n",
       "        vertical-align: middle;\n",
       "    }\n",
       "\n",
       "    .dataframe tbody tr th {\n",
       "        vertical-align: top;\n",
       "    }\n",
       "\n",
       "    .dataframe thead th {\n",
       "        text-align: right;\n",
       "    }\n",
       "</style>\n",
       "<table border=\"1\" class=\"dataframe\">\n",
       "  <thead>\n",
       "    <tr style=\"text-align: right;\">\n",
       "      <th></th>\n",
       "      <th>AgeNBR</th>\n",
       "      <th>VisitsCNT</th>\n",
       "      <th>RiskNBR</th>\n",
       "      <th>ClinicID_class</th>\n",
       "      <th>Modality_class</th>\n",
       "    </tr>\n",
       "  </thead>\n",
       "  <tbody>\n",
       "    <tr>\n",
       "      <th>0</th>\n",
       "      <td>58.586152</td>\n",
       "      <td>2.352537</td>\n",
       "      <td>1.004820</td>\n",
       "      <td>2.0</td>\n",
       "      <td>14.0</td>\n",
       "    </tr>\n",
       "    <tr>\n",
       "      <th>1</th>\n",
       "      <td>59.021352</td>\n",
       "      <td>2.454804</td>\n",
       "      <td>0.958852</td>\n",
       "      <td>1.0</td>\n",
       "      <td>14.0</td>\n",
       "    </tr>\n",
       "    <tr>\n",
       "      <th>2</th>\n",
       "      <td>58.386128</td>\n",
       "      <td>2.476242</td>\n",
       "      <td>1.007429</td>\n",
       "      <td>0.0</td>\n",
       "      <td>14.0</td>\n",
       "    </tr>\n",
       "  </tbody>\n",
       "</table>\n",
       "</div>"
      ],
      "text/plain": [
       "      AgeNBR  VisitsCNT   RiskNBR  ClinicID_class  Modality_class\n",
       "0  58.586152   2.352537  1.004820             2.0            14.0\n",
       "1  59.021352   2.454804  0.958852             1.0            14.0\n",
       "2  58.386128   2.476242  1.007429             0.0            14.0"
      ]
     },
     "execution_count": 43,
     "metadata": {
      "tags": []
     },
     "output_type": "execute_result"
    }
   ],
   "source": [
    "result_centroids = kproto.cluster_centroids_\n",
    "con_centroids_df = pd.DataFrame(result_centroids[0], columns= [\"AgeNBR\", \"VisitsCNT\", \"RiskNBR\"])\n",
    "cat_centroids_df = pd.DataFrame(result_centroids[1], columns= [\"ClinicID_class\", \"Modality_class\"])\n",
    "#un-normalize\n",
    "def un_tr(x, y): \n",
    "  df = y * (np.max(x) - np.min(x)) + np.min(x)\n",
    "  return df\n",
    "\n",
    "un_df = un_tr(contin_data, con_centroids_df)\n",
    "un_normalized_df = pd.concat([un_df,cat_centroids_df ], axis = 1)\n",
    "un_normalized_df"
   ]
  },
  {
   "cell_type": "markdown",
   "metadata": {
    "colab_type": "text",
    "id": "Ts2dwqOhVcu4"
   },
   "source": [
    "**Model 2 (k =3, VisitsCNT,\tRiskNBR,\tClinicID_class)**\n",
    "\n",
    "\n"
   ]
  },
  {
   "cell_type": "code",
   "execution_count": 44,
   "metadata": {
    "colab": {},
    "colab_type": "code",
    "id": "BgKAwa1bqHhN"
   },
   "outputs": [],
   "source": [
    "train_2 = train.drop(columns = [\"AgeNBR\", \"Modality_class\"], axis=1 )"
   ]
  },
  {
   "cell_type": "code",
   "execution_count": 45,
   "metadata": {
    "colab": {},
    "colab_type": "code",
    "id": "19QLwWiSqDc3"
   },
   "outputs": [],
   "source": [
    "# Running K-Prototype clustering again\n",
    "kproto2 = KPrototypes(n_clusters=3, init='Huang', verbose=0, random_state=42,max_iter=10, n_init=50,n_jobs=-2,gamma=.25) \n",
    "clusters2 = kproto2.fit_predict(train_2, categorical=[2])"
   ]
  },
  {
   "cell_type": "markdown",
   "metadata": {
    "colab_type": "text",
    "id": "NfL4uCDoWd5z"
   },
   "source": [
    "The cluster result with a few variables indicates that each clinic is custered with RiskNBR around 1 and VisitCNT around 2. More variables that are associated are needed for k prototypes clustering.  "
   ]
  },
  {
   "cell_type": "code",
   "execution_count": 46,
   "metadata": {
    "colab": {
     "base_uri": "https://localhost:8080/",
     "height": 142
    },
    "colab_type": "code",
    "id": "HD4ig0mnp_dN",
    "outputId": "33049395-1602-44b5-d0d4-60c228db345d"
   },
   "outputs": [
    {
     "data": {
      "text/html": [
       "<div>\n",
       "<style scoped>\n",
       "    .dataframe tbody tr th:only-of-type {\n",
       "        vertical-align: middle;\n",
       "    }\n",
       "\n",
       "    .dataframe tbody tr th {\n",
       "        vertical-align: top;\n",
       "    }\n",
       "\n",
       "    .dataframe thead th {\n",
       "        text-align: right;\n",
       "    }\n",
       "</style>\n",
       "<table border=\"1\" class=\"dataframe\">\n",
       "  <thead>\n",
       "    <tr style=\"text-align: right;\">\n",
       "      <th></th>\n",
       "      <th>VisitsCNT</th>\n",
       "      <th>RiskNBR</th>\n",
       "      <th>ClinicID_class</th>\n",
       "      <th>Cluster_id</th>\n",
       "    </tr>\n",
       "  </thead>\n",
       "  <tbody>\n",
       "    <tr>\n",
       "      <th>0</th>\n",
       "      <td>2.352537</td>\n",
       "      <td>1.004820</td>\n",
       "      <td>0.0</td>\n",
       "      <td>2.0</td>\n",
       "    </tr>\n",
       "    <tr>\n",
       "      <th>1</th>\n",
       "      <td>2.454804</td>\n",
       "      <td>0.958852</td>\n",
       "      <td>1.0</td>\n",
       "      <td>1.0</td>\n",
       "    </tr>\n",
       "    <tr>\n",
       "      <th>2</th>\n",
       "      <td>2.476242</td>\n",
       "      <td>1.007429</td>\n",
       "      <td>2.0</td>\n",
       "      <td>0.0</td>\n",
       "    </tr>\n",
       "  </tbody>\n",
       "</table>\n",
       "</div>"
      ],
      "text/plain": [
       "   VisitsCNT   RiskNBR  ClinicID_class  Cluster_id\n",
       "0   2.352537  1.004820             0.0         2.0\n",
       "1   2.454804  0.958852             1.0         1.0\n",
       "2   2.476242  1.007429             2.0         0.0"
      ]
     },
     "execution_count": 46,
     "metadata": {
      "tags": []
     },
     "output_type": "execute_result"
    }
   ],
   "source": [
    "result2_centroids = kproto2.cluster_centroids_\n",
    "con_centroids_df2 = pd.DataFrame(result2_centroids[0], columns= [\"VisitsCNT\", \"RiskNBR\", \"ClinicID_class\"])\n",
    "cat_centroids_df2 = pd.DataFrame(result2_centroids[1], columns= [\"Cluster_id\"])\n",
    "#un-normalize\n",
    "def un_tr(x, y): \n",
    "  df = y * (np.max(x) - np.min(x)) + np.min(x)\n",
    "  return df\n",
    "\n",
    "un_df2 = un_tr(contin_data.iloc[:,1:3], con_centroids_df2.iloc[:,0:2])\n",
    "un_normalized_df2 = pd.concat([un_df2, con_centroids_df2.iloc[:,-1] ], axis = 1)\n",
    "un_normalized_df2 = pd.concat([un_normalized_df2, cat_centroids_df2 ], axis = 1)\n",
    "un_normalized_df2"
   ]
  },
  {
   "cell_type": "markdown",
   "metadata": {
    "colab_type": "text",
    "id": "dhdmS8vUXcV-"
   },
   "source": [
    "**3D graph for clustering**"
   ]
  },
  {
   "cell_type": "code",
   "execution_count": 47,
   "metadata": {
    "colab": {
     "base_uri": "https://localhost:8080/",
     "height": 204
    },
    "colab_type": "code",
    "id": "9YU2ORaoXncb",
    "outputId": "a8aed855-623d-4447-fe97-585a6f5f6e1b"
   },
   "outputs": [
    {
     "data": {
      "text/html": [
       "<div>\n",
       "<style scoped>\n",
       "    .dataframe tbody tr th:only-of-type {\n",
       "        vertical-align: middle;\n",
       "    }\n",
       "\n",
       "    .dataframe tbody tr th {\n",
       "        vertical-align: top;\n",
       "    }\n",
       "\n",
       "    .dataframe thead th {\n",
       "        text-align: right;\n",
       "    }\n",
       "</style>\n",
       "<table border=\"1\" class=\"dataframe\">\n",
       "  <thead>\n",
       "    <tr style=\"text-align: right;\">\n",
       "      <th></th>\n",
       "      <th>VisitsCNT</th>\n",
       "      <th>RiskNBR</th>\n",
       "      <th>ClinicID_class</th>\n",
       "      <th>cluster_id</th>\n",
       "    </tr>\n",
       "  </thead>\n",
       "  <tbody>\n",
       "    <tr>\n",
       "      <th>1</th>\n",
       "      <td>3.0</td>\n",
       "      <td>0.165685</td>\n",
       "      <td>0</td>\n",
       "      <td>2</td>\n",
       "    </tr>\n",
       "    <tr>\n",
       "      <th>2</th>\n",
       "      <td>1.0</td>\n",
       "      <td>1.133132</td>\n",
       "      <td>1</td>\n",
       "      <td>1</td>\n",
       "    </tr>\n",
       "    <tr>\n",
       "      <th>3</th>\n",
       "      <td>1.0</td>\n",
       "      <td>0.701008</td>\n",
       "      <td>1</td>\n",
       "      <td>1</td>\n",
       "    </tr>\n",
       "    <tr>\n",
       "      <th>5</th>\n",
       "      <td>1.0</td>\n",
       "      <td>1.351404</td>\n",
       "      <td>1</td>\n",
       "      <td>1</td>\n",
       "    </tr>\n",
       "    <tr>\n",
       "      <th>7</th>\n",
       "      <td>2.0</td>\n",
       "      <td>0.469282</td>\n",
       "      <td>0</td>\n",
       "      <td>2</td>\n",
       "    </tr>\n",
       "  </tbody>\n",
       "</table>\n",
       "</div>"
      ],
      "text/plain": [
       "   VisitsCNT   RiskNBR  ClinicID_class  cluster_id\n",
       "1        3.0  0.165685               0           2\n",
       "2        1.0  1.133132               1           1\n",
       "3        1.0  0.701008               1           1\n",
       "5        1.0  1.351404               1           1\n",
       "7        2.0  0.469282               0           2"
      ]
     },
     "execution_count": 47,
     "metadata": {
      "tags": []
     },
     "output_type": "execute_result"
    }
   ],
   "source": [
    "un_normalized_train2_df = un_tr(contin_data.iloc[:,1:3], train_2.iloc[:,0:2])\n",
    "un_normalized_train2_df = pd.concat([un_normalized_train2_df, train_2.iloc[:,2:4] ], axis = 1)\n",
    "un_normalized_train2_df.head()"
   ]
  },
  {
   "cell_type": "code",
   "execution_count": 48,
   "metadata": {
    "colab": {
     "base_uri": "https://localhost:8080/",
     "height": 391
    },
    "colab_type": "code",
    "id": "wBaxnGNI2T2F",
    "outputId": "63d2c029-717f-49a3-f26b-0abb518997ff"
   },
   "outputs": [
    {
     "data": {
      "image/png": "[encoded data removed]",
      "text/plain": [
       "<Figure size 360x360 with 1 Axes>"
      ]
     },
     "metadata": {
      "needs_background": "light",
      "tags": []
     },
     "output_type": "display_data"
    }
   ],
   "source": [
    "train_2['cluster_id'] = clusters\n",
    "from mpl_toolkits.mplot3d import Axes3D\n",
    "X = train_2.loc[(train[\"cluster_id\"] == 1), \"VisitsCNT\"]\n",
    "Y = train_2.loc[(train[\"cluster_id\"] == 1), \"RiskNBR\"]\n",
    "Z = train_2.loc[(train[\"cluster_id\"] == 1), \"ClinicID_class\"]\n",
    "\n",
    "fig = plt.figure()\n",
    "ax = Axes3D(fig)\n",
    "ax.scatter(X, Y, c = 'green')\n",
    "ax.set_xlabel(\"VisitsCNT\")\n",
    "ax.set_ylabel(\"RiskNBR\")\n",
    "ax.set_zlabel(\"ClinicID_class\")\n",
    "plt.show()"
   ]
  },
  {
   "cell_type": "markdown",
   "metadata": {
    "colab_type": "text",
    "id": "Rl9qmlzqdUk3"
   },
   "source": [
    "##Next Steps\n",
    "\n",
    "\n",
    "1.   Analyze user (patient) behaviors by understanding the patients who visited a clinic have used more than one serice with time and frequency. e.g. timeseries analysis for VisitsCNT. \n",
    "2.  Analyze patient behaviors by determining if they use onsite clinic more than online or vice versa. Predict patient visits by clinic classification.\n",
    "3. Incorporate more continuous variables to understand the natural grouping among continuous variables and categorical variables for clustering.\n",
    "4. understand seasonality of patient visits\n"
   ]
  }
 ],
 "metadata": {
  "accelerator": "GPU",
  "colab": {
   "name": "CrossoverHealther_data_challenge.ipynb",
   "provenance": []
  },
  "kernelspec": {
   "display_name": "Python 3",
   "language": "python",
   "name": "python3"
  },
  "language_info": {
   "codemirror_mode": {
    "name": "ipython",
    "version": 3
   },
   "file_extension": ".py",
   "mimetype": "text/x-python",
   "name": "python",
   "nbconvert_exporter": "python",
   "pygments_lexer": "ipython3",
   "version": "3.6.5"
  }
 },
 "nbformat": 4,
 "nbformat_minor": 1
}
