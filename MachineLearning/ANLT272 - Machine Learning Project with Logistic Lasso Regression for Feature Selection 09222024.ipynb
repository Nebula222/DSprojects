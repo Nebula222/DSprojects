{
 "cells": [
  {
   "cell_type": "code",
   "execution_count": 1,
   "metadata": {},
   "outputs": [],
   "source": [
    "# Get Dataset\n",
    "import pandas as pd\n",
    "import numpy as np\n",
    "import seaborn as sns\n",
    "import matplotlib.pyplot as plt\n",
    "import os\n",
    "from scipy import stats\n",
    "import statsmodels.api as sm\n",
    "import matplotlib.pyplot as plt\n",
    "from scipy.stats import levene, ttest_ind, wilcoxon, mannwhitneyu\n",
    "from sklearn.model_selection import train_test_split\n",
    "from sklearn.preprocessing import StandardScaler\n",
    "from sklearn.linear_model import LassoCV, LogisticRegressionCV\n",
    "from sklearn.decomposition import PCA\n",
    "from sklearn.metrics import mean_squared_error, classification_report, confusion_matrix, roc_auc_score, accuracy_score\n",
    "from scipy.stats import shapiro\n",
    "import xgboost as xgb"
   ]
  },
  {
   "cell_type": "code",
   "execution_count": 2,
   "metadata": {},
   "outputs": [],
   "source": [
    "data = pd.read_csv('./DataExtract.csv')"
   ]
  },
  {
   "cell_type": "code",
   "execution_count": 3,
   "metadata": {},
   "outputs": [
    {
     "data": {
      "text/html": [
       "<div>\n",
       "<style scoped>\n",
       "    .dataframe tbody tr th:only-of-type {\n",
       "        vertical-align: middle;\n",
       "    }\n",
       "\n",
       "    .dataframe tbody tr th {\n",
       "        vertical-align: top;\n",
       "    }\n",
       "\n",
       "    .dataframe thead th {\n",
       "        text-align: right;\n",
       "    }\n",
       "</style>\n",
       "<table border=\"1\" class=\"dataframe\">\n",
       "  <thead>\n",
       "    <tr style=\"text-align: right;\">\n",
       "      <th></th>\n",
       "      <th>pdc</th>\n",
       "      <th>num_ip_post</th>\n",
       "      <th>total_los_post</th>\n",
       "      <th>num_op_post</th>\n",
       "      <th>num_er_post</th>\n",
       "      <th>num_ndc_post</th>\n",
       "      <th>num_gpi6_post</th>\n",
       "      <th>adjust_total_30d_post</th>\n",
       "      <th>generic_rate_post</th>\n",
       "      <th>post_ip_flag</th>\n",
       "      <th>...</th>\n",
       "      <th>brand_cost</th>\n",
       "      <th>ratio_G_total_cost</th>\n",
       "      <th>numofgen_post</th>\n",
       "      <th>numofbrand_post</th>\n",
       "      <th>generic_cost_post</th>\n",
       "      <th>brand_cost_post</th>\n",
       "      <th>ratio_G_total_cost_post</th>\n",
       "      <th>pdc_80_flag</th>\n",
       "      <th>drug_class</th>\n",
       "      <th>patient_key</th>\n",
       "    </tr>\n",
       "  </thead>\n",
       "  <tbody>\n",
       "    <tr>\n",
       "      <th>0</th>\n",
       "      <td>0.894444</td>\n",
       "      <td>0</td>\n",
       "      <td>0</td>\n",
       "      <td>8</td>\n",
       "      <td>0</td>\n",
       "      <td>17</td>\n",
       "      <td>3</td>\n",
       "      <td>6.966667</td>\n",
       "      <td>1.000000</td>\n",
       "      <td>0</td>\n",
       "      <td>...</td>\n",
       "      <td>239.699550</td>\n",
       "      <td>0.710850</td>\n",
       "      <td>17</td>\n",
       "      <td>0</td>\n",
       "      <td>4332.043215</td>\n",
       "      <td>0.000000</td>\n",
       "      <td>1.000000</td>\n",
       "      <td>1</td>\n",
       "      <td>*ANTICOAGULANTS*</td>\n",
       "      <td>121</td>\n",
       "    </tr>\n",
       "    <tr>\n",
       "      <th>1</th>\n",
       "      <td>0.333333</td>\n",
       "      <td>0</td>\n",
       "      <td>0</td>\n",
       "      <td>4</td>\n",
       "      <td>0</td>\n",
       "      <td>15</td>\n",
       "      <td>5</td>\n",
       "      <td>14.466667</td>\n",
       "      <td>0.101382</td>\n",
       "      <td>0</td>\n",
       "      <td>...</td>\n",
       "      <td>2984.927229</td>\n",
       "      <td>0.010155</td>\n",
       "      <td>2</td>\n",
       "      <td>13</td>\n",
       "      <td>196.359216</td>\n",
       "      <td>3001.501507</td>\n",
       "      <td>0.061403</td>\n",
       "      <td>0</td>\n",
       "      <td>*ANTIDIABETICS*</td>\n",
       "      <td>168</td>\n",
       "    </tr>\n",
       "    <tr>\n",
       "      <th>2</th>\n",
       "      <td>0.077778</td>\n",
       "      <td>0</td>\n",
       "      <td>0</td>\n",
       "      <td>32</td>\n",
       "      <td>0</td>\n",
       "      <td>11</td>\n",
       "      <td>7</td>\n",
       "      <td>3.833333</td>\n",
       "      <td>0.739130</td>\n",
       "      <td>0</td>\n",
       "      <td>...</td>\n",
       "      <td>0.000000</td>\n",
       "      <td>1.000000</td>\n",
       "      <td>10</td>\n",
       "      <td>1</td>\n",
       "      <td>203.603270</td>\n",
       "      <td>1154.818505</td>\n",
       "      <td>0.149882</td>\n",
       "      <td>0</td>\n",
       "      <td>*ANTICOAGULANTS*</td>\n",
       "      <td>267</td>\n",
       "    </tr>\n",
       "    <tr>\n",
       "      <th>3</th>\n",
       "      <td>0.333333</td>\n",
       "      <td>0</td>\n",
       "      <td>0</td>\n",
       "      <td>57</td>\n",
       "      <td>0</td>\n",
       "      <td>16</td>\n",
       "      <td>6</td>\n",
       "      <td>24.000000</td>\n",
       "      <td>0.958333</td>\n",
       "      <td>0</td>\n",
       "      <td>...</td>\n",
       "      <td>160.804799</td>\n",
       "      <td>0.291008</td>\n",
       "      <td>15</td>\n",
       "      <td>1</td>\n",
       "      <td>140.952640</td>\n",
       "      <td>265.057382</td>\n",
       "      <td>0.347165</td>\n",
       "      <td>0</td>\n",
       "      <td>*ANTICOAGULANTS*</td>\n",
       "      <td>468</td>\n",
       "    </tr>\n",
       "    <tr>\n",
       "      <th>4</th>\n",
       "      <td>0.866667</td>\n",
       "      <td>0</td>\n",
       "      <td>0</td>\n",
       "      <td>5</td>\n",
       "      <td>0</td>\n",
       "      <td>16</td>\n",
       "      <td>4</td>\n",
       "      <td>18.000000</td>\n",
       "      <td>0.888889</td>\n",
       "      <td>0</td>\n",
       "      <td>...</td>\n",
       "      <td>0.000000</td>\n",
       "      <td>1.000000</td>\n",
       "      <td>14</td>\n",
       "      <td>2</td>\n",
       "      <td>671.755173</td>\n",
       "      <td>735.661568</td>\n",
       "      <td>0.477297</td>\n",
       "      <td>1</td>\n",
       "      <td>*ANTIDIABETICS*</td>\n",
       "      <td>499</td>\n",
       "    </tr>\n",
       "  </tbody>\n",
       "</table>\n",
       "<p>5 rows × 95 columns</p>\n",
       "</div>"
      ],
      "text/plain": [
       "        pdc  num_ip_post  total_los_post  num_op_post  num_er_post  \\\n",
       "0  0.894444            0               0            8            0   \n",
       "1  0.333333            0               0            4            0   \n",
       "2  0.077778            0               0           32            0   \n",
       "3  0.333333            0               0           57            0   \n",
       "4  0.866667            0               0            5            0   \n",
       "\n",
       "   num_ndc_post  num_gpi6_post  adjust_total_30d_post  generic_rate_post  \\\n",
       "0            17              3               6.966667           1.000000   \n",
       "1            15              5              14.466667           0.101382   \n",
       "2            11              7               3.833333           0.739130   \n",
       "3            16              6              24.000000           0.958333   \n",
       "4            16              4              18.000000           0.888889   \n",
       "\n",
       "   post_ip_flag     ...        brand_cost  ratio_G_total_cost  numofgen_post  \\\n",
       "0             0     ...        239.699550            0.710850             17   \n",
       "1             0     ...       2984.927229            0.010155              2   \n",
       "2             0     ...          0.000000            1.000000             10   \n",
       "3             0     ...        160.804799            0.291008             15   \n",
       "4             0     ...          0.000000            1.000000             14   \n",
       "\n",
       "   numofbrand_post  generic_cost_post  brand_cost_post  \\\n",
       "0                0        4332.043215         0.000000   \n",
       "1               13         196.359216      3001.501507   \n",
       "2                1         203.603270      1154.818505   \n",
       "3                1         140.952640       265.057382   \n",
       "4                2         671.755173       735.661568   \n",
       "\n",
       "   ratio_G_total_cost_post  pdc_80_flag        drug_class  patient_key  \n",
       "0                 1.000000            1  *ANTICOAGULANTS*          121  \n",
       "1                 0.061403            0   *ANTIDIABETICS*          168  \n",
       "2                 0.149882            0  *ANTICOAGULANTS*          267  \n",
       "3                 0.347165            0  *ANTICOAGULANTS*          468  \n",
       "4                 0.477297            1   *ANTIDIABETICS*          499  \n",
       "\n",
       "[5 rows x 95 columns]"
      ]
     },
     "execution_count": 3,
     "metadata": {},
     "output_type": "execute_result"
    }
   ],
   "source": [
    "data.head()"
   ]
  },
  {
   "cell_type": "code",
   "execution_count": 4,
   "metadata": {},
   "outputs": [
    {
     "data": {
      "text/plain": [
       "3550"
      ]
     },
     "execution_count": 4,
     "metadata": {},
     "output_type": "execute_result"
    }
   ],
   "source": [
    "data.patient_key.nunique()"
   ]
  },
  {
   "cell_type": "code",
   "execution_count": 5,
   "metadata": {},
   "outputs": [
    {
     "data": {
      "text/plain": [
       "(3550, 95)"
      ]
     },
     "execution_count": 5,
     "metadata": {},
     "output_type": "execute_result"
    }
   ],
   "source": [
    "data.shape #no duplicate records"
   ]
  },
  {
   "cell_type": "code",
   "execution_count": 6,
   "metadata": {},
   "outputs": [],
   "source": [
    "data_pdc_pop = data.groupby(['drug_class', 'pdc_80_flag']).patient_key.nunique()"
   ]
  },
  {
   "cell_type": "code",
   "execution_count": 7,
   "metadata": {},
   "outputs": [
    {
     "data": {
      "text/plain": [
       "drug_class        pdc_80_flag\n",
       "*ANTICOAGULANTS*  0              1437\n",
       "                  1               391\n",
       "*ANTIDIABETICS*   0              1051\n",
       "                  1               671\n",
       "Name: patient_key, dtype: int64"
      ]
     },
     "execution_count": 7,
     "metadata": {},
     "output_type": "execute_result"
    }
   ],
   "source": [
    "data_pdc_pop"
   ]
  },
  {
   "cell_type": "code",
   "execution_count": 15,
   "metadata": {},
   "outputs": [],
   "source": [
    "# Filter data for ANTIDIABETICS drug class\n",
    "AD = data[data['drug_class'].str.contains('ANTIDIABETICS')]\n",
    "AD = AD.rename(columns=lambda x: x.lower())\n"
   ]
  },
  {
   "cell_type": "code",
   "execution_count": 16,
   "metadata": {},
   "outputs": [
    {
     "data": {
      "text/plain": [
       "0    1051\n",
       "1     671\n",
       "Name: pdc_80_flag, dtype: int64"
      ]
     },
     "execution_count": 16,
     "metadata": {},
     "output_type": "execute_result"
    }
   ],
   "source": [
    "AD['pdc_80_flag'].value_counts()"
   ]
  },
  {
   "cell_type": "code",
   "execution_count": 17,
   "metadata": {},
   "outputs": [],
   "source": [
    "AD_v2 = AD.drop(columns = ['pdc_80_flag',  'drug_class', 'patient_key', 'pdc_cat', 'pdc'])"
   ]
  },
  {
   "cell_type": "markdown",
   "metadata": {},
   "source": [
    "### model 2: feature selection using Logistic Lasso Regression"
   ]
  },
  {
   "cell_type": "code",
   "execution_count": 18,
   "metadata": {},
   "outputs": [],
   "source": [
    "X_train2, X_test2, y_train2, y_test2 = train_test_split(AD_v2, y, test_size=0.2, random_state=42)"
   ]
  },
  {
   "cell_type": "code",
   "execution_count": 19,
   "metadata": {},
   "outputs": [],
   "source": [
    "cat = ['age_grpn', 'regionn', 'sexn']\n",
    "X_train_con2 = X_train2.drop(columns = cat).fillna(0)\n",
    "X_train_cat2 = X_train2[cat]\n",
    "X_test_con2 = X_test2.drop(columns = cat).fillna(0)\n",
    "X_test_cat2 = X_test2[cat]"
   ]
  },
  {
   "cell_type": "code",
   "execution_count": 20,
   "metadata": {},
   "outputs": [],
   "source": [
    "scaler = StandardScaler()\n",
    "X_train_normalized2 = scaler.fit_transform(X_train_con2)\n",
    "X_test_normalized2 = scaler.transform(X_test_con2)"
   ]
  },
  {
   "cell_type": "code",
   "execution_count": 21,
   "metadata": {},
   "outputs": [],
   "source": [
    "X_train_normalized_df2 = pd.DataFrame(X_train_normalized2, columns = X_train_con2.columns)\n",
    "X_test_normalized_df2 = pd.DataFrame(X_test_normalized2, columns = X_train_con2.columns)\n",
    "X_train_normalized_df2.reset_index(drop=True, inplace=True)\n",
    "X_train_cat2.reset_index(drop=True, inplace=True)\n",
    "X_test_normalized_df2.reset_index(drop=True, inplace=True)\n",
    "X_test_cat2.reset_index(drop=True, inplace=True)"
   ]
  },
  {
   "cell_type": "code",
   "execution_count": 22,
   "metadata": {},
   "outputs": [
    {
     "data": {
      "text/html": [
       "<div>\n",
       "<style scoped>\n",
       "    .dataframe tbody tr th:only-of-type {\n",
       "        vertical-align: middle;\n",
       "    }\n",
       "\n",
       "    .dataframe tbody tr th {\n",
       "        vertical-align: top;\n",
       "    }\n",
       "\n",
       "    .dataframe thead th {\n",
       "        text-align: right;\n",
       "    }\n",
       "</style>\n",
       "<table border=\"1\" class=\"dataframe\">\n",
       "  <thead>\n",
       "    <tr style=\"text-align: right;\">\n",
       "      <th></th>\n",
       "      <th>num_ip_post</th>\n",
       "      <th>total_los_post</th>\n",
       "      <th>num_op_post</th>\n",
       "      <th>num_er_post</th>\n",
       "      <th>num_ndc_post</th>\n",
       "      <th>num_gpi6_post</th>\n",
       "      <th>adjust_total_30d_post</th>\n",
       "      <th>generic_rate_post</th>\n",
       "      <th>post_ip_flag</th>\n",
       "      <th>post_er_flag</th>\n",
       "      <th>...</th>\n",
       "      <th>numofgen</th>\n",
       "      <th>numofbrand</th>\n",
       "      <th>generic_cost</th>\n",
       "      <th>brand_cost</th>\n",
       "      <th>ratio_g_total_cost</th>\n",
       "      <th>numofgen_post</th>\n",
       "      <th>numofbrand_post</th>\n",
       "      <th>generic_cost_post</th>\n",
       "      <th>brand_cost_post</th>\n",
       "      <th>ratio_g_total_cost_post</th>\n",
       "    </tr>\n",
       "  </thead>\n",
       "  <tbody>\n",
       "    <tr>\n",
       "      <th>1374</th>\n",
       "      <td>-0.269487</td>\n",
       "      <td>-0.178651</td>\n",
       "      <td>-0.374638</td>\n",
       "      <td>-0.329215</td>\n",
       "      <td>-0.833134</td>\n",
       "      <td>-0.730952</td>\n",
       "      <td>-0.330888</td>\n",
       "      <td>0.990640</td>\n",
       "      <td>-0.290262</td>\n",
       "      <td>-0.395185</td>\n",
       "      <td>...</td>\n",
       "      <td>-0.018001</td>\n",
       "      <td>-0.682009</td>\n",
       "      <td>0.277723</td>\n",
       "      <td>-0.367234</td>\n",
       "      <td>1.110007</td>\n",
       "      <td>-0.568545</td>\n",
       "      <td>-0.861408</td>\n",
       "      <td>-0.446864</td>\n",
       "      <td>-0.487602</td>\n",
       "      <td>1.364182</td>\n",
       "    </tr>\n",
       "    <tr>\n",
       "      <th>1375</th>\n",
       "      <td>-0.269487</td>\n",
       "      <td>-0.178651</td>\n",
       "      <td>2.081387</td>\n",
       "      <td>1.244845</td>\n",
       "      <td>2.738248</td>\n",
       "      <td>4.732521</td>\n",
       "      <td>5.281420</td>\n",
       "      <td>-0.147297</td>\n",
       "      <td>-0.290262</td>\n",
       "      <td>2.530460</td>\n",
       "      <td>...</td>\n",
       "      <td>2.363316</td>\n",
       "      <td>1.517351</td>\n",
       "      <td>1.353713</td>\n",
       "      <td>2.372928</td>\n",
       "      <td>-1.070221</td>\n",
       "      <td>2.584154</td>\n",
       "      <td>1.507994</td>\n",
       "      <td>2.708295</td>\n",
       "      <td>2.921986</td>\n",
       "      <td>-0.796610</td>\n",
       "    </tr>\n",
       "    <tr>\n",
       "      <th>1376</th>\n",
       "      <td>-0.269487</td>\n",
       "      <td>-0.178651</td>\n",
       "      <td>-0.486276</td>\n",
       "      <td>-0.329215</td>\n",
       "      <td>-0.021456</td>\n",
       "      <td>-0.482612</td>\n",
       "      <td>0.232716</td>\n",
       "      <td>0.990640</td>\n",
       "      <td>-0.290262</td>\n",
       "      <td>-0.395185</td>\n",
       "      <td>...</td>\n",
       "      <td>-0.018001</td>\n",
       "      <td>-0.462073</td>\n",
       "      <td>0.014375</td>\n",
       "      <td>-0.359757</td>\n",
       "      <td>0.939221</td>\n",
       "      <td>0.448455</td>\n",
       "      <td>-0.861408</td>\n",
       "      <td>0.494360</td>\n",
       "      <td>-0.487602</td>\n",
       "      <td>1.364182</td>\n",
       "    </tr>\n",
       "  </tbody>\n",
       "</table>\n",
       "<p>3 rows × 87 columns</p>\n",
       "</div>"
      ],
      "text/plain": [
       "      num_ip_post  total_los_post  num_op_post  num_er_post  num_ndc_post  \\\n",
       "1374    -0.269487       -0.178651    -0.374638    -0.329215     -0.833134   \n",
       "1375    -0.269487       -0.178651     2.081387     1.244845      2.738248   \n",
       "1376    -0.269487       -0.178651    -0.486276    -0.329215     -0.021456   \n",
       "\n",
       "      num_gpi6_post  adjust_total_30d_post  generic_rate_post  post_ip_flag  \\\n",
       "1374      -0.730952              -0.330888           0.990640     -0.290262   \n",
       "1375       4.732521               5.281420          -0.147297     -0.290262   \n",
       "1376      -0.482612               0.232716           0.990640     -0.290262   \n",
       "\n",
       "      post_er_flag           ...             numofgen  numofbrand  \\\n",
       "1374     -0.395185           ...            -0.018001   -0.682009   \n",
       "1375      2.530460           ...             2.363316    1.517351   \n",
       "1376     -0.395185           ...            -0.018001   -0.462073   \n",
       "\n",
       "      generic_cost  brand_cost  ratio_g_total_cost  numofgen_post  \\\n",
       "1374      0.277723   -0.367234            1.110007      -0.568545   \n",
       "1375      1.353713    2.372928           -1.070221       2.584154   \n",
       "1376      0.014375   -0.359757            0.939221       0.448455   \n",
       "\n",
       "      numofbrand_post  generic_cost_post  brand_cost_post  \\\n",
       "1374        -0.861408          -0.446864        -0.487602   \n",
       "1375         1.507994           2.708295         2.921986   \n",
       "1376        -0.861408           0.494360        -0.487602   \n",
       "\n",
       "      ratio_g_total_cost_post  \n",
       "1374                 1.364182  \n",
       "1375                -0.796610  \n",
       "1376                 1.364182  \n",
       "\n",
       "[3 rows x 87 columns]"
      ]
     },
     "execution_count": 22,
     "metadata": {},
     "output_type": "execute_result"
    }
   ],
   "source": [
    "X_train_normalized_df2.tail(3)"
   ]
  },
  {
   "cell_type": "code",
   "execution_count": 23,
   "metadata": {},
   "outputs": [
    {
     "data": {
      "text/plain": [
       "((1377, 87), (1377, 3), (1377,))"
      ]
     },
     "execution_count": 23,
     "metadata": {},
     "output_type": "execute_result"
    }
   ],
   "source": [
    "X_train_normalized_df2.shape, X_train_cat2.shape, y_train2.shape"
   ]
  },
  {
   "cell_type": "code",
   "execution_count": 24,
   "metadata": {},
   "outputs": [],
   "source": [
    "X_train_lasso = pd.concat([X_train_normalized_df2, X_train_cat2], axis=1)\n",
    "X_test_lasso = pd.concat([X_test_normalized_df2, X_test_cat2], axis=1)"
   ]
  },
  {
   "cell_type": "code",
   "execution_count": 25,
   "metadata": {},
   "outputs": [
    {
     "data": {
      "text/html": [
       "<div>\n",
       "<style scoped>\n",
       "    .dataframe tbody tr th:only-of-type {\n",
       "        vertical-align: middle;\n",
       "    }\n",
       "\n",
       "    .dataframe tbody tr th {\n",
       "        vertical-align: top;\n",
       "    }\n",
       "\n",
       "    .dataframe thead th {\n",
       "        text-align: right;\n",
       "    }\n",
       "</style>\n",
       "<table border=\"1\" class=\"dataframe\">\n",
       "  <thead>\n",
       "    <tr style=\"text-align: right;\">\n",
       "      <th></th>\n",
       "      <th>num_ip_post</th>\n",
       "      <th>total_los_post</th>\n",
       "      <th>num_op_post</th>\n",
       "      <th>num_er_post</th>\n",
       "      <th>num_ndc_post</th>\n",
       "      <th>num_gpi6_post</th>\n",
       "      <th>adjust_total_30d_post</th>\n",
       "      <th>generic_rate_post</th>\n",
       "      <th>post_ip_flag</th>\n",
       "      <th>post_er_flag</th>\n",
       "      <th>...</th>\n",
       "      <th>brand_cost</th>\n",
       "      <th>ratio_g_total_cost</th>\n",
       "      <th>numofgen_post</th>\n",
       "      <th>numofbrand_post</th>\n",
       "      <th>generic_cost_post</th>\n",
       "      <th>brand_cost_post</th>\n",
       "      <th>ratio_g_total_cost_post</th>\n",
       "      <th>age_grpn</th>\n",
       "      <th>regionn</th>\n",
       "      <th>sexn</th>\n",
       "    </tr>\n",
       "  </thead>\n",
       "  <tbody>\n",
       "    <tr>\n",
       "      <th>1374</th>\n",
       "      <td>-0.269487</td>\n",
       "      <td>-0.178651</td>\n",
       "      <td>-0.374638</td>\n",
       "      <td>-0.329215</td>\n",
       "      <td>-0.833134</td>\n",
       "      <td>-0.730952</td>\n",
       "      <td>-0.330888</td>\n",
       "      <td>0.990640</td>\n",
       "      <td>-0.290262</td>\n",
       "      <td>-0.395185</td>\n",
       "      <td>...</td>\n",
       "      <td>-0.367234</td>\n",
       "      <td>1.110007</td>\n",
       "      <td>-0.568545</td>\n",
       "      <td>-0.861408</td>\n",
       "      <td>-0.446864</td>\n",
       "      <td>-0.487602</td>\n",
       "      <td>1.364182</td>\n",
       "      <td>3</td>\n",
       "      <td>1</td>\n",
       "      <td>1</td>\n",
       "    </tr>\n",
       "    <tr>\n",
       "      <th>1375</th>\n",
       "      <td>-0.269487</td>\n",
       "      <td>-0.178651</td>\n",
       "      <td>2.081387</td>\n",
       "      <td>1.244845</td>\n",
       "      <td>2.738248</td>\n",
       "      <td>4.732521</td>\n",
       "      <td>5.281420</td>\n",
       "      <td>-0.147297</td>\n",
       "      <td>-0.290262</td>\n",
       "      <td>2.530460</td>\n",
       "      <td>...</td>\n",
       "      <td>2.372928</td>\n",
       "      <td>-1.070221</td>\n",
       "      <td>2.584154</td>\n",
       "      <td>1.507994</td>\n",
       "      <td>2.708295</td>\n",
       "      <td>2.921986</td>\n",
       "      <td>-0.796610</td>\n",
       "      <td>3</td>\n",
       "      <td>4</td>\n",
       "      <td>2</td>\n",
       "    </tr>\n",
       "    <tr>\n",
       "      <th>1376</th>\n",
       "      <td>-0.269487</td>\n",
       "      <td>-0.178651</td>\n",
       "      <td>-0.486276</td>\n",
       "      <td>-0.329215</td>\n",
       "      <td>-0.021456</td>\n",
       "      <td>-0.482612</td>\n",
       "      <td>0.232716</td>\n",
       "      <td>0.990640</td>\n",
       "      <td>-0.290262</td>\n",
       "      <td>-0.395185</td>\n",
       "      <td>...</td>\n",
       "      <td>-0.359757</td>\n",
       "      <td>0.939221</td>\n",
       "      <td>0.448455</td>\n",
       "      <td>-0.861408</td>\n",
       "      <td>0.494360</td>\n",
       "      <td>-0.487602</td>\n",
       "      <td>1.364182</td>\n",
       "      <td>3</td>\n",
       "      <td>2</td>\n",
       "      <td>2</td>\n",
       "    </tr>\n",
       "  </tbody>\n",
       "</table>\n",
       "<p>3 rows × 90 columns</p>\n",
       "</div>"
      ],
      "text/plain": [
       "      num_ip_post  total_los_post  num_op_post  num_er_post  num_ndc_post  \\\n",
       "1374    -0.269487       -0.178651    -0.374638    -0.329215     -0.833134   \n",
       "1375    -0.269487       -0.178651     2.081387     1.244845      2.738248   \n",
       "1376    -0.269487       -0.178651    -0.486276    -0.329215     -0.021456   \n",
       "\n",
       "      num_gpi6_post  adjust_total_30d_post  generic_rate_post  post_ip_flag  \\\n",
       "1374      -0.730952              -0.330888           0.990640     -0.290262   \n",
       "1375       4.732521               5.281420          -0.147297     -0.290262   \n",
       "1376      -0.482612               0.232716           0.990640     -0.290262   \n",
       "\n",
       "      post_er_flag  ...   brand_cost  ratio_g_total_cost  numofgen_post  \\\n",
       "1374     -0.395185  ...    -0.367234            1.110007      -0.568545   \n",
       "1375      2.530460  ...     2.372928           -1.070221       2.584154   \n",
       "1376     -0.395185  ...    -0.359757            0.939221       0.448455   \n",
       "\n",
       "      numofbrand_post  generic_cost_post  brand_cost_post  \\\n",
       "1374        -0.861408          -0.446864        -0.487602   \n",
       "1375         1.507994           2.708295         2.921986   \n",
       "1376        -0.861408           0.494360        -0.487602   \n",
       "\n",
       "      ratio_g_total_cost_post  age_grpn  regionn  sexn  \n",
       "1374                 1.364182         3        1     1  \n",
       "1375                -0.796610         3        4     2  \n",
       "1376                 1.364182         3        2     2  \n",
       "\n",
       "[3 rows x 90 columns]"
      ]
     },
     "execution_count": 25,
     "metadata": {},
     "output_type": "execute_result"
    }
   ],
   "source": [
    "X_train_lasso.tail(3)"
   ]
  },
  {
   "cell_type": "code",
   "execution_count": 26,
   "metadata": {},
   "outputs": [
    {
     "data": {
      "text/plain": [
       "3358    0\n",
       "2018    1\n",
       "2911    0\n",
       "1418    0\n",
       "1891    1\n",
       "Name: pdc_80_flag, dtype: int64"
      ]
     },
     "execution_count": 26,
     "metadata": {},
     "output_type": "execute_result"
    }
   ],
   "source": [
    "y_train2.head()"
   ]
  },
  {
   "cell_type": "code",
   "execution_count": 27,
   "metadata": {},
   "outputs": [],
   "source": [
    "lasso_log_cv = LogisticRegressionCV(\n",
    "    Cs=10,                   # Range of C values (inverse of regularization strength)\n",
    "    cv=5,              \n",
    "    penalty='l1',             # L1 regularization (Lasso)\n",
    "    solver='saga',            # saga solver supports L1 regularization\n",
    "    scoring='roc_auc',             # You can use other metrics like 'accuracy', 'roc_auc', etc.\n",
    "    max_iter=10000,           # Higher iteration count for convergence\n",
    "    class_weight='balanced'   #algorithm gives more weight to the minority class during training.\n",
    "\n",
    ")\n"
   ]
  },
  {
   "cell_type": "code",
   "execution_count": 28,
   "metadata": {},
   "outputs": [
    {
     "data": {
      "text/plain": [
       "LogisticRegressionCV(Cs=10, class_weight='balanced', cv=5, dual=False,\n",
       "           fit_intercept=True, intercept_scaling=1.0, max_iter=10000,\n",
       "           multi_class='ovr', n_jobs=1, penalty='l1', random_state=None,\n",
       "           refit=True, scoring='roc_auc', solver='saga', tol=0.0001,\n",
       "           verbose=0)"
      ]
     },
     "execution_count": 28,
     "metadata": {},
     "output_type": "execute_result"
    }
   ],
   "source": [
    "lasso_log_cv.fit(X_train_lasso, y_train2)"
   ]
  },
  {
   "cell_type": "code",
   "execution_count": 29,
   "metadata": {},
   "outputs": [
    {
     "name": "stdout",
     "output_type": "stream",
     "text": [
      "0.046415888336127774\n"
     ]
    }
   ],
   "source": [
    "best_c = lasso_log_cv.C_[0]\n",
    "print(best_c)"
   ]
  },
  {
   "cell_type": "code",
   "execution_count": 30,
   "metadata": {},
   "outputs": [],
   "source": [
    "coefficients = lasso_log_cv.coef_[0] \n",
    "# Find the indices of non-zero coefficients\n",
    "non_zero_indices = np.where(coefficients != 0)[0]\n",
    "feature_names = AD_v2.columns\n",
    "non_zero_feature_names = feature_names[non_zero_indices]"
   ]
  },
  {
   "cell_type": "code",
   "execution_count": 31,
   "metadata": {},
   "outputs": [
    {
     "name": "stdout",
     "output_type": "stream",
     "text": [
      "Index(['num_gpi6_post', 'adjust_total_30d_post', 'generic_rate_post',\n",
      "       'post_ip_flag', 'post_er_flag', 'post_rx_cost', 'post_total_cost',\n",
      "       'regionn', 'idx_prodtypen', 'chronic_pain_fibro', 'copd', 'hepatitis',\n",
      "       'hiv_aids', 'hypertension', 'smoking', 'pre_ip_cost', 'num_op',\n",
      "       'adjust_total_30d', 'log_pre_op_cost', 'numofbrand_post'],\n",
      "      dtype='object')\n"
     ]
    }
   ],
   "source": [
    "print(non_zero_feature_names) "
   ]
  },
  {
   "cell_type": "code",
   "execution_count": 32,
   "metadata": {
    "scrolled": true
   },
   "outputs": [
    {
     "data": {
      "text/plain": [
       "array([[ 0.        ,  0.        ,  0.        ,  0.        ,  0.        ,\n",
       "        -0.51546324,  1.24765562,  0.10076311, -0.01208398, -0.11393066,\n",
       "         0.        ,  0.        , -0.0121437 ,  0.        , -0.04258878,\n",
       "         0.        ,  0.        ,  0.        ,  0.        ,  0.11803903,\n",
       "        -0.10159764,  0.        ,  0.        ,  0.        ,  0.        ,\n",
       "         0.        ,  0.        ,  0.        ,  0.        ,  0.        ,\n",
       "        -0.05863334,  0.        ,  0.05308079,  0.        ,  0.        ,\n",
       "         0.        ,  0.        ,  0.        ,  0.02138832, -0.06043565,\n",
       "        -0.00194882,  0.        ,  0.        ,  0.        ,  0.        ,\n",
       "         0.        ,  0.        ,  0.        ,  0.        ,  0.        ,\n",
       "         0.        , -0.00252997,  0.        ,  0.        ,  0.        ,\n",
       "         0.        ,  0.        ,  0.        ,  0.        , -0.00894801,\n",
       "         0.        ,  0.        ,  0.        ,  0.        ,  0.        ,\n",
       "         0.        ,  0.        , -0.15203706,  0.        ,  0.        ,\n",
       "         0.        , -0.16381586,  0.        ,  0.        ,  0.        ,\n",
       "         0.        ,  0.        , -0.0285564 ,  0.        ,  0.        ,\n",
       "         0.        ,  0.        ,  0.        ,  0.        ,  0.        ,\n",
       "         0.        ,  0.00434524,  0.        ,  0.        ,  0.        ]])"
      ]
     },
     "execution_count": 32,
     "metadata": {},
     "output_type": "execute_result"
    }
   ],
   "source": [
    "lasso_log_cv.coef_"
   ]
  },
  {
   "cell_type": "code",
   "execution_count": 33,
   "metadata": {},
   "outputs": [],
   "source": [
    "selected_cols = [ 'num_gpi6_post', 'adjust_total_30d_post', 'generic_rate_post',\n",
    "       'post_ip_flag', 'post_er_flag', 'post_rx_cost', 'post_total_cost',\n",
    "       'regionn', 'idx_prodtypen', 'chronic_pain_fibro', 'copd', 'hepatitis',\n",
    "       'hiv_aids', 'hypertension', 'smoking', 'pre_ip_cost', 'num_op',\n",
    "       'adjust_total_30d', 'log_pre_op_cost', 'numofbrand_post']"
   ]
  },
  {
   "cell_type": "code",
   "execution_count": 34,
   "metadata": {},
   "outputs": [],
   "source": [
    "AD_col2 = AD[selected_cols]"
   ]
  },
  {
   "cell_type": "markdown",
   "metadata": {},
   "source": [
    "### Model Training after feature selection using logistic lasso regression"
   ]
  },
  {
   "cell_type": "code",
   "execution_count": 49,
   "metadata": {},
   "outputs": [],
   "source": [
    "from xgboost import XGBClassifier\n",
    "classifier1 = XGBClassifier(use_label_encoder=False, eval_metric='error')"
   ]
  },
  {
   "cell_type": "code",
   "execution_count": 35,
   "metadata": {},
   "outputs": [],
   "source": [
    "y3 = AD['pdc_80_flag']"
   ]
  },
  {
   "cell_type": "code",
   "execution_count": 36,
   "metadata": {},
   "outputs": [],
   "source": [
    "X_train3, X_test3, y_train3, y_test3 = train_test_split(AD_col2, y3, test_size=0.2, random_state=42)"
   ]
  },
  {
   "cell_type": "code",
   "execution_count": 37,
   "metadata": {},
   "outputs": [],
   "source": [
    "# get the best parameters using  cross validation\n",
    "params = {\n",
    "    'objective': 'binary:logistic',\n",
    "    'eval_metric': 'logloss',\n",
    "    'eta': 0.1,\n",
    "   'max_depth': 5,\n",
    "    'n_jobs': -1  # Use all available cores\n",
    "}"
   ]
  },
  {
   "cell_type": "code",
   "execution_count": 38,
   "metadata": {},
   "outputs": [
    {
     "name": "stdout",
     "output_type": "stream",
     "text": [
      "[0]\ttrain-logloss:0.65773+0.00049\ttest-logloss:0.66623+0.00229\n",
      "[2]\ttrain-logloss:0.60264+0.00104\ttest-logloss:0.62583+0.00282\n",
      "[4]\ttrain-logloss:0.56199+0.00186\ttest-logloss:0.59703+0.00403\n",
      "[6]\ttrain-logloss:0.53018+0.00256\ttest-logloss:0.57820+0.00688\n",
      "[8]\ttrain-logloss:0.50524+0.00330\ttest-logloss:0.56578+0.00997\n",
      "[9]\ttrain-logloss:0.49341+0.00359\ttest-logloss:0.56004+0.01010\n"
     ]
    }
   ],
   "source": [
    "# Create DMatrix from training data\n",
    "dtrain2 = xgb.DMatrix(X_train3, label=y_train3)\n",
    "\n",
    "cv_results = xgb.cv(\n",
    "    params = params,\n",
    "    dtrain = dtrain2,\n",
    "    nfold = 5,\n",
    "    num_boost_round = 10,\n",
    "    verbose_eval = 2\n",
    ")"
   ]
  },
  {
   "cell_type": "code",
   "execution_count": 39,
   "metadata": {},
   "outputs": [],
   "source": [
    "best_logloss = cv_results['test-logloss-mean'].min()\n",
    "best_num_boost_round = cv_results['test-logloss-mean'].idxmin() + 1"
   ]
  },
  {
   "cell_type": "code",
   "execution_count": 41,
   "metadata": {},
   "outputs": [],
   "source": [
    "best_params = {\n",
    "    'objective': 'binary:logistic',\n",
    "    'max_depth': 5,\n",
    "    'learning_rate': 0.1,\n",
    "    'eval_metric': 'logloss'\n",
    "}"
   ]
  },
  {
   "cell_type": "code",
   "execution_count": 42,
   "metadata": {},
   "outputs": [],
   "source": [
    "model2 = xgb.train(\n",
    "    params = best_params, \n",
    "    dtrain = dtrain2, \n",
    "    num_boost_round = best_num_boost_round)\n",
    "dtest3 = xgb.DMatrix(X_test3)\n",
    "y_pred_prob = model2.predict(dtest3)"
   ]
  },
  {
   "cell_type": "markdown",
   "metadata": {},
   "source": [
    "# Model2 Evaluation"
   ]
  },
  {
   "cell_type": "code",
   "execution_count": 43,
   "metadata": {},
   "outputs": [],
   "source": [
    "y_pred3 = np.where(y_pred_prob > 0.5, 1, 0)"
   ]
  },
  {
   "cell_type": "code",
   "execution_count": 46,
   "metadata": {},
   "outputs": [
    {
     "name": "stdout",
     "output_type": "stream",
     "text": [
      "             precision    recall  f1-score   support\n",
      "\n",
      "          0       0.78      0.77      0.78       213\n",
      "          1       0.64      0.65      0.65       132\n",
      "\n",
      "avg / total       0.73      0.73      0.73       345\n",
      "\n",
      "AUC score: 0.7130815194195476\n"
     ]
    }
   ],
   "source": [
    "# Model Evaluation\n",
    "print(classification_report(y_test3, y_pred3))\n",
    "AUC = roc_auc_score(y_test3, y_pred3)\n",
    "print(f'AUC score: {AUC}')"
   ]
  },
  {
   "cell_type": "code",
   "execution_count": 47,
   "metadata": {},
   "outputs": [
    {
     "data": {
      "text/plain": [
       "((1377, 20), (1377,))"
      ]
     },
     "execution_count": 47,
     "metadata": {},
     "output_type": "execute_result"
    }
   ],
   "source": [
    "X_train3.shape, y_train3.shape"
   ]
  },
  {
   "cell_type": "code",
   "execution_count": 50,
   "metadata": {},
   "outputs": [
    {
     "name": "stdout",
     "output_type": "stream",
     "text": [
      "Mean F1 Score: 0.5989207628795798\n"
     ]
    }
   ],
   "source": [
    "from sklearn.model_selection import cross_val_score\n",
    "from sklearn.metrics import f1_score, make_scorer\n",
    "\n",
    "f1_scorer = make_scorer(f1_score)\n",
    "# classifier1 is the machine learning model\n",
    "\n",
    "# Perform 5-fold cross-validation with F1 score as the scoring metric\n",
    "f1_scores = cross_val_score(classifier1, X_train3, y_train3, cv=5, scoring=f1_scorer)\n",
    "\n",
    "# Calculate the mean F1 score across all folds\n",
    "mean_f1_score = f1_scores.mean()\n",
    "print(\"Mean F1 Score:\", mean_f1_score)\n"
   ]
  },
  {
   "cell_type": "code",
   "execution_count": 51,
   "metadata": {},
   "outputs": [
    {
     "data": {
      "text/plain": [
       "0    213\n",
       "1    132\n",
       "Name: pdc_80_flag, dtype: int64"
      ]
     },
     "execution_count": 51,
     "metadata": {},
     "output_type": "execute_result"
    }
   ],
   "source": [
    "y_test3.value_counts()"
   ]
  },
  {
   "cell_type": "code",
   "execution_count": null,
   "metadata": {},
   "outputs": [],
   "source": []
  }
 ],
 "metadata": {
  "kernelspec": {
   "display_name": "Python 3",
   "language": "python",
   "name": "python3"
  },
  "language_info": {
   "codemirror_mode": {
    "name": "ipython",
    "version": 3
   },
   "file_extension": ".py",
   "mimetype": "text/x-python",
   "name": "python",
   "nbconvert_exporter": "python",
   "pygments_lexer": "ipython3",
   "version": "3.6.5"
  }
 },
 "nbformat": 4,
 "nbformat_minor": 2
}
