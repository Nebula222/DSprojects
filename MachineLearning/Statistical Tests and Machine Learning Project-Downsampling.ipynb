{
 "cells": [
  {
   "cell_type": "code",
   "execution_count": 1,
   "metadata": {},
   "outputs": [],
   "source": [
    "# Get Dataset\n",
    "import pandas as pd\n",
    "import numpy as np\n",
    "import seaborn as sns\n",
    "import matplotlib.pyplot as plt\n",
    "import os\n",
    "from scipy import stats\n",
    "import statsmodels.api as sm\n",
    "import matplotlib.pyplot as plt\n",
    "from scipy.stats import levene, ttest_ind, wilcoxon, mannwhitneyu\n",
    "from sklearn.model_selection import train_test_split\n",
    "from sklearn.preprocessing import StandardScaler\n",
    "from sklearn.linear_model import LassoCV, LogisticRegressionCV\n",
    "from sklearn.decomposition import PCA\n",
    "from sklearn.metrics import mean_squared_error, classification_report, confusion_matrix, roc_auc_score, accuracy_score\n",
    "from scipy.stats import shapiro\n",
    "import xgboost as xgb"
   ]
  },
  {
   "cell_type": "code",
   "execution_count": 2,
   "metadata": {},
   "outputs": [],
   "source": [
    "data = pd.read_csv('./DataExtract.csv')"
   ]
  },
  {
   "cell_type": "code",
   "execution_count": 3,
   "metadata": {},
   "outputs": [
    {
     "data": {
      "text/html": [
       "<div>\n",
       "<style scoped>\n",
       "    .dataframe tbody tr th:only-of-type {\n",
       "        vertical-align: middle;\n",
       "    }\n",
       "\n",
       "    .dataframe tbody tr th {\n",
       "        vertical-align: top;\n",
       "    }\n",
       "\n",
       "    .dataframe thead th {\n",
       "        text-align: right;\n",
       "    }\n",
       "</style>\n",
       "<table border=\"1\" class=\"dataframe\">\n",
       "  <thead>\n",
       "    <tr style=\"text-align: right;\">\n",
       "      <th></th>\n",
       "      <th>pdc</th>\n",
       "      <th>num_ip_post</th>\n",
       "      <th>total_los_post</th>\n",
       "      <th>num_op_post</th>\n",
       "      <th>num_er_post</th>\n",
       "      <th>num_ndc_post</th>\n",
       "      <th>num_gpi6_post</th>\n",
       "      <th>adjust_total_30d_post</th>\n",
       "      <th>generic_rate_post</th>\n",
       "      <th>post_ip_flag</th>\n",
       "      <th>...</th>\n",
       "      <th>brand_cost</th>\n",
       "      <th>ratio_G_total_cost</th>\n",
       "      <th>numofgen_post</th>\n",
       "      <th>numofbrand_post</th>\n",
       "      <th>generic_cost_post</th>\n",
       "      <th>brand_cost_post</th>\n",
       "      <th>ratio_G_total_cost_post</th>\n",
       "      <th>pdc_80_flag</th>\n",
       "      <th>drug_class</th>\n",
       "      <th>patient_key</th>\n",
       "    </tr>\n",
       "  </thead>\n",
       "  <tbody>\n",
       "    <tr>\n",
       "      <th>0</th>\n",
       "      <td>0.894444</td>\n",
       "      <td>0</td>\n",
       "      <td>0</td>\n",
       "      <td>8</td>\n",
       "      <td>0</td>\n",
       "      <td>17</td>\n",
       "      <td>3</td>\n",
       "      <td>6.966667</td>\n",
       "      <td>1.000000</td>\n",
       "      <td>0</td>\n",
       "      <td>...</td>\n",
       "      <td>239.699550</td>\n",
       "      <td>0.710850</td>\n",
       "      <td>17</td>\n",
       "      <td>0</td>\n",
       "      <td>4332.043215</td>\n",
       "      <td>0.000000</td>\n",
       "      <td>1.000000</td>\n",
       "      <td>1</td>\n",
       "      <td>*ANTICOAGULANTS*</td>\n",
       "      <td>121</td>\n",
       "    </tr>\n",
       "    <tr>\n",
       "      <th>1</th>\n",
       "      <td>0.333333</td>\n",
       "      <td>0</td>\n",
       "      <td>0</td>\n",
       "      <td>4</td>\n",
       "      <td>0</td>\n",
       "      <td>15</td>\n",
       "      <td>5</td>\n",
       "      <td>14.466667</td>\n",
       "      <td>0.101382</td>\n",
       "      <td>0</td>\n",
       "      <td>...</td>\n",
       "      <td>2984.927229</td>\n",
       "      <td>0.010155</td>\n",
       "      <td>2</td>\n",
       "      <td>13</td>\n",
       "      <td>196.359216</td>\n",
       "      <td>3001.501507</td>\n",
       "      <td>0.061403</td>\n",
       "      <td>0</td>\n",
       "      <td>*ANTIDIABETICS*</td>\n",
       "      <td>168</td>\n",
       "    </tr>\n",
       "    <tr>\n",
       "      <th>2</th>\n",
       "      <td>0.077778</td>\n",
       "      <td>0</td>\n",
       "      <td>0</td>\n",
       "      <td>32</td>\n",
       "      <td>0</td>\n",
       "      <td>11</td>\n",
       "      <td>7</td>\n",
       "      <td>3.833333</td>\n",
       "      <td>0.739130</td>\n",
       "      <td>0</td>\n",
       "      <td>...</td>\n",
       "      <td>0.000000</td>\n",
       "      <td>1.000000</td>\n",
       "      <td>10</td>\n",
       "      <td>1</td>\n",
       "      <td>203.603270</td>\n",
       "      <td>1154.818505</td>\n",
       "      <td>0.149882</td>\n",
       "      <td>0</td>\n",
       "      <td>*ANTICOAGULANTS*</td>\n",
       "      <td>267</td>\n",
       "    </tr>\n",
       "    <tr>\n",
       "      <th>3</th>\n",
       "      <td>0.333333</td>\n",
       "      <td>0</td>\n",
       "      <td>0</td>\n",
       "      <td>57</td>\n",
       "      <td>0</td>\n",
       "      <td>16</td>\n",
       "      <td>6</td>\n",
       "      <td>24.000000</td>\n",
       "      <td>0.958333</td>\n",
       "      <td>0</td>\n",
       "      <td>...</td>\n",
       "      <td>160.804799</td>\n",
       "      <td>0.291008</td>\n",
       "      <td>15</td>\n",
       "      <td>1</td>\n",
       "      <td>140.952640</td>\n",
       "      <td>265.057382</td>\n",
       "      <td>0.347165</td>\n",
       "      <td>0</td>\n",
       "      <td>*ANTICOAGULANTS*</td>\n",
       "      <td>468</td>\n",
       "    </tr>\n",
       "    <tr>\n",
       "      <th>4</th>\n",
       "      <td>0.866667</td>\n",
       "      <td>0</td>\n",
       "      <td>0</td>\n",
       "      <td>5</td>\n",
       "      <td>0</td>\n",
       "      <td>16</td>\n",
       "      <td>4</td>\n",
       "      <td>18.000000</td>\n",
       "      <td>0.888889</td>\n",
       "      <td>0</td>\n",
       "      <td>...</td>\n",
       "      <td>0.000000</td>\n",
       "      <td>1.000000</td>\n",
       "      <td>14</td>\n",
       "      <td>2</td>\n",
       "      <td>671.755173</td>\n",
       "      <td>735.661568</td>\n",
       "      <td>0.477297</td>\n",
       "      <td>1</td>\n",
       "      <td>*ANTIDIABETICS*</td>\n",
       "      <td>499</td>\n",
       "    </tr>\n",
       "  </tbody>\n",
       "</table>\n",
       "<p>5 rows × 95 columns</p>\n",
       "</div>"
      ],
      "text/plain": [
       "        pdc  num_ip_post  total_los_post  num_op_post  num_er_post  \\\n",
       "0  0.894444            0               0            8            0   \n",
       "1  0.333333            0               0            4            0   \n",
       "2  0.077778            0               0           32            0   \n",
       "3  0.333333            0               0           57            0   \n",
       "4  0.866667            0               0            5            0   \n",
       "\n",
       "   num_ndc_post  num_gpi6_post  adjust_total_30d_post  generic_rate_post  \\\n",
       "0            17              3               6.966667           1.000000   \n",
       "1            15              5              14.466667           0.101382   \n",
       "2            11              7               3.833333           0.739130   \n",
       "3            16              6              24.000000           0.958333   \n",
       "4            16              4              18.000000           0.888889   \n",
       "\n",
       "   post_ip_flag     ...        brand_cost  ratio_G_total_cost  numofgen_post  \\\n",
       "0             0     ...        239.699550            0.710850             17   \n",
       "1             0     ...       2984.927229            0.010155              2   \n",
       "2             0     ...          0.000000            1.000000             10   \n",
       "3             0     ...        160.804799            0.291008             15   \n",
       "4             0     ...          0.000000            1.000000             14   \n",
       "\n",
       "   numofbrand_post  generic_cost_post  brand_cost_post  \\\n",
       "0                0        4332.043215         0.000000   \n",
       "1               13         196.359216      3001.501507   \n",
       "2                1         203.603270      1154.818505   \n",
       "3                1         140.952640       265.057382   \n",
       "4                2         671.755173       735.661568   \n",
       "\n",
       "   ratio_G_total_cost_post  pdc_80_flag        drug_class  patient_key  \n",
       "0                 1.000000            1  *ANTICOAGULANTS*          121  \n",
       "1                 0.061403            0   *ANTIDIABETICS*          168  \n",
       "2                 0.149882            0  *ANTICOAGULANTS*          267  \n",
       "3                 0.347165            0  *ANTICOAGULANTS*          468  \n",
       "4                 0.477297            1   *ANTIDIABETICS*          499  \n",
       "\n",
       "[5 rows x 95 columns]"
      ]
     },
     "execution_count": 3,
     "metadata": {},
     "output_type": "execute_result"
    }
   ],
   "source": [
    "data.head()"
   ]
  },
  {
   "cell_type": "code",
   "execution_count": 4,
   "metadata": {},
   "outputs": [
    {
     "data": {
      "text/plain": [
       "3550"
      ]
     },
     "execution_count": 4,
     "metadata": {},
     "output_type": "execute_result"
    }
   ],
   "source": [
    "data.patient_key.nunique()"
   ]
  },
  {
   "cell_type": "code",
   "execution_count": 5,
   "metadata": {},
   "outputs": [
    {
     "data": {
      "text/plain": [
       "(3550, 95)"
      ]
     },
     "execution_count": 5,
     "metadata": {},
     "output_type": "execute_result"
    }
   ],
   "source": [
    "data.shape #no duplicate records"
   ]
  },
  {
   "cell_type": "code",
   "execution_count": 6,
   "metadata": {},
   "outputs": [],
   "source": [
    "data_pdc_pop = data.groupby(['drug_class', 'pdc_80_flag']).patient_key.nunique()"
   ]
  },
  {
   "cell_type": "code",
   "execution_count": 7,
   "metadata": {},
   "outputs": [
    {
     "data": {
      "text/plain": [
       "drug_class        pdc_80_flag\n",
       "*ANTICOAGULANTS*  0              1437\n",
       "                  1               391\n",
       "*ANTIDIABETICS*   0              1051\n",
       "                  1               671\n",
       "Name: patient_key, dtype: int64"
      ]
     },
     "execution_count": 7,
     "metadata": {},
     "output_type": "execute_result"
    }
   ],
   "source": [
    "data_pdc_pop"
   ]
  },
  {
   "cell_type": "code",
   "execution_count": 8,
   "metadata": {},
   "outputs": [],
   "source": [
    "data_pdc_region = data.groupby(['drug_class', 'pdc_80_flag', 'regionN']).patient_key.nunique().reset_index()"
   ]
  },
  {
   "cell_type": "code",
   "execution_count": 9,
   "metadata": {},
   "outputs": [
    {
     "data": {
      "text/plain": [
       "drug_class        pdc_80_flag  sexN\n",
       "*ANTICOAGULANTS*  0            1       661\n",
       "                               2       776\n",
       "                  1            1       228\n",
       "                               2       163\n",
       "*ANTIDIABETICS*   0            1       486\n",
       "                               2       565\n",
       "                  1            1       376\n",
       "                               2       295\n",
       "Name: patient_key, dtype: int64"
      ]
     },
     "execution_count": 9,
     "metadata": {},
     "output_type": "execute_result"
    }
   ],
   "source": [
    "data.groupby(['drug_class', 'pdc_80_flag', 'sexN']).patient_key.nunique()"
   ]
  },
  {
   "cell_type": "code",
   "execution_count": 10,
   "metadata": {},
   "outputs": [],
   "source": [
    "from scipy.stats import chi2_contingency\n",
    "\n",
    "# Filter data for ANTIDIABETICS drug class\n",
    "AD = data[data['drug_class'].str.contains('ANTIDIABETICS')]\n"
   ]
  },
  {
   "cell_type": "code",
   "execution_count": null,
   "metadata": {},
   "outputs": [],
   "source": [
    "AD_v2 = AD.drop(columns = ['pdc_80_flag',  'drug_class', 'patient_key', 'pdc_cat', 'pdc'])\n",
    "y = AD['pdc_80_flag']"
   ]
  },
  {
   "cell_type": "markdown",
   "metadata": {},
   "source": [
    "### model 2: feature selection using Logistic Lasso Regression"
   ]
  },
  {
   "cell_type": "code",
   "execution_count": 170,
   "metadata": {},
   "outputs": [],
   "source": [
    "X_train2, X_test2, y_train2, y_test2 = train_test_split(AD_v2, y, test_size=0.2, random_state=42)"
   ]
  },
  {
   "cell_type": "code",
   "execution_count": 171,
   "metadata": {},
   "outputs": [],
   "source": [
    "cat = ['age_grpn', 'regionn', 'sexn']\n",
    "X_train_con2 = X_train2.drop(columns = cat).fillna(0)\n",
    "X_train_cat2 = X_train2[cat]\n",
    "X_test_con2 = X_test2.drop(columns = cat).fillna(0)\n",
    "X_test_cat2 = X_test2[cat]"
   ]
  },
  {
   "cell_type": "code",
   "execution_count": 172,
   "metadata": {},
   "outputs": [],
   "source": [
    "scaler = StandardScaler()\n",
    "X_train_normalized2 = scaler.fit_transform(X_train_con2)\n",
    "X_test_normalized2 = scaler.transform(X_test_con2)"
   ]
  },
  {
   "cell_type": "code",
   "execution_count": 173,
   "metadata": {},
   "outputs": [],
   "source": [
    "X_train_normalized_df2 = pd.DataFrame(X_train_normalized2, columns = X_train_con2.columns)\n",
    "X_test_normalized_df2 = pd.DataFrame(X_test_normalized2, columns = X_train_con2.columns)\n",
    "X_train_normalized_df2.reset_index(drop=True, inplace=True)\n",
    "X_train_cat2.reset_index(drop=True, inplace=True)\n",
    "X_test_normalized_df2.reset_index(drop=True, inplace=True)\n",
    "X_test_cat2.reset_index(drop=True, inplace=True)"
   ]
  },
  {
   "cell_type": "code",
   "execution_count": 174,
   "metadata": {},
   "outputs": [
    {
     "data": {
      "text/html": [
       "<div>\n",
       "<style scoped>\n",
       "    .dataframe tbody tr th:only-of-type {\n",
       "        vertical-align: middle;\n",
       "    }\n",
       "\n",
       "    .dataframe tbody tr th {\n",
       "        vertical-align: top;\n",
       "    }\n",
       "\n",
       "    .dataframe thead th {\n",
       "        text-align: right;\n",
       "    }\n",
       "</style>\n",
       "<table border=\"1\" class=\"dataframe\">\n",
       "  <thead>\n",
       "    <tr style=\"text-align: right;\">\n",
       "      <th></th>\n",
       "      <th>num_ip_post</th>\n",
       "      <th>total_los_post</th>\n",
       "      <th>num_op_post</th>\n",
       "      <th>num_er_post</th>\n",
       "      <th>num_ndc_post</th>\n",
       "      <th>num_gpi6_post</th>\n",
       "      <th>adjust_total_30d_post</th>\n",
       "      <th>generic_rate_post</th>\n",
       "      <th>post_ip_flag</th>\n",
       "      <th>post_er_flag</th>\n",
       "      <th>...</th>\n",
       "      <th>numofgen</th>\n",
       "      <th>numofbrand</th>\n",
       "      <th>generic_cost</th>\n",
       "      <th>brand_cost</th>\n",
       "      <th>ratio_g_total_cost</th>\n",
       "      <th>numofgen_post</th>\n",
       "      <th>numofbrand_post</th>\n",
       "      <th>generic_cost_post</th>\n",
       "      <th>brand_cost_post</th>\n",
       "      <th>ratio_g_total_cost_post</th>\n",
       "    </tr>\n",
       "  </thead>\n",
       "  <tbody>\n",
       "    <tr>\n",
       "      <th>1374</th>\n",
       "      <td>-0.269487</td>\n",
       "      <td>-0.178651</td>\n",
       "      <td>-0.374638</td>\n",
       "      <td>-0.329215</td>\n",
       "      <td>-0.833134</td>\n",
       "      <td>-0.730952</td>\n",
       "      <td>-0.330888</td>\n",
       "      <td>0.990640</td>\n",
       "      <td>-0.290262</td>\n",
       "      <td>-0.395185</td>\n",
       "      <td>...</td>\n",
       "      <td>-0.018001</td>\n",
       "      <td>-0.682009</td>\n",
       "      <td>0.277723</td>\n",
       "      <td>-0.367234</td>\n",
       "      <td>1.110007</td>\n",
       "      <td>-0.568545</td>\n",
       "      <td>-0.861408</td>\n",
       "      <td>-0.446864</td>\n",
       "      <td>-0.487602</td>\n",
       "      <td>1.364182</td>\n",
       "    </tr>\n",
       "    <tr>\n",
       "      <th>1375</th>\n",
       "      <td>-0.269487</td>\n",
       "      <td>-0.178651</td>\n",
       "      <td>2.081387</td>\n",
       "      <td>1.244845</td>\n",
       "      <td>2.738248</td>\n",
       "      <td>4.732521</td>\n",
       "      <td>5.281420</td>\n",
       "      <td>-0.147297</td>\n",
       "      <td>-0.290262</td>\n",
       "      <td>2.530460</td>\n",
       "      <td>...</td>\n",
       "      <td>2.363316</td>\n",
       "      <td>1.517351</td>\n",
       "      <td>1.353713</td>\n",
       "      <td>2.372928</td>\n",
       "      <td>-1.070221</td>\n",
       "      <td>2.584154</td>\n",
       "      <td>1.507994</td>\n",
       "      <td>2.708295</td>\n",
       "      <td>2.921986</td>\n",
       "      <td>-0.796610</td>\n",
       "    </tr>\n",
       "    <tr>\n",
       "      <th>1376</th>\n",
       "      <td>-0.269487</td>\n",
       "      <td>-0.178651</td>\n",
       "      <td>-0.486276</td>\n",
       "      <td>-0.329215</td>\n",
       "      <td>-0.021456</td>\n",
       "      <td>-0.482612</td>\n",
       "      <td>0.232716</td>\n",
       "      <td>0.990640</td>\n",
       "      <td>-0.290262</td>\n",
       "      <td>-0.395185</td>\n",
       "      <td>...</td>\n",
       "      <td>-0.018001</td>\n",
       "      <td>-0.462073</td>\n",
       "      <td>0.014375</td>\n",
       "      <td>-0.359757</td>\n",
       "      <td>0.939221</td>\n",
       "      <td>0.448455</td>\n",
       "      <td>-0.861408</td>\n",
       "      <td>0.494360</td>\n",
       "      <td>-0.487602</td>\n",
       "      <td>1.364182</td>\n",
       "    </tr>\n",
       "  </tbody>\n",
       "</table>\n",
       "<p>3 rows × 87 columns</p>\n",
       "</div>"
      ],
      "text/plain": [
       "      num_ip_post  total_los_post  num_op_post  num_er_post  num_ndc_post  \\\n",
       "1374    -0.269487       -0.178651    -0.374638    -0.329215     -0.833134   \n",
       "1375    -0.269487       -0.178651     2.081387     1.244845      2.738248   \n",
       "1376    -0.269487       -0.178651    -0.486276    -0.329215     -0.021456   \n",
       "\n",
       "      num_gpi6_post  adjust_total_30d_post  generic_rate_post  post_ip_flag  \\\n",
       "1374      -0.730952              -0.330888           0.990640     -0.290262   \n",
       "1375       4.732521               5.281420          -0.147297     -0.290262   \n",
       "1376      -0.482612               0.232716           0.990640     -0.290262   \n",
       "\n",
       "      post_er_flag           ...             numofgen  numofbrand  \\\n",
       "1374     -0.395185           ...            -0.018001   -0.682009   \n",
       "1375      2.530460           ...             2.363316    1.517351   \n",
       "1376     -0.395185           ...            -0.018001   -0.462073   \n",
       "\n",
       "      generic_cost  brand_cost  ratio_g_total_cost  numofgen_post  \\\n",
       "1374      0.277723   -0.367234            1.110007      -0.568545   \n",
       "1375      1.353713    2.372928           -1.070221       2.584154   \n",
       "1376      0.014375   -0.359757            0.939221       0.448455   \n",
       "\n",
       "      numofbrand_post  generic_cost_post  brand_cost_post  \\\n",
       "1374        -0.861408          -0.446864        -0.487602   \n",
       "1375         1.507994           2.708295         2.921986   \n",
       "1376        -0.861408           0.494360        -0.487602   \n",
       "\n",
       "      ratio_g_total_cost_post  \n",
       "1374                 1.364182  \n",
       "1375                -0.796610  \n",
       "1376                 1.364182  \n",
       "\n",
       "[3 rows x 87 columns]"
      ]
     },
     "execution_count": 174,
     "metadata": {},
     "output_type": "execute_result"
    }
   ],
   "source": [
    "X_train_normalized_df2.tail(3)"
   ]
  },
  {
   "cell_type": "code",
   "execution_count": 175,
   "metadata": {},
   "outputs": [
    {
     "data": {
      "text/plain": [
       "((1377, 87), (1377, 3), (1377,))"
      ]
     },
     "execution_count": 175,
     "metadata": {},
     "output_type": "execute_result"
    }
   ],
   "source": [
    "X_train_normalized_df2.shape, X_train_cat2.shape, y_train2.shape"
   ]
  },
  {
   "cell_type": "code",
   "execution_count": 176,
   "metadata": {},
   "outputs": [],
   "source": [
    "X_train_lasso = pd.concat([X_train_normalized_df2, X_train_cat2], axis=1)\n",
    "X_test_lasso = pd.concat([X_test_normalized_df2, X_test_cat2], axis=1)"
   ]
  },
  {
   "cell_type": "code",
   "execution_count": 177,
   "metadata": {},
   "outputs": [
    {
     "data": {
      "text/html": [
       "<div>\n",
       "<style scoped>\n",
       "    .dataframe tbody tr th:only-of-type {\n",
       "        vertical-align: middle;\n",
       "    }\n",
       "\n",
       "    .dataframe tbody tr th {\n",
       "        vertical-align: top;\n",
       "    }\n",
       "\n",
       "    .dataframe thead th {\n",
       "        text-align: right;\n",
       "    }\n",
       "</style>\n",
       "<table border=\"1\" class=\"dataframe\">\n",
       "  <thead>\n",
       "    <tr style=\"text-align: right;\">\n",
       "      <th></th>\n",
       "      <th>num_ip_post</th>\n",
       "      <th>total_los_post</th>\n",
       "      <th>num_op_post</th>\n",
       "      <th>num_er_post</th>\n",
       "      <th>num_ndc_post</th>\n",
       "      <th>num_gpi6_post</th>\n",
       "      <th>adjust_total_30d_post</th>\n",
       "      <th>generic_rate_post</th>\n",
       "      <th>post_ip_flag</th>\n",
       "      <th>post_er_flag</th>\n",
       "      <th>...</th>\n",
       "      <th>brand_cost</th>\n",
       "      <th>ratio_g_total_cost</th>\n",
       "      <th>numofgen_post</th>\n",
       "      <th>numofbrand_post</th>\n",
       "      <th>generic_cost_post</th>\n",
       "      <th>brand_cost_post</th>\n",
       "      <th>ratio_g_total_cost_post</th>\n",
       "      <th>age_grpn</th>\n",
       "      <th>regionn</th>\n",
       "      <th>sexn</th>\n",
       "    </tr>\n",
       "  </thead>\n",
       "  <tbody>\n",
       "    <tr>\n",
       "      <th>1374</th>\n",
       "      <td>-0.269487</td>\n",
       "      <td>-0.178651</td>\n",
       "      <td>-0.374638</td>\n",
       "      <td>-0.329215</td>\n",
       "      <td>-0.833134</td>\n",
       "      <td>-0.730952</td>\n",
       "      <td>-0.330888</td>\n",
       "      <td>0.990640</td>\n",
       "      <td>-0.290262</td>\n",
       "      <td>-0.395185</td>\n",
       "      <td>...</td>\n",
       "      <td>-0.367234</td>\n",
       "      <td>1.110007</td>\n",
       "      <td>-0.568545</td>\n",
       "      <td>-0.861408</td>\n",
       "      <td>-0.446864</td>\n",
       "      <td>-0.487602</td>\n",
       "      <td>1.364182</td>\n",
       "      <td>3</td>\n",
       "      <td>1</td>\n",
       "      <td>1</td>\n",
       "    </tr>\n",
       "    <tr>\n",
       "      <th>1375</th>\n",
       "      <td>-0.269487</td>\n",
       "      <td>-0.178651</td>\n",
       "      <td>2.081387</td>\n",
       "      <td>1.244845</td>\n",
       "      <td>2.738248</td>\n",
       "      <td>4.732521</td>\n",
       "      <td>5.281420</td>\n",
       "      <td>-0.147297</td>\n",
       "      <td>-0.290262</td>\n",
       "      <td>2.530460</td>\n",
       "      <td>...</td>\n",
       "      <td>2.372928</td>\n",
       "      <td>-1.070221</td>\n",
       "      <td>2.584154</td>\n",
       "      <td>1.507994</td>\n",
       "      <td>2.708295</td>\n",
       "      <td>2.921986</td>\n",
       "      <td>-0.796610</td>\n",
       "      <td>3</td>\n",
       "      <td>4</td>\n",
       "      <td>2</td>\n",
       "    </tr>\n",
       "    <tr>\n",
       "      <th>1376</th>\n",
       "      <td>-0.269487</td>\n",
       "      <td>-0.178651</td>\n",
       "      <td>-0.486276</td>\n",
       "      <td>-0.329215</td>\n",
       "      <td>-0.021456</td>\n",
       "      <td>-0.482612</td>\n",
       "      <td>0.232716</td>\n",
       "      <td>0.990640</td>\n",
       "      <td>-0.290262</td>\n",
       "      <td>-0.395185</td>\n",
       "      <td>...</td>\n",
       "      <td>-0.359757</td>\n",
       "      <td>0.939221</td>\n",
       "      <td>0.448455</td>\n",
       "      <td>-0.861408</td>\n",
       "      <td>0.494360</td>\n",
       "      <td>-0.487602</td>\n",
       "      <td>1.364182</td>\n",
       "      <td>3</td>\n",
       "      <td>2</td>\n",
       "      <td>2</td>\n",
       "    </tr>\n",
       "  </tbody>\n",
       "</table>\n",
       "<p>3 rows × 90 columns</p>\n",
       "</div>"
      ],
      "text/plain": [
       "      num_ip_post  total_los_post  num_op_post  num_er_post  num_ndc_post  \\\n",
       "1374    -0.269487       -0.178651    -0.374638    -0.329215     -0.833134   \n",
       "1375    -0.269487       -0.178651     2.081387     1.244845      2.738248   \n",
       "1376    -0.269487       -0.178651    -0.486276    -0.329215     -0.021456   \n",
       "\n",
       "      num_gpi6_post  adjust_total_30d_post  generic_rate_post  post_ip_flag  \\\n",
       "1374      -0.730952              -0.330888           0.990640     -0.290262   \n",
       "1375       4.732521               5.281420          -0.147297     -0.290262   \n",
       "1376      -0.482612               0.232716           0.990640     -0.290262   \n",
       "\n",
       "      post_er_flag  ...   brand_cost  ratio_g_total_cost  numofgen_post  \\\n",
       "1374     -0.395185  ...    -0.367234            1.110007      -0.568545   \n",
       "1375      2.530460  ...     2.372928           -1.070221       2.584154   \n",
       "1376     -0.395185  ...    -0.359757            0.939221       0.448455   \n",
       "\n",
       "      numofbrand_post  generic_cost_post  brand_cost_post  \\\n",
       "1374        -0.861408          -0.446864        -0.487602   \n",
       "1375         1.507994           2.708295         2.921986   \n",
       "1376        -0.861408           0.494360        -0.487602   \n",
       "\n",
       "      ratio_g_total_cost_post  age_grpn  regionn  sexn  \n",
       "1374                 1.364182         3        1     1  \n",
       "1375                -0.796610         3        4     2  \n",
       "1376                 1.364182         3        2     2  \n",
       "\n",
       "[3 rows x 90 columns]"
      ]
     },
     "execution_count": 177,
     "metadata": {},
     "output_type": "execute_result"
    }
   ],
   "source": [
    "X_train_lasso.tail(3)"
   ]
  },
  {
   "cell_type": "code",
   "execution_count": 178,
   "metadata": {},
   "outputs": [
    {
     "data": {
      "text/plain": [
       "3358    0\n",
       "2018    1\n",
       "2911    0\n",
       "1418    0\n",
       "1891    1\n",
       "Name: pdc_80_flag, dtype: int64"
      ]
     },
     "execution_count": 178,
     "metadata": {},
     "output_type": "execute_result"
    }
   ],
   "source": [
    "y_train2.head()"
   ]
  },
  {
   "cell_type": "code",
   "execution_count": 179,
   "metadata": {},
   "outputs": [],
   "source": [
    "lasso_log_cv = LogisticRegressionCV(\n",
    "    Cs=10,                   # Range of C values (inverse of regularization strength)\n",
    "    cv=5,              \n",
    "    penalty='l1',             # L1 regularization (Lasso)\n",
    "    solver='saga',            # saga solver supports L1 regularization\n",
    "    scoring='roc_auc',             # You can use other metrics like 'accuracy', 'roc_auc', etc.\n",
    "    max_iter=10000,           # Higher iteration count for convergence\n",
    "    class_weight='balanced'   #algorithm gives more weight to the minority class during training.\n",
    "\n",
    ")\n"
   ]
  },
  {
   "cell_type": "code",
   "execution_count": 180,
   "metadata": {},
   "outputs": [
    {
     "data": {
      "text/plain": [
       "LogisticRegressionCV(Cs=10, class_weight='balanced', cv=5, dual=False,\n",
       "           fit_intercept=True, intercept_scaling=1.0, max_iter=10000,\n",
       "           multi_class='ovr', n_jobs=1, penalty='l1', random_state=None,\n",
       "           refit=True, scoring='roc_auc', solver='saga', tol=0.0001,\n",
       "           verbose=0)"
      ]
     },
     "execution_count": 180,
     "metadata": {},
     "output_type": "execute_result"
    }
   ],
   "source": [
    "lasso_log_cv.fit(X_train_lasso, y_train2)"
   ]
  },
  {
   "cell_type": "code",
   "execution_count": 181,
   "metadata": {},
   "outputs": [
    {
     "name": "stdout",
     "output_type": "stream",
     "text": [
      "0.046415888336127774\n"
     ]
    }
   ],
   "source": [
    "best_c = lasso_log_cv.C_[0]\n",
    "print(best_c)"
   ]
  },
  {
   "cell_type": "code",
   "execution_count": 182,
   "metadata": {},
   "outputs": [],
   "source": [
    "coefficients = lasso_log_cv.coef_[0] \n",
    "# Find the indices of non-zero coefficients\n",
    "non_zero_indices = np.where(coefficients != 0)[0]\n",
    "feature_names = AD_v2.columns\n",
    "non_zero_feature_names = feature_names[non_zero_indices]"
   ]
  },
  {
   "cell_type": "code",
   "execution_count": 183,
   "metadata": {},
   "outputs": [
    {
     "name": "stdout",
     "output_type": "stream",
     "text": [
      "Index(['num_gpi6_post', 'adjust_total_30d_post', 'generic_rate_post',\n",
      "       'post_ip_flag', 'post_er_flag', 'post_rx_cost', 'post_total_cost',\n",
      "       'regionn', 'idx_prodtypen', 'chronic_pain_fibro', 'copd', 'hepatitis',\n",
      "       'hiv_aids', 'hypertension', 'smoking', 'pre_ip_cost', 'num_op',\n",
      "       'adjust_total_30d', 'log_pre_op_cost', 'numofbrand_post'],\n",
      "      dtype='object')\n"
     ]
    }
   ],
   "source": [
    "print(non_zero_feature_names) "
   ]
  },
  {
   "cell_type": "code",
   "execution_count": 184,
   "metadata": {
    "scrolled": true
   },
   "outputs": [
    {
     "data": {
      "text/plain": [
       "array([[ 0.        ,  0.        ,  0.        ,  0.        ,  0.        ,\n",
       "        -0.51570728,  1.2480942 ,  0.1006324 , -0.01217826, -0.11387213,\n",
       "         0.        ,  0.        , -0.01230711,  0.        , -0.04247261,\n",
       "         0.        ,  0.        ,  0.        ,  0.        ,  0.11794515,\n",
       "        -0.10158919,  0.        ,  0.        ,  0.        ,  0.        ,\n",
       "         0.        ,  0.        ,  0.        ,  0.        ,  0.        ,\n",
       "        -0.05862351,  0.        ,  0.05308696,  0.        ,  0.        ,\n",
       "         0.        ,  0.        ,  0.        ,  0.02139697, -0.06044495,\n",
       "        -0.00194873,  0.        ,  0.        ,  0.        ,  0.        ,\n",
       "         0.        ,  0.        ,  0.        ,  0.        ,  0.        ,\n",
       "         0.        , -0.00252876,  0.        ,  0.        ,  0.        ,\n",
       "         0.        ,  0.        ,  0.        ,  0.        , -0.00890456,\n",
       "         0.        ,  0.        ,  0.        ,  0.        ,  0.        ,\n",
       "         0.        ,  0.        , -0.15201884,  0.        ,  0.        ,\n",
       "         0.        , -0.16383482,  0.        ,  0.        ,  0.        ,\n",
       "         0.        ,  0.        , -0.02866733,  0.        ,  0.        ,\n",
       "         0.        ,  0.        ,  0.        ,  0.        ,  0.        ,\n",
       "         0.        ,  0.00447853,  0.        ,  0.        ,  0.        ]])"
      ]
     },
     "execution_count": 184,
     "metadata": {},
     "output_type": "execute_result"
    }
   ],
   "source": [
    "lasso_log_cv.coef_"
   ]
  },
  {
   "cell_type": "code",
   "execution_count": 185,
   "metadata": {},
   "outputs": [],
   "source": [
    "selected_cols = [ 'num_gpi6_post', 'adjust_total_30d_post', 'generic_rate_post',\n",
    "       'post_ip_flag', 'post_er_flag', 'post_rx_cost', 'post_total_cost',\n",
    "       'regionn', 'idx_prodtypen', 'chronic_pain_fibro', 'copd', 'hepatitis',\n",
    "       'hiv_aids', 'hypertension', 'smoking', 'pre_ip_cost', 'num_op',\n",
    "       'adjust_total_30d', 'log_pre_op_cost', 'numofbrand_post']"
   ]
  },
  {
   "cell_type": "code",
   "execution_count": 186,
   "metadata": {},
   "outputs": [],
   "source": [
    "AD_col2 = AD[selected_cols]"
   ]
  },
  {
   "cell_type": "markdown",
   "metadata": {},
   "source": [
    "## Downsampling"
   ]
  },
  {
   "cell_type": "code",
   "execution_count": 205,
   "metadata": {},
   "outputs": [
    {
     "data": {
      "text/plain": [
       "(1722, 20)"
      ]
     },
     "execution_count": 205,
     "metadata": {},
     "output_type": "execute_result"
    }
   ],
   "source": [
    "AD_col2.shape"
   ]
  },
  {
   "cell_type": "code",
   "execution_count": 206,
   "metadata": {},
   "outputs": [
    {
     "data": {
      "text/plain": [
       "(1722, 90)"
      ]
     },
     "execution_count": 206,
     "metadata": {},
     "output_type": "execute_result"
    }
   ],
   "source": [
    "AD_v2.shape"
   ]
  },
  {
   "cell_type": "code",
   "execution_count": 207,
   "metadata": {},
   "outputs": [],
   "source": [
    "from sklearn.utils import resample\n",
    "majority = AD[AD['pdc_80_flag'] == 0]\n",
    "minority = AD[AD['pdc_80_flag'] == 1]\n",
    "\n",
    "majority_downsampled = resample(\n",
    "    majority,\n",
    "    replace = False,\n",
    "    n_samples = len(minority),\n",
    "    random_state = 42\n",
    ")"
   ]
  },
  {
   "cell_type": "code",
   "execution_count": 208,
   "metadata": {},
   "outputs": [
    {
     "data": {
      "text/html": [
       "<div>\n",
       "<style scoped>\n",
       "    .dataframe tbody tr th:only-of-type {\n",
       "        vertical-align: middle;\n",
       "    }\n",
       "\n",
       "    .dataframe tbody tr th {\n",
       "        vertical-align: top;\n",
       "    }\n",
       "\n",
       "    .dataframe thead th {\n",
       "        text-align: right;\n",
       "    }\n",
       "</style>\n",
       "<table border=\"1\" class=\"dataframe\">\n",
       "  <thead>\n",
       "    <tr style=\"text-align: right;\">\n",
       "      <th></th>\n",
       "      <th>pdc</th>\n",
       "      <th>num_ip_post</th>\n",
       "      <th>total_los_post</th>\n",
       "      <th>num_op_post</th>\n",
       "      <th>num_er_post</th>\n",
       "      <th>num_ndc_post</th>\n",
       "      <th>num_gpi6_post</th>\n",
       "      <th>adjust_total_30d_post</th>\n",
       "      <th>generic_rate_post</th>\n",
       "      <th>post_ip_flag</th>\n",
       "      <th>...</th>\n",
       "      <th>brand_cost</th>\n",
       "      <th>ratio_g_total_cost</th>\n",
       "      <th>numofgen_post</th>\n",
       "      <th>numofbrand_post</th>\n",
       "      <th>generic_cost_post</th>\n",
       "      <th>brand_cost_post</th>\n",
       "      <th>ratio_g_total_cost_post</th>\n",
       "      <th>pdc_80_flag</th>\n",
       "      <th>drug_class</th>\n",
       "      <th>patient_key</th>\n",
       "    </tr>\n",
       "  </thead>\n",
       "  <tbody>\n",
       "    <tr>\n",
       "      <th>959</th>\n",
       "      <td>0.166667</td>\n",
       "      <td>0</td>\n",
       "      <td>0</td>\n",
       "      <td>5</td>\n",
       "      <td>0</td>\n",
       "      <td>4</td>\n",
       "      <td>3</td>\n",
       "      <td>3.233333</td>\n",
       "      <td>1.000000</td>\n",
       "      <td>0</td>\n",
       "      <td>...</td>\n",
       "      <td>94.538455</td>\n",
       "      <td>0.540263</td>\n",
       "      <td>4</td>\n",
       "      <td>0</td>\n",
       "      <td>61.682808</td>\n",
       "      <td>0.000000</td>\n",
       "      <td>1.000000</td>\n",
       "      <td>0</td>\n",
       "      <td>*ANTIDIABETICS*</td>\n",
       "      <td>123227</td>\n",
       "    </tr>\n",
       "    <tr>\n",
       "      <th>2153</th>\n",
       "      <td>0.166667</td>\n",
       "      <td>0</td>\n",
       "      <td>0</td>\n",
       "      <td>9</td>\n",
       "      <td>1</td>\n",
       "      <td>7</td>\n",
       "      <td>5</td>\n",
       "      <td>5.133333</td>\n",
       "      <td>0.415584</td>\n",
       "      <td>0</td>\n",
       "      <td>...</td>\n",
       "      <td>360.205970</td>\n",
       "      <td>0.023758</td>\n",
       "      <td>4</td>\n",
       "      <td>3</td>\n",
       "      <td>25.094436</td>\n",
       "      <td>279.348202</td>\n",
       "      <td>0.082427</td>\n",
       "      <td>0</td>\n",
       "      <td>*ANTIDIABETICS*</td>\n",
       "      <td>291778</td>\n",
       "    </tr>\n",
       "    <tr>\n",
       "      <th>1339</th>\n",
       "      <td>0.166667</td>\n",
       "      <td>0</td>\n",
       "      <td>0</td>\n",
       "      <td>4</td>\n",
       "      <td>0</td>\n",
       "      <td>16</td>\n",
       "      <td>8</td>\n",
       "      <td>12.633333</td>\n",
       "      <td>1.000000</td>\n",
       "      <td>0</td>\n",
       "      <td>...</td>\n",
       "      <td>33.056269</td>\n",
       "      <td>0.764696</td>\n",
       "      <td>16</td>\n",
       "      <td>0</td>\n",
       "      <td>227.704051</td>\n",
       "      <td>0.000000</td>\n",
       "      <td>1.000000</td>\n",
       "      <td>0</td>\n",
       "      <td>*ANTIDIABETICS*</td>\n",
       "      <td>170537</td>\n",
       "    </tr>\n",
       "    <tr>\n",
       "      <th>1055</th>\n",
       "      <td>0.166667</td>\n",
       "      <td>0</td>\n",
       "      <td>0</td>\n",
       "      <td>8</td>\n",
       "      <td>0</td>\n",
       "      <td>8</td>\n",
       "      <td>7</td>\n",
       "      <td>7.600000</td>\n",
       "      <td>1.000000</td>\n",
       "      <td>0</td>\n",
       "      <td>...</td>\n",
       "      <td>0.000000</td>\n",
       "      <td>1.000000</td>\n",
       "      <td>8</td>\n",
       "      <td>0</td>\n",
       "      <td>1109.540708</td>\n",
       "      <td>0.000000</td>\n",
       "      <td>1.000000</td>\n",
       "      <td>0</td>\n",
       "      <td>*ANTIDIABETICS*</td>\n",
       "      <td>135636</td>\n",
       "    </tr>\n",
       "    <tr>\n",
       "      <th>88</th>\n",
       "      <td>0.500000</td>\n",
       "      <td>0</td>\n",
       "      <td>0</td>\n",
       "      <td>7</td>\n",
       "      <td>0</td>\n",
       "      <td>32</td>\n",
       "      <td>9</td>\n",
       "      <td>30.600000</td>\n",
       "      <td>1.000000</td>\n",
       "      <td>0</td>\n",
       "      <td>...</td>\n",
       "      <td>0.000000</td>\n",
       "      <td>1.000000</td>\n",
       "      <td>32</td>\n",
       "      <td>0</td>\n",
       "      <td>737.840542</td>\n",
       "      <td>0.000000</td>\n",
       "      <td>1.000000</td>\n",
       "      <td>0</td>\n",
       "      <td>*ANTIDIABETICS*</td>\n",
       "      <td>13636</td>\n",
       "    </tr>\n",
       "  </tbody>\n",
       "</table>\n",
       "<p>5 rows × 95 columns</p>\n",
       "</div>"
      ],
      "text/plain": [
       "           pdc  num_ip_post  total_los_post  num_op_post  num_er_post  \\\n",
       "959   0.166667            0               0            5            0   \n",
       "2153  0.166667            0               0            9            1   \n",
       "1339  0.166667            0               0            4            0   \n",
       "1055  0.166667            0               0            8            0   \n",
       "88    0.500000            0               0            7            0   \n",
       "\n",
       "      num_ndc_post  num_gpi6_post  adjust_total_30d_post  generic_rate_post  \\\n",
       "959              4              3               3.233333           1.000000   \n",
       "2153             7              5               5.133333           0.415584   \n",
       "1339            16              8              12.633333           1.000000   \n",
       "1055             8              7               7.600000           1.000000   \n",
       "88              32              9              30.600000           1.000000   \n",
       "\n",
       "      post_ip_flag     ...       brand_cost  ratio_g_total_cost  \\\n",
       "959              0     ...        94.538455            0.540263   \n",
       "2153             0     ...       360.205970            0.023758   \n",
       "1339             0     ...        33.056269            0.764696   \n",
       "1055             0     ...         0.000000            1.000000   \n",
       "88               0     ...         0.000000            1.000000   \n",
       "\n",
       "      numofgen_post  numofbrand_post  generic_cost_post  brand_cost_post  \\\n",
       "959               4                0          61.682808         0.000000   \n",
       "2153              4                3          25.094436       279.348202   \n",
       "1339             16                0         227.704051         0.000000   \n",
       "1055              8                0        1109.540708         0.000000   \n",
       "88               32                0         737.840542         0.000000   \n",
       "\n",
       "      ratio_g_total_cost_post  pdc_80_flag       drug_class  patient_key  \n",
       "959                  1.000000            0  *ANTIDIABETICS*       123227  \n",
       "2153                 0.082427            0  *ANTIDIABETICS*       291778  \n",
       "1339                 1.000000            0  *ANTIDIABETICS*       170537  \n",
       "1055                 1.000000            0  *ANTIDIABETICS*       135636  \n",
       "88                   1.000000            0  *ANTIDIABETICS*        13636  \n",
       "\n",
       "[5 rows x 95 columns]"
      ]
     },
     "execution_count": 208,
     "metadata": {},
     "output_type": "execute_result"
    }
   ],
   "source": [
    "majority_downsampled.head()"
   ]
  },
  {
   "cell_type": "code",
   "execution_count": 209,
   "metadata": {},
   "outputs": [
    {
     "data": {
      "text/plain": [
       "(671, 95)"
      ]
     },
     "execution_count": 209,
     "metadata": {},
     "output_type": "execute_result"
    }
   ],
   "source": [
    "majority_downsampled.shape"
   ]
  },
  {
   "cell_type": "code",
   "execution_count": 210,
   "metadata": {},
   "outputs": [],
   "source": [
    "downsampled_df = pd.concat([majority_downsampled, minority], axis = 0)"
   ]
  },
  {
   "cell_type": "code",
   "execution_count": 211,
   "metadata": {},
   "outputs": [],
   "source": [
    "downsampled_v2 = downsampled_df.drop(columns = ['pdc_80_flag',  'drug_class', 'patient_key', 'pdc_cat', 'pdc'])"
   ]
  },
  {
   "cell_type": "code",
   "execution_count": 212,
   "metadata": {},
   "outputs": [
    {
     "data": {
      "text/plain": [
       "(1342, 90)"
      ]
     },
     "execution_count": 212,
     "metadata": {},
     "output_type": "execute_result"
    }
   ],
   "source": [
    "downsampled_v2.shape"
   ]
  },
  {
   "cell_type": "code",
   "execution_count": 213,
   "metadata": {},
   "outputs": [],
   "source": [
    "y4 = downsampled_df['pdc_80_flag']"
   ]
  },
  {
   "cell_type": "code",
   "execution_count": 214,
   "metadata": {},
   "outputs": [],
   "source": [
    "sample_weights = np.array([2.57 if label == 0 else 1 for label in y4])"
   ]
  },
  {
   "cell_type": "code",
   "execution_count": 215,
   "metadata": {},
   "outputs": [],
   "source": [
    "X_train4, X_test4, y_train4, y_test4, weights_train, weights_test = train_test_split(downsampled_v2, y4, sample_weights, test_size=0.2, random_state=42)"
   ]
  },
  {
   "cell_type": "code",
   "execution_count": 216,
   "metadata": {},
   "outputs": [],
   "source": [
    "cat = ['age_grpn', 'regionn', 'sexn']\n",
    "X_train_con4 = X_train4.drop(columns = cat).fillna(0)\n",
    "X_train_cat4 = X_train4[cat]\n",
    "X_test_con4 = X_test4.drop(columns = cat).fillna(0)\n",
    "X_test_cat4 = X_test4[cat]"
   ]
  },
  {
   "cell_type": "code",
   "execution_count": 217,
   "metadata": {},
   "outputs": [],
   "source": [
    "scaler = StandardScaler()\n",
    "X_train_normalized4 = scaler.fit_transform(X_train_con4)\n",
    "X_test_normalized4 = scaler.transform(X_test_con4)"
   ]
  },
  {
   "cell_type": "code",
   "execution_count": 218,
   "metadata": {},
   "outputs": [],
   "source": [
    "X_train_normalized_df4 = pd.DataFrame(X_train_normalized4, columns = X_train_con4.columns)\n",
    "X_test_normalized_df4 = pd.DataFrame(X_test_normalized4, columns = X_train_con4.columns)\n",
    "X_train_normalized_df4.reset_index(drop=True, inplace=True)\n",
    "X_train_cat4.reset_index(drop=True, inplace=True)\n",
    "X_test_normalized_df4.reset_index(drop=True, inplace=True)\n",
    "X_test_cat4.reset_index(drop=True, inplace=True)\n",
    "X_train_lasso4 = pd.concat([X_train_normalized_df4, X_train_cat4], axis=1)\n",
    "X_test_lasso4 = pd.concat([X_test_normalized_df4, X_test_cat4], axis=1)"
   ]
  },
  {
   "cell_type": "code",
   "execution_count": 219,
   "metadata": {},
   "outputs": [],
   "source": [
    "lasso_cv = LogisticRegressionCV(\n",
    "    Cs=10,                   # Range of C values (inverse of regularization strength)\n",
    "    cv=5,              \n",
    "    penalty='l1',             # L1 regularization (Lasso)\n",
    "    solver='liblinear',            # liblinear solver supports L1 regularization\n",
    "    scoring='roc_auc',             # You can use other metrics like 'accuracy', 'roc_auc', etc.\n",
    "    max_iter=1000,           # Higher iteration count for convergence\n",
    "    fit_intercept = True,\n",
    "    class_weight= None      #set this to None since weights are handled by sample weights\n",
    ")\n"
   ]
  },
  {
   "cell_type": "code",
   "execution_count": 220,
   "metadata": {},
   "outputs": [
    {
     "data": {
      "text/plain": [
       "LogisticRegressionCV(Cs=10, class_weight=None, cv=5, dual=False,\n",
       "           fit_intercept=True, intercept_scaling=1.0, max_iter=1000,\n",
       "           multi_class='ovr', n_jobs=1, penalty='l1', random_state=None,\n",
       "           refit=True, scoring='roc_auc', solver='liblinear', tol=0.0001,\n",
       "           verbose=0)"
      ]
     },
     "execution_count": 220,
     "metadata": {},
     "output_type": "execute_result"
    }
   ],
   "source": [
    "lasso_cv.fit(X_train_lasso4, y_train4, sample_weight = weights_train)"
   ]
  },
  {
   "cell_type": "code",
   "execution_count": 221,
   "metadata": {},
   "outputs": [
    {
     "name": "stdout",
     "output_type": "stream",
     "text": [
      "0.046415888336127774\n"
     ]
    }
   ],
   "source": [
    "best_c = lasso_cv.C_[0]\n",
    "print(best_c)"
   ]
  },
  {
   "cell_type": "code",
   "execution_count": 222,
   "metadata": {},
   "outputs": [],
   "source": [
    "coefficients = lasso_cv.coef_[0] \n",
    "# Find the indices of non-zero coefficients\n",
    "non_zero_indices = np.where(coefficients != 0)[0]\n",
    "feature_names = downsampled_v2.columns\n",
    "non_zero_feature_names = feature_names[non_zero_indices]"
   ]
  },
  {
   "cell_type": "code",
   "execution_count": 223,
   "metadata": {},
   "outputs": [
    {
     "name": "stdout",
     "output_type": "stream",
     "text": [
      "Index(['num_gpi6_post', 'adjust_total_30d_post', 'generic_rate_post',\n",
      "       'post_ip_flag', 'post_op_cost', 'post_medical_cost', 'regionn',\n",
      "       'log_idx_copay', 'alcohol_drug', 'asthma', 'cardiac_valvular',\n",
      "       'cerebrovascular', 'chronic_kidney', 'chronic_pain_fibro', 'depression',\n",
      "       'hepatitis', 'hiv_aids', 'hypertension', 'solid_tumor', 'pre_ip_cost',\n",
      "       'num_op', 'adjust_total_30d', 'pre_er_flag', 'log_pre_ip_cost',\n",
      "       'log_pre_op_cost', 'pre_total_cat', 'generic_cost', 'generic_cost_post',\n",
      "       'brand_cost_post', 'ratio_g_total_cost_post'],\n",
      "      dtype='object')\n"
     ]
    }
   ],
   "source": [
    "print(non_zero_feature_names) "
   ]
  },
  {
   "cell_type": "code",
   "execution_count": 224,
   "metadata": {},
   "outputs": [],
   "source": [
    "selected_cols = ['num_gpi6_post', 'adjust_total_30d_post', 'generic_rate_post',\n",
    "       'post_ip_flag', 'post_op_cost', 'post_medical_cost', 'regionn',\n",
    "       'log_idx_copay', 'alcohol_drug', 'asthma', 'cardiac_valvular',\n",
    "       'cerebrovascular', 'chronic_kidney', 'chronic_pain_fibro', 'depression',\n",
    "       'hepatitis', 'hiv_aids', 'hypertension', 'solid_tumor', 'pre_ip_cost',\n",
    "       'num_op', 'adjust_total_30d', 'pre_er_flag', 'log_pre_ip_cost',\n",
    "       'log_pre_op_cost', 'pre_total_cat', 'generic_cost', 'generic_cost_post',\n",
    "       'brand_cost_post', 'ratio_g_total_cost_post']"
   ]
  },
  {
   "cell_type": "code",
   "execution_count": 225,
   "metadata": {},
   "outputs": [],
   "source": [
    "selected_X_train5 = X_train4.loc[:, selected_cols]"
   ]
  },
  {
   "cell_type": "code",
   "execution_count": 226,
   "metadata": {},
   "outputs": [],
   "source": [
    "selected_X_test5 = X_test4.loc[:, selected_cols]"
   ]
  },
  {
   "cell_type": "markdown",
   "metadata": {},
   "source": [
    "## model 4 with example weights"
   ]
  },
  {
   "cell_type": "code",
   "execution_count": 227,
   "metadata": {},
   "outputs": [
    {
     "name": "stdout",
     "output_type": "stream",
     "text": [
      "[0]\ttrain-logloss:0.64994+0.00089\ttest-logloss:0.66406+0.00557\n",
      "[2]\ttrain-logloss:0.58165+0.00102\ttest-logloss:0.62122+0.01185\n",
      "[4]\ttrain-logloss:0.52990+0.00146\ttest-logloss:0.59355+0.01655\n",
      "[6]\ttrain-logloss:0.48875+0.00202\ttest-logloss:0.57300+0.02159\n",
      "[8]\ttrain-logloss:0.45554+0.00249\ttest-logloss:0.55736+0.02385\n",
      "[9]\ttrain-logloss:0.44076+0.00250\ttest-logloss:0.55084+0.02637\n"
     ]
    }
   ],
   "source": [
    "# Create DMatrix from training data\n",
    "dtrain5 = xgb.DMatrix(selected_X_train5, label=y_train4, weight = weights_train)\n",
    "\n",
    "cv_results = xgb.cv(\n",
    "    params = params3,\n",
    "    dtrain = dtrain5,\n",
    "    nfold = 5,\n",
    "    num_boost_round = 10,\n",
    "    verbose_eval = 2\n",
    ")"
   ]
  },
  {
   "cell_type": "code",
   "execution_count": 228,
   "metadata": {},
   "outputs": [],
   "source": [
    "best_logloss5 = cv_results['test-logloss-mean'].min()\n",
    "best_num_boost_round5 = cv_results['test-logloss-mean'].idxmin() + 1"
   ]
  },
  {
   "cell_type": "code",
   "execution_count": 229,
   "metadata": {},
   "outputs": [
    {
     "name": "stdout",
     "output_type": "stream",
     "text": [
      "10\n"
     ]
    }
   ],
   "source": [
    "print(best_num_boost_round5)"
   ]
  },
  {
   "cell_type": "code",
   "execution_count": 232,
   "metadata": {},
   "outputs": [],
   "source": [
    "model4 = xgb.train(\n",
    "    params = params3, \n",
    "    dtrain = dtrain5, \n",
    "    num_boost_round = best_num_boost_round5)\n",
    "dtest5 = xgb.DMatrix(selected_X_test5)\n",
    "y_pred_prob5 = model4.predict(dtest5)"
   ]
  },
  {
   "cell_type": "markdown",
   "metadata": {},
   "source": [
    "## Model 4 Evaluation"
   ]
  },
  {
   "cell_type": "code",
   "execution_count": 238,
   "metadata": {},
   "outputs": [],
   "source": [
    "y_pred5 = np.where(y_pred_prob5 > 0.5, 1, 0)"
   ]
  },
  {
   "cell_type": "code",
   "execution_count": 239,
   "metadata": {},
   "outputs": [
    {
     "name": "stdout",
     "output_type": "stream",
     "text": [
      "             precision    recall  f1-score   support\n",
      "\n",
      "          0       0.69      0.74      0.71       137\n",
      "          1       0.71      0.66      0.68       132\n",
      "\n",
      "avg / total       0.70      0.70      0.70       269\n",
      "\n",
      "AUC score: 0.698158593231586\n"
     ]
    }
   ],
   "source": [
    "print(classification_report(y_test4, y_pred5))\n",
    "AUC = roc_auc_score(y_test4, y_pred5)\n",
    "print(f'AUC score: {AUC}')"
   ]
  },
  {
   "cell_type": "code",
   "execution_count": 240,
   "metadata": {},
   "outputs": [
    {
     "name": "stdout",
     "output_type": "stream",
     "text": [
      "Mean F1 Score: 0.7107265370412745\n"
     ]
    }
   ],
   "source": [
    "f1_scorer = make_scorer(f1_score)\n",
    "# classifier1 is the machine learning model\n",
    "\n",
    "# Perform 5-fold cross-validation with F1 score as the scoring metric\n",
    "f1_scores = cross_val_score(classifier1, selected_X_train5, y_train4, cv=5, scoring=f1_scorer)\n",
    "\n",
    "# Calculate the mean F1 score across all folds\n",
    "mean_f1_score = f1_scores.mean()\n",
    "print(\"Mean F1 Score:\", mean_f1_score)"
   ]
  },
  {
   "cell_type": "code",
   "execution_count": null,
   "metadata": {},
   "outputs": [],
   "source": []
  }
 ],
 "metadata": {
  "kernelspec": {
   "display_name": "Python 3",
   "language": "python",
   "name": "python3"
  },
  "language_info": {
   "codemirror_mode": {
    "name": "ipython",
    "version": 3
   },
   "file_extension": ".py",
   "mimetype": "text/x-python",
   "name": "python",
   "nbconvert_exporter": "python",
   "pygments_lexer": "ipython3",
   "version": "3.6.5"
  }
 },
 "nbformat": 4,
 "nbformat_minor": 2
}
