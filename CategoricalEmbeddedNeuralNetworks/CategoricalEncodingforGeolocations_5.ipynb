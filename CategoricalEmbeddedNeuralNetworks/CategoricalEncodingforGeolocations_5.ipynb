{
  "nbformat": 4,
  "nbformat_minor": 0,
  "metadata": {
    "colab": {
      "provenance": []
    },
    "kernelspec": {
      "name": "python3",
      "display_name": "Python 3"
    },
    "language_info": {
      "name": "python"
    }
  },
  "cells": [
    {
      "cell_type": "markdown",
      "source": [
        "This problem is for classifying if the location of a provider's office is colocated with another provider's office by using geolocation information. This dataset required downsampling to solve the imbalanced class data issue in the data preprocessing."
      ],
      "metadata": {
        "id": "4YuBxOz0UhP4"
      }
    },
    {
      "cell_type": "code",
      "execution_count": 1,
      "metadata": {
        "id": "UDz3FI7bWktX"
      },
      "outputs": [],
      "source": [
        "import autoreload\n",
        "%reload_ext autoreload\n",
        "%autoreload 2\n",
        "%matplotlib inline\n",
        "import pandas as pd\n",
        "import numpy as np\n",
        "import torch\n",
        "from pathlib import Path\n",
        "from torch.utils.data import Dataset, DataLoader\n",
        "from torch.autograd import Variable\n",
        "import torch.optim as optim\n",
        "import torch.nn as nn\n",
        "import torch.nn.functional as F\n",
        "from torchvision import models\n",
        "import random\n",
        "import matplotlib.pyplot as plt"
      ]
    },
    {
      "cell_type": "code",
      "source": [
        "from sklearn.model_selection import train_test_split\n",
        "from sklearn.preprocessing import LabelEncoder"
      ],
      "metadata": {
        "id": "ULN-0cLNeeHf"
      },
      "execution_count": 2,
      "outputs": []
    },
    {
      "cell_type": "code",
      "source": [
        "from google.colab import drive\n",
        "#drive.mount('/content/')"
      ],
      "metadata": {
        "id": "kBg43g-pe7vf"
      },
      "execution_count": 3,
      "outputs": []
    },
    {
      "cell_type": "code",
      "source": [
        "data = pd.read_csv('./geolocations_20240115.csv')"
      ],
      "metadata": {
        "id": "9UMdpmcahXX1"
      },
      "execution_count": 4,
      "outputs": []
    },
    {
      "cell_type": "code",
      "source": [
        "data[data['normadd'].str.contains('91 tompkins ave')]"
      ],
      "metadata": {
        "id": "fS-FSckliTIG",
        "colab": {
          "base_uri": "https://localhost:8080/",
          "height": 168
        },
        "outputId": "49d47195-c813-43a4-e992-c2c6a2389521"
      },
      "execution_count": 5,
      "outputs": [
        {
          "output_type": "execute_result",
          "data": {
            "text/plain": [
              "               address address2           city state  countyssa  \\\n",
              "29443  91 tompkins ave      NaN  staten island    ny    33610.0   \n",
              "\n",
              "            clientname        geoinfo         npi                     name  \\\n",
              "29443  quest_elderplan  Address-Exact  1982971180  CHRISTOPHER M GLENN, MD   \n",
              "\n",
              "        latitude  longitude                           normadd  \\\n",
              "29443  40.622485 -74.078314  91 tompkins ave staten island ny   \n",
              "\n",
              "       distance_in_miles  target  \n",
              "29443             878.85     0.0  "
            ],
            "text/html": [
              "\n",
              "  <div id=\"df-bb64c240-5a5f-4766-9088-6b4264d11a1b\" class=\"colab-df-container\">\n",
              "    <div>\n",
              "<style scoped>\n",
              "    .dataframe tbody tr th:only-of-type {\n",
              "        vertical-align: middle;\n",
              "    }\n",
              "\n",
              "    .dataframe tbody tr th {\n",
              "        vertical-align: top;\n",
              "    }\n",
              "\n",
              "    .dataframe thead th {\n",
              "        text-align: right;\n",
              "    }\n",
              "</style>\n",
              "<table border=\"1\" class=\"dataframe\">\n",
              "  <thead>\n",
              "    <tr style=\"text-align: right;\">\n",
              "      <th></th>\n",
              "      <th>address</th>\n",
              "      <th>address2</th>\n",
              "      <th>city</th>\n",
              "      <th>state</th>\n",
              "      <th>countyssa</th>\n",
              "      <th>clientname</th>\n",
              "      <th>geoinfo</th>\n",
              "      <th>npi</th>\n",
              "      <th>name</th>\n",
              "      <th>latitude</th>\n",
              "      <th>longitude</th>\n",
              "      <th>normadd</th>\n",
              "      <th>distance_in_miles</th>\n",
              "      <th>target</th>\n",
              "    </tr>\n",
              "  </thead>\n",
              "  <tbody>\n",
              "    <tr>\n",
              "      <th>29443</th>\n",
              "      <td>91 tompkins ave</td>\n",
              "      <td>NaN</td>\n",
              "      <td>staten island</td>\n",
              "      <td>ny</td>\n",
              "      <td>33610.0</td>\n",
              "      <td>quest_elderplan</td>\n",
              "      <td>Address-Exact</td>\n",
              "      <td>1982971180</td>\n",
              "      <td>CHRISTOPHER M GLENN, MD</td>\n",
              "      <td>40.622485</td>\n",
              "      <td>-74.078314</td>\n",
              "      <td>91 tompkins ave staten island ny</td>\n",
              "      <td>878.85</td>\n",
              "      <td>0.0</td>\n",
              "    </tr>\n",
              "  </tbody>\n",
              "</table>\n",
              "</div>\n",
              "    <div class=\"colab-df-buttons\">\n",
              "\n",
              "  <div class=\"colab-df-container\">\n",
              "    <button class=\"colab-df-convert\" onclick=\"convertToInteractive('df-bb64c240-5a5f-4766-9088-6b4264d11a1b')\"\n",
              "            title=\"Convert this dataframe to an interactive table.\"\n",
              "            style=\"display:none;\">\n",
              "\n",
              "  <svg xmlns=\"http://www.w3.org/2000/svg\" height=\"24px\" viewBox=\"0 -960 960 960\">\n",
              "    <path d=\"M120-120v-720h720v720H120Zm60-500h600v-160H180v160Zm220 220h160v-160H400v160Zm0 220h160v-160H400v160ZM180-400h160v-160H180v160Zm440 0h160v-160H620v160ZM180-180h160v-160H180v160Zm440 0h160v-160H620v160Z\"/>\n",
              "  </svg>\n",
              "    </button>\n",
              "\n",
              "  <style>\n",
              "    .colab-df-container {\n",
              "      display:flex;\n",
              "      gap: 12px;\n",
              "    }\n",
              "\n",
              "    .colab-df-convert {\n",
              "      background-color: #E8F0FE;\n",
              "      border: none;\n",
              "      border-radius: 50%;\n",
              "      cursor: pointer;\n",
              "      display: none;\n",
              "      fill: #1967D2;\n",
              "      height: 32px;\n",
              "      padding: 0 0 0 0;\n",
              "      width: 32px;\n",
              "    }\n",
              "\n",
              "    .colab-df-convert:hover {\n",
              "      background-color: #E2EBFA;\n",
              "      box-shadow: 0px 1px 2px rgba(60, 64, 67, 0.3), 0px 1px 3px 1px rgba(60, 64, 67, 0.15);\n",
              "      fill: #174EA6;\n",
              "    }\n",
              "\n",
              "    .colab-df-buttons div {\n",
              "      margin-bottom: 4px;\n",
              "    }\n",
              "\n",
              "    [theme=dark] .colab-df-convert {\n",
              "      background-color: #3B4455;\n",
              "      fill: #D2E3FC;\n",
              "    }\n",
              "\n",
              "    [theme=dark] .colab-df-convert:hover {\n",
              "      background-color: #434B5C;\n",
              "      box-shadow: 0px 1px 3px 1px rgba(0, 0, 0, 0.15);\n",
              "      filter: drop-shadow(0px 1px 2px rgba(0, 0, 0, 0.3));\n",
              "      fill: #FFFFFF;\n",
              "    }\n",
              "  </style>\n",
              "\n",
              "    <script>\n",
              "      const buttonEl =\n",
              "        document.querySelector('#df-bb64c240-5a5f-4766-9088-6b4264d11a1b button.colab-df-convert');\n",
              "      buttonEl.style.display =\n",
              "        google.colab.kernel.accessAllowed ? 'block' : 'none';\n",
              "\n",
              "      async function convertToInteractive(key) {\n",
              "        const element = document.querySelector('#df-bb64c240-5a5f-4766-9088-6b4264d11a1b');\n",
              "        const dataTable =\n",
              "          await google.colab.kernel.invokeFunction('convertToInteractive',\n",
              "                                                    [key], {});\n",
              "        if (!dataTable) return;\n",
              "\n",
              "        const docLinkHtml = 'Like what you see? Visit the ' +\n",
              "          '<a target=\"_blank\" href=https://colab.research.google.com/notebooks/data_table.ipynb>data table notebook</a>'\n",
              "          + ' to learn more about interactive tables.';\n",
              "        element.innerHTML = '';\n",
              "        dataTable['output_type'] = 'display_data';\n",
              "        await google.colab.output.renderOutput(dataTable, element);\n",
              "        const docLink = document.createElement('div');\n",
              "        docLink.innerHTML = docLinkHtml;\n",
              "        element.appendChild(docLink);\n",
              "      }\n",
              "    </script>\n",
              "  </div>\n",
              "\n",
              "\n",
              "    </div>\n",
              "  </div>\n"
            ]
          },
          "metadata": {},
          "execution_count": 5
        }
      ]
    },
    {
      "cell_type": "code",
      "source": [
        "X= data.drop(columns= ['target', 'geoinfo'], axis= 1)\n",
        "Y= data['target']"
      ],
      "metadata": {
        "id": "fsb0glQKiZLI"
      },
      "execution_count": 6,
      "outputs": []
    },
    {
      "cell_type": "code",
      "source": [
        "Y.value_counts()"
      ],
      "metadata": {
        "colab": {
          "base_uri": "https://localhost:8080/"
        },
        "id": "bCvYBI4Buh04",
        "outputId": "f7f6ffbe-0a85-4ef7-a5d3-c93a2f33ca69"
      },
      "execution_count": 7,
      "outputs": [
        {
          "output_type": "execute_result",
          "data": {
            "text/plain": [
              "0.0    21810\n",
              "1.0     8827\n",
              "Name: target, dtype: int64"
            ]
          },
          "metadata": {},
          "execution_count": 7
        }
      ]
    },
    {
      "cell_type": "code",
      "source": [
        "X.shape, Y.shape"
      ],
      "metadata": {
        "colab": {
          "base_uri": "https://localhost:8080/"
        },
        "id": "FFa9Pw8h4Ul_",
        "outputId": "6e13f44e-9385-4503-ab73-880ad01ec0bf"
      },
      "execution_count": 8,
      "outputs": [
        {
          "output_type": "execute_result",
          "data": {
            "text/plain": [
              "((30637, 12), (30637,))"
            ]
          },
          "metadata": {},
          "execution_count": 8
        }
      ]
    },
    {
      "cell_type": "markdown",
      "source": [
        "## this is imbalance dataset with only 27% of data is 1. I downsampled class 0\n"
      ],
      "metadata": {
        "id": "ndTBjTearbsm"
      }
    },
    {
      "cell_type": "code",
      "source": [
        "for col in X.columns:\n",
        "  if X[col].dtype == 'object':\n",
        "    X[col] = X[col].fillna('NA')\n",
        "  else:\n",
        "    X[col] = X[col].fillna(0)\n",
        "  le= LabelEncoder()\n",
        "  X[col] = le.fit_transform(X[col])"
      ],
      "metadata": {
        "id": "aqIMQhrrt1Y_"
      },
      "execution_count": 9,
      "outputs": []
    },
    {
      "cell_type": "code",
      "source": [
        "#try to make all columns as categorical variables\n",
        "for col in X.columns:\n",
        "  X[col] = X[col].astype('category')"
      ],
      "metadata": {
        "id": "-TnTVv0jA5TL"
      },
      "execution_count": 10,
      "outputs": []
    },
    {
      "cell_type": "code",
      "source": [
        "X.dtypes"
      ],
      "metadata": {
        "colab": {
          "base_uri": "https://localhost:8080/"
        },
        "id": "M0ib2oIlMjwX",
        "outputId": "c3c8371a-b29a-444b-cea6-b01ae233e5bc"
      },
      "execution_count": 11,
      "outputs": [
        {
          "output_type": "execute_result",
          "data": {
            "text/plain": [
              "address              category\n",
              "address2             category\n",
              "city                 category\n",
              "state                category\n",
              "countyssa            category\n",
              "clientname           category\n",
              "npi                  category\n",
              "name                 category\n",
              "latitude             category\n",
              "longitude            category\n",
              "normadd              category\n",
              "distance_in_miles    category\n",
              "dtype: object"
            ]
          },
          "metadata": {},
          "execution_count": 11
        }
      ]
    },
    {
      "cell_type": "code",
      "source": [
        "X_train, X_val, y_train, y_val = train_test_split(X, Y, random_state= 42)"
      ],
      "metadata": {
        "id": "IoVXN3icrpUj"
      },
      "execution_count": 12,
      "outputs": []
    },
    {
      "cell_type": "code",
      "source": [
        "y_train.value_counts()"
      ],
      "metadata": {
        "colab": {
          "base_uri": "https://localhost:8080/"
        },
        "id": "_3BekAmRsdVS",
        "outputId": "5b6a2e1c-f8be-44f0-e7e5-ff045d731c92"
      },
      "execution_count": 13,
      "outputs": [
        {
          "output_type": "execute_result",
          "data": {
            "text/plain": [
              "0.0    16330\n",
              "1.0     6647\n",
              "Name: target, dtype: int64"
            ]
          },
          "metadata": {},
          "execution_count": 13
        }
      ]
    },
    {
      "cell_type": "code",
      "source": [
        "y_val.value_counts()"
      ],
      "metadata": {
        "colab": {
          "base_uri": "https://localhost:8080/"
        },
        "id": "eiN01ySfP1ty",
        "outputId": "2ed72cd4-2d77-463e-bce7-1a4cffc60f83"
      },
      "execution_count": 14,
      "outputs": [
        {
          "output_type": "execute_result",
          "data": {
            "text/plain": [
              "0.0    5480\n",
              "1.0    2180\n",
              "Name: target, dtype: int64"
            ]
          },
          "metadata": {},
          "execution_count": 14
        }
      ]
    },
    {
      "cell_type": "code",
      "source": [
        "train_data= pd.concat([X_train, y_train], axis=1)"
      ],
      "metadata": {
        "id": "22e9Fecuhjjo"
      },
      "execution_count": 15,
      "outputs": []
    },
    {
      "cell_type": "code",
      "source": [
        "class_0= train_data[train_data['target']==0]\n",
        "class_1= train_data[train_data['target'] ==1]"
      ],
      "metadata": {
        "id": "pbWlzukeh8rt"
      },
      "execution_count": 16,
      "outputs": []
    },
    {
      "cell_type": "code",
      "source": [
        "from sklearn.utils import resample\n",
        "class_0_downsampled= resample(class_0, replace = False, n_samples= len(class_1), random_state= 43)"
      ],
      "metadata": {
        "id": "O6TCWd3rh0_x"
      },
      "execution_count": 17,
      "outputs": []
    },
    {
      "cell_type": "code",
      "source": [
        "downsampled_data= pd.concat([class_0_downsampled, class_1])\n",
        "downsampled_data= downsampled_data.sample(frac=1, random_state= 42)"
      ],
      "metadata": {
        "id": "JieQLJ3HinAh"
      },
      "execution_count": 18,
      "outputs": []
    },
    {
      "cell_type": "code",
      "source": [
        "X_train_downsampled= downsampled_data.drop('target', axis=1)\n",
        "y_train_downsampled= downsampled_data['target']"
      ],
      "metadata": {
        "id": "8z2eUNdfivJg"
      },
      "execution_count": 19,
      "outputs": []
    },
    {
      "cell_type": "code",
      "source": [
        "y_train_downsampled.value_counts()"
      ],
      "metadata": {
        "colab": {
          "base_uri": "https://localhost:8080/"
        },
        "id": "lUyvv52-jaXu",
        "outputId": "0a55e99f-b140-45cb-9a86-2a844032129c"
      },
      "execution_count": 20,
      "outputs": [
        {
          "output_type": "execute_result",
          "data": {
            "text/plain": [
              "1.0    6647\n",
              "0.0    6647\n",
              "Name: target, dtype: int64"
            ]
          },
          "metadata": {},
          "execution_count": 20
        }
      ]
    },
    {
      "cell_type": "code",
      "source": [
        "\n",
        "X_train_downsampled.reset_index(inplace = True, drop= True)\n",
        "X_val.reset_index(inplace = True, drop= True)"
      ],
      "metadata": {
        "id": "Ru6CWZ0NsF-Q"
      },
      "execution_count": 21,
      "outputs": []
    },
    {
      "cell_type": "code",
      "source": [
        "emb_c= {n: len(col.cat.categories) for n, col in X.items() if len(col.cat.categories) >2}"
      ],
      "metadata": {
        "id": "ybGL9NewCEya"
      },
      "execution_count": 22,
      "outputs": []
    },
    {
      "cell_type": "code",
      "source": [
        "emb_c"
      ],
      "metadata": {
        "colab": {
          "base_uri": "https://localhost:8080/"
        },
        "id": "y0AZ2d6YCZVj",
        "outputId": "894b8aa6-f48c-4ad3-fb21-a70f48660804"
      },
      "execution_count": 23,
      "outputs": [
        {
          "output_type": "execute_result",
          "data": {
            "text/plain": [
              "{'address': 24102,\n",
              " 'address2': 1810,\n",
              " 'city': 4260,\n",
              " 'state': 52,\n",
              " 'countyssa': 1857,\n",
              " 'clientname': 77,\n",
              " 'npi': 28724,\n",
              " 'name': 23362,\n",
              " 'latitude': 22919,\n",
              " 'longitude': 22932,\n",
              " 'normadd': 24353,\n",
              " 'distance_in_miles': 20569}"
            ]
          },
          "metadata": {},
          "execution_count": 23
        }
      ]
    },
    {
      "cell_type": "code",
      "source": [
        "#size of the categories, size of the embedding\n",
        "emb_szs= [(c, min(50, (c+1)//2)) for _,c in emb_c.items()]\n",
        "emb_szs"
      ],
      "metadata": {
        "colab": {
          "base_uri": "https://localhost:8080/"
        },
        "id": "txQcrHzcCmdn",
        "outputId": "f9d26d83-ac42-4912-8f6e-b9b626ae337a"
      },
      "execution_count": 24,
      "outputs": [
        {
          "output_type": "execute_result",
          "data": {
            "text/plain": [
              "[(24102, 50),\n",
              " (1810, 50),\n",
              " (4260, 50),\n",
              " (52, 26),\n",
              " (1857, 50),\n",
              " (77, 39),\n",
              " (28724, 50),\n",
              " (23362, 50),\n",
              " (22919, 50),\n",
              " (22932, 50),\n",
              " (24353, 50),\n",
              " (20569, 50)]"
            ]
          },
          "metadata": {},
          "execution_count": 24
        }
      ]
    },
    {
      "cell_type": "markdown",
      "source": [
        "##Dataset"
      ],
      "metadata": {
        "id": "fFi7qW8DDDrS"
      }
    },
    {
      "cell_type": "code",
      "source": [
        "emb_cols= emb_c.keys()"
      ],
      "metadata": {
        "id": "v3bKR0V0ENBi"
      },
      "execution_count": 25,
      "outputs": []
    },
    {
      "cell_type": "code",
      "source": [
        "X.columns"
      ],
      "metadata": {
        "colab": {
          "base_uri": "https://localhost:8080/"
        },
        "id": "0RSXVtmGMFU-",
        "outputId": "b1434ce8-5fa4-48a4-b72a-8099aa34ed3c"
      },
      "execution_count": 26,
      "outputs": [
        {
          "output_type": "execute_result",
          "data": {
            "text/plain": [
              "Index(['address', 'address2', 'city', 'state', 'countyssa', 'clientname',\n",
              "       'npi', 'name', 'latitude', 'longitude', 'normadd', 'distance_in_miles'],\n",
              "      dtype='object')"
            ]
          },
          "metadata": {},
          "execution_count": 26
        }
      ]
    },
    {
      "cell_type": "code",
      "source": [
        "X.dtypes"
      ],
      "metadata": {
        "colab": {
          "base_uri": "https://localhost:8080/"
        },
        "id": "SNzkAK9hef8U",
        "outputId": "39e31f4c-e069-4ecd-b511-781428bccb61"
      },
      "execution_count": 27,
      "outputs": [
        {
          "output_type": "execute_result",
          "data": {
            "text/plain": [
              "address              category\n",
              "address2             category\n",
              "city                 category\n",
              "state                category\n",
              "countyssa            category\n",
              "clientname           category\n",
              "npi                  category\n",
              "name                 category\n",
              "latitude             category\n",
              "longitude            category\n",
              "normadd              category\n",
              "distance_in_miles    category\n",
              "dtype: object"
            ]
          },
          "metadata": {},
          "execution_count": 27
        }
      ]
    },
    {
      "cell_type": "code",
      "source": [
        "emb_cols"
      ],
      "metadata": {
        "colab": {
          "base_uri": "https://localhost:8080/"
        },
        "id": "lgDQpsNMEhJ1",
        "outputId": "e188b930-0a87-424d-f23b-4dae9725905b"
      },
      "execution_count": 28,
      "outputs": [
        {
          "output_type": "execute_result",
          "data": {
            "text/plain": [
              "dict_keys(['address', 'address2', 'city', 'state', 'countyssa', 'clientname', 'npi', 'name', 'latitude', 'longitude', 'normadd', 'distance_in_miles'])"
            ]
          },
          "metadata": {},
          "execution_count": 28
        }
      ]
    },
    {
      "cell_type": "code",
      "source": [
        "class GeoLocationDataset(Dataset):\n",
        "  def __init__(self, X, Y, emb_cols):\n",
        "    X= X.copy()\n",
        "    self.X= X.loc[: ,emb_cols].copy().values.astype(np.int64)\n",
        "    self.y= Y.copy().values.astype(np.float64)\n",
        "\n",
        "  def __len__(self):\n",
        "    return len(self.y)\n",
        "\n",
        "  def __getitem__(self, idx):\n",
        "\n",
        "    return self.X[idx,:], self.y[idx]"
      ],
      "metadata": {
        "id": "E_vO5ZH2C_4F"
      },
      "execution_count": 29,
      "outputs": []
    },
    {
      "cell_type": "code",
      "source": [
        "train_ds= GeoLocationDataset(X_train_downsampled, y_train_downsampled, emb_cols)\n",
        "valid_ds= GeoLocationDataset(X_val, y_val, emb_cols)"
      ],
      "metadata": {
        "id": "H3KCwOPaD73G"
      },
      "execution_count": 30,
      "outputs": []
    },
    {
      "cell_type": "code",
      "source": [
        "train_ds[2]"
      ],
      "metadata": {
        "colab": {
          "base_uri": "https://localhost:8080/"
        },
        "id": "n_7kV_qlEWdd",
        "outputId": "c5a3cc1b-a14b-475b-bf52-140ef9283ec5"
      },
      "execution_count": 31,
      "outputs": [
        {
          "output_type": "execute_result",
          "data": {
            "text/plain": [
              "(array([10946,   242,    32,    32,   997,    34, 16230,  4033,  5523,\n",
              "         4291, 11061, 15690]),\n",
              " 0.0)"
            ]
          },
          "metadata": {},
          "execution_count": 31
        }
      ]
    },
    {
      "cell_type": "code",
      "source": [
        "emb_cols = ['address', 'address2', 'city', 'state', 'countyssa', 'clientname', 'npi', 'name', 'latitude', 'longitude', 'normadd', 'distance_in_miles']\n",
        "X1= X.loc[: ,emb_cols].copy().values.astype('str')\n",
        "X1"
      ],
      "metadata": {
        "colab": {
          "base_uri": "https://localhost:8080/"
        },
        "id": "XmDgjempGnmU",
        "outputId": "fc5115a5-576d-4b93-ee44-ed5334bbf5da"
      },
      "execution_count": 32,
      "outputs": [
        {
          "output_type": "execute_result",
          "data": {
            "text/plain": [
              "array([['19075', '242', '3604', ..., '6594', '19282', '0'],\n",
              "       ['24071', '228', '324', ..., '16384', '0', '12276'],\n",
              "       ['4', '242', '22', ..., '12816', '1', '4291'],\n",
              "       ...,\n",
              "       ['24098', '242', '2309', ..., '8618', '24350', '0'],\n",
              "       ['24099', '242', '4002', ..., '8550', '24351', '256'],\n",
              "       ['24101', '242', '437', ..., '20193', '24352', '9453']],\n",
              "      dtype='<U21')"
            ]
          },
          "metadata": {},
          "execution_count": 32
        }
      ]
    },
    {
      "cell_type": "code",
      "source": [
        "len(valid_ds)"
      ],
      "metadata": {
        "colab": {
          "base_uri": "https://localhost:8080/"
        },
        "id": "DmI8b26ZIc3N",
        "outputId": "373ba7e5-1f44-4c74-d057-67bd9b8b2e72"
      },
      "execution_count": 33,
      "outputs": [
        {
          "output_type": "execute_result",
          "data": {
            "text/plain": [
              "7660"
            ]
          },
          "metadata": {},
          "execution_count": 33
        }
      ]
    },
    {
      "cell_type": "code",
      "source": [
        "train_ds[3]"
      ],
      "metadata": {
        "colab": {
          "base_uri": "https://localhost:8080/"
        },
        "id": "LGvHWdhDNUF4",
        "outputId": "14a4f695-58e8-42a6-8bc7-a18dbf92a0d8"
      },
      "execution_count": 34,
      "outputs": [
        {
          "output_type": "execute_result",
          "data": {
            "text/plain": [
              "(array([15650,   242,  2597,    34,  1074,    49,  4662, 14175, 15631,\n",
              "        21066, 15823,     1]),\n",
              " 1.0)"
            ]
          },
          "metadata": {},
          "execution_count": 34
        }
      ]
    },
    {
      "cell_type": "code",
      "source": [
        "valid_ds[0]"
      ],
      "metadata": {
        "colab": {
          "base_uri": "https://localhost:8080/"
        },
        "id": "ycn1Wuc6h6Wb",
        "outputId": "116cdd6b-5a0e-46e2-af07-837d479a8da6"
      },
      "execution_count": 35,
      "outputs": [
        {
          "output_type": "execute_result",
          "data": {
            "text/plain": [
              "(array([22291,   242,   437,    34,  1038,    76, 12335, 14175, 12651,\n",
              "        19068, 22534,     0]),\n",
              " 1.0)"
            ]
          },
          "metadata": {},
          "execution_count": 35
        }
      ]
    },
    {
      "cell_type": "code",
      "source": [
        "class CategoricalEmbeddingModel(nn.Module):\n",
        "  def __init__(self, emb_szs):\n",
        "    super().__init__()\n",
        "    self.embs= nn.ModuleList([nn.Embedding(c, s) for c, s in emb_szs])\n",
        "    n_emb= sum(e.embedding_dim for e in self.embs)\n",
        "    self.n_emb= n_emb\n",
        "    self.lin1= nn.Linear(self.n_emb, 100)\n",
        "    self.lin2= nn.Linear(100,1)\n",
        "    self.bn= nn.BatchNorm1d(100)\n",
        "    self.emb_dropout= nn.Dropout(0.5)\n",
        "    self.drops= nn.Dropout(0.2)\n",
        "\n",
        "  def forward(self, x_cat):\n",
        "    #This is applying the current embedding layer e to the corresponding column of the input tensor. It's essentially embedding the categorical values in that column.\n",
        "    x= [e(x_cat[:, i]) for i, e in enumerate(self.embs)]\n",
        "    x = torch.cat(x, 1)\n",
        "    x= self.emb_dropout(x)\n",
        "    x= F.relu(self.lin1(x))\n",
        "    x= self.drops(x)\n",
        "    x= self.bn(x)\n",
        "    x= self.lin2(x)\n",
        "    return x"
      ],
      "metadata": {
        "id": "7kKJauv3OeZF"
      },
      "execution_count": 36,
      "outputs": []
    },
    {
      "cell_type": "code",
      "source": [
        "model= CategoricalEmbeddingModel(emb_szs)"
      ],
      "metadata": {
        "id": "lNo-NquJQLy2"
      },
      "execution_count": 37,
      "outputs": []
    },
    {
      "cell_type": "code",
      "source": [
        "embs= nn.ModuleList([nn.Embedding(c,s) for c, s in emb_szs])"
      ],
      "metadata": {
        "id": "bJllhQIJQTS4"
      },
      "execution_count": 38,
      "outputs": []
    },
    {
      "cell_type": "code",
      "source": [
        "batch_size= 5\n",
        "train_dl = DataLoader(train_ds, batch_size= batch_size, shuffle = True)\n",
        "valid_dl = DataLoader(valid_ds, batch_size= batch_size)"
      ],
      "metadata": {
        "id": "bDmdoYHMILdx"
      },
      "execution_count": 39,
      "outputs": []
    },
    {
      "cell_type": "code",
      "source": [
        "x, y= next(iter(train_dl))"
      ],
      "metadata": {
        "id": "KkBXCs_eQbPb"
      },
      "execution_count": 40,
      "outputs": []
    },
    {
      "cell_type": "code",
      "source": [
        "print(x.shape, y.shape)"
      ],
      "metadata": {
        "colab": {
          "base_uri": "https://localhost:8080/"
        },
        "id": "VUhrpojTQru_",
        "outputId": "e11059e2-9c39-4222-b399-366c28206661"
      },
      "execution_count": 41,
      "outputs": [
        {
          "output_type": "stream",
          "name": "stdout",
          "text": [
            "torch.Size([5, 12]) torch.Size([5])\n"
          ]
        }
      ]
    },
    {
      "cell_type": "code",
      "source": [
        "x[:, 0]"
      ],
      "metadata": {
        "colab": {
          "base_uri": "https://localhost:8080/"
        },
        "id": "b0qk2_aOQurm",
        "outputId": "f837489c-eb82-4d96-de69-721e26bc9bd6"
      },
      "execution_count": 42,
      "outputs": [
        {
          "output_type": "execute_result",
          "data": {
            "text/plain": [
              "tensor([15704, 14719,   532, 23975, 11606])"
            ]
          },
          "metadata": {},
          "execution_count": 42
        }
      ]
    },
    {
      "cell_type": "code",
      "source": [
        "embs[0](x[:, 0])"
      ],
      "metadata": {
        "colab": {
          "base_uri": "https://localhost:8080/"
        },
        "id": "1n-2ApnbQzwh",
        "outputId": "3fbf29e6-eb96-4f3f-d115-9dff4a98855b"
      },
      "execution_count": 43,
      "outputs": [
        {
          "output_type": "execute_result",
          "data": {
            "text/plain": [
              "tensor([[ 2.9480e-02,  1.1853e+00, -1.0595e+00,  2.9736e+00,  7.3951e-02,\n",
              "         -4.1447e-01, -1.8417e-01, -1.3354e+00,  1.6215e-01, -2.0567e+00,\n",
              "          1.1003e-01,  1.1382e+00,  7.2917e-01,  1.4582e-01, -1.1971e+00,\n",
              "          3.4688e-01, -3.7979e-01, -4.6428e-01,  5.0880e-01, -8.5336e-01,\n",
              "         -3.6553e-01, -3.4864e-01, -1.3076e+00, -2.1247e-01,  2.8278e-01,\n",
              "         -7.0840e-01, -1.9774e+00,  2.6458e+00,  2.8724e-01, -1.2103e+00,\n",
              "         -1.3571e+00,  5.4796e-01, -1.6534e+00,  1.3294e+00,  1.0390e+00,\n",
              "         -1.3836e-02,  1.3538e+00, -9.8408e-01,  1.7309e-01, -3.1489e-01,\n",
              "          8.8064e-01,  8.1214e-01,  3.6918e-01, -4.6785e-01,  3.6859e-01,\n",
              "         -1.7587e-01, -7.8265e-01,  2.1834e+00,  2.2962e-01,  8.7300e-02],\n",
              "        [ 5.4093e-01,  9.5017e-01, -2.7084e-01, -4.9587e-01,  1.8069e+00,\n",
              "         -2.2971e-01,  1.4598e-01,  6.5746e-01,  1.0239e+00, -7.5929e-01,\n",
              "          9.0655e-02, -1.5700e+00, -2.9649e+00, -2.4750e-02,  2.8532e-01,\n",
              "         -7.5063e-01, -9.9414e-01,  7.1182e-01,  8.1073e-01, -2.3060e+00,\n",
              "         -1.3513e+00, -3.1175e-01, -1.3234e+00, -4.2716e-01,  6.8037e-01,\n",
              "         -5.5992e-01,  1.0409e-01,  4.8286e-01, -1.9547e-01, -1.3551e+00,\n",
              "         -6.4707e-01,  1.7467e-01, -5.6419e-01,  6.6180e-01, -9.3982e-01,\n",
              "          1.8899e+00, -2.8499e-01, -5.2877e-01, -1.6112e+00,  7.6029e-01,\n",
              "         -2.2245e-01, -8.4830e-01, -1.1297e+00, -7.0356e-01, -4.0517e-01,\n",
              "         -1.7523e+00, -5.8227e-01,  1.3775e+00,  8.5596e-01,  5.9799e-01],\n",
              "        [-1.6313e-01,  1.1978e+00,  1.2938e+00,  1.5190e+00,  5.7446e-01,\n",
              "          4.4056e-01,  1.4694e-01, -8.8907e-01, -8.8730e-02, -7.0708e-01,\n",
              "         -7.6398e-01,  1.2100e+00,  1.0438e+00, -1.5499e+00, -8.1174e-01,\n",
              "         -6.7830e-02, -5.8988e-01, -6.5416e-04,  4.4904e-01,  9.2172e-01,\n",
              "          4.0360e-01, -7.6256e-01,  1.4521e+00, -2.0159e+00,  1.4024e+00,\n",
              "         -1.3194e-01,  5.5233e-01, -7.3937e-01,  8.8029e-01,  1.4036e+00,\n",
              "          1.2753e+00, -3.6972e-01,  5.7008e-02,  2.6591e+00,  6.4857e-01,\n",
              "         -6.1205e-02, -1.8129e+00, -3.8068e-01,  2.7627e-01,  8.7617e-01,\n",
              "         -4.3852e-01, -2.3105e+00, -9.6733e-01, -6.4111e-01,  1.1312e+00,\n",
              "          3.7926e-02,  7.2846e-02,  2.2654e-01, -4.5995e-01, -4.6857e-01],\n",
              "        [ 5.7483e-01,  1.1709e+00, -1.7620e-01, -1.2817e+00, -9.1792e-01,\n",
              "          1.8269e+00,  1.7874e+00, -2.7376e-01, -1.6589e+00, -4.6081e-02,\n",
              "         -8.5415e-01,  6.8110e-01,  4.7558e-01,  1.0165e+00,  1.0007e-01,\n",
              "         -4.9247e-02,  4.0719e-01, -2.1988e+00, -1.7237e-01,  1.4608e-01,\n",
              "          1.9793e-01,  1.2995e+00, -3.5071e-01, -2.0722e+00,  4.4276e-01,\n",
              "         -9.9204e-01, -5.0498e-01, -1.6480e+00,  6.6720e-01,  9.0759e-01,\n",
              "         -1.1651e+00,  4.0340e-01, -3.8129e-01, -1.3433e+00,  8.6245e-01,\n",
              "         -1.7465e+00, -7.7632e-01,  1.5778e-01,  4.2551e-01,  3.8930e-01,\n",
              "         -4.3855e-01, -3.7461e-01, -1.4408e+00, -1.4546e-01,  2.3813e-01,\n",
              "         -7.4600e-01,  6.2861e-01,  1.9985e+00, -1.4845e+00, -5.7288e-02],\n",
              "        [-2.4474e-01, -2.6217e-01, -1.6905e+00, -1.8491e-01, -4.6223e-01,\n",
              "         -1.6053e+00, -2.7386e-01,  1.2070e-01,  2.1733e+00, -6.3357e-01,\n",
              "          7.5536e-01,  1.0118e+00, -8.4148e-02,  5.7535e-01, -5.1707e-01,\n",
              "         -1.0700e+00, -8.7815e-01, -5.4896e-01,  1.2705e+00, -4.7759e-01,\n",
              "         -1.2709e-01,  4.3173e-01, -1.6858e+00, -1.9182e+00, -4.4609e-01,\n",
              "          2.8424e-01, -2.4092e-01, -1.7278e-01,  6.7291e-01, -1.8868e+00,\n",
              "          5.7249e-01,  3.3292e-02, -1.0336e+00,  7.8433e-02, -1.6904e+00,\n",
              "         -1.4210e+00, -1.2656e+00,  1.1379e+00,  2.8039e-01,  8.1271e-01,\n",
              "         -4.5293e-01, -1.6991e+00,  3.2691e-01,  8.4659e-01,  5.3745e-01,\n",
              "          1.4660e+00, -2.6354e-01, -2.0015e+00,  1.0844e-01, -1.8317e+00]],\n",
              "       grad_fn=<EmbeddingBackward0>)"
            ]
          },
          "metadata": {},
          "execution_count": 43
        }
      ]
    },
    {
      "cell_type": "code",
      "source": [
        "y= y.unsqueeze(1)\n"
      ],
      "metadata": {
        "id": "8t8kkK_vRAXk"
      },
      "execution_count": 44,
      "outputs": []
    },
    {
      "cell_type": "code",
      "source": [
        "out= model(x)\n",
        "out"
      ],
      "metadata": {
        "colab": {
          "base_uri": "https://localhost:8080/"
        },
        "id": "Da-b5Rt6icgZ",
        "outputId": "8a7a5406-1230-4959-95a4-40efa0bdfd6d"
      },
      "execution_count": 45,
      "outputs": [
        {
          "output_type": "execute_result",
          "data": {
            "text/plain": [
              "tensor([[ 0.6679],\n",
              "        [-0.3905],\n",
              "        [ 0.2090],\n",
              "        [-1.1180],\n",
              "        [ 1.1151]], grad_fn=<AddmmBackward0>)"
            ]
          },
          "metadata": {},
          "execution_count": 45
        }
      ]
    },
    {
      "cell_type": "code",
      "source": [
        "out.shape"
      ],
      "metadata": {
        "colab": {
          "base_uri": "https://localhost:8080/"
        },
        "id": "ZsFtpXroRFd5",
        "outputId": "677e43b6-cb41-4443-c959-ee5de4706f24"
      },
      "execution_count": 46,
      "outputs": [
        {
          "output_type": "execute_result",
          "data": {
            "text/plain": [
              "torch.Size([5, 1])"
            ]
          },
          "metadata": {},
          "execution_count": 46
        }
      ]
    },
    {
      "cell_type": "code",
      "source": [
        "pred= (out> 0.0).float()\n",
        "(pred== y).float().sum()"
      ],
      "metadata": {
        "colab": {
          "base_uri": "https://localhost:8080/"
        },
        "id": "wzNdvAqqRHea",
        "outputId": "7e20f96c-30d5-41cb-cef3-58b612f5f0b0"
      },
      "execution_count": 47,
      "outputs": [
        {
          "output_type": "execute_result",
          "data": {
            "text/plain": [
              "tensor(3.)"
            ]
          },
          "metadata": {},
          "execution_count": 47
        }
      ]
    },
    {
      "cell_type": "code",
      "source": [
        "F.binary_cross_entropy_with_logits(out, y)"
      ],
      "metadata": {
        "colab": {
          "base_uri": "https://localhost:8080/"
        },
        "id": "FZjYXaJJRN0G",
        "outputId": "d77fcd99-69ef-41ba-8590-3c31db5cd679"
      },
      "execution_count": 48,
      "outputs": [
        {
          "output_type": "execute_result",
          "data": {
            "text/plain": [
              "tensor(0.7194, dtype=torch.float64,\n",
              "       grad_fn=<BinaryCrossEntropyWithLogitsBackward0>)"
            ]
          },
          "metadata": {},
          "execution_count": 48
        }
      ]
    },
    {
      "cell_type": "code",
      "source": [
        "def get_optimizer(model, lr = 0.01, wd= 0.0):\n",
        "  parameters = filter(lambda p: p.requires_grad, model.parameters())\n",
        "  optim= torch.optim.Adam(parameters, lr= lr, weight_decay = wd)\n",
        "  return optim"
      ],
      "metadata": {
        "id": "ToSfIXThRTS4"
      },
      "execution_count": 49,
      "outputs": []
    },
    {
      "cell_type": "code",
      "source": [
        "def train_model(model, optim, train_dl= train_dl, verbose= False):\n",
        "  model.train()\n",
        "  total= 0\n",
        "  sum_loss= 0\n",
        "  for x, y in train_dl:\n",
        "    batch= y.shape[0]\n",
        "    y= y.unsqueeze(1)\n",
        "    out= model(x)\n",
        "    loss = F.binary_cross_entropy_with_logits(out, y)\n",
        "    optim.zero_grad()\n",
        "    loss.backward()\n",
        "    optim.step()\n",
        "    total += batch\n",
        "    sum_loss += loss.item() * batch\n",
        "    if verbose:\n",
        "      print(sum_loss/total)\n",
        "  return sum_loss/total"
      ],
      "metadata": {
        "id": "eAiV5PoRRoa7"
      },
      "execution_count": 50,
      "outputs": []
    },
    {
      "cell_type": "code",
      "source": [
        "def val_metrics(model, valid_dl):\n",
        "  model.eval()\n",
        "  total= 0\n",
        "  sum_loss= 0\n",
        "  correct = 0\n",
        "  for x, y in valid_dl:\n",
        "    batch = y.shape[0]\n",
        "    y = y.unsqueeze(1)\n",
        "    out= model(x)\n",
        "    loss= F.binary_cross_entropy_with_logits(out, y)\n",
        "    sum_loss += loss.item() * batch\n",
        "    total += batch\n",
        "    pred= (out >0).float()\n",
        "    correct += (pred== y).float().sum().item()\n",
        "  return sum_loss/total, correct/total\n"
      ],
      "metadata": {
        "id": "xNHUtvFkTQyx"
      },
      "execution_count": 51,
      "outputs": []
    },
    {
      "cell_type": "code",
      "source": [
        "from datetime import datetime\n",
        "\n",
        "def train_loop(model, epochs, lr = 0.01, wd= 0.0):\n",
        "  optim = get_optimizer(model, lr= lr, wd= wd)\n",
        "  for i in range(epochs):\n",
        "    loss= train_model(model, optim, train_dl)\n",
        "    val_loss, val_acc= val_metrics(model, valid_dl)\n",
        "    print(\"train loss %.3f val loss %.3f and accuracy %.3f\" %(\n",
        "        loss, val_loss, val_acc\n",
        "    ))"
      ],
      "metadata": {
        "id": "EqFUxmqeUZhz"
      },
      "execution_count": 52,
      "outputs": []
    },
    {
      "cell_type": "code",
      "source": [
        "batch_size = 500\n",
        "train_dl= DataLoader(train_ds, batch_size = batch_size, shuffle= True)\n",
        "valid_dl= DataLoader(valid_ds, batch_size = batch_size)"
      ],
      "metadata": {
        "id": "xCKRKqEsVFmD"
      },
      "execution_count": 53,
      "outputs": []
    },
    {
      "cell_type": "code",
      "source": [
        "model = CategoricalEmbeddingModel(emb_szs)"
      ],
      "metadata": {
        "id": "bWILlX9SVRkD"
      },
      "execution_count": 54,
      "outputs": []
    },
    {
      "cell_type": "code",
      "source": [
        "train_loop(model, epochs= 5, lr= 0.03, wd= 0.01)"
      ],
      "metadata": {
        "colab": {
          "base_uri": "https://localhost:8080/"
        },
        "id": "SsC2B9lJVXPk",
        "outputId": "5868145a-372e-4587-ba72-1cafa4cc9fda"
      },
      "execution_count": 55,
      "outputs": [
        {
          "output_type": "stream",
          "name": "stdout",
          "text": [
            "train loss 0.288 val loss 0.201 and accuracy 0.969\n",
            "train loss 0.172 val loss 0.091 and accuracy 0.983\n",
            "train loss 0.114 val loss 0.073 and accuracy 0.992\n",
            "train loss 0.079 val loss 0.068 and accuracy 0.989\n",
            "train loss 0.058 val loss 0.045 and accuracy 0.997\n"
          ]
        }
      ]
    },
    {
      "cell_type": "markdown",
      "source": [
        "## Model Evalutions with Precision, Recall, and F1 Score"
      ],
      "metadata": {
        "id": "Ym035vMh1jUf"
      }
    },
    {
      "cell_type": "code",
      "source": [
        "from sklearn.metrics import precision_score, recall_score, f1_score"
      ],
      "metadata": {
        "id": "1bWLJwMVtDXW"
      },
      "execution_count": 56,
      "outputs": []
    },
    {
      "cell_type": "code",
      "source": [
        "def threshold_predictions(out, threshold = 0.5):\n",
        "  return (out > threshold).float()\n",
        "\n",
        "def evaluate_metrics(model, valid_dl, threshold =0.5):\n",
        "  model.eval()\n",
        "  all_predictions = []\n",
        "  all_labels = []\n",
        "\n",
        "  with torch.no_grad():\n",
        "    for x, y in valid_dl:\n",
        "      logits = model(x)\n",
        "      predictions = threshold_predictions(logits, threshold)\n",
        "      all_predictions.extend(predictions.cpu().numpy())\n",
        "      all_labels.extend(y.cpu().numpy())\n",
        "  all_predictions = np.array(all_predictions)\n",
        "  all_labels= np.array(all_labels)\n",
        "\n",
        "  binary_predictions= (all_predictions > threshold).astype(int)\n",
        "  binary_labels = (all_labels > 0.5).astype(int)\n",
        "\n",
        "  precision= precision_score(binary_labels, binary_predictions, zero_division= 1)\n",
        "  recall= recall_score(binary_labels, binary_predictions)\n",
        "  f1 = f1_score(binary_labels, binary_predictions)\n",
        "\n",
        "  return precision, recall, f1\n",
        "\n"
      ],
      "metadata": {
        "id": "pPIxYs_uuhvH"
      },
      "execution_count": 57,
      "outputs": []
    },
    {
      "cell_type": "code",
      "source": [
        "precision, recall, f1 = evaluate_metrics(model, valid_dl)\n",
        "print(f\"Precision: {precision: .4f}, Recall: {recall: .4f}, F1: {f1: .4f}\")\n"
      ],
      "metadata": {
        "colab": {
          "base_uri": "https://localhost:8080/"
        },
        "id": "tOADxJyHwsUP",
        "outputId": "7cfd2ca5-8508-4c28-edbf-5815196ac729"
      },
      "execution_count": 58,
      "outputs": [
        {
          "output_type": "stream",
          "name": "stdout",
          "text": [
            "Precision:  0.9991, Recall:  0.9876, F1:  0.9933\n"
          ]
        }
      ]
    },
    {
      "cell_type": "markdown",
      "source": [
        "## Cross Validations"
      ],
      "metadata": {
        "id": "Q0MhiqMH1qZ2"
      }
    },
    {
      "cell_type": "code",
      "source": [
        "from sklearn.model_selection import StratifiedKFold"
      ],
      "metadata": {
        "id": "h7wJWkJnzak1"
      },
      "execution_count": 59,
      "outputs": []
    },
    {
      "cell_type": "code",
      "source": [
        "n_splits= 5\n",
        "skf = StratifiedKFold(n_splits = n_splits, shuffle = True, random_state = 42)\n",
        "downsample_ratio =1.0\n",
        "\n",
        "precision_scores, recall_scores, f1_scores = [], [], []\n",
        "\n",
        "for train_index, valid_index in skf.split(X, Y):\n",
        "  X_train_t, X_valid_t = X.iloc[train_index], X.iloc[valid_index]\n",
        "  y_train_t, y_valid_t = Y.iloc[train_index], Y.iloc[valid_index]\n",
        "\n",
        "  class_0= train_data[train_data['target'] ==0]\n",
        "  class_1= train_data[train_data['target']==1]\n",
        "\n",
        "  class_0_downsampled = resample(class_0, replace= False, n_samples= int(len(class_1) * downsample_ratio), random_state=43)\n",
        "\n",
        "  downsampled_data= pd.concat([class_0_downsampled, class_1])\n",
        "  downsampled_data= downsampled_data.sample(frac=1, random_state = 42)\n",
        "\n",
        "  X_train_downsampled = downsampled_data.drop('target', axis=1)\n",
        "  y_train_downsampled = downsampled_data['target']\n",
        "\n",
        "  model_t = CategoricalEmbeddingModel(emb_szs)\n",
        "  batch_size = 500\n",
        "  train_ds_t= GeoLocationDataset(X_train_downsampled, y_train_downsampled, emb_cols)\n",
        "  valid_ds_t= GeoLocationDataset(X_valid_t, y_valid_t, emb_cols)\n",
        "\n",
        "  train_dl= DataLoader(train_ds_t, batch_size = batch_size, shuffle= True)\n",
        "  valid_dl= DataLoader(valid_ds_t, batch_size = batch_size)\n",
        "\n",
        "  train_loop(model_t, epochs=5, lr=0.03, wd=0.01)\n",
        "\n",
        "  precision_val, recall_val, f1_val = evaluate_metrics(model_t, valid_dl)\n",
        "  precision_scores.append(precision_val)\n",
        "  recall_scores.append(recall_val)\n",
        "  f1_scores.append(f1_val)\n",
        "\n",
        "# Calculate the mean and standard deviation of the metrics\n",
        "mean_precision = np.mean(precision_scores)\n",
        "std_precision = np.std(precision_scores)\n",
        "mean_recall = np.mean(recall_scores)\n",
        "std_recall = np.std(recall_scores)\n",
        "mean_f1 = np.mean(f1_scores)\n",
        "std_f1 = np.std(f1_scores)\n",
        "\n",
        "print(f\"Mean Precision: {mean_precision:.4f} +/- {std_precision:.4f}\")\n",
        "print(f\"Mean Recall: {mean_recall:.4f} +/- {std_recall:.4f}\")\n",
        "print(f\"Mean F1 Score: {mean_f1:.4f} +/- {std_f1:.4f}\")"
      ],
      "metadata": {
        "colab": {
          "base_uri": "https://localhost:8080/"
        },
        "id": "a4czSSLZ2dx4",
        "outputId": "220d9dd0-b022-4681-9339-ba6f719cd560"
      },
      "execution_count": 60,
      "outputs": [
        {
          "output_type": "stream",
          "name": "stdout",
          "text": [
            "train loss 0.321 val loss 0.226 and accuracy 0.939\n",
            "train loss 0.189 val loss 0.091 and accuracy 0.982\n",
            "train loss 0.109 val loss 0.078 and accuracy 0.990\n",
            "train loss 0.078 val loss 0.058 and accuracy 0.992\n",
            "train loss 0.057 val loss 0.047 and accuracy 0.995\n",
            "train loss 0.305 val loss 0.195 and accuracy 0.965\n",
            "train loss 0.180 val loss 0.096 and accuracy 0.984\n",
            "train loss 0.117 val loss 0.075 and accuracy 0.989\n",
            "train loss 0.076 val loss 0.054 and accuracy 0.995\n",
            "train loss 0.053 val loss 0.036 and accuracy 0.997\n",
            "train loss 0.271 val loss 0.182 and accuracy 0.969\n",
            "train loss 0.169 val loss 0.091 and accuracy 0.987\n",
            "train loss 0.109 val loss 0.072 and accuracy 0.992\n",
            "train loss 0.080 val loss 0.053 and accuracy 0.995\n",
            "train loss 0.055 val loss 0.044 and accuracy 0.996\n",
            "train loss 0.300 val loss 0.177 and accuracy 0.965\n",
            "train loss 0.181 val loss 0.107 and accuracy 0.986\n",
            "train loss 0.113 val loss 0.064 and accuracy 0.991\n",
            "train loss 0.077 val loss 0.057 and accuracy 0.993\n",
            "train loss 0.057 val loss 0.037 and accuracy 0.996\n",
            "train loss 0.313 val loss 0.244 and accuracy 0.958\n",
            "train loss 0.189 val loss 0.100 and accuracy 0.985\n",
            "train loss 0.111 val loss 0.064 and accuracy 0.990\n",
            "train loss 0.078 val loss 0.056 and accuracy 0.996\n",
            "train loss 0.057 val loss 0.041 and accuracy 0.996\n",
            "Mean Precision: 1.0000 +/- 0.0000\n",
            "Mean Recall: 0.9816 +/- 0.0040\n",
            "Mean F1 Score: 0.9907 +/- 0.0020\n"
          ]
        }
      ]
    }
  ]
}