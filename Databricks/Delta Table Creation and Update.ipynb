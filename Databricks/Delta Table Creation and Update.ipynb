{
 "cells": [
  {
   "cell_type": "markdown",
   "metadata": {},
   "source": [
    "Create a delta table"
   ]
  },
  {
   "cell_type": "code",
   "execution_count": null,
   "metadata": {},
   "outputs": [],
   "source": [
    "# Define database, schema, and table names\n",
    "database_name = \"dev_hr_datascience\"\n",
    "schema_name = \"test_angela\"\n",
    "table_name = \"nlp_overallexperiences_comments_fromai_query\"\n",
    "\n",
    "# Example DataFrame\n",
    "data = [\n",
    "    {\"id\": 1, \"name\": \"Alice\", \"age\": 30},\n",
    "    {\"id\": 2, \"name\": \"Bob\", \"age\": 25},\n",
    "]\n",
    "df = spark.createDataFrame(data)\n",
    "\n",
    "# Write the DataFrame as a Delta table\n",
    "df.write.format(\"delta\").mode(\"overwrite\").option(\"path\", f\"/mnt/{database_name}/{schema_name}/{table_name}\").saveAsTable(f\"{database_name}.{schema_name}.{table_name}\")\n"
   ]
  },
  {
   "cell_type": "markdown",
   "metadata": {},
   "source": [
    "Update a column in Delta Table"
   ]
  },
  {
   "cell_type": "code",
   "execution_count": null,
   "metadata": {},
   "outputs": [],
   "source": [
    "from pyspark.sql.functions import col, when\n",
    "\n",
    "# Load the Delta table\n",
    "delta_table = spark.read.format(\"delta\").load(\"path/to/delta/table\")\n",
    "\n",
    "# Define the list of phrases to map as \"Neutral\"\n",
    "neutral_phrases = [\n",
    "    \"Not at all\", \"Nothing at this time.\", \"not at this time\", \"nothing at this time.\",\n",
    "    \"Not at this time\", \"Not really.\", \"None at this time.\", \"No not at this time.\",\n",
    "    \"not at present time.\", \"#NAME?\", \"non specific\", \"Not at the present moment.\",\n",
    "    \"Nothing to share.\", \"Not at this moment.\", \"Not at this time.\", \"Nothing at this time\"\n",
    "]\n",
    "\n",
    "# Update the column\n",
    "updated_table = delta_table.withColumn(\n",
    "    \"nlp_overallexperiences_comments_fromai_query\",\n",
    "    when(\n",
    "        col(\"nlp_overallexperiences_comments_fromai_query\").isin(neutral_phrases), \"Neutral\"\n",
    "    ).otherwise(col(\"nlp_overallexperiences_comments_fromai_query\"))\n",
    ")\n",
    "\n",
    "# Write back to the Delta table\n",
    "updated_table.write.format(\"delta\").mode(\"overwrite\").save(\"path/to/delta/table\")"
   ]
  }
 ],
 "metadata": {
  "kernelspec": {
   "display_name": "Python 3",
   "language": "python",
   "name": "python3"
  },
  "language_info": {
   "codemirror_mode": {
    "name": "ipython",
    "version": 3
   },
   "file_extension": ".py",
   "mimetype": "text/x-python",
   "name": "python",
   "nbconvert_exporter": "python",
   "pygments_lexer": "ipython3",
   "version": "3.6.5"
  }
 },
 "nbformat": 4,
 "nbformat_minor": 2
}
