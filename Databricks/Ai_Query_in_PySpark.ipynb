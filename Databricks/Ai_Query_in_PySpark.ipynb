{
 "cells": [
  {
   "cell_type": "markdown",
   "metadata": {},
   "source": [
    "The ai_query() function is a built-in Databricks SQL function, part of the AI functions library. The feature was released in September, 2024 in Azure. It allows you to access the following types of models directly from SQL queries:\n",
    "\n",
    "Custom models hosted on a model serving endpoint.\n",
    "Models hosted by the Databricks Foundation Model APIs.\n",
    "External models, including pretrained models such as Meta-Llama-3-70B from Huggingface."
   ]
  },
  {
   "cell_type": "markdown",
   "metadata": {},
   "source": [
    "Topic Modeling with an One Shot Instruction"
   ]
  },
  {
   "cell_type": "code",
   "execution_count": null,
   "metadata": {},
   "outputs": [],
   "source": [
    "SELECT \n",
    "    text,\n",
    "    \n",
    "    -- Analyze Sentiment\n",
    "    ai_query(\n",
    "        endpoint => \"sentiment-analysis\",\n",
    "        request => named_struct(\n",
    "            \"text\", text\n",
    "        ),\n",
    "        returnType => \"STRUCT<label:STRING, score:DOUBLE>\"\n",
    "    ) AS sentiment_analysis,\n",
    "    \n",
    "    -- Analyze Emotion\n",
    "    ai_query(\n",
    "        endpoint => \"emotion-analysis\",\n",
    "        request => named_struct(\n",
    "            \"text\", text\n",
    "        ),\n",
    "        returnType => \"STRUCT<emotion:STRING, score:DOUBLE>\"\n",
    "    ) AS emotion_analysis,\n",
    "    \n",
    "    -- Analyze Topics with One-Shot Instruction\n",
    "    ai_query(\n",
    "        endpoint => \"one-shot-classification\",\n",
    "        request => named_struct(\n",
    "            \"text\", text,\n",
    "            \"labels\", array(\"Customer Support\", \"Feedback\", \"Complaint\", \"Suggestion\", \"Spam\", \"Other\", \"None\"),\n",
    "            \"hypothesis_template\", \"The text is about {}. For example, if the text is 'N/A', it should be classified as 'None'.\"\n",
    "        ),\n",
    "        returnType => \"STRUCT<label:STRING, score:DOUBLE>\"\n",
    "    ) AS topic_classification\n",
    "    \n",
    "FROM \n",
    "    catalog.schema.inbox_messages\n",
    "LIMIT 10;\n",
    "\n"
   ]
  }
 ],
 "metadata": {
  "kernelspec": {
   "display_name": "Python 3",
   "language": "python",
   "name": "python3"
  },
  "language_info": {
   "codemirror_mode": {
    "name": "ipython",
    "version": 3
   },
   "file_extension": ".py",
   "mimetype": "text/x-python",
   "name": "python",
   "nbconvert_exporter": "python",
   "pygments_lexer": "ipython3",
   "version": "3.6.5"
  }
 },
 "nbformat": 4,
 "nbformat_minor": 2
}
